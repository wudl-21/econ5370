{
 "cells": [
  {
   "cell_type": "code",
   "execution_count": 4,
   "id": "6107b624",
   "metadata": {
    "vscode": {
     "languageId": "r"
    }
   },
   "outputs": [
    {
     "data": {
      "text/html": [
       "'LC_COLLATE=zh_CN.UTF-8;LC_CTYPE=zh_CN.UTF-8;LC_MONETARY=zh_CN.UTF-8;LC_NUMERIC=C;LC_TIME=zh_CN.UTF-8'"
      ],
      "text/latex": [
       "'LC\\_COLLATE=zh\\_CN.UTF-8;LC\\_CTYPE=zh\\_CN.UTF-8;LC\\_MONETARY=zh\\_CN.UTF-8;LC\\_NUMERIC=C;LC\\_TIME=zh\\_CN.UTF-8'"
      ],
      "text/markdown": [
       "'LC_COLLATE=zh_CN.UTF-8;LC_CTYPE=zh_CN.UTF-8;LC_MONETARY=zh_CN.UTF-8;LC_NUMERIC=C;LC_TIME=zh_CN.UTF-8'"
      ],
      "text/plain": [
       "[1] \"LC_COLLATE=zh_CN.UTF-8;LC_CTYPE=zh_CN.UTF-8;LC_MONETARY=zh_CN.UTF-8;LC_NUMERIC=C;LC_TIME=zh_CN.UTF-8\""
      ]
     },
     "metadata": {},
     "output_type": "display_data"
    }
   ],
   "source": [
    "rm(list = ls(all=TRUE)) # remove all objects\n",
    "Sys.setlocale(\"LC_ALL\", \"zh_CN.UTF-8\") # set locale to Chinese\n",
    "setwd(\"./\") # change working directory"
   ]
  },
  {
   "cell_type": "markdown",
   "id": "6cf8684a",
   "metadata": {},
   "source": [
    "# Data Reading and Preprocessing"
   ]
  },
  {
   "cell_type": "markdown",
   "id": "bc808627",
   "metadata": {},
   "source": [
    "## Primitive Variables"
   ]
  },
  {
   "cell_type": "markdown",
   "id": "f619c311",
   "metadata": {},
   "source": [
    "### Stock Return\n",
    "\n",
    ">  Monthly, between the first and last *trading day* of the month (not necessarily beginning and end of the month)"
   ]
  },
  {
   "cell_type": "markdown",
   "id": "8d449532",
   "metadata": {},
   "source": [
    "- Read stock return"
   ]
  },
  {
   "cell_type": "code",
   "execution_count": 5,
   "id": "00d04f38",
   "metadata": {
    "vscode": {
     "languageId": "r"
    }
   },
   "outputs": [
    {
     "name": "stderr",
     "output_type": "stream",
     "text": [
      "Warning message in read.table(file = file, header = header, sep = sep, quote = quote, :\n",
      "\"not all columns named in 'colClasses' exist\"\n"
     ]
    },
    {
     "data": {
      "text/html": [
       "<table class=\"dataframe\">\n",
       "<caption>A data.frame: 6 x 257</caption>\n",
       "<thead>\n",
       "\t<tr><th></th><th scope=col>year</th><th scope=col>month</th><th scope=col>000001</th><th scope=col>000002</th><th scope=col>000063</th><th scope=col>000157</th><th scope=col>000301</th><th scope=col>000333</th><th scope=col>000338</th><th scope=col>000425</th><th scope=col>...</th><th scope=col>688187</th><th scope=col>688223</th><th scope=col>688256</th><th scope=col>688271</th><th scope=col>688303</th><th scope=col>688396</th><th scope=col>688472</th><th scope=col>688506</th><th scope=col>688599</th><th scope=col>688981</th></tr>\n",
       "\t<tr><th></th><th scope=col>&lt;int&gt;</th><th scope=col>&lt;int&gt;</th><th scope=col>&lt;dbl&gt;</th><th scope=col>&lt;dbl&gt;</th><th scope=col>&lt;dbl&gt;</th><th scope=col>&lt;dbl&gt;</th><th scope=col>&lt;dbl&gt;</th><th scope=col>&lt;dbl&gt;</th><th scope=col>&lt;dbl&gt;</th><th scope=col>&lt;dbl&gt;</th><th scope=col>...</th><th scope=col>&lt;dbl&gt;</th><th scope=col>&lt;dbl&gt;</th><th scope=col>&lt;dbl&gt;</th><th scope=col>&lt;dbl&gt;</th><th scope=col>&lt;dbl&gt;</th><th scope=col>&lt;dbl&gt;</th><th scope=col>&lt;dbl&gt;</th><th scope=col>&lt;dbl&gt;</th><th scope=col>&lt;dbl&gt;</th><th scope=col>&lt;dbl&gt;</th></tr>\n",
       "</thead>\n",
       "<tbody>\n",
       "\t<tr><th scope=row>1</th><td>1999</td><td>1</td><td>-2.5589</td><td>-6.5476</td><td> -1.1685</td><td>NA</td><td>NA</td><td>NA</td><td>NA</td><td>-0.3171</td><td>...</td><td>NA</td><td>NA</td><td>NA</td><td>NA</td><td>NA</td><td>NA</td><td>NA</td><td>NA</td><td>NA</td><td>NA</td></tr>\n",
       "\t<tr><th scope=row>2</th><td>1999</td><td>2</td><td>-6.0815</td><td>-2.1656</td><td> -0.2627</td><td>NA</td><td>NA</td><td>NA</td><td>NA</td><td>-9.8621</td><td>...</td><td>NA</td><td>NA</td><td>NA</td><td>NA</td><td>NA</td><td>NA</td><td>NA</td><td>NA</td><td>NA</td><td>NA</td></tr>\n",
       "\t<tr><th scope=row>3</th><td>1999</td><td>3</td><td> 0.7358</td><td> 2.0833</td><td> -0.0988</td><td>NA</td><td>NA</td><td>NA</td><td>NA</td><td> 6.5882</td><td>...</td><td>NA</td><td>NA</td><td>NA</td><td>NA</td><td>NA</td><td>NA</td><td>NA</td><td>NA</td><td>NA</td><td>NA</td></tr>\n",
       "\t<tr><th scope=row>4</th><td>1999</td><td>4</td><td>-2.1183</td><td>15.9439</td><td>-12.8214</td><td>NA</td><td>NA</td><td>NA</td><td>NA</td><td>-5.0773</td><td>...</td><td>NA</td><td>NA</td><td>NA</td><td>NA</td><td>NA</td><td>NA</td><td>NA</td><td>NA</td><td>NA</td><td>NA</td></tr>\n",
       "\t<tr><th scope=row>5</th><td>1999</td><td>5</td><td>38.3582</td><td>23.7624</td><td> 10.1323</td><td>NA</td><td>NA</td><td>NA</td><td>NA</td><td>-0.6977</td><td>...</td><td>NA</td><td>NA</td><td>NA</td><td>NA</td><td>NA</td><td>NA</td><td>NA</td><td>NA</td><td>NA</td><td>NA</td></tr>\n",
       "\t<tr><th scope=row>6</th><td>1999</td><td>6</td><td>48.5437</td><td>26.7556</td><td> 89.8312</td><td>NA</td><td>NA</td><td>NA</td><td>NA</td><td>36.7681</td><td>...</td><td>NA</td><td>NA</td><td>NA</td><td>NA</td><td>NA</td><td>NA</td><td>NA</td><td>NA</td><td>NA</td><td>NA</td></tr>\n",
       "</tbody>\n",
       "</table>\n"
      ],
      "text/latex": [
       "A data.frame: 6 x 257\n",
       "\\begin{tabular}{r|lllllllllllllllllllll}\n",
       "  & year & month & 000001 & 000002 & 000063 & 000157 & 000301 & 000333 & 000338 & 000425 & ... & 688187 & 688223 & 688256 & 688271 & 688303 & 688396 & 688472 & 688506 & 688599 & 688981\\\\\n",
       "  & <int> & <int> & <dbl> & <dbl> & <dbl> & <dbl> & <dbl> & <dbl> & <dbl> & <dbl> & ... & <dbl> & <dbl> & <dbl> & <dbl> & <dbl> & <dbl> & <dbl> & <dbl> & <dbl> & <dbl>\\\\\n",
       "\\hline\n",
       "\t1 & 1999 & 1 & -2.5589 & -6.5476 &  -1.1685 & NA & NA & NA & NA & -0.3171 & ... & NA & NA & NA & NA & NA & NA & NA & NA & NA & NA\\\\\n",
       "\t2 & 1999 & 2 & -6.0815 & -2.1656 &  -0.2627 & NA & NA & NA & NA & -9.8621 & ... & NA & NA & NA & NA & NA & NA & NA & NA & NA & NA\\\\\n",
       "\t3 & 1999 & 3 &  0.7358 &  2.0833 &  -0.0988 & NA & NA & NA & NA &  6.5882 & ... & NA & NA & NA & NA & NA & NA & NA & NA & NA & NA\\\\\n",
       "\t4 & 1999 & 4 & -2.1183 & 15.9439 & -12.8214 & NA & NA & NA & NA & -5.0773 & ... & NA & NA & NA & NA & NA & NA & NA & NA & NA & NA\\\\\n",
       "\t5 & 1999 & 5 & 38.3582 & 23.7624 &  10.1323 & NA & NA & NA & NA & -0.6977 & ... & NA & NA & NA & NA & NA & NA & NA & NA & NA & NA\\\\\n",
       "\t6 & 1999 & 6 & 48.5437 & 26.7556 &  89.8312 & NA & NA & NA & NA & 36.7681 & ... & NA & NA & NA & NA & NA & NA & NA & NA & NA & NA\\\\\n",
       "\\end{tabular}\n"
      ],
      "text/markdown": [
       "\n",
       "A data.frame: 6 x 257\n",
       "\n",
       "| <!--/--> | year &lt;int&gt; | month &lt;int&gt; | 000001 &lt;dbl&gt; | 000002 &lt;dbl&gt; | 000063 &lt;dbl&gt; | 000157 &lt;dbl&gt; | 000301 &lt;dbl&gt; | 000333 &lt;dbl&gt; | 000338 &lt;dbl&gt; | 000425 &lt;dbl&gt; | ... ... | 688187 &lt;dbl&gt; | 688223 &lt;dbl&gt; | 688256 &lt;dbl&gt; | 688271 &lt;dbl&gt; | 688303 &lt;dbl&gt; | 688396 &lt;dbl&gt; | 688472 &lt;dbl&gt; | 688506 &lt;dbl&gt; | 688599 &lt;dbl&gt; | 688981 &lt;dbl&gt; |\n",
       "|---|---|---|---|---|---|---|---|---|---|---|---|---|---|---|---|---|---|---|---|---|---|\n",
       "| 1 | 1999 | 1 | -2.5589 | -6.5476 |  -1.1685 | NA | NA | NA | NA | -0.3171 | ... | NA | NA | NA | NA | NA | NA | NA | NA | NA | NA |\n",
       "| 2 | 1999 | 2 | -6.0815 | -2.1656 |  -0.2627 | NA | NA | NA | NA | -9.8621 | ... | NA | NA | NA | NA | NA | NA | NA | NA | NA | NA |\n",
       "| 3 | 1999 | 3 |  0.7358 |  2.0833 |  -0.0988 | NA | NA | NA | NA |  6.5882 | ... | NA | NA | NA | NA | NA | NA | NA | NA | NA | NA |\n",
       "| 4 | 1999 | 4 | -2.1183 | 15.9439 | -12.8214 | NA | NA | NA | NA | -5.0773 | ... | NA | NA | NA | NA | NA | NA | NA | NA | NA | NA |\n",
       "| 5 | 1999 | 5 | 38.3582 | 23.7624 |  10.1323 | NA | NA | NA | NA | -0.6977 | ... | NA | NA | NA | NA | NA | NA | NA | NA | NA | NA |\n",
       "| 6 | 1999 | 6 | 48.5437 | 26.7556 |  89.8312 | NA | NA | NA | NA | 36.7681 | ... | NA | NA | NA | NA | NA | NA | NA | NA | NA | NA |\n",
       "\n"
      ],
      "text/plain": [
       "  year month 000001  000002  000063   000157 000301 000333 000338 000425  ...\n",
       "1 1999 1     -2.5589 -6.5476  -1.1685 NA     NA     NA     NA     -0.3171 ...\n",
       "2 1999 2     -6.0815 -2.1656  -0.2627 NA     NA     NA     NA     -9.8621 ...\n",
       "3 1999 3      0.7358  2.0833  -0.0988 NA     NA     NA     NA      6.5882 ...\n",
       "4 1999 4     -2.1183 15.9439 -12.8214 NA     NA     NA     NA     -5.0773 ...\n",
       "5 1999 5     38.3582 23.7624  10.1323 NA     NA     NA     NA     -0.6977 ...\n",
       "6 1999 6     48.5437 26.7556  89.8312 NA     NA     NA     NA     36.7681 ...\n",
       "  688187 688223 688256 688271 688303 688396 688472 688506 688599 688981\n",
       "1 NA     NA     NA     NA     NA     NA     NA     NA     NA     NA    \n",
       "2 NA     NA     NA     NA     NA     NA     NA     NA     NA     NA    \n",
       "3 NA     NA     NA     NA     NA     NA     NA     NA     NA     NA    \n",
       "4 NA     NA     NA     NA     NA     NA     NA     NA     NA     NA    \n",
       "5 NA     NA     NA     NA     NA     NA     NA     NA     NA     NA    \n",
       "6 NA     NA     NA     NA     NA     NA     NA     NA     NA     NA    "
      ]
     },
     "metadata": {},
     "output_type": "display_data"
    }
   ],
   "source": [
    "# Read the stock data using read.csv\n",
    "stock <- read.csv(\"stock.csv\", header = TRUE, stringsAsFactors = FALSE, check.names = FALSE, colClasses = c(stkcd = \"character\", year = \"integer\", month = \"integer\"))\n",
    "\n",
    "index_cols <- c(\"year\", \"month\")\n",
    "\n",
    "# Clean column names by removing the suffix (like \".SZ\") from stock IDs\n",
    "colnames(stock)[-1] <- gsub(\"\\\\.[A-Z]+$\", \"\", colnames(stock)[-1])\n",
    "\n",
    "# Identify stock return columns (all except date, year, and month)\n",
    "stock_id <- colnames(stock)[!(colnames(stock) %in% index_cols)]\n",
    "\n",
    "# Convert all stock ID columns to numeric\n",
    "for (id in stock_id) {\n",
    "    stock[[id]] <- as.numeric(stock[[id]])\n",
    "}\n",
    "\n",
    "# Display the first few rows of the data\n",
    "head(stock)"
   ]
  },
  {
   "cell_type": "markdown",
   "id": "7fbeec2f",
   "metadata": {},
   "source": [
    "- Read listing date"
   ]
  },
  {
   "cell_type": "code",
   "execution_count": 6,
   "id": "a58a1509",
   "metadata": {
    "vscode": {
     "languageId": "r"
    }
   },
   "outputs": [
    {
     "data": {
      "text/html": [
       "<table class=\"dataframe\">\n",
       "<caption>A data.frame: 6 x 3</caption>\n",
       "<thead>\n",
       "\t<tr><th></th><th scope=col>stkcd</th><th scope=col>year</th><th scope=col>month</th></tr>\n",
       "\t<tr><th></th><th scope=col>&lt;chr&gt;</th><th scope=col>&lt;int&gt;</th><th scope=col>&lt;int&gt;</th></tr>\n",
       "</thead>\n",
       "<tbody>\n",
       "\t<tr><th scope=row>1</th><td>000001</td><td>1991</td><td> 4</td></tr>\n",
       "\t<tr><th scope=row>2</th><td>000002</td><td>1991</td><td> 1</td></tr>\n",
       "\t<tr><th scope=row>3</th><td>000063</td><td>1997</td><td>11</td></tr>\n",
       "\t<tr><th scope=row>4</th><td>000157</td><td>2000</td><td>10</td></tr>\n",
       "\t<tr><th scope=row>5</th><td>000301</td><td>2000</td><td> 5</td></tr>\n",
       "\t<tr><th scope=row>6</th><td>000333</td><td>2013</td><td> 9</td></tr>\n",
       "</tbody>\n",
       "</table>\n"
      ],
      "text/latex": [
       "A data.frame: 6 x 3\n",
       "\\begin{tabular}{r|lll}\n",
       "  & stkcd & year & month\\\\\n",
       "  & <chr> & <int> & <int>\\\\\n",
       "\\hline\n",
       "\t1 & 000001 & 1991 &  4\\\\\n",
       "\t2 & 000002 & 1991 &  1\\\\\n",
       "\t3 & 000063 & 1997 & 11\\\\\n",
       "\t4 & 000157 & 2000 & 10\\\\\n",
       "\t5 & 000301 & 2000 &  5\\\\\n",
       "\t6 & 000333 & 2013 &  9\\\\\n",
       "\\end{tabular}\n"
      ],
      "text/markdown": [
       "\n",
       "A data.frame: 6 x 3\n",
       "\n",
       "| <!--/--> | stkcd &lt;chr&gt; | year &lt;int&gt; | month &lt;int&gt; |\n",
       "|---|---|---|---|\n",
       "| 1 | 000001 | 1991 |  4 |\n",
       "| 2 | 000002 | 1991 |  1 |\n",
       "| 3 | 000063 | 1997 | 11 |\n",
       "| 4 | 000157 | 2000 | 10 |\n",
       "| 5 | 000301 | 2000 |  5 |\n",
       "| 6 | 000333 | 2013 |  9 |\n",
       "\n"
      ],
      "text/plain": [
       "  stkcd  year month\n",
       "1 000001 1991  4   \n",
       "2 000002 1991  1   \n",
       "3 000063 1997 11   \n",
       "4 000157 2000 10   \n",
       "5 000301 2000  5   \n",
       "6 000333 2013  9   "
      ]
     },
     "metadata": {},
     "output_type": "display_data"
    }
   ],
   "source": [
    "# Read the list_date.csv file\n",
    "list_time <- read.csv(\"list_time.csv\", header = TRUE, stringsAsFactors = FALSE, colClasses = c(stkcd = \"character\", year = \"integer\", month = \"integer\"))\n",
    "\n",
    "# Clean stock column by removing the suffix (like \".SZ\") from stock IDs\n",
    "list_time$stkcd <- gsub(\"\\\\.[A-Z]+$\", \"\", list_time$stkcd)\n",
    "\n",
    "head(list_time)"
   ]
  },
  {
   "cell_type": "markdown",
   "id": "957a4ecb",
   "metadata": {},
   "source": [
    "- For each stock, remove observations within the 1 year period after the listing date"
   ]
  },
  {
   "cell_type": "code",
   "execution_count": 7,
   "id": "821677f9",
   "metadata": {
    "vscode": {
     "languageId": "r"
    }
   },
   "outputs": [
    {
     "name": "stdout",
     "output_type": "stream",
     "text": [
      "Removed observations for 226 stocks that had been listed for less than 1 year\n",
      "Total observations removed: 2644 \n"
     ]
    },
    {
     "data": {
      "text/html": [
       "<table class=\"dataframe\">\n",
       "<caption>A data.frame: 6 x 257</caption>\n",
       "<thead>\n",
       "\t<tr><th></th><th scope=col>year</th><th scope=col>month</th><th scope=col>000001</th><th scope=col>000002</th><th scope=col>000063</th><th scope=col>000157</th><th scope=col>000301</th><th scope=col>000333</th><th scope=col>000338</th><th scope=col>000425</th><th scope=col>...</th><th scope=col>688187</th><th scope=col>688223</th><th scope=col>688256</th><th scope=col>688271</th><th scope=col>688303</th><th scope=col>688396</th><th scope=col>688472</th><th scope=col>688506</th><th scope=col>688599</th><th scope=col>688981</th></tr>\n",
       "\t<tr><th></th><th scope=col>&lt;int&gt;</th><th scope=col>&lt;int&gt;</th><th scope=col>&lt;dbl&gt;</th><th scope=col>&lt;dbl&gt;</th><th scope=col>&lt;dbl&gt;</th><th scope=col>&lt;dbl&gt;</th><th scope=col>&lt;dbl&gt;</th><th scope=col>&lt;dbl&gt;</th><th scope=col>&lt;dbl&gt;</th><th scope=col>&lt;dbl&gt;</th><th scope=col>...</th><th scope=col>&lt;dbl&gt;</th><th scope=col>&lt;dbl&gt;</th><th scope=col>&lt;dbl&gt;</th><th scope=col>&lt;dbl&gt;</th><th scope=col>&lt;dbl&gt;</th><th scope=col>&lt;dbl&gt;</th><th scope=col>&lt;dbl&gt;</th><th scope=col>&lt;dbl&gt;</th><th scope=col>&lt;dbl&gt;</th><th scope=col>&lt;dbl&gt;</th></tr>\n",
       "</thead>\n",
       "<tbody>\n",
       "\t<tr><th scope=row>1</th><td>1999</td><td>1</td><td>-2.5589</td><td>-6.5476</td><td> -1.1685</td><td>NA</td><td>NA</td><td>NA</td><td>NA</td><td>-0.3171</td><td>...</td><td>NA</td><td>NA</td><td>NA</td><td>NA</td><td>NA</td><td>NA</td><td>NA</td><td>NA</td><td>NA</td><td>NA</td></tr>\n",
       "\t<tr><th scope=row>2</th><td>1999</td><td>2</td><td>-6.0815</td><td>-2.1656</td><td> -0.2627</td><td>NA</td><td>NA</td><td>NA</td><td>NA</td><td>-9.8621</td><td>...</td><td>NA</td><td>NA</td><td>NA</td><td>NA</td><td>NA</td><td>NA</td><td>NA</td><td>NA</td><td>NA</td><td>NA</td></tr>\n",
       "\t<tr><th scope=row>3</th><td>1999</td><td>3</td><td> 0.7358</td><td> 2.0833</td><td> -0.0988</td><td>NA</td><td>NA</td><td>NA</td><td>NA</td><td> 6.5882</td><td>...</td><td>NA</td><td>NA</td><td>NA</td><td>NA</td><td>NA</td><td>NA</td><td>NA</td><td>NA</td><td>NA</td><td>NA</td></tr>\n",
       "\t<tr><th scope=row>4</th><td>1999</td><td>4</td><td>-2.1183</td><td>15.9439</td><td>-12.8214</td><td>NA</td><td>NA</td><td>NA</td><td>NA</td><td>-5.0773</td><td>...</td><td>NA</td><td>NA</td><td>NA</td><td>NA</td><td>NA</td><td>NA</td><td>NA</td><td>NA</td><td>NA</td><td>NA</td></tr>\n",
       "\t<tr><th scope=row>5</th><td>1999</td><td>5</td><td>38.3582</td><td>23.7624</td><td> 10.1323</td><td>NA</td><td>NA</td><td>NA</td><td>NA</td><td>-0.6977</td><td>...</td><td>NA</td><td>NA</td><td>NA</td><td>NA</td><td>NA</td><td>NA</td><td>NA</td><td>NA</td><td>NA</td><td>NA</td></tr>\n",
       "\t<tr><th scope=row>6</th><td>1999</td><td>6</td><td>48.5437</td><td>26.7556</td><td> 89.8312</td><td>NA</td><td>NA</td><td>NA</td><td>NA</td><td>36.7681</td><td>...</td><td>NA</td><td>NA</td><td>NA</td><td>NA</td><td>NA</td><td>NA</td><td>NA</td><td>NA</td><td>NA</td><td>NA</td></tr>\n",
       "</tbody>\n",
       "</table>\n"
      ],
      "text/latex": [
       "A data.frame: 6 x 257\n",
       "\\begin{tabular}{r|lllllllllllllllllllll}\n",
       "  & year & month & 000001 & 000002 & 000063 & 000157 & 000301 & 000333 & 000338 & 000425 & ... & 688187 & 688223 & 688256 & 688271 & 688303 & 688396 & 688472 & 688506 & 688599 & 688981\\\\\n",
       "  & <int> & <int> & <dbl> & <dbl> & <dbl> & <dbl> & <dbl> & <dbl> & <dbl> & <dbl> & ... & <dbl> & <dbl> & <dbl> & <dbl> & <dbl> & <dbl> & <dbl> & <dbl> & <dbl> & <dbl>\\\\\n",
       "\\hline\n",
       "\t1 & 1999 & 1 & -2.5589 & -6.5476 &  -1.1685 & NA & NA & NA & NA & -0.3171 & ... & NA & NA & NA & NA & NA & NA & NA & NA & NA & NA\\\\\n",
       "\t2 & 1999 & 2 & -6.0815 & -2.1656 &  -0.2627 & NA & NA & NA & NA & -9.8621 & ... & NA & NA & NA & NA & NA & NA & NA & NA & NA & NA\\\\\n",
       "\t3 & 1999 & 3 &  0.7358 &  2.0833 &  -0.0988 & NA & NA & NA & NA &  6.5882 & ... & NA & NA & NA & NA & NA & NA & NA & NA & NA & NA\\\\\n",
       "\t4 & 1999 & 4 & -2.1183 & 15.9439 & -12.8214 & NA & NA & NA & NA & -5.0773 & ... & NA & NA & NA & NA & NA & NA & NA & NA & NA & NA\\\\\n",
       "\t5 & 1999 & 5 & 38.3582 & 23.7624 &  10.1323 & NA & NA & NA & NA & -0.6977 & ... & NA & NA & NA & NA & NA & NA & NA & NA & NA & NA\\\\\n",
       "\t6 & 1999 & 6 & 48.5437 & 26.7556 &  89.8312 & NA & NA & NA & NA & 36.7681 & ... & NA & NA & NA & NA & NA & NA & NA & NA & NA & NA\\\\\n",
       "\\end{tabular}\n"
      ],
      "text/markdown": [
       "\n",
       "A data.frame: 6 x 257\n",
       "\n",
       "| <!--/--> | year &lt;int&gt; | month &lt;int&gt; | 000001 &lt;dbl&gt; | 000002 &lt;dbl&gt; | 000063 &lt;dbl&gt; | 000157 &lt;dbl&gt; | 000301 &lt;dbl&gt; | 000333 &lt;dbl&gt; | 000338 &lt;dbl&gt; | 000425 &lt;dbl&gt; | ... ... | 688187 &lt;dbl&gt; | 688223 &lt;dbl&gt; | 688256 &lt;dbl&gt; | 688271 &lt;dbl&gt; | 688303 &lt;dbl&gt; | 688396 &lt;dbl&gt; | 688472 &lt;dbl&gt; | 688506 &lt;dbl&gt; | 688599 &lt;dbl&gt; | 688981 &lt;dbl&gt; |\n",
       "|---|---|---|---|---|---|---|---|---|---|---|---|---|---|---|---|---|---|---|---|---|---|\n",
       "| 1 | 1999 | 1 | -2.5589 | -6.5476 |  -1.1685 | NA | NA | NA | NA | -0.3171 | ... | NA | NA | NA | NA | NA | NA | NA | NA | NA | NA |\n",
       "| 2 | 1999 | 2 | -6.0815 | -2.1656 |  -0.2627 | NA | NA | NA | NA | -9.8621 | ... | NA | NA | NA | NA | NA | NA | NA | NA | NA | NA |\n",
       "| 3 | 1999 | 3 |  0.7358 |  2.0833 |  -0.0988 | NA | NA | NA | NA |  6.5882 | ... | NA | NA | NA | NA | NA | NA | NA | NA | NA | NA |\n",
       "| 4 | 1999 | 4 | -2.1183 | 15.9439 | -12.8214 | NA | NA | NA | NA | -5.0773 | ... | NA | NA | NA | NA | NA | NA | NA | NA | NA | NA |\n",
       "| 5 | 1999 | 5 | 38.3582 | 23.7624 |  10.1323 | NA | NA | NA | NA | -0.6977 | ... | NA | NA | NA | NA | NA | NA | NA | NA | NA | NA |\n",
       "| 6 | 1999 | 6 | 48.5437 | 26.7556 |  89.8312 | NA | NA | NA | NA | 36.7681 | ... | NA | NA | NA | NA | NA | NA | NA | NA | NA | NA |\n",
       "\n"
      ],
      "text/plain": [
       "  year month 000001  000002  000063   000157 000301 000333 000338 000425  ...\n",
       "1 1999 1     -2.5589 -6.5476  -1.1685 NA     NA     NA     NA     -0.3171 ...\n",
       "2 1999 2     -6.0815 -2.1656  -0.2627 NA     NA     NA     NA     -9.8621 ...\n",
       "3 1999 3      0.7358  2.0833  -0.0988 NA     NA     NA     NA      6.5882 ...\n",
       "4 1999 4     -2.1183 15.9439 -12.8214 NA     NA     NA     NA     -5.0773 ...\n",
       "5 1999 5     38.3582 23.7624  10.1323 NA     NA     NA     NA     -0.6977 ...\n",
       "6 1999 6     48.5437 26.7556  89.8312 NA     NA     NA     NA     36.7681 ...\n",
       "  688187 688223 688256 688271 688303 688396 688472 688506 688599 688981\n",
       "1 NA     NA     NA     NA     NA     NA     NA     NA     NA     NA    \n",
       "2 NA     NA     NA     NA     NA     NA     NA     NA     NA     NA    \n",
       "3 NA     NA     NA     NA     NA     NA     NA     NA     NA     NA    \n",
       "4 NA     NA     NA     NA     NA     NA     NA     NA     NA     NA    \n",
       "5 NA     NA     NA     NA     NA     NA     NA     NA     NA     NA    \n",
       "6 NA     NA     NA     NA     NA     NA     NA     NA     NA     NA    "
      ]
     },
     "metadata": {},
     "output_type": "display_data"
    }
   ],
   "source": [
    "# Create a copy of the stock dataframe\n",
    "stock_filtered <- stock\n",
    "\n",
    "# Track statistics\n",
    "affected_stocks <- 0\n",
    "removed_observations <- 0\n",
    "\n",
    "# For each stock, remove observations where it has been listed for less than 1 year\n",
    "for (id in stock_id) {\n",
    "    # Find the stock in list_time\n",
    "    idx <- which(list_time$stkcd == id)\n",
    "    \n",
    "    if (length(idx) > 0) {\n",
    "        # Get the listing year and month\n",
    "        listing_year <- list_time$year[idx]\n",
    "        listing_month <- list_time$month[idx]\n",
    "        \n",
    "        # For each row in stock_filtered\n",
    "        for (row in 1:nrow(stock_filtered)) {\n",
    "            current_year <- stock_filtered$year[row]\n",
    "            current_month <- stock_filtered$month[row]\n",
    "            \n",
    "            # Check if this observation is within 1 year of listing\n",
    "            years_difference <- current_year - listing_year\n",
    "            months_difference <- current_month - listing_month\n",
    "            total_months_difference <- years_difference * 12 + months_difference\n",
    "            \n",
    "            if (total_months_difference < 12) {\n",
    "                # Count if this cell has data (not NA) before setting it to NA\n",
    "                if (!is.na(stock_filtered[row, id])) {\n",
    "                    removed_observations <- removed_observations + 1\n",
    "                    if (sum(!is.na(stock_filtered[, id])) > 0) {\n",
    "                        affected_stocks <- affected_stocks + 1\n",
    "                    }\n",
    "                }\n",
    "                \n",
    "                # Remove this observation\n",
    "                stock_filtered[row, id] <- NA\n",
    "            }\n",
    "        }\n",
    "    }\n",
    "}\n",
    "\n",
    "# Count unique affected stocks (the previous count might double-count)\n",
    "affected_stocks <- sum(sapply(stock_id, function(id) {\n",
    "    any(is.na(stock_filtered[, id])) & any(!is.na(stock[, id]))\n",
    "}))\n",
    "\n",
    "# Print summary\n",
    "cat(\"Removed observations for\", affected_stocks, \"stocks that had been listed for less than 1 year\\n\")\n",
    "cat(\"Total observations removed:\", removed_observations, \"\\n\")\n",
    "\n",
    "# Update the stock dataframe\n",
    "stock <- stock_filtered\n",
    "\n",
    "head(stock)"
   ]
  },
  {
   "cell_type": "markdown",
   "id": "a11b3714",
   "metadata": {},
   "source": [
    "- Remove stocks with too many missing values under the prioritized criteria:\n",
    "  1. Remove as fewer stocks as possible\n",
    "  2. Common time scope of the remaining observations should be closer to latest as possible\n",
    "  3. Common time scope of the remaining observations should be as long as possible"
   ]
  },
  {
   "cell_type": "code",
   "execution_count": 8,
   "id": "f2a3e357",
   "metadata": {
    "vscode": {
     "languageId": "r"
    }
   },
   "outputs": [
    {
     "name": "stdout",
     "output_type": "stream",
     "text": [
      "Removing 106 stocks with excessive NA values: 000333, 001289, 001965, 001979, 002555, 002594, 002601, 002648, 002709, 002714, 002812, 002916, 002920, 002938, 003816, 300274, 300308, 300316, 300347, 300394, 300408, 300413, 300418, 300433, 300442, 300450, 300498, 300502, 300628, 300661, 300750, 300759, 300760, 300782, 300832, 300896, 300979, 300999, 301269, 600023, 600025, 600905, 600919, 600926, 600938, 600941, 600989, 601012, 601021, 601058, 601100, 601127, 601138, 601225, 601229, 601238, 601360, 601633, 601658, 601669, 601689, 601698, 601728, 601800, 601816, 601838, 601865, 601868, 601916, 601985, 603019, 603195, 603259, 603260, 603288, 603296, 603369, 603392, 603501, 603659, 603799, 603806, 603833, 603986, 603993, 605117, 605499, 688008, 688009, 688012, 688036, 688041, 688082, 688111, 688126, 688169, 688187, 688223, 688256, 688271, 688303, 688396, 688472, 688506, 688599, 688981 \n",
      "Retained 149 stocks\n",
      "Common non-NA period: 2012-02 to 2025-03 ( 158 periods )\n",
      "NA values in filtered dataset: 0 \n"
     ]
    },
    {
     "data": {
      "text/html": [
       "<table class=\"dataframe\">\n",
       "<caption>A data.frame: 6 x 151</caption>\n",
       "<thead>\n",
       "\t<tr><th></th><th scope=col>year</th><th scope=col>month</th><th scope=col>000001</th><th scope=col>000002</th><th scope=col>000063</th><th scope=col>000157</th><th scope=col>000301</th><th scope=col>000338</th><th scope=col>000425</th><th scope=col>000538</th><th scope=col>...</th><th scope=col>601857</th><th scope=col>601872</th><th scope=col>601877</th><th scope=col>601888</th><th scope=col>601898</th><th scope=col>601899</th><th scope=col>601939</th><th scope=col>601988</th><th scope=col>601989</th><th scope=col>601998</th></tr>\n",
       "\t<tr><th></th><th scope=col>&lt;int&gt;</th><th scope=col>&lt;int&gt;</th><th scope=col>&lt;dbl&gt;</th><th scope=col>&lt;dbl&gt;</th><th scope=col>&lt;dbl&gt;</th><th scope=col>&lt;dbl&gt;</th><th scope=col>&lt;dbl&gt;</th><th scope=col>&lt;dbl&gt;</th><th scope=col>&lt;dbl&gt;</th><th scope=col>&lt;dbl&gt;</th><th scope=col>...</th><th scope=col>&lt;dbl&gt;</th><th scope=col>&lt;dbl&gt;</th><th scope=col>&lt;dbl&gt;</th><th scope=col>&lt;dbl&gt;</th><th scope=col>&lt;dbl&gt;</th><th scope=col>&lt;dbl&gt;</th><th scope=col>&lt;dbl&gt;</th><th scope=col>&lt;dbl&gt;</th><th scope=col>&lt;dbl&gt;</th><th scope=col>&lt;dbl&gt;</th></tr>\n",
       "</thead>\n",
       "<tbody>\n",
       "\t<tr><th scope=row>158</th><td>2012</td><td>2</td><td> 2.7644</td><td> 8.2353</td><td> 15.8784</td><td> 5.3787</td><td> 8.1633</td><td>  3.0088</td><td>  0.2500</td><td> 6.5466</td><td>...</td><td> 3.0362</td><td>  3.8095</td><td>12.8434</td><td> 9.3409</td><td>  5.3191</td><td>  6.9820</td><td> 2.3061</td><td> 2.3333</td><td>  9.2058</td><td> 3.6697</td></tr>\n",
       "\t<tr><th scope=row>159</th><td>2012</td><td>3</td><td>-8.1287</td><td> 0.0000</td><td> -4.1983</td><td>-9.7917</td><td>-8.4906</td><td>-13.6312</td><td>-16.0848</td><td>-5.4916</td><td>...</td><td>-7.8897</td><td> -9.4801</td><td> 1.3158</td><td>-5.5473</td><td> -8.1818</td><td>-13.4737</td><td>-1.0246</td><td>-2.9316</td><td> -7.2727</td><td>-5.7522</td></tr>\n",
       "\t<tr><th scope=row>160</th><td>2012</td><td>4</td><td> 5.4106</td><td> 8.4541</td><td>  2.3737</td><td>14.4342</td><td>16.8385</td><td>  9.8143</td><td> 13.4473</td><td> 2.4787</td><td>...</td><td> 2.4768</td><td>  7.0946</td><td> 3.4440</td><td>13.2341</td><td>  3.7404</td><td>  4.6229</td><td>-0.8282</td><td> 2.3490</td><td>  8.3779</td><td> 6.3380</td></tr>\n",
       "\t<tr><th scope=row>161</th><td>2012</td><td>5</td><td>-5.2536</td><td> 3.0067</td><td> -9.2152</td><td> 9.4854</td><td>-4.4118</td><td>  0.6643</td><td> -0.1310</td><td> 1.0706</td><td>...</td><td>-4.8338</td><td>  9.4637</td><td> 4.8525</td><td>-6.2241</td><td> -4.2418</td><td> -4.4186</td><td>-6.2630</td><td>-0.6557</td><td> -1.8891</td><td>-6.4018</td></tr>\n",
       "\t<tr><th scope=row>162</th><td>2012</td><td>6</td><td>-3.3779</td><td>-3.6757</td><td> -8.5789</td><td>-7.5576</td><td>-8.3077</td><td>-10.9478</td><td> -5.9672</td><td>16.6040</td><td>...</td><td>-2.5618</td><td> -6.9200</td><td>-4.5654</td><td> 4.4381</td><td>-12.1780</td><td> -5.5961</td><td>-1.2135</td><td>-2.0495</td><td>-12.0339</td><td>-5.6604</td></tr>\n",
       "\t<tr><th scope=row>163</th><td>2012</td><td>7</td><td>-0.3958</td><td> 5.0911</td><td>-16.8056</td><td>-4.2871</td><td>-5.0336</td><td>-21.9939</td><td>-11.4520</td><td>-0.1350</td><td>...</td><td>-2.0994</td><td>-15.8385</td><td>-2.4902</td><td>-0.2126</td><td> -3.3592</td><td> -2.9101</td><td>-5.4762</td><td>-3.1915</td><td>-10.7900</td><td> 1.8135</td></tr>\n",
       "</tbody>\n",
       "</table>\n"
      ],
      "text/latex": [
       "A data.frame: 6 x 151\n",
       "\\begin{tabular}{r|lllllllllllllllllllll}\n",
       "  & year & month & 000001 & 000002 & 000063 & 000157 & 000301 & 000338 & 000425 & 000538 & ... & 601857 & 601872 & 601877 & 601888 & 601898 & 601899 & 601939 & 601988 & 601989 & 601998\\\\\n",
       "  & <int> & <int> & <dbl> & <dbl> & <dbl> & <dbl> & <dbl> & <dbl> & <dbl> & <dbl> & ... & <dbl> & <dbl> & <dbl> & <dbl> & <dbl> & <dbl> & <dbl> & <dbl> & <dbl> & <dbl>\\\\\n",
       "\\hline\n",
       "\t158 & 2012 & 2 &  2.7644 &  8.2353 &  15.8784 &  5.3787 &  8.1633 &   3.0088 &   0.2500 &  6.5466 & ... &  3.0362 &   3.8095 & 12.8434 &  9.3409 &   5.3191 &   6.9820 &  2.3061 &  2.3333 &   9.2058 &  3.6697\\\\\n",
       "\t159 & 2012 & 3 & -8.1287 &  0.0000 &  -4.1983 & -9.7917 & -8.4906 & -13.6312 & -16.0848 & -5.4916 & ... & -7.8897 &  -9.4801 &  1.3158 & -5.5473 &  -8.1818 & -13.4737 & -1.0246 & -2.9316 &  -7.2727 & -5.7522\\\\\n",
       "\t160 & 2012 & 4 &  5.4106 &  8.4541 &   2.3737 & 14.4342 & 16.8385 &   9.8143 &  13.4473 &  2.4787 & ... &  2.4768 &   7.0946 &  3.4440 & 13.2341 &   3.7404 &   4.6229 & -0.8282 &  2.3490 &   8.3779 &  6.3380\\\\\n",
       "\t161 & 2012 & 5 & -5.2536 &  3.0067 &  -9.2152 &  9.4854 & -4.4118 &   0.6643 &  -0.1310 &  1.0706 & ... & -4.8338 &   9.4637 &  4.8525 & -6.2241 &  -4.2418 &  -4.4186 & -6.2630 & -0.6557 &  -1.8891 & -6.4018\\\\\n",
       "\t162 & 2012 & 6 & -3.3779 & -3.6757 &  -8.5789 & -7.5576 & -8.3077 & -10.9478 &  -5.9672 & 16.6040 & ... & -2.5618 &  -6.9200 & -4.5654 &  4.4381 & -12.1780 &  -5.5961 & -1.2135 & -2.0495 & -12.0339 & -5.6604\\\\\n",
       "\t163 & 2012 & 7 & -0.3958 &  5.0911 & -16.8056 & -4.2871 & -5.0336 & -21.9939 & -11.4520 & -0.1350 & ... & -2.0994 & -15.8385 & -2.4902 & -0.2126 &  -3.3592 &  -2.9101 & -5.4762 & -3.1915 & -10.7900 &  1.8135\\\\\n",
       "\\end{tabular}\n"
      ],
      "text/markdown": [
       "\n",
       "A data.frame: 6 x 151\n",
       "\n",
       "| <!--/--> | year &lt;int&gt; | month &lt;int&gt; | 000001 &lt;dbl&gt; | 000002 &lt;dbl&gt; | 000063 &lt;dbl&gt; | 000157 &lt;dbl&gt; | 000301 &lt;dbl&gt; | 000338 &lt;dbl&gt; | 000425 &lt;dbl&gt; | 000538 &lt;dbl&gt; | ... ... | 601857 &lt;dbl&gt; | 601872 &lt;dbl&gt; | 601877 &lt;dbl&gt; | 601888 &lt;dbl&gt; | 601898 &lt;dbl&gt; | 601899 &lt;dbl&gt; | 601939 &lt;dbl&gt; | 601988 &lt;dbl&gt; | 601989 &lt;dbl&gt; | 601998 &lt;dbl&gt; |\n",
       "|---|---|---|---|---|---|---|---|---|---|---|---|---|---|---|---|---|---|---|---|---|---|\n",
       "| 158 | 2012 | 2 |  2.7644 |  8.2353 |  15.8784 |  5.3787 |  8.1633 |   3.0088 |   0.2500 |  6.5466 | ... |  3.0362 |   3.8095 | 12.8434 |  9.3409 |   5.3191 |   6.9820 |  2.3061 |  2.3333 |   9.2058 |  3.6697 |\n",
       "| 159 | 2012 | 3 | -8.1287 |  0.0000 |  -4.1983 | -9.7917 | -8.4906 | -13.6312 | -16.0848 | -5.4916 | ... | -7.8897 |  -9.4801 |  1.3158 | -5.5473 |  -8.1818 | -13.4737 | -1.0246 | -2.9316 |  -7.2727 | -5.7522 |\n",
       "| 160 | 2012 | 4 |  5.4106 |  8.4541 |   2.3737 | 14.4342 | 16.8385 |   9.8143 |  13.4473 |  2.4787 | ... |  2.4768 |   7.0946 |  3.4440 | 13.2341 |   3.7404 |   4.6229 | -0.8282 |  2.3490 |   8.3779 |  6.3380 |\n",
       "| 161 | 2012 | 5 | -5.2536 |  3.0067 |  -9.2152 |  9.4854 | -4.4118 |   0.6643 |  -0.1310 |  1.0706 | ... | -4.8338 |   9.4637 |  4.8525 | -6.2241 |  -4.2418 |  -4.4186 | -6.2630 | -0.6557 |  -1.8891 | -6.4018 |\n",
       "| 162 | 2012 | 6 | -3.3779 | -3.6757 |  -8.5789 | -7.5576 | -8.3077 | -10.9478 |  -5.9672 | 16.6040 | ... | -2.5618 |  -6.9200 | -4.5654 |  4.4381 | -12.1780 |  -5.5961 | -1.2135 | -2.0495 | -12.0339 | -5.6604 |\n",
       "| 163 | 2012 | 7 | -0.3958 |  5.0911 | -16.8056 | -4.2871 | -5.0336 | -21.9939 | -11.4520 | -0.1350 | ... | -2.0994 | -15.8385 | -2.4902 | -0.2126 |  -3.3592 |  -2.9101 | -5.4762 | -3.1915 | -10.7900 |  1.8135 |\n",
       "\n"
      ],
      "text/plain": [
       "    year month 000001  000002  000063   000157  000301  000338   000425  \n",
       "158 2012 2      2.7644  8.2353  15.8784  5.3787  8.1633   3.0088   0.2500\n",
       "159 2012 3     -8.1287  0.0000  -4.1983 -9.7917 -8.4906 -13.6312 -16.0848\n",
       "160 2012 4      5.4106  8.4541   2.3737 14.4342 16.8385   9.8143  13.4473\n",
       "161 2012 5     -5.2536  3.0067  -9.2152  9.4854 -4.4118   0.6643  -0.1310\n",
       "162 2012 6     -3.3779 -3.6757  -8.5789 -7.5576 -8.3077 -10.9478  -5.9672\n",
       "163 2012 7     -0.3958  5.0911 -16.8056 -4.2871 -5.0336 -21.9939 -11.4520\n",
       "    000538  ... 601857  601872   601877  601888  601898   601899   601939 \n",
       "158  6.5466 ...  3.0362   3.8095 12.8434  9.3409   5.3191   6.9820  2.3061\n",
       "159 -5.4916 ... -7.8897  -9.4801  1.3158 -5.5473  -8.1818 -13.4737 -1.0246\n",
       "160  2.4787 ...  2.4768   7.0946  3.4440 13.2341   3.7404   4.6229 -0.8282\n",
       "161  1.0706 ... -4.8338   9.4637  4.8525 -6.2241  -4.2418  -4.4186 -6.2630\n",
       "162 16.6040 ... -2.5618  -6.9200 -4.5654  4.4381 -12.1780  -5.5961 -1.2135\n",
       "163 -0.1350 ... -2.0994 -15.8385 -2.4902 -0.2126  -3.3592  -2.9101 -5.4762\n",
       "    601988  601989   601998 \n",
       "158  2.3333   9.2058  3.6697\n",
       "159 -2.9316  -7.2727 -5.7522\n",
       "160  2.3490   8.3779  6.3380\n",
       "161 -0.6557  -1.8891 -6.4018\n",
       "162 -2.0495 -12.0339 -5.6604\n",
       "163 -3.1915 -10.7900  1.8135"
      ]
     },
     "metadata": {},
     "output_type": "display_data"
    }
   ],
   "source": [
    "# Create a copy of the stock dataframe\n",
    "stock_filtered <- stock\n",
    "\n",
    "# Create a matrix indicating non-NA values\n",
    "has_data <- !is.na(stock_filtered[, stock_id])\n",
    "colnames(has_data) <- stock_id\n",
    "\n",
    "# Calculate the percentage of non-NA values for each stock\n",
    "stock_valid_pct <- colMeans(has_data) * 100\n",
    "names(stock_valid_pct) <- stock_id\n",
    "\n",
    "# Create a year-month identifier for easier period tracking\n",
    "stock_filtered$ym <- stock_filtered$year * 100 + stock_filtered$month\n",
    "\n",
    "# Function to find the common non-NA period for a set of stocks\n",
    "find_common_period <- function(stocks_subset) {\n",
    "    # For each period, check if all stocks have data\n",
    "    all_valid <- apply(has_data[, stocks_subset], 1, all)\n",
    "    \n",
    "    # If no common valid dates found, return NULL\n",
    "    if (!any(all_valid)) {\n",
    "        return(NULL)\n",
    "    }\n",
    "    \n",
    "    # Find continuous valid periods\n",
    "    runs <- rle(all_valid)\n",
    "    valid_run_indices <- which(runs$values)\n",
    "    \n",
    "    if (length(valid_run_indices) == 0) {\n",
    "        return(NULL)\n",
    "    }\n",
    "    \n",
    "    # Find all valid runs and their properties\n",
    "    valid_periods <- data.frame(\n",
    "        run_idx = valid_run_indices,\n",
    "        length = runs$lengths[valid_run_indices],\n",
    "        stringsAsFactors = FALSE\n",
    "    )\n",
    "    \n",
    "    # Calculate start and end positions for each run\n",
    "    valid_periods$start_pos <- sapply(valid_periods$run_idx, function(idx) {\n",
    "        if(idx == 1) 1 else sum(runs$lengths[1:(idx-1)]) + 1\n",
    "    })\n",
    "    valid_periods$end_pos <- valid_periods$start_pos + valid_periods$length - 1\n",
    "    \n",
    "    # Add start and end year-month\n",
    "    valid_periods$start_ym <- stock_filtered$ym[valid_periods$start_pos]\n",
    "    valid_periods$end_ym <- stock_filtered$ym[valid_periods$end_pos]\n",
    "    \n",
    "    # Calculate recency score - higher for more recent periods\n",
    "    max_ym <- max(stock_filtered$ym)\n",
    "    valid_periods$recency_score <- valid_periods$end_ym / max_ym\n",
    "    \n",
    "    # Normalize length\n",
    "    max_length <- max(valid_periods$length)\n",
    "    valid_periods$norm_length <- valid_periods$length / max_length\n",
    "    \n",
    "    # Combined score: 60% length, 40% recency (favoring recent periods)\n",
    "    valid_periods$combined_score <- 0.6 * valid_periods$norm_length + 0.4 * valid_periods$recency_score\n",
    "    \n",
    "    # Find the period with the highest combined score\n",
    "    best_idx <- which.max(valid_periods$combined_score)\n",
    "    \n",
    "    return(list(\n",
    "        start_idx = valid_periods$start_pos[best_idx],\n",
    "        end_idx = valid_periods$end_pos[best_idx],\n",
    "        length = valid_periods$length[best_idx],\n",
    "        start_ym = valid_periods$start_ym[best_idx],\n",
    "        end_ym = valid_periods$end_ym[best_idx],\n",
    "        combined_score = valid_periods$combined_score[best_idx]\n",
    "    ))\n",
    "}\n",
    "\n",
    "# Initialize variables to store best solution\n",
    "best_solution <- NULL\n",
    "best_score <- -Inf\n",
    "\n",
    "# Try different thresholds to include more or fewer stocks\n",
    "thresholds <- seq(95, 50, by = -5)\n",
    "\n",
    "for (threshold in thresholds) {\n",
    "    # Select stocks with valid data percentage above threshold\n",
    "    candidate_stocks <- names(stock_valid_pct[stock_valid_pct >= threshold])\n",
    "    \n",
    "    # Skip if too few stocks meet the threshold\n",
    "    if (length(candidate_stocks) < 2) {\n",
    "        next\n",
    "    }\n",
    "    \n",
    "    # Find common period for these stocks\n",
    "    period <- find_common_period(candidate_stocks)\n",
    "    \n",
    "    # Skip if no common period found\n",
    "    if (is.null(period)) {\n",
    "        next\n",
    "    }\n",
    "    \n",
    "    # Total score combines period quality and number of stocks\n",
    "    # Normalize stock count to give more weight to solutions with more stocks\n",
    "    stock_ratio <- length(candidate_stocks) / length(stock_id)\n",
    "    total_score <- period$combined_score + 0.2 * stock_ratio\n",
    "    \n",
    "    # Update best solution if better score found\n",
    "    if (total_score > best_score) {\n",
    "        best_solution <- list(\n",
    "            stocks = candidate_stocks,\n",
    "            start_idx = period$start_idx,\n",
    "            end_idx = period$end_idx,\n",
    "            length = period$length,\n",
    "            start_ym = period$start_ym,\n",
    "            end_ym = period$end_ym\n",
    "        )\n",
    "        best_score <- total_score\n",
    "    }\n",
    "}\n",
    "\n",
    "if (!is.null(best_solution)) {\n",
    "    # Identify stocks to remove\n",
    "    stocks_to_remove <- setdiff(stock_id, best_solution$stocks)\n",
    "    \n",
    "    # Format year-month for display (YYYY-MM)\n",
    "    format_ym <- function(ym) {\n",
    "        year <- floor(ym/100)\n",
    "        month <- ym %% 100\n",
    "        return(paste0(year, \"-\", sprintf(\"%02d\", month)))\n",
    "    }\n",
    "    \n",
    "    # Print summary\n",
    "    cat(\"Removing\", length(stocks_to_remove), \"stocks with excessive NA values:\", \n",
    "            paste(stocks_to_remove, collapse=\", \"), \"\\n\")\n",
    "    cat(\"Retained\", length(best_solution$stocks), \"stocks\\n\")\n",
    "    cat(\"Common non-NA period:\", format_ym(best_solution$start_ym), \"to\", \n",
    "            format_ym(best_solution$end_ym), \"(\", best_solution$length, \"periods )\\n\")\n",
    "    \n",
    "    # Update stock_id to the selected stocks\n",
    "    stock_id <- best_solution$stocks\n",
    "    \n",
    "    # Filter the dataframe to keep only the selected stocks and date range\n",
    "    stock_filtered <- stock_filtered[best_solution$start_idx:best_solution$end_idx, c(\"year\", \"month\", best_solution$stocks)]\n",
    "    \n",
    "    # Verify no NA values in the filtered dataset\n",
    "    cat(\"NA values in filtered dataset:\", sum(is.na(stock_filtered)), \"\\n\")\n",
    "} else {\n",
    "    cat(\"Could not find a common non-NA period for any subset of stocks\\n\")\n",
    "}\n",
    "\n",
    "# Update the stock dataframe\n",
    "stock <- stock_filtered\n",
    "\n",
    "head(stock)"
   ]
  },
  {
   "cell_type": "markdown",
   "id": "a2ca19ca",
   "metadata": {},
   "source": [
    "- Trim extreme values and replace missing values"
   ]
  },
  {
   "cell_type": "code",
   "execution_count": 9,
   "id": "ed4d68ba",
   "metadata": {
    "vscode": {
     "languageId": "r"
    }
   },
   "outputs": [
    {
     "name": "stdout",
     "output_type": "stream",
     "text": [
      "Extreme Value Removal Report:\n",
      "----------------------------\n",
      "Total outliers identified and removed: 752 \n",
      "Total missing values replaced: 752 \n",
      "\n",
      "Stocks with outliers:\n",
      "  - 000001 : 4 outliers\n",
      "  - 000002 : 1 outliers\n",
      "  - 000063 : 6 outliers\n",
      "  - 000157 : 2 outliers\n",
      "  - 000301 : 4 outliers\n",
      "  - 000338 : 5 outliers\n",
      "  - 000425 : 2 outliers\n",
      "  - 000538 : 3 outliers\n",
      "  - 000625 : 2 outliers\n",
      "  - 000630 : 18 outliers\n",
      "  - 000651 : 4 outliers\n",
      "  - 000661 : 2 outliers\n",
      "  - 000708 : 2 outliers\n",
      "  - 000768 : 2 outliers\n",
      "  - 000786 : 7 outliers\n",
      "  - 000800 : 2 outliers\n",
      "  - 000807 : 12 outliers\n",
      "  - 000858 : 1 outliers\n",
      "  - 000876 : 6 outliers\n",
      "  - 000895 : 1 outliers\n",
      "  - 000938 : 6 outliers\n",
      "  - 000975 : 4 outliers\n",
      "  - 000977 : 1 outliers\n",
      "  - 000983 : 1 outliers\n",
      "  - 000999 : 8 outliers\n",
      "  - 002001 : 5 outliers\n",
      "  - 002007 : 3 outliers\n",
      "  - 002027 : 3 outliers\n",
      "  - 002028 : 2 outliers\n",
      "  - 002049 : 8 outliers\n",
      "  - 002050 : 1 outliers\n",
      "  - 002074 : 5 outliers\n",
      "  - 002129 : 3 outliers\n",
      "  - 002142 : 10 outliers\n",
      "  - 002179 : 8 outliers\n",
      "  - 002180 : 5 outliers\n",
      "  - 002236 : 5 outliers\n",
      "  - 002241 : 15 outliers\n",
      "  - 002252 : 14 outliers\n",
      "  - 002271 : 6 outliers\n",
      "  - 002304 : 8 outliers\n",
      "  - 002311 : 3 outliers\n",
      "  - 002352 : 11 outliers\n",
      "  - 002422 : 2 outliers\n",
      "  - 002460 : 1 outliers\n",
      "  - 002463 : 1 outliers\n",
      "  - 002466 : 19 outliers\n",
      "  - 002475 : 1 outliers\n",
      "  - 002493 : 2 outliers\n",
      "  - 300014 : 1 outliers\n",
      "  - 300015 : 2 outliers\n",
      "  - 300033 : 7 outliers\n",
      "  - 300122 : 4 outliers\n",
      "  - 300124 : 1 outliers\n",
      "  - 600009 : 1 outliers\n",
      "  - 600010 : 8 outliers\n",
      "  - 600011 : 16 outliers\n",
      "  - 600015 : 3 outliers\n",
      "  - 600016 : 4 outliers\n",
      "  - 600018 : 3 outliers\n",
      "  - 600019 : 3 outliers\n",
      "  - 600026 : 1 outliers\n",
      "  - 600027 : 5 outliers\n",
      "  - 600028 : 14 outliers\n",
      "  - 600029 : 7 outliers\n",
      "  - 600031 : 1 outliers\n",
      "  - 600036 : 3 outliers\n",
      "  - 600039 : 3 outliers\n",
      "  - 600048 : 3 outliers\n",
      "  - 600050 : 12 outliers\n",
      "  - 600066 : 1 outliers\n",
      "  - 600085 : 9 outliers\n",
      "  - 600089 : 8 outliers\n",
      "  - 600104 : 4 outliers\n",
      "  - 600111 : 7 outliers\n",
      "  - 600160 : 2 outliers\n",
      "  - 600161 : 18 outliers\n",
      "  - 600188 : 1 outliers\n",
      "  - 600196 : 8 outliers\n",
      "  - 600219 : 5 outliers\n",
      "  - 600233 : 5 outliers\n",
      "  - 600276 : 3 outliers\n",
      "  - 600309 : 8 outliers\n",
      "  - 600332 : 3 outliers\n",
      "  - 600362 : 5 outliers\n",
      "  - 600377 : 8 outliers\n",
      "  - 600406 : 2 outliers\n",
      "  - 600415 : 6 outliers\n",
      "  - 600426 : 2 outliers\n",
      "  - 600436 : 1 outliers\n",
      "  - 600438 : 10 outliers\n",
      "  - 600460 : 12 outliers\n",
      "  - 600482 : 16 outliers\n",
      "  - 600489 : 4 outliers\n",
      "  - 600519 : 1 outliers\n",
      "  - 600547 : 20 outliers\n",
      "  - 600570 : 8 outliers\n",
      "  - 600584 : 6 outliers\n",
      "  - 600585 : 5 outliers\n",
      "  - 600588 : 1 outliers\n",
      "  - 600600 : 3 outliers\n",
      "  - 600660 : 3 outliers\n",
      "  - 600674 : 2 outliers\n",
      "  - 600690 : 7 outliers\n",
      "  - 600741 : 3 outliers\n",
      "  - 600795 : 5 outliers\n",
      "  - 600809 : 1 outliers\n",
      "  - 600875 : 3 outliers\n",
      "  - 600900 : 9 outliers\n",
      "  - 601006 : 6 outliers\n",
      "  - 601009 : 8 outliers\n",
      "  - 601088 : 1 outliers\n",
      "  - 601111 : 2 outliers\n",
      "  - 601117 : 2 outliers\n",
      "  - 601169 : 2 outliers\n",
      "  - 601186 : 16 outliers\n",
      "  - 601288 : 6 outliers\n",
      "  - 601328 : 4 outliers\n",
      "  - 601390 : 5 outliers\n",
      "  - 601398 : 4 outliers\n",
      "  - 601600 : 11 outliers\n",
      "  - 601607 : 3 outliers\n",
      "  - 601618 : 15 outliers\n",
      "  - 601668 : 2 outliers\n",
      "  - 601699 : 4 outliers\n",
      "  - 601766 : 13 outliers\n",
      "  - 601799 : 5 outliers\n",
      "  - 601808 : 2 outliers\n",
      "  - 601818 : 5 outliers\n",
      "  - 601857 : 10 outliers\n",
      "  - 601872 : 2 outliers\n",
      "  - 601877 : 5 outliers\n",
      "  - 601888 : 10 outliers\n",
      "  - 601898 : 13 outliers\n",
      "  - 601899 : 5 outliers\n",
      "  - 601939 : 2 outliers\n",
      "  - 601988 : 2 outliers\n",
      "  - 601989 : 9 outliers\n",
      "  - 601998 : 4 outliers\n"
     ]
    },
    {
     "data": {
      "text/html": [
       "<table class=\"dataframe\">\n",
       "<caption>A data.frame: 6 x 151</caption>\n",
       "<thead>\n",
       "\t<tr><th></th><th scope=col>year</th><th scope=col>month</th><th scope=col>000001</th><th scope=col>000002</th><th scope=col>000063</th><th scope=col>000157</th><th scope=col>000301</th><th scope=col>000338</th><th scope=col>000425</th><th scope=col>000538</th><th scope=col>...</th><th scope=col>601857</th><th scope=col>601872</th><th scope=col>601877</th><th scope=col>601888</th><th scope=col>601898</th><th scope=col>601899</th><th scope=col>601939</th><th scope=col>601988</th><th scope=col>601989</th><th scope=col>601998</th></tr>\n",
       "\t<tr><th></th><th scope=col>&lt;int&gt;</th><th scope=col>&lt;int&gt;</th><th scope=col>&lt;dbl&gt;</th><th scope=col>&lt;dbl&gt;</th><th scope=col>&lt;dbl&gt;</th><th scope=col>&lt;dbl&gt;</th><th scope=col>&lt;dbl&gt;</th><th scope=col>&lt;dbl&gt;</th><th scope=col>&lt;dbl&gt;</th><th scope=col>&lt;dbl&gt;</th><th scope=col>...</th><th scope=col>&lt;dbl&gt;</th><th scope=col>&lt;dbl&gt;</th><th scope=col>&lt;dbl&gt;</th><th scope=col>&lt;dbl&gt;</th><th scope=col>&lt;dbl&gt;</th><th scope=col>&lt;dbl&gt;</th><th scope=col>&lt;dbl&gt;</th><th scope=col>&lt;dbl&gt;</th><th scope=col>&lt;dbl&gt;</th><th scope=col>&lt;dbl&gt;</th></tr>\n",
       "</thead>\n",
       "<tbody>\n",
       "\t<tr><th scope=row>158</th><td>2012</td><td>2</td><td> 2.7644</td><td> 8.2353</td><td> 15.8784</td><td> 5.3787</td><td> 8.1633</td><td>  3.0088</td><td>  0.2500</td><td> 6.5466</td><td>...</td><td> 3.0362</td><td>  3.8095</td><td>12.8434</td><td> 9.3409</td><td>  5.3191</td><td>  6.9820</td><td> 2.3061</td><td> 2.3333</td><td>  9.2058</td><td> 3.6697</td></tr>\n",
       "\t<tr><th scope=row>159</th><td>2012</td><td>3</td><td>-8.1287</td><td> 0.0000</td><td> -4.1983</td><td>-9.7917</td><td>-8.4906</td><td>-13.6312</td><td>-16.0848</td><td>-5.4916</td><td>...</td><td>-7.8897</td><td> -9.4801</td><td> 1.3158</td><td>-5.5473</td><td> -8.1818</td><td>-13.4737</td><td>-1.0246</td><td>-2.9316</td><td> -7.2727</td><td>-5.7522</td></tr>\n",
       "\t<tr><th scope=row>160</th><td>2012</td><td>4</td><td> 5.4106</td><td> 8.4541</td><td>  2.3737</td><td>14.4342</td><td>16.8385</td><td>  9.8143</td><td> 13.4473</td><td> 2.4787</td><td>...</td><td> 2.4768</td><td>  7.0946</td><td> 3.4440</td><td>13.2341</td><td>  3.7404</td><td>  4.6229</td><td>-0.8282</td><td> 2.3490</td><td>  8.3779</td><td> 6.3380</td></tr>\n",
       "\t<tr><th scope=row>161</th><td>2012</td><td>5</td><td>-5.2536</td><td> 3.0067</td><td> -9.2152</td><td> 9.4854</td><td>-4.4118</td><td>  0.6643</td><td> -0.1310</td><td> 1.0706</td><td>...</td><td>-4.8338</td><td>  9.4637</td><td> 4.8525</td><td>-6.2241</td><td> -4.2418</td><td> -4.4186</td><td>-6.2630</td><td>-0.6557</td><td> -1.8891</td><td>-6.4018</td></tr>\n",
       "\t<tr><th scope=row>162</th><td>2012</td><td>6</td><td>-3.3779</td><td>-3.6757</td><td> -8.5789</td><td>-7.5576</td><td>-8.3077</td><td>-10.9478</td><td> -5.9672</td><td>16.6040</td><td>...</td><td>-2.5618</td><td> -6.9200</td><td>-4.5654</td><td> 4.4381</td><td>-12.1780</td><td> -5.5961</td><td>-1.2135</td><td>-2.0495</td><td>-12.0339</td><td>-5.6604</td></tr>\n",
       "\t<tr><th scope=row>163</th><td>2012</td><td>7</td><td>-0.3958</td><td> 5.0911</td><td>-16.8056</td><td>-4.2871</td><td>-5.0336</td><td>-21.9939</td><td>-11.4520</td><td>-0.1350</td><td>...</td><td>-2.0994</td><td>-15.8385</td><td>-2.4902</td><td>-0.2126</td><td> -3.3592</td><td> -2.9101</td><td>-5.4762</td><td>-3.1915</td><td>-10.7900</td><td> 1.8135</td></tr>\n",
       "</tbody>\n",
       "</table>\n"
      ],
      "text/latex": [
       "A data.frame: 6 x 151\n",
       "\\begin{tabular}{r|lllllllllllllllllllll}\n",
       "  & year & month & 000001 & 000002 & 000063 & 000157 & 000301 & 000338 & 000425 & 000538 & ... & 601857 & 601872 & 601877 & 601888 & 601898 & 601899 & 601939 & 601988 & 601989 & 601998\\\\\n",
       "  & <int> & <int> & <dbl> & <dbl> & <dbl> & <dbl> & <dbl> & <dbl> & <dbl> & <dbl> & ... & <dbl> & <dbl> & <dbl> & <dbl> & <dbl> & <dbl> & <dbl> & <dbl> & <dbl> & <dbl>\\\\\n",
       "\\hline\n",
       "\t158 & 2012 & 2 &  2.7644 &  8.2353 &  15.8784 &  5.3787 &  8.1633 &   3.0088 &   0.2500 &  6.5466 & ... &  3.0362 &   3.8095 & 12.8434 &  9.3409 &   5.3191 &   6.9820 &  2.3061 &  2.3333 &   9.2058 &  3.6697\\\\\n",
       "\t159 & 2012 & 3 & -8.1287 &  0.0000 &  -4.1983 & -9.7917 & -8.4906 & -13.6312 & -16.0848 & -5.4916 & ... & -7.8897 &  -9.4801 &  1.3158 & -5.5473 &  -8.1818 & -13.4737 & -1.0246 & -2.9316 &  -7.2727 & -5.7522\\\\\n",
       "\t160 & 2012 & 4 &  5.4106 &  8.4541 &   2.3737 & 14.4342 & 16.8385 &   9.8143 &  13.4473 &  2.4787 & ... &  2.4768 &   7.0946 &  3.4440 & 13.2341 &   3.7404 &   4.6229 & -0.8282 &  2.3490 &   8.3779 &  6.3380\\\\\n",
       "\t161 & 2012 & 5 & -5.2536 &  3.0067 &  -9.2152 &  9.4854 & -4.4118 &   0.6643 &  -0.1310 &  1.0706 & ... & -4.8338 &   9.4637 &  4.8525 & -6.2241 &  -4.2418 &  -4.4186 & -6.2630 & -0.6557 &  -1.8891 & -6.4018\\\\\n",
       "\t162 & 2012 & 6 & -3.3779 & -3.6757 &  -8.5789 & -7.5576 & -8.3077 & -10.9478 &  -5.9672 & 16.6040 & ... & -2.5618 &  -6.9200 & -4.5654 &  4.4381 & -12.1780 &  -5.5961 & -1.2135 & -2.0495 & -12.0339 & -5.6604\\\\\n",
       "\t163 & 2012 & 7 & -0.3958 &  5.0911 & -16.8056 & -4.2871 & -5.0336 & -21.9939 & -11.4520 & -0.1350 & ... & -2.0994 & -15.8385 & -2.4902 & -0.2126 &  -3.3592 &  -2.9101 & -5.4762 & -3.1915 & -10.7900 &  1.8135\\\\\n",
       "\\end{tabular}\n"
      ],
      "text/markdown": [
       "\n",
       "A data.frame: 6 x 151\n",
       "\n",
       "| <!--/--> | year &lt;int&gt; | month &lt;int&gt; | 000001 &lt;dbl&gt; | 000002 &lt;dbl&gt; | 000063 &lt;dbl&gt; | 000157 &lt;dbl&gt; | 000301 &lt;dbl&gt; | 000338 &lt;dbl&gt; | 000425 &lt;dbl&gt; | 000538 &lt;dbl&gt; | ... ... | 601857 &lt;dbl&gt; | 601872 &lt;dbl&gt; | 601877 &lt;dbl&gt; | 601888 &lt;dbl&gt; | 601898 &lt;dbl&gt; | 601899 &lt;dbl&gt; | 601939 &lt;dbl&gt; | 601988 &lt;dbl&gt; | 601989 &lt;dbl&gt; | 601998 &lt;dbl&gt; |\n",
       "|---|---|---|---|---|---|---|---|---|---|---|---|---|---|---|---|---|---|---|---|---|---|\n",
       "| 158 | 2012 | 2 |  2.7644 |  8.2353 |  15.8784 |  5.3787 |  8.1633 |   3.0088 |   0.2500 |  6.5466 | ... |  3.0362 |   3.8095 | 12.8434 |  9.3409 |   5.3191 |   6.9820 |  2.3061 |  2.3333 |   9.2058 |  3.6697 |\n",
       "| 159 | 2012 | 3 | -8.1287 |  0.0000 |  -4.1983 | -9.7917 | -8.4906 | -13.6312 | -16.0848 | -5.4916 | ... | -7.8897 |  -9.4801 |  1.3158 | -5.5473 |  -8.1818 | -13.4737 | -1.0246 | -2.9316 |  -7.2727 | -5.7522 |\n",
       "| 160 | 2012 | 4 |  5.4106 |  8.4541 |   2.3737 | 14.4342 | 16.8385 |   9.8143 |  13.4473 |  2.4787 | ... |  2.4768 |   7.0946 |  3.4440 | 13.2341 |   3.7404 |   4.6229 | -0.8282 |  2.3490 |   8.3779 |  6.3380 |\n",
       "| 161 | 2012 | 5 | -5.2536 |  3.0067 |  -9.2152 |  9.4854 | -4.4118 |   0.6643 |  -0.1310 |  1.0706 | ... | -4.8338 |   9.4637 |  4.8525 | -6.2241 |  -4.2418 |  -4.4186 | -6.2630 | -0.6557 |  -1.8891 | -6.4018 |\n",
       "| 162 | 2012 | 6 | -3.3779 | -3.6757 |  -8.5789 | -7.5576 | -8.3077 | -10.9478 |  -5.9672 | 16.6040 | ... | -2.5618 |  -6.9200 | -4.5654 |  4.4381 | -12.1780 |  -5.5961 | -1.2135 | -2.0495 | -12.0339 | -5.6604 |\n",
       "| 163 | 2012 | 7 | -0.3958 |  5.0911 | -16.8056 | -4.2871 | -5.0336 | -21.9939 | -11.4520 | -0.1350 | ... | -2.0994 | -15.8385 | -2.4902 | -0.2126 |  -3.3592 |  -2.9101 | -5.4762 | -3.1915 | -10.7900 |  1.8135 |\n",
       "\n"
      ],
      "text/plain": [
       "    year month 000001  000002  000063   000157  000301  000338   000425  \n",
       "158 2012 2      2.7644  8.2353  15.8784  5.3787  8.1633   3.0088   0.2500\n",
       "159 2012 3     -8.1287  0.0000  -4.1983 -9.7917 -8.4906 -13.6312 -16.0848\n",
       "160 2012 4      5.4106  8.4541   2.3737 14.4342 16.8385   9.8143  13.4473\n",
       "161 2012 5     -5.2536  3.0067  -9.2152  9.4854 -4.4118   0.6643  -0.1310\n",
       "162 2012 6     -3.3779 -3.6757  -8.5789 -7.5576 -8.3077 -10.9478  -5.9672\n",
       "163 2012 7     -0.3958  5.0911 -16.8056 -4.2871 -5.0336 -21.9939 -11.4520\n",
       "    000538  ... 601857  601872   601877  601888  601898   601899   601939 \n",
       "158  6.5466 ...  3.0362   3.8095 12.8434  9.3409   5.3191   6.9820  2.3061\n",
       "159 -5.4916 ... -7.8897  -9.4801  1.3158 -5.5473  -8.1818 -13.4737 -1.0246\n",
       "160  2.4787 ...  2.4768   7.0946  3.4440 13.2341   3.7404   4.6229 -0.8282\n",
       "161  1.0706 ... -4.8338   9.4637  4.8525 -6.2241  -4.2418  -4.4186 -6.2630\n",
       "162 16.6040 ... -2.5618  -6.9200 -4.5654  4.4381 -12.1780  -5.5961 -1.2135\n",
       "163 -0.1350 ... -2.0994 -15.8385 -2.4902 -0.2126  -3.3592  -2.9101 -5.4762\n",
       "    601988  601989   601998 \n",
       "158  2.3333   9.2058  3.6697\n",
       "159 -2.9316  -7.2727 -5.7522\n",
       "160  2.3490   8.3779  6.3380\n",
       "161 -0.6557  -1.8891 -6.4018\n",
       "162 -2.0495 -12.0339 -5.6604\n",
       "163 -3.1915 -10.7900  1.8135"
      ]
     },
     "metadata": {},
     "output_type": "display_data"
    }
   ],
   "source": [
    "# Create a copy of the stock dataframe\n",
    "stock_filtered <- stock\n",
    "\n",
    "# Make sure data is ordered by year and month\n",
    "stock_filtered <- stock_filtered[order(stock_filtered$year, stock_filtered$month),]\n",
    "\n",
    "# Initialize counters for reporting\n",
    "total_outliers <- 0\n",
    "total_na_replacements <- 0\n",
    "outliers_by_stock <- numeric(length(stock_id))\n",
    "names(outliers_by_stock) <- stock_id\n",
    "\n",
    "# Function to handle outliers with various methods\n",
    "replace_outliers <- function(x, method = \"interp\") {\n",
    "    # Create a copy of the vector with identified outlier positions as NA\n",
    "    x_replaced <- x\n",
    "    \n",
    "    # Skip if no NA values (no outliers to replace)\n",
    "    if (!any(is.na(x_replaced))) return(x_replaced)\n",
    "    \n",
    "    # Apply chosen replacement method\n",
    "    if (method == \"interp\") {\n",
    "        # Linear interpolation\n",
    "        na_idx <- which(is.na(x_replaced))\n",
    "        for (idx in na_idx) {\n",
    "            # Find nearest non-NA values before and after\n",
    "            before_idx <- idx - 1\n",
    "            while(before_idx > 0 && is.na(x_replaced[before_idx])) before_idx <- before_idx - 1\n",
    "            \n",
    "            after_idx <- idx + 1\n",
    "            while(after_idx <= length(x_replaced) && is.na(x_replaced[after_idx])) after_idx <- after_idx + 1\n",
    "            \n",
    "            # Interpolate if both bounds exist\n",
    "            if (before_idx > 0 && after_idx <= length(x_replaced)) {\n",
    "                x_replaced[idx] <- x_replaced[before_idx] + \n",
    "                    (x_replaced[after_idx] - x_replaced[before_idx]) * \n",
    "                    (idx - before_idx) / (after_idx - before_idx)\n",
    "            } else if (before_idx > 0) {\n",
    "                # If only before exists, use that value\n",
    "                x_replaced[idx] <- x_replaced[before_idx]\n",
    "            } else if (after_idx <= length(x_replaced)) {\n",
    "                # If only after exists, use that value\n",
    "                x_replaced[idx] <- x_replaced[after_idx]\n",
    "            } else {\n",
    "                # Fallback to zero if no reference points\n",
    "                x_replaced[idx] <- 0\n",
    "            }\n",
    "        }\n",
    "    } else if (method == \"median\") {\n",
    "        # Replace with rolling median (window of 5 months)\n",
    "        window_size <- 5\n",
    "        na_idx <- which(is.na(x_replaced))\n",
    "        for (idx in na_idx) {\n",
    "            # Define window bounds\n",
    "            start <- max(1, idx - floor(window_size/2))\n",
    "            end <- min(length(x), idx + floor(window_size/2))\n",
    "            \n",
    "            # Get values in window excluding the current NA\n",
    "            window_values <- x[start:end]\n",
    "            window_values <- window_values[!is.na(window_values)]\n",
    "            \n",
    "            if (length(window_values) > 0) {\n",
    "                x_replaced[idx] <- median(window_values)\n",
    "            } else {\n",
    "                x_replaced[idx] <- 0 # Fallback if all window values are NA\n",
    "            }\n",
    "        }\n",
    "    } else if (method == \"zero\") {\n",
    "        # Simple zero replacement\n",
    "        x_replaced[is.na(x_replaced)] <- 0\n",
    "    }\n",
    "    \n",
    "    return(x_replaced)\n",
    "}\n",
    "\n",
    "# Clean each return series\n",
    "for (id in stock_id) {\n",
    "    # Use rolling window for adaptive outlier detection\n",
    "    window_size <- 12 # 12-month rolling window (adjusted from 20 days)\n",
    "    n <- length(stock_filtered[,id])\n",
    "    \n",
    "    for (i in window_size:n) {\n",
    "        # Define the rolling window\n",
    "        window_start <- i - window_size + 1\n",
    "        window_data <- stock_filtered[window_start:i, id]\n",
    "        current_value <- window_data[window_size]\n",
    "        \n",
    "        # Skip if the current value is NA\n",
    "        if (is.na(current_value)) next\n",
    "        \n",
    "        # Calculate robust statistics from the window (excluding current point)\n",
    "        window_prev <- window_data[-window_size]\n",
    "        window_median <- median(window_prev, na.rm = TRUE)\n",
    "        window_mad <- mad(window_prev, na.rm = TRUE)\n",
    "        \n",
    "        # Skip if median or MAD is NA or MAD is 0 (no variability)\n",
    "        if (is.na(window_median) || is.na(window_mad) || window_mad == 0) next\n",
    "        \n",
    "        # Use median absolute deviation (MAD) for robust outlier detection\n",
    "        mad_threshold <- 5 # 5 MADs is a common threshold for extreme outliers\n",
    "        \n",
    "        # Check if the current value is an outlier\n",
    "        if (abs(current_value - window_median) > mad_threshold * window_mad) {\n",
    "            # Mark as outlier\n",
    "            stock_filtered[i, id] <- NA\n",
    "            outliers_by_stock[id] <- outliers_by_stock[id] + 1\n",
    "            total_outliers <- total_outliers + 1\n",
    "        }\n",
    "    }\n",
    "    \n",
    "    # Replace outliers and NAs with chosen method\n",
    "    if (any(is.na(stock_filtered[,id]))) {\n",
    "        na_count_before <- sum(is.na(stock_filtered[,id]))\n",
    "        stock_filtered[,id] <- replace_outliers(stock_filtered[,id], method = \"interp\")\n",
    "        na_count_after <- sum(is.na(stock_filtered[,id]))\n",
    "        total_na_replacements <- total_na_replacements + (na_count_before - na_count_after)\n",
    "    }\n",
    "}\n",
    "\n",
    "# Print report\n",
    "cat(\"Extreme Value Removal Report:\\n\")\n",
    "cat(\"----------------------------\\n\")\n",
    "cat(\"Total outliers identified and removed:\", total_outliers, \"\\n\")\n",
    "cat(\"Total missing values replaced:\", total_na_replacements, \"\\n\\n\")\n",
    "\n",
    "# Print stocks with the most outliers\n",
    "if (total_outliers > 0) {\n",
    "    cat(\"Stocks with outliers:\\n\")\n",
    "    for (id in stock_id) {\n",
    "        if (outliers_by_stock[id] > 0) {\n",
    "            cat(\"  -\", id, \":\", outliers_by_stock[id], \"outliers\\n\")\n",
    "        }\n",
    "    }\n",
    "}\n",
    "\n",
    "# Use the cleaned data for further analysis\n",
    "stock <- stock_filtered\n",
    "\n",
    "head(stock)"
   ]
  },
  {
   "cell_type": "markdown",
   "id": "baf45e74",
   "metadata": {},
   "source": [
    "- Detrend the return series using HP filter"
   ]
  },
  {
   "cell_type": "code",
   "execution_count": 10,
   "id": "4d8505ab",
   "metadata": {
    "vscode": {
     "languageId": "r"
    }
   },
   "outputs": [
    {
     "data": {
      "text/html": [
       "<table class=\"dataframe\">\n",
       "<caption>A data.frame: 6 x 151</caption>\n",
       "<thead>\n",
       "\t<tr><th></th><th scope=col>year</th><th scope=col>month</th><th scope=col>000001</th><th scope=col>000002</th><th scope=col>000063</th><th scope=col>000157</th><th scope=col>000301</th><th scope=col>000338</th><th scope=col>000425</th><th scope=col>000538</th><th scope=col>...</th><th scope=col>601857</th><th scope=col>601872</th><th scope=col>601877</th><th scope=col>601888</th><th scope=col>601898</th><th scope=col>601899</th><th scope=col>601939</th><th scope=col>601988</th><th scope=col>601989</th><th scope=col>601998</th></tr>\n",
       "\t<tr><th></th><th scope=col>&lt;int&gt;</th><th scope=col>&lt;int&gt;</th><th scope=col>&lt;dbl&gt;</th><th scope=col>&lt;dbl&gt;</th><th scope=col>&lt;dbl&gt;</th><th scope=col>&lt;dbl&gt;</th><th scope=col>&lt;dbl&gt;</th><th scope=col>&lt;dbl&gt;</th><th scope=col>&lt;dbl&gt;</th><th scope=col>&lt;dbl&gt;</th><th scope=col>...</th><th scope=col>&lt;dbl&gt;</th><th scope=col>&lt;dbl&gt;</th><th scope=col>&lt;dbl&gt;</th><th scope=col>&lt;dbl&gt;</th><th scope=col>&lt;dbl&gt;</th><th scope=col>&lt;dbl&gt;</th><th scope=col>&lt;dbl&gt;</th><th scope=col>&lt;dbl&gt;</th><th scope=col>&lt;dbl&gt;</th><th scope=col>&lt;dbl&gt;</th></tr>\n",
       "</thead>\n",
       "<tbody>\n",
       "\t<tr><th scope=row>1</th><td>2012</td><td>2</td><td> 3.2075184</td><td> 6.0110196</td><td> 17.045077</td><td> 5.877316</td><td> 7.609275</td><td>  5.297172</td><td>  3.711529</td><td> 2.487938</td><td>...</td><td> 4.265861</td><td>  5.763643</td><td> 8.989856</td><td> 7.283536</td><td>  7.451812</td><td>  9.5223321</td><td> 2.6446295</td><td> 2.4303511</td><td>  9.657070</td><td> 4.213759</td></tr>\n",
       "\t<tr><th scope=row>2</th><td>2012</td><td>3</td><td>-7.8148122</td><td>-2.1636423</td><td> -3.165317</td><td>-9.204487</td><td>-9.065980</td><td>-11.462619</td><td>-12.743277</td><td>-9.453418</td><td>...</td><td>-6.719224</td><td> -7.674583</td><td>-2.482267</td><td>-7.535515</td><td> -6.146122</td><td>-11.0171053</td><td>-0.7274828</td><td>-2.8659252</td><td> -6.901088</td><td>-5.254250</td></tr>\n",
       "\t<tr><th scope=row>3</th><td>2012</td><td>4</td><td> 5.5950344</td><td> 6.3506784</td><td>  3.271805</td><td>15.109602</td><td>16.241236</td><td> 11.862722</td><td> 16.668559</td><td>-1.386447</td><td>...</td><td> 3.587794</td><td>  8.751090</td><td>-0.299214</td><td>11.314528</td><td>  5.678526</td><td>  6.9950960</td><td>-0.5726787</td><td> 2.3831298</td><td>  8.669184</td><td> 6.789548</td></tr>\n",
       "\t<tr><th scope=row>4</th><td>2012</td><td>5</td><td>-5.1985218</td><td> 0.9628145</td><td> -8.454121</td><td>10.248813</td><td>-5.031375</td><td>  2.592623</td><td>  2.970365</td><td>-2.697566</td><td>...</td><td>-3.782414</td><td> 10.970896</td><td> 1.163063</td><td>-8.075517</td><td> -2.401834</td><td> -2.1313602</td><td>-6.0493914</td><td>-0.6532538</td><td> -1.679006</td><td>-5.996874</td></tr>\n",
       "\t<tr><th scope=row>5</th><td>2012</td><td>6</td><td>-3.4521493</td><td>-5.6614423</td><td> -7.958186</td><td>-6.707170</td><td>-8.951040</td><td> -9.139911</td><td> -2.985890</td><td>12.933707</td><td>...</td><td>-1.570226</td><td> -5.562841</td><td>-8.202568</td><td> 2.653582</td><td>-10.437286</td><td> -3.3947558</td><td>-1.0422143</td><td>-2.0790111</td><td>-11.906652</td><td>-5.302716</td></tr>\n",
       "\t<tr><th scope=row>6</th><td>2012</td><td>7</td><td>-0.5990559</td><td> 3.1613331</td><td>-16.329193</td><td>-3.352179</td><td>-5.702836</td><td>-20.307356</td><td> -8.591643</td><td>-3.705762</td><td>...</td><td>-1.167659</td><td>-14.633358</td><td>-6.077117</td><td>-1.931683</td><td> -1.719151</td><td> -0.7958247</td><td>-5.3473206</td><td>-3.2533321</td><td>-10.747929</td><td> 2.123340</td></tr>\n",
       "</tbody>\n",
       "</table>\n"
      ],
      "text/latex": [
       "A data.frame: 6 x 151\n",
       "\\begin{tabular}{r|lllllllllllllllllllll}\n",
       "  & year & month & 000001 & 000002 & 000063 & 000157 & 000301 & 000338 & 000425 & 000538 & ... & 601857 & 601872 & 601877 & 601888 & 601898 & 601899 & 601939 & 601988 & 601989 & 601998\\\\\n",
       "  & <int> & <int> & <dbl> & <dbl> & <dbl> & <dbl> & <dbl> & <dbl> & <dbl> & <dbl> & ... & <dbl> & <dbl> & <dbl> & <dbl> & <dbl> & <dbl> & <dbl> & <dbl> & <dbl> & <dbl>\\\\\n",
       "\\hline\n",
       "\t1 & 2012 & 2 &  3.2075184 &  6.0110196 &  17.045077 &  5.877316 &  7.609275 &   5.297172 &   3.711529 &  2.487938 & ... &  4.265861 &   5.763643 &  8.989856 &  7.283536 &   7.451812 &   9.5223321 &  2.6446295 &  2.4303511 &   9.657070 &  4.213759\\\\\n",
       "\t2 & 2012 & 3 & -7.8148122 & -2.1636423 &  -3.165317 & -9.204487 & -9.065980 & -11.462619 & -12.743277 & -9.453418 & ... & -6.719224 &  -7.674583 & -2.482267 & -7.535515 &  -6.146122 & -11.0171053 & -0.7274828 & -2.8659252 &  -6.901088 & -5.254250\\\\\n",
       "\t3 & 2012 & 4 &  5.5950344 &  6.3506784 &   3.271805 & 15.109602 & 16.241236 &  11.862722 &  16.668559 & -1.386447 & ... &  3.587794 &   8.751090 & -0.299214 & 11.314528 &   5.678526 &   6.9950960 & -0.5726787 &  2.3831298 &   8.669184 &  6.789548\\\\\n",
       "\t4 & 2012 & 5 & -5.1985218 &  0.9628145 &  -8.454121 & 10.248813 & -5.031375 &   2.592623 &   2.970365 & -2.697566 & ... & -3.782414 &  10.970896 &  1.163063 & -8.075517 &  -2.401834 &  -2.1313602 & -6.0493914 & -0.6532538 &  -1.679006 & -5.996874\\\\\n",
       "\t5 & 2012 & 6 & -3.4521493 & -5.6614423 &  -7.958186 & -6.707170 & -8.951040 &  -9.139911 &  -2.985890 & 12.933707 & ... & -1.570226 &  -5.562841 & -8.202568 &  2.653582 & -10.437286 &  -3.3947558 & -1.0422143 & -2.0790111 & -11.906652 & -5.302716\\\\\n",
       "\t6 & 2012 & 7 & -0.5990559 &  3.1613331 & -16.329193 & -3.352179 & -5.702836 & -20.307356 &  -8.591643 & -3.705762 & ... & -1.167659 & -14.633358 & -6.077117 & -1.931683 &  -1.719151 &  -0.7958247 & -5.3473206 & -3.2533321 & -10.747929 &  2.123340\\\\\n",
       "\\end{tabular}\n"
      ],
      "text/markdown": [
       "\n",
       "A data.frame: 6 x 151\n",
       "\n",
       "| <!--/--> | year &lt;int&gt; | month &lt;int&gt; | 000001 &lt;dbl&gt; | 000002 &lt;dbl&gt; | 000063 &lt;dbl&gt; | 000157 &lt;dbl&gt; | 000301 &lt;dbl&gt; | 000338 &lt;dbl&gt; | 000425 &lt;dbl&gt; | 000538 &lt;dbl&gt; | ... ... | 601857 &lt;dbl&gt; | 601872 &lt;dbl&gt; | 601877 &lt;dbl&gt; | 601888 &lt;dbl&gt; | 601898 &lt;dbl&gt; | 601899 &lt;dbl&gt; | 601939 &lt;dbl&gt; | 601988 &lt;dbl&gt; | 601989 &lt;dbl&gt; | 601998 &lt;dbl&gt; |\n",
       "|---|---|---|---|---|---|---|---|---|---|---|---|---|---|---|---|---|---|---|---|---|---|\n",
       "| 1 | 2012 | 2 |  3.2075184 |  6.0110196 |  17.045077 |  5.877316 |  7.609275 |   5.297172 |   3.711529 |  2.487938 | ... |  4.265861 |   5.763643 |  8.989856 |  7.283536 |   7.451812 |   9.5223321 |  2.6446295 |  2.4303511 |   9.657070 |  4.213759 |\n",
       "| 2 | 2012 | 3 | -7.8148122 | -2.1636423 |  -3.165317 | -9.204487 | -9.065980 | -11.462619 | -12.743277 | -9.453418 | ... | -6.719224 |  -7.674583 | -2.482267 | -7.535515 |  -6.146122 | -11.0171053 | -0.7274828 | -2.8659252 |  -6.901088 | -5.254250 |\n",
       "| 3 | 2012 | 4 |  5.5950344 |  6.3506784 |   3.271805 | 15.109602 | 16.241236 |  11.862722 |  16.668559 | -1.386447 | ... |  3.587794 |   8.751090 | -0.299214 | 11.314528 |   5.678526 |   6.9950960 | -0.5726787 |  2.3831298 |   8.669184 |  6.789548 |\n",
       "| 4 | 2012 | 5 | -5.1985218 |  0.9628145 |  -8.454121 | 10.248813 | -5.031375 |   2.592623 |   2.970365 | -2.697566 | ... | -3.782414 |  10.970896 |  1.163063 | -8.075517 |  -2.401834 |  -2.1313602 | -6.0493914 | -0.6532538 |  -1.679006 | -5.996874 |\n",
       "| 5 | 2012 | 6 | -3.4521493 | -5.6614423 |  -7.958186 | -6.707170 | -8.951040 |  -9.139911 |  -2.985890 | 12.933707 | ... | -1.570226 |  -5.562841 | -8.202568 |  2.653582 | -10.437286 |  -3.3947558 | -1.0422143 | -2.0790111 | -11.906652 | -5.302716 |\n",
       "| 6 | 2012 | 7 | -0.5990559 |  3.1613331 | -16.329193 | -3.352179 | -5.702836 | -20.307356 |  -8.591643 | -3.705762 | ... | -1.167659 | -14.633358 | -6.077117 | -1.931683 |  -1.719151 |  -0.7958247 | -5.3473206 | -3.2533321 | -10.747929 |  2.123340 |\n",
       "\n"
      ],
      "text/plain": [
       "  year month 000001     000002     000063     000157    000301    000338    \n",
       "1 2012 2      3.2075184  6.0110196  17.045077  5.877316  7.609275   5.297172\n",
       "2 2012 3     -7.8148122 -2.1636423  -3.165317 -9.204487 -9.065980 -11.462619\n",
       "3 2012 4      5.5950344  6.3506784   3.271805 15.109602 16.241236  11.862722\n",
       "4 2012 5     -5.1985218  0.9628145  -8.454121 10.248813 -5.031375   2.592623\n",
       "5 2012 6     -3.4521493 -5.6614423  -7.958186 -6.707170 -8.951040  -9.139911\n",
       "6 2012 7     -0.5990559  3.1613331 -16.329193 -3.352179 -5.702836 -20.307356\n",
       "  000425     000538    ... 601857    601872     601877    601888    601898    \n",
       "1   3.711529  2.487938 ...  4.265861   5.763643  8.989856  7.283536   7.451812\n",
       "2 -12.743277 -9.453418 ... -6.719224  -7.674583 -2.482267 -7.535515  -6.146122\n",
       "3  16.668559 -1.386447 ...  3.587794   8.751090 -0.299214 11.314528   5.678526\n",
       "4   2.970365 -2.697566 ... -3.782414  10.970896  1.163063 -8.075517  -2.401834\n",
       "5  -2.985890 12.933707 ... -1.570226  -5.562841 -8.202568  2.653582 -10.437286\n",
       "6  -8.591643 -3.705762 ... -1.167659 -14.633358 -6.077117 -1.931683  -1.719151\n",
       "  601899      601939     601988     601989     601998   \n",
       "1   9.5223321  2.6446295  2.4303511   9.657070  4.213759\n",
       "2 -11.0171053 -0.7274828 -2.8659252  -6.901088 -5.254250\n",
       "3   6.9950960 -0.5726787  2.3831298   8.669184  6.789548\n",
       "4  -2.1313602 -6.0493914 -0.6532538  -1.679006 -5.996874\n",
       "5  -3.3947558 -1.0422143 -2.0790111 -11.906652 -5.302716\n",
       "6  -0.7958247 -5.3473206 -3.2533321 -10.747929  2.123340"
      ]
     },
     "metadata": {},
     "output_type": "display_data"
    }
   ],
   "source": [
    "library(mFilter)\n",
    "\n",
    "# Create a new dataframe to store the cyclical components with year and month\n",
    "cycle <- data.frame(year = stock$year, month = stock$month)\n",
    "\n",
    "# Ensure the data is sorted chronologically\n",
    "cycle <- cycle[order(cycle$year, cycle$month), ]\n",
    "\n",
    "# Apply HP filter to each stock return series and extract the cyclical component\n",
    "for (id in stock_id) {\n",
    "    # Apply HP filter with lambda=14400 (commonly used for monthly financial data)\n",
    "    hp_filter <- hpfilter(stock[,id], freq=14400)\n",
    "    \n",
    "    # Extract the cyclical component and add to cycle dataframe\n",
    "    cycle[,id] <- hp_filter$cycle\n",
    "}\n",
    "\n",
    "# Display the first few rows of the cycle dataframe\n",
    "head(cycle)"
   ]
  },
  {
   "cell_type": "markdown",
   "id": "a770b844",
   "metadata": {},
   "source": [
    "### VIX\n",
    "\n",
    "> Daily, close value of the day"
   ]
  },
  {
   "cell_type": "code",
   "execution_count": 11,
   "id": "4ee71ab4",
   "metadata": {
    "vscode": {
     "languageId": "r"
    }
   },
   "outputs": [
    {
     "name": "stdout",
     "output_type": "stream",
     "text": [
      "Found 3981 missing dates in VIX time series\n"
     ]
    },
    {
     "name": "stderr",
     "output_type": "stream",
     "text": [
      "\n",
      "Attaching package: 'zoo'\n",
      "\n",
      "\n",
      "The following objects are masked from 'package:base':\n",
      "\n",
      "    as.Date, as.Date.numeric\n",
      "\n",
      "\n"
     ]
    },
    {
     "name": "stdout",
     "output_type": "stream",
     "text": [
      "VIX data now has 12890 daily observations with no gaps\n"
     ]
    },
    {
     "data": {
      "text/html": [
       "<table class=\"dataframe\">\n",
       "<caption>A data.frame: 6 x 2</caption>\n",
       "<thead>\n",
       "\t<tr><th></th><th scope=col>date</th><th scope=col>close</th></tr>\n",
       "\t<tr><th></th><th scope=col>&lt;date&gt;</th><th scope=col>&lt;dbl&gt;</th></tr>\n",
       "</thead>\n",
       "<tbody>\n",
       "\t<tr><th scope=row>1</th><td>1990-01-02</td><td>17.24</td></tr>\n",
       "\t<tr><th scope=row>2</th><td>1990-01-03</td><td>18.19</td></tr>\n",
       "\t<tr><th scope=row>3</th><td>1990-01-04</td><td>19.22</td></tr>\n",
       "\t<tr><th scope=row>4</th><td>1990-01-05</td><td>20.11</td></tr>\n",
       "\t<tr><th scope=row>5</th><td>1990-01-06</td><td>20.16</td></tr>\n",
       "\t<tr><th scope=row>6</th><td>1990-01-07</td><td>20.21</td></tr>\n",
       "</tbody>\n",
       "</table>\n"
      ],
      "text/latex": [
       "A data.frame: 6 x 2\n",
       "\\begin{tabular}{r|ll}\n",
       "  & date & close\\\\\n",
       "  & <date> & <dbl>\\\\\n",
       "\\hline\n",
       "\t1 & 1990-01-02 & 17.24\\\\\n",
       "\t2 & 1990-01-03 & 18.19\\\\\n",
       "\t3 & 1990-01-04 & 19.22\\\\\n",
       "\t4 & 1990-01-05 & 20.11\\\\\n",
       "\t5 & 1990-01-06 & 20.16\\\\\n",
       "\t6 & 1990-01-07 & 20.21\\\\\n",
       "\\end{tabular}\n"
      ],
      "text/markdown": [
       "\n",
       "A data.frame: 6 x 2\n",
       "\n",
       "| <!--/--> | date &lt;date&gt; | close &lt;dbl&gt; |\n",
       "|---|---|---|\n",
       "| 1 | 1990-01-02 | 17.24 |\n",
       "| 2 | 1990-01-03 | 18.19 |\n",
       "| 3 | 1990-01-04 | 19.22 |\n",
       "| 4 | 1990-01-05 | 20.11 |\n",
       "| 5 | 1990-01-06 | 20.16 |\n",
       "| 6 | 1990-01-07 | 20.21 |\n",
       "\n"
      ],
      "text/plain": [
       "  date       close\n",
       "1 1990-01-02 17.24\n",
       "2 1990-01-03 18.19\n",
       "3 1990-01-04 19.22\n",
       "4 1990-01-05 20.11\n",
       "5 1990-01-06 20.16\n",
       "6 1990-01-07 20.21"
      ]
     },
     "metadata": {},
     "output_type": "display_data"
    }
   ],
   "source": [
    "# Read the VIX data using read.csv\n",
    "vix <- read.csv(\"vix.csv\", header = TRUE, stringsAsFactors = FALSE, check.names = FALSE)\n",
    "\n",
    "# Convert date column to Date format using base R syntax\n",
    "vix$date <- as.Date(vix$date, format = \"%m/%d/%Y\")\n",
    "\n",
    "# Filter to keep only date and close columns\n",
    "vix <- vix[, c(\"date\", \"close\")]\n",
    "\n",
    "# Sort data by date to ensure chronological order\n",
    "vix <- vix[order(vix$date), ]\n",
    "\n",
    "# Identify gaps in the time series\n",
    "date_range <- range(vix$date)\n",
    "complete_dates <- seq(date_range[1], date_range[2], by = \"day\")\n",
    "missing_dates <- complete_dates[!complete_dates %in% vix$date]\n",
    "\n",
    "# Report missing dates\n",
    "cat(\"Found\", length(missing_dates), \"missing dates in VIX time series\\n\")\n",
    "\n",
    "# Create a complete dataframe with all dates\n",
    "complete_vix <- data.frame(date = complete_dates)\n",
    "\n",
    "# Merge with actual data, which will result in NA for missing dates\n",
    "vix_filled <- merge(complete_vix, vix, by = \"date\", all.x = TRUE)\n",
    "\n",
    "# Fill missing values using linear interpolation\n",
    "library(zoo)\n",
    "vix_filled$close <- na.approx(vix_filled$close, na.rm = FALSE)\n",
    "\n",
    "# Handle any remaining NAs at the beginning or end \n",
    "# that couldn't be interpolated\n",
    "if (any(is.na(vix_filled$close))) {\n",
    "    # Fill NAs at beginning with next observation\n",
    "    vix_filled$close <- na.locf(vix_filled$close, fromLast = TRUE, na.rm = FALSE)\n",
    "    \n",
    "    # Fill NAs at end with last observation\n",
    "    vix_filled$close <- na.locf(vix_filled$close, na.rm = FALSE)\n",
    "    \n",
    "    cat(\"Filled remaining edge values using last/next observation carrying\\n\")\n",
    "}\n",
    "\n",
    "# Update the vix dataframe\n",
    "vix <- vix_filled\n",
    "\n",
    "# Quick summary\n",
    "cat(\"VIX data now has\", nrow(vix), \"daily observations with no gaps\\n\")\n",
    "\n",
    "# Display the first few rows of the filtered VIX data\n",
    "head(vix)"
   ]
  },
  {
   "cell_type": "markdown",
   "id": "e0519082",
   "metadata": {},
   "source": [
    "### GFCF\n",
    "\n",
    "> Monthly, Global Financial Cycle Factor, Common factor across world risky asset prices as in Miranda-Agrippino and Rey (2020), *\"US Monetary Policy and the Global Financial Cycle\"*"
   ]
  },
  {
   "cell_type": "code",
   "execution_count": 12,
   "id": "af7554c5",
   "metadata": {
    "vscode": {
     "languageId": "r"
    }
   },
   "outputs": [
    {
     "name": "stdout",
     "output_type": "stream",
     "text": [
      "No gaps detected in the GFCF year-month sequence\n",
      "Missing values after filling: 0 \n",
      "\n",
      "GFCF data summary:\n"
     ]
    },
    {
     "data": {
      "text/plain": [
       "   Min. 1st Qu.  Median    Mean 3rd Qu.    Max. \n",
       "-2.9187 -0.6181 -0.1932  0.0000  0.6341  2.5922 "
      ]
     },
     "metadata": {},
     "output_type": "display_data"
    },
    {
     "data": {
      "text/html": [
       "<table class=\"dataframe\">\n",
       "<caption>A data.frame: 6 x 3</caption>\n",
       "<thead>\n",
       "\t<tr><th></th><th scope=col>year</th><th scope=col>month</th><th scope=col>gfcf</th></tr>\n",
       "\t<tr><th></th><th scope=col>&lt;int&gt;</th><th scope=col>&lt;int&gt;</th><th scope=col>&lt;dbl&gt;</th></tr>\n",
       "</thead>\n",
       "<tbody>\n",
       "\t<tr><th scope=row>4</th><td>1980</td><td>2</td><td>-1.1689039</td></tr>\n",
       "\t<tr><th scope=row>5</th><td>1980</td><td>3</td><td>-1.7800666</td></tr>\n",
       "\t<tr><th scope=row>6</th><td>1980</td><td>4</td><td>-1.7658765</td></tr>\n",
       "\t<tr><th scope=row>7</th><td>1980</td><td>5</td><td>-1.5713119</td></tr>\n",
       "\t<tr><th scope=row>8</th><td>1980</td><td>6</td><td>-1.3698628</td></tr>\n",
       "\t<tr><th scope=row>9</th><td>1980</td><td>7</td><td>-0.9472969</td></tr>\n",
       "</tbody>\n",
       "</table>\n"
      ],
      "text/latex": [
       "A data.frame: 6 x 3\n",
       "\\begin{tabular}{r|lll}\n",
       "  & year & month & gfcf\\\\\n",
       "  & <int> & <int> & <dbl>\\\\\n",
       "\\hline\n",
       "\t4 & 1980 & 2 & -1.1689039\\\\\n",
       "\t5 & 1980 & 3 & -1.7800666\\\\\n",
       "\t6 & 1980 & 4 & -1.7658765\\\\\n",
       "\t7 & 1980 & 5 & -1.5713119\\\\\n",
       "\t8 & 1980 & 6 & -1.3698628\\\\\n",
       "\t9 & 1980 & 7 & -0.9472969\\\\\n",
       "\\end{tabular}\n"
      ],
      "text/markdown": [
       "\n",
       "A data.frame: 6 x 3\n",
       "\n",
       "| <!--/--> | year &lt;int&gt; | month &lt;int&gt; | gfcf &lt;dbl&gt; |\n",
       "|---|---|---|---|\n",
       "| 4 | 1980 | 2 | -1.1689039 |\n",
       "| 5 | 1980 | 3 | -1.7800666 |\n",
       "| 6 | 1980 | 4 | -1.7658765 |\n",
       "| 7 | 1980 | 5 | -1.5713119 |\n",
       "| 8 | 1980 | 6 | -1.3698628 |\n",
       "| 9 | 1980 | 7 | -0.9472969 |\n",
       "\n"
      ],
      "text/plain": [
       "  year month gfcf      \n",
       "4 1980 2     -1.1689039\n",
       "5 1980 3     -1.7800666\n",
       "6 1980 4     -1.7658765\n",
       "7 1980 5     -1.5713119\n",
       "8 1980 6     -1.3698628\n",
       "9 1980 7     -0.9472969"
      ]
     },
     "metadata": {},
     "output_type": "display_data"
    }
   ],
   "source": [
    "# Read the GFCF data\n",
    "gfcf <- read.csv(\"gfcf.csv\", header = TRUE, stringsAsFactors = FALSE, colClasses = c(year = \"integer\", month = \"integer\"))\n",
    "\n",
    "# Sort by date to ensure chronological order\n",
    "gfcf <- gfcf[order(gfcf$year, gfcf$month), ]\n",
    "\n",
    "# Check for gaps in year-month sequence\n",
    "min_year <- min(gfcf$year)\n",
    "max_year <- max(gfcf$year)\n",
    "min_month <- min(gfcf$month[gfcf$year == min_year])\n",
    "max_month <- max(gfcf$month[gfcf$year == max_year])\n",
    "\n",
    "# Create complete sequence of year-month combinations\n",
    "all_dates <- expand.grid(\n",
    "    year = min_year:max_year,\n",
    "    month = 1:12\n",
    ")\n",
    "all_dates <- all_dates[\n",
    "    (all_dates$year > min_year | all_dates$month >= min_month) &\n",
    "    (all_dates$year < max_year | all_dates$month <= max_month),\n",
    "]\n",
    "all_dates <- all_dates[order(all_dates$year, all_dates$month), ]\n",
    "\n",
    "# Merge with actual data to identify gaps\n",
    "complete_gfcf <- merge(all_dates, gfcf, by = c(\"year\", \"month\"), all.x = TRUE)\n",
    "\n",
    "# Check for missing values after merge\n",
    "missing_count <- sum(is.na(complete_gfcf$gfcf))\n",
    "\n",
    "if (missing_count > 0) {\n",
    "    cat(\"Found\", missing_count, \"missing year-month combinations in the GFCF time series\\n\")\n",
    "    \n",
    "    # Fill missing values using interpolation\n",
    "    library(zoo)\n",
    "    \n",
    "    # Create a time index for interpolation (decimal year)\n",
    "    complete_gfcf$time_idx <- complete_gfcf$year + (complete_gfcf$month - 1) / 12\n",
    "    \n",
    "    # Interpolate missing values\n",
    "    complete_gfcf$gfcf <- na.approx(complete_gfcf$gfcf, x = complete_gfcf$time_idx, na.rm = FALSE)\n",
    "    \n",
    "    # Fill any remaining NAs at the beginning or end\n",
    "    complete_gfcf$gfcf <- na.locf(complete_gfcf$gfcf, fromLast = TRUE, na.rm = FALSE)\n",
    "    complete_gfcf$gfcf <- na.locf(complete_gfcf$gfcf, na.rm = FALSE)\n",
    "    \n",
    "    # Remove the time index column (was just for interpolation)\n",
    "    complete_gfcf$time_idx <- NULL\n",
    "} else {\n",
    "    cat(\"No gaps detected in the GFCF year-month sequence\\n\")\n",
    "}\n",
    "\n",
    "# Update the gfcf dataframe\n",
    "gfcf <- complete_gfcf[order(complete_gfcf$year, complete_gfcf$month), ]\n",
    "\n",
    "# Verify no more missing values\n",
    "final_missing <- sum(is.na(gfcf$gfcf))\n",
    "cat(\"Missing values after filling:\", final_missing, \"\\n\")\n",
    "\n",
    "# Display summary statistics\n",
    "cat(\"\\nGFCF data summary:\\n\")\n",
    "summary(gfcf$gfcf)\n",
    "\n",
    "# Display the first few rows\n",
    "head(gfcf)"
   ]
  },
  {
   "cell_type": "markdown",
   "id": "62919ff4",
   "metadata": {},
   "source": [
    "### Capital Inflow\n",
    "\n",
    "> Quarterly, normalized by quarter GDP value in USD"
   ]
  },
  {
   "cell_type": "code",
   "execution_count": 13,
   "id": "a1ef4f9a",
   "metadata": {
    "vscode": {
     "languageId": "r"
    }
   },
   "outputs": [
    {
     "name": "stdout",
     "output_type": "stream",
     "text": [
      "No gaps detected in the inflow year-quarter sequence\n",
      "Missing values after filling: 0 \n",
      "\n",
      "Capital inflow data summary:\n"
     ]
    },
    {
     "data": {
      "text/plain": [
       "    Min.  1st Qu.   Median     Mean  3rd Qu.     Max. \n",
       "-0.02753  0.02209  0.03705  0.03844  0.05724  0.12311 "
      ]
     },
     "metadata": {},
     "output_type": "display_data"
    },
    {
     "data": {
      "text/html": [
       "<table class=\"dataframe\">\n",
       "<caption>A data.frame: 6 x 4</caption>\n",
       "<thead>\n",
       "\t<tr><th></th><th scope=col>year</th><th scope=col>quarter</th><th scope=col>month</th><th scope=col>inflow</th></tr>\n",
       "\t<tr><th></th><th scope=col>&lt;int&gt;</th><th scope=col>&lt;int&gt;</th><th scope=col>&lt;dbl&gt;</th><th scope=col>&lt;dbl&gt;</th></tr>\n",
       "</thead>\n",
       "<tbody>\n",
       "\t<tr><th scope=row>1</th><td>1998</td><td>1</td><td> 3</td><td>0.02541250</td></tr>\n",
       "\t<tr><th scope=row>2</th><td>1998</td><td>2</td><td> 6</td><td>0.05021401</td></tr>\n",
       "\t<tr><th scope=row>3</th><td>1998</td><td>3</td><td> 9</td><td>0.01700843</td></tr>\n",
       "\t<tr><th scope=row>4</th><td>1998</td><td>4</td><td>12</td><td>0.04201171</td></tr>\n",
       "\t<tr><th scope=row>5</th><td>1999</td><td>1</td><td> 3</td><td>0.02496356</td></tr>\n",
       "\t<tr><th scope=row>6</th><td>1999</td><td>2</td><td> 6</td><td>0.04111106</td></tr>\n",
       "</tbody>\n",
       "</table>\n"
      ],
      "text/latex": [
       "A data.frame: 6 x 4\n",
       "\\begin{tabular}{r|llll}\n",
       "  & year & quarter & month & inflow\\\\\n",
       "  & <int> & <int> & <dbl> & <dbl>\\\\\n",
       "\\hline\n",
       "\t1 & 1998 & 1 &  3 & 0.02541250\\\\\n",
       "\t2 & 1998 & 2 &  6 & 0.05021401\\\\\n",
       "\t3 & 1998 & 3 &  9 & 0.01700843\\\\\n",
       "\t4 & 1998 & 4 & 12 & 0.04201171\\\\\n",
       "\t5 & 1999 & 1 &  3 & 0.02496356\\\\\n",
       "\t6 & 1999 & 2 &  6 & 0.04111106\\\\\n",
       "\\end{tabular}\n"
      ],
      "text/markdown": [
       "\n",
       "A data.frame: 6 x 4\n",
       "\n",
       "| <!--/--> | year &lt;int&gt; | quarter &lt;int&gt; | month &lt;dbl&gt; | inflow &lt;dbl&gt; |\n",
       "|---|---|---|---|---|\n",
       "| 1 | 1998 | 1 |  3 | 0.02541250 |\n",
       "| 2 | 1998 | 2 |  6 | 0.05021401 |\n",
       "| 3 | 1998 | 3 |  9 | 0.01700843 |\n",
       "| 4 | 1998 | 4 | 12 | 0.04201171 |\n",
       "| 5 | 1999 | 1 |  3 | 0.02496356 |\n",
       "| 6 | 1999 | 2 |  6 | 0.04111106 |\n",
       "\n"
      ],
      "text/plain": [
       "  year quarter month inflow    \n",
       "1 1998 1        3    0.02541250\n",
       "2 1998 2        6    0.05021401\n",
       "3 1998 3        9    0.01700843\n",
       "4 1998 4       12    0.04201171\n",
       "5 1999 1        3    0.02496356\n",
       "6 1999 2        6    0.04111106"
      ]
     },
     "metadata": {},
     "output_type": "display_data"
    }
   ],
   "source": [
    "# Read the capital inflow data\n",
    "inflow <- read.csv(\"channel_inflow.csv\", header = TRUE, stringsAsFactors = FALSE, \n",
    "                   colClasses = c(year = \"integer\", quarter = \"integer\"))\n",
    "\n",
    "# Sort by date to ensure chronological order\n",
    "inflow <- inflow[order(inflow$year, inflow$quarter), ]\n",
    "\n",
    "# Check for gaps in year-quarter sequence\n",
    "min_year <- min(inflow$year)\n",
    "max_year <- max(inflow$year)\n",
    "min_quarter <- min(inflow$quarter[inflow$year == min_year])\n",
    "max_quarter <- max(inflow$quarter[inflow$year == max_year])\n",
    "\n",
    "# Create complete sequence of year-quarter combinations\n",
    "all_dates <- expand.grid(\n",
    "    year = min_year:max_year,\n",
    "    quarter = 1:4\n",
    ")\n",
    "all_dates <- all_dates[\n",
    "    (all_dates$year > min_year | all_dates$quarter >= min_quarter) &\n",
    "    (all_dates$year < max_year | all_dates$quarter <= max_quarter),\n",
    "]\n",
    "all_dates <- all_dates[order(all_dates$year, all_dates$quarter), ]\n",
    "\n",
    "# Add month column for each quarter's end (Q1=3, Q2=6, Q3=9, Q4=12)\n",
    "all_dates$month <- all_dates$quarter * 3\n",
    "\n",
    "# Merge with actual data to identify gaps\n",
    "complete_inflow <- merge(all_dates, inflow, by = c(\"year\", \"quarter\"), all.x = TRUE)\n",
    "\n",
    "# Check for missing values after merge\n",
    "missing_count <- sum(is.na(complete_inflow$inflow))\n",
    "\n",
    "if (missing_count > 0) {\n",
    "    cat(\"Found\", missing_count, \"missing year-quarter combinations in the inflow time series\\n\")\n",
    "    \n",
    "    # Fill missing values using interpolation\n",
    "    library(zoo)\n",
    "    \n",
    "    # Create a time index for interpolation (decimal year)\n",
    "    complete_inflow$time_idx <- complete_inflow$year + (complete_inflow$quarter - 1) / 4\n",
    "    \n",
    "    # Interpolate missing values\n",
    "    complete_inflow$inflow <- na.approx(complete_inflow$inflow, x = complete_inflow$time_idx, na.rm = FALSE)\n",
    "    \n",
    "    # Fill any remaining NAs at the beginning or end\n",
    "    complete_inflow$inflow <- na.locf(complete_inflow$inflow, fromLast = TRUE, na.rm = FALSE)\n",
    "    complete_inflow$inflow <- na.locf(complete_inflow$inflow, na.rm = FALSE)\n",
    "    \n",
    "    # Remove the time index column (was just for interpolation)\n",
    "    complete_inflow$time_idx <- NULL\n",
    "} else {\n",
    "    cat(\"No gaps detected in the inflow year-quarter sequence\\n\")\n",
    "}\n",
    "\n",
    "# Update the inflow dataframe\n",
    "inflow <- complete_inflow[order(complete_inflow$year, complete_inflow$quarter), ]\n",
    "\n",
    "# Verify no more missing values\n",
    "final_missing <- sum(is.na(inflow$inflow))\n",
    "cat(\"Missing values after filling:\", final_missing, \"\\n\")\n",
    "\n",
    "# Display summary statistics\n",
    "cat(\"\\nCapital inflow data summary:\\n\")\n",
    "summary(inflow$inflow)\n",
    "\n",
    "# Display the first few rows\n",
    "head(inflow)"
   ]
  },
  {
   "cell_type": "markdown",
   "id": "d317b3fa",
   "metadata": {},
   "source": [
    "### Economic Policy Uncertainty (EPU)\n",
    "\n",
    "> Monthly"
   ]
  },
  {
   "cell_type": "code",
   "execution_count": 14,
   "id": "1cec3b0c",
   "metadata": {
    "vscode": {
     "languageId": "r"
    }
   },
   "outputs": [
    {
     "name": "stdout",
     "output_type": "stream",
     "text": [
      "Missing values in EPU: 0 \n",
      "EPU data processed with 102 quarterly observations\n"
     ]
    },
    {
     "data": {
      "text/plain": [
       "   Min. 1st Qu.  Median    Mean 3rd Qu.    Max. \n",
       "  3.456   4.133   4.723   4.774   5.465   6.263 "
      ]
     },
     "metadata": {},
     "output_type": "display_data"
    },
    {
     "data": {
      "text/html": [
       "<table class=\"dataframe\">\n",
       "<caption>A data.frame: 6 x 4</caption>\n",
       "<thead>\n",
       "\t<tr><th></th><th scope=col>year</th><th scope=col>quarter</th><th scope=col>month</th><th scope=col>log_epu</th></tr>\n",
       "\t<tr><th></th><th scope=col>&lt;int&gt;</th><th scope=col>&lt;int&gt;</th><th scope=col>&lt;dbl&gt;</th><th scope=col>&lt;dbl&gt;</th></tr>\n",
       "</thead>\n",
       "<tbody>\n",
       "\t<tr><th scope=row>1</th><td>2000</td><td>1</td><td> 3</td><td>3.700479</td></tr>\n",
       "\t<tr><th scope=row>27</th><td>2000</td><td>2</td><td> 6</td><td>3.535145</td></tr>\n",
       "\t<tr><th scope=row>53</th><td>2000</td><td>3</td><td> 9</td><td>3.522431</td></tr>\n",
       "\t<tr><th scope=row>78</th><td>2000</td><td>4</td><td>12</td><td>3.515518</td></tr>\n",
       "\t<tr><th scope=row>2</th><td>2001</td><td>1</td><td> 3</td><td>3.921973</td></tr>\n",
       "\t<tr><th scope=row>28</th><td>2001</td><td>2</td><td> 6</td><td>3.456317</td></tr>\n",
       "</tbody>\n",
       "</table>\n"
      ],
      "text/latex": [
       "A data.frame: 6 x 4\n",
       "\\begin{tabular}{r|llll}\n",
       "  & year & quarter & month & log\\_epu\\\\\n",
       "  & <int> & <int> & <dbl> & <dbl>\\\\\n",
       "\\hline\n",
       "\t1 & 2000 & 1 &  3 & 3.700479\\\\\n",
       "\t27 & 2000 & 2 &  6 & 3.535145\\\\\n",
       "\t53 & 2000 & 3 &  9 & 3.522431\\\\\n",
       "\t78 & 2000 & 4 & 12 & 3.515518\\\\\n",
       "\t2 & 2001 & 1 &  3 & 3.921973\\\\\n",
       "\t28 & 2001 & 2 &  6 & 3.456317\\\\\n",
       "\\end{tabular}\n"
      ],
      "text/markdown": [
       "\n",
       "A data.frame: 6 x 4\n",
       "\n",
       "| <!--/--> | year &lt;int&gt; | quarter &lt;int&gt; | month &lt;dbl&gt; | log_epu &lt;dbl&gt; |\n",
       "|---|---|---|---|---|\n",
       "| 1 | 2000 | 1 |  3 | 3.700479 |\n",
       "| 27 | 2000 | 2 |  6 | 3.535145 |\n",
       "| 53 | 2000 | 3 |  9 | 3.522431 |\n",
       "| 78 | 2000 | 4 | 12 | 3.515518 |\n",
       "| 2 | 2001 | 1 |  3 | 3.921973 |\n",
       "| 28 | 2001 | 2 |  6 | 3.456317 |\n",
       "\n"
      ],
      "text/plain": [
       "   year quarter month log_epu \n",
       "1  2000 1        3    3.700479\n",
       "27 2000 2        6    3.535145\n",
       "53 2000 3        9    3.522431\n",
       "78 2000 4       12    3.515518\n",
       "2  2001 1        3    3.921973\n",
       "28 2001 2        6    3.456317"
      ]
     },
     "metadata": {},
     "output_type": "display_data"
    }
   ],
   "source": [
    "# Read the EPU data\n",
    "epu <- read.csv(\"channel_epu.csv\", header = TRUE, stringsAsFactors = FALSE, \n",
    "               colClasses = c(year = \"integer\", month = \"integer\"))\n",
    "\n",
    "# Add quarter column\n",
    "epu$quarter <- as.integer(ceiling(epu$month / 3))\n",
    "\n",
    "# Sort by date to ensure chronological order\n",
    "epu <- epu[order(epu$year, epu$quarter, epu$month), ]\n",
    "\n",
    "# Check for missing values in epu\n",
    "cat(\"Missing values in EPU:\", sum(is.na(epu$epu)), \"\\n\")\n",
    "\n",
    "# Handle any missing values if necessary\n",
    "if(sum(is.na(epu$epu)) > 0) {\n",
    "  # Use linear interpolation for missing values\n",
    "  library(zoo)\n",
    "  epu$epu <- na.approx(epu$epu, na.rm = FALSE)\n",
    "  # Handle any remaining edge cases\n",
    "  epu$epu <- na.locf(epu$epu, fromLast = TRUE, na.rm = FALSE)\n",
    "  epu$epu <- na.locf(epu$epu, na.rm = FALSE)\n",
    "}\n",
    "\n",
    "# Calculate quarterly average EPU values\n",
    "quarterly_epu <- aggregate(epu ~ year + quarter, data = epu, FUN = mean)\n",
    "\n",
    "# Add month column (last month of each quarter)\n",
    "quarterly_epu$month <- quarterly_epu$quarter * 3\n",
    "\n",
    "# Calculate log of quarterly average EPU\n",
    "quarterly_epu$log_epu <- log(quarterly_epu$epu)\n",
    "\n",
    "# Select only the needed columns\n",
    "epu <- quarterly_epu[, c(\"year\", \"quarter\", \"month\", \"log_epu\")]\n",
    "\n",
    "# Sort by year, quarter\n",
    "epu <- epu[order(epu$year, epu$quarter), ]\n",
    "\n",
    "# Display summary\n",
    "cat(\"EPU data processed with\", nrow(epu), \"quarterly observations\\n\")\n",
    "summary(epu$log_epu)\n",
    "\n",
    "# Display the first few rows\n",
    "head(epu)"
   ]
  },
  {
   "cell_type": "markdown",
   "id": "f235ff95",
   "metadata": {},
   "source": [
    "### Trade Policy Uncertainty (TPU)\n",
    "\n",
    "> Monthly"
   ]
  },
  {
   "cell_type": "code",
   "execution_count": 15,
   "id": "b4b03c5c",
   "metadata": {
    "vscode": {
     "languageId": "r"
    }
   },
   "outputs": [
    {
     "name": "stdout",
     "output_type": "stream",
     "text": [
      "Missing values in TPU: 0 \n",
      "TPU data processed with 101 quarterly observations\n"
     ]
    },
    {
     "data": {
      "text/plain": [
       "   Min. 1st Qu.  Median    Mean 3rd Qu.    Max. \n",
       "   -Inf   3.860   4.482    -Inf   5.312   6.656 "
      ]
     },
     "metadata": {},
     "output_type": "display_data"
    },
    {
     "data": {
      "text/html": [
       "<table class=\"dataframe\">\n",
       "<caption>A data.frame: 6 x 4</caption>\n",
       "<thead>\n",
       "\t<tr><th></th><th scope=col>year</th><th scope=col>quarter</th><th scope=col>month</th><th scope=col>log_tpu</th></tr>\n",
       "\t<tr><th></th><th scope=col>&lt;int&gt;</th><th scope=col>&lt;int&gt;</th><th scope=col>&lt;dbl&gt;</th><th scope=col>&lt;dbl&gt;</th></tr>\n",
       "</thead>\n",
       "<tbody>\n",
       "\t<tr><th scope=row>1</th><td>2000</td><td>1</td><td> 3</td><td>3.025291</td></tr>\n",
       "\t<tr><th scope=row>27</th><td>2000</td><td>2</td><td> 6</td><td>2.193514</td></tr>\n",
       "\t<tr><th scope=row>52</th><td>2000</td><td>3</td><td> 9</td><td>3.570471</td></tr>\n",
       "\t<tr><th scope=row>77</th><td>2000</td><td>4</td><td>12</td><td>3.496508</td></tr>\n",
       "\t<tr><th scope=row>2</th><td>2001</td><td>1</td><td> 3</td><td>4.074709</td></tr>\n",
       "\t<tr><th scope=row>28</th><td>2001</td><td>2</td><td> 6</td><td>3.442553</td></tr>\n",
       "</tbody>\n",
       "</table>\n"
      ],
      "text/latex": [
       "A data.frame: 6 x 4\n",
       "\\begin{tabular}{r|llll}\n",
       "  & year & quarter & month & log\\_tpu\\\\\n",
       "  & <int> & <int> & <dbl> & <dbl>\\\\\n",
       "\\hline\n",
       "\t1 & 2000 & 1 &  3 & 3.025291\\\\\n",
       "\t27 & 2000 & 2 &  6 & 2.193514\\\\\n",
       "\t52 & 2000 & 3 &  9 & 3.570471\\\\\n",
       "\t77 & 2000 & 4 & 12 & 3.496508\\\\\n",
       "\t2 & 2001 & 1 &  3 & 4.074709\\\\\n",
       "\t28 & 2001 & 2 &  6 & 3.442553\\\\\n",
       "\\end{tabular}\n"
      ],
      "text/markdown": [
       "\n",
       "A data.frame: 6 x 4\n",
       "\n",
       "| <!--/--> | year &lt;int&gt; | quarter &lt;int&gt; | month &lt;dbl&gt; | log_tpu &lt;dbl&gt; |\n",
       "|---|---|---|---|---|\n",
       "| 1 | 2000 | 1 |  3 | 3.025291 |\n",
       "| 27 | 2000 | 2 |  6 | 2.193514 |\n",
       "| 52 | 2000 | 3 |  9 | 3.570471 |\n",
       "| 77 | 2000 | 4 | 12 | 3.496508 |\n",
       "| 2 | 2001 | 1 |  3 | 4.074709 |\n",
       "| 28 | 2001 | 2 |  6 | 3.442553 |\n",
       "\n"
      ],
      "text/plain": [
       "   year quarter month log_tpu \n",
       "1  2000 1        3    3.025291\n",
       "27 2000 2        6    2.193514\n",
       "52 2000 3        9    3.570471\n",
       "77 2000 4       12    3.496508\n",
       "2  2001 1        3    4.074709\n",
       "28 2001 2        6    3.442553"
      ]
     },
     "metadata": {},
     "output_type": "display_data"
    }
   ],
   "source": [
    "# Read the TPU data\n",
    "tpu <- read.csv(\"channel_tpu.csv\", header = TRUE, stringsAsFactors = FALSE, \n",
    "         colClasses = c(year = \"integer\", month = \"integer\"))\n",
    "\n",
    "# Add quarter column\n",
    "tpu$quarter <- as.integer(ceiling(tpu$month / 3))\n",
    "\n",
    "# Sort by date to ensure chronological order\n",
    "tpu <- tpu[order(tpu$year, tpu$quarter, tpu$month), ]\n",
    "\n",
    "# Check for missing values in tpu\n",
    "cat(\"Missing values in TPU:\", sum(is.na(tpu$tpu)), \"\\n\")\n",
    "\n",
    "# Handle any missing values if necessary\n",
    "if(sum(is.na(tpu$tpu)) > 0) {\n",
    "  # Use linear interpolation for missing values\n",
    "  library(zoo)\n",
    "  tpu$tpu <- na.approx(tpu$tpu, na.rm = FALSE)\n",
    "  # Handle any remaining edge cases\n",
    "  tpu$tpu <- na.locf(tpu$tpu, fromLast = TRUE, na.rm = FALSE)\n",
    "  tpu$tpu <- na.locf(tpu$tpu, na.rm = FALSE)\n",
    "}\n",
    "\n",
    "# Calculate quarterly average TPU values\n",
    "quarterly_tpu <- aggregate(tpu ~ year + quarter, data = tpu, FUN = mean)\n",
    "\n",
    "# Add month column (last month of each quarter)\n",
    "quarterly_tpu$month <- quarterly_tpu$quarter * 3\n",
    "\n",
    "# Calculate log of quarterly average TPU\n",
    "quarterly_tpu$log_tpu <- log(quarterly_tpu$tpu)\n",
    "\n",
    "# Select only the needed columns\n",
    "tpu <- quarterly_tpu[, c(\"year\", \"quarter\", \"month\", \"log_tpu\")]\n",
    "\n",
    "# Sort by year, quarter\n",
    "tpu <- tpu[order(tpu$year, tpu$quarter), ]\n",
    "\n",
    "# Display summary\n",
    "cat(\"TPU data processed with\", nrow(tpu), \"quarterly observations\\n\")\n",
    "summary(tpu$log_tpu)\n",
    "\n",
    "# Display the first few rows\n",
    "head(tpu)"
   ]
  },
  {
   "cell_type": "markdown",
   "id": "deff0b40",
   "metadata": {},
   "source": [
    "### Control\n",
    "\n",
    "> Quarterly, quarter-end month observation"
   ]
  },
  {
   "cell_type": "markdown",
   "id": "9bfd7de2",
   "metadata": {},
   "source": [
    "#### Micro"
   ]
  },
  {
   "cell_type": "markdown",
   "id": "7555de57",
   "metadata": {},
   "source": [
    "- Read the micro part of control variable and balance the panel\n",
    "\n",
    "- Dataset has already received the following cleansing before input:\n",
    "  1. Removed:\n",
    "     - stocks from the financial sector\n",
    "     - stocks incurred ST/ST*/PT during observation period\n",
    "  2. Winsorized: 5% on both ends"
   ]
  },
  {
   "cell_type": "code",
   "execution_count": 16,
   "id": "ae6c26bd",
   "metadata": {
    "vscode": {
     "languageId": "r"
    }
   },
   "outputs": [
    {
     "name": "stdout",
     "output_type": "stream",
     "text": [
      "Date range for all stocks: 2000 Q 2 to 2022 Q 4 \n",
      "Original data had 192512 observations\n",
      "Balanced panel has 452179 observations\n",
      "Added 259667 missing observations\n",
      "Number of stocks with time gaps: 4969 out of 4969 \n"
     ]
    },
    {
     "data": {
      "text/html": [
       "<table class=\"dataframe\">\n",
       "<caption>A data.frame: 6 x 11</caption>\n",
       "<thead>\n",
       "\t<tr><th></th><th scope=col>stkcd</th><th scope=col>year</th><th scope=col>quarter</th><th scope=col>month</th><th scope=col>Size</th><th scope=col>Lev</th><th scope=col>ROA</th><th scope=col>BM</th><th scope=col>Board</th><th scope=col>Top1</th><th scope=col>SOE</th></tr>\n",
       "\t<tr><th></th><th scope=col>&lt;chr&gt;</th><th scope=col>&lt;int&gt;</th><th scope=col>&lt;int&gt;</th><th scope=col>&lt;dbl&gt;</th><th scope=col>&lt;dbl&gt;</th><th scope=col>&lt;dbl&gt;</th><th scope=col>&lt;dbl&gt;</th><th scope=col>&lt;dbl&gt;</th><th scope=col>&lt;dbl&gt;</th><th scope=col>&lt;dbl&gt;</th><th scope=col>&lt;int&gt;</th></tr>\n",
       "</thead>\n",
       "<tbody>\n",
       "\t<tr><th scope=row>1</th><td>000002</td><td>2000</td><td>2</td><td> 6</td><td>22.34171</td><td>0.4275993</td><td>      NA</td><td>0.7333718</td><td>2.833213</td><td>NA</td><td>NA</td></tr>\n",
       "\t<tr><th scope=row>2</th><td>000002</td><td>2000</td><td>3</td><td> 9</td><td>      NA</td><td>       NA</td><td>      NA</td><td>       NA</td><td>      NA</td><td>NA</td><td>NA</td></tr>\n",
       "\t<tr><th scope=row>3</th><td>000002</td><td>2000</td><td>4</td><td>12</td><td>22.45000</td><td>0.4725161</td><td>0.061516</td><td>0.7892044</td><td>2.833213</td><td>NA</td><td>NA</td></tr>\n",
       "\t<tr><th scope=row>4</th><td>000002</td><td>2001</td><td>1</td><td> 3</td><td>      NA</td><td>       NA</td><td>      NA</td><td>       NA</td><td>      NA</td><td>NA</td><td>NA</td></tr>\n",
       "\t<tr><th scope=row>5</th><td>000002</td><td>2001</td><td>2</td><td> 6</td><td>22.52588</td><td>0.4879012</td><td>      NA</td><td>0.8042830</td><td>2.564949</td><td>NA</td><td>NA</td></tr>\n",
       "\t<tr><th scope=row>6</th><td>000002</td><td>2001</td><td>3</td><td> 9</td><td>      NA</td><td>       NA</td><td>      NA</td><td>       NA</td><td>      NA</td><td>NA</td><td>NA</td></tr>\n",
       "</tbody>\n",
       "</table>\n"
      ],
      "text/latex": [
       "A data.frame: 6 x 11\n",
       "\\begin{tabular}{r|lllllllllll}\n",
       "  & stkcd & year & quarter & month & Size & Lev & ROA & BM & Board & Top1 & SOE\\\\\n",
       "  & <chr> & <int> & <int> & <dbl> & <dbl> & <dbl> & <dbl> & <dbl> & <dbl> & <dbl> & <int>\\\\\n",
       "\\hline\n",
       "\t1 & 000002 & 2000 & 2 &  6 & 22.34171 & 0.4275993 &       NA & 0.7333718 & 2.833213 & NA & NA\\\\\n",
       "\t2 & 000002 & 2000 & 3 &  9 &       NA &        NA &       NA &        NA &       NA & NA & NA\\\\\n",
       "\t3 & 000002 & 2000 & 4 & 12 & 22.45000 & 0.4725161 & 0.061516 & 0.7892044 & 2.833213 & NA & NA\\\\\n",
       "\t4 & 000002 & 2001 & 1 &  3 &       NA &        NA &       NA &        NA &       NA & NA & NA\\\\\n",
       "\t5 & 000002 & 2001 & 2 &  6 & 22.52588 & 0.4879012 &       NA & 0.8042830 & 2.564949 & NA & NA\\\\\n",
       "\t6 & 000002 & 2001 & 3 &  9 &       NA &        NA &       NA &        NA &       NA & NA & NA\\\\\n",
       "\\end{tabular}\n"
      ],
      "text/markdown": [
       "\n",
       "A data.frame: 6 x 11\n",
       "\n",
       "| <!--/--> | stkcd &lt;chr&gt; | year &lt;int&gt; | quarter &lt;int&gt; | month &lt;dbl&gt; | Size &lt;dbl&gt; | Lev &lt;dbl&gt; | ROA &lt;dbl&gt; | BM &lt;dbl&gt; | Board &lt;dbl&gt; | Top1 &lt;dbl&gt; | SOE &lt;int&gt; |\n",
       "|---|---|---|---|---|---|---|---|---|---|---|---|\n",
       "| 1 | 000002 | 2000 | 2 |  6 | 22.34171 | 0.4275993 |       NA | 0.7333718 | 2.833213 | NA | NA |\n",
       "| 2 | 000002 | 2000 | 3 |  9 |       NA |        NA |       NA |        NA |       NA | NA | NA |\n",
       "| 3 | 000002 | 2000 | 4 | 12 | 22.45000 | 0.4725161 | 0.061516 | 0.7892044 | 2.833213 | NA | NA |\n",
       "| 4 | 000002 | 2001 | 1 |  3 |       NA |        NA |       NA |        NA |       NA | NA | NA |\n",
       "| 5 | 000002 | 2001 | 2 |  6 | 22.52588 | 0.4879012 |       NA | 0.8042830 | 2.564949 | NA | NA |\n",
       "| 6 | 000002 | 2001 | 3 |  9 |       NA |        NA |       NA |        NA |       NA | NA | NA |\n",
       "\n"
      ],
      "text/plain": [
       "  stkcd  year quarter month Size     Lev       ROA      BM        Board    Top1\n",
       "1 000002 2000 2        6    22.34171 0.4275993       NA 0.7333718 2.833213 NA  \n",
       "2 000002 2000 3        9          NA        NA       NA        NA       NA NA  \n",
       "3 000002 2000 4       12    22.45000 0.4725161 0.061516 0.7892044 2.833213 NA  \n",
       "4 000002 2001 1        3          NA        NA       NA        NA       NA NA  \n",
       "5 000002 2001 2        6    22.52588 0.4879012       NA 0.8042830 2.564949 NA  \n",
       "6 000002 2001 3        9          NA        NA       NA        NA       NA NA  \n",
       "  SOE\n",
       "1 NA \n",
       "2 NA \n",
       "3 NA \n",
       "4 NA \n",
       "5 NA \n",
       "6 NA "
      ]
     },
     "metadata": {},
     "output_type": "display_data"
    }
   ],
   "source": [
    "# Read the control_micro data\n",
    "control_micro <- read.csv(\"control_micro.csv\", header = TRUE, stringsAsFactors = FALSE, \n",
    "        colClasses = c(stkcd = \"character\", year = \"integer\", quarter = \"integer\", month = \"integer\"))\n",
    "\n",
    "index_cols <- c(\"stkcd\", \"year\", \"quarter\", \"month\")\n",
    "var_cols <- c(\"Size\", \"Lev\", \"ROA\", \"BM\", \"Board\", \"Top1\", \"SOE\")\n",
    "\n",
    "control_micro <- control_micro[, c(index_cols, var_cols)]\n",
    "\n",
    "# Find the earliest and latest year-quarter combinations\n",
    "min_year <- min(control_micro$year)\n",
    "min_quarter <- min(control_micro$quarter[control_micro$year == min_year])\n",
    "max_year <- max(control_micro$year)\n",
    "max_quarter <- max(control_micro$quarter[control_micro$year == max_year])\n",
    "\n",
    "cat(\"Date range for all stocks:\", min_year, \"Q\", min_quarter, \"to\", max_year, \"Q\", max_quarter, \"\\n\")\n",
    "\n",
    "# Create a complete sequence of year-quarter combinations\n",
    "all_dates <- expand.grid(\n",
    "  year = min_year:max_year,\n",
    "  quarter = 1:4\n",
    ")\n",
    "\n",
    "# Filter to keep only dates within the identified range\n",
    "all_dates <- all_dates[\n",
    "  (all_dates$year > min_year | all_dates$quarter >= min_quarter) &\n",
    "  (all_dates$year < max_year | all_dates$quarter <= max_quarter),\n",
    "]\n",
    "all_dates <- all_dates[order(all_dates$year, all_dates$quarter), ]\n",
    "\n",
    "# Add month column based on quarter (Q1=3, Q2=6, Q3=9, Q4=12)\n",
    "all_dates$month <- all_dates$quarter * 3\n",
    "\n",
    "# Get unique stock codes\n",
    "unique_stocks <- unique(control_micro$stkcd)\n",
    "\n",
    "# Create an empty dataframe to hold the balanced panel\n",
    "balanced_control_micro <- data.frame()\n",
    "\n",
    "# For each stock, add missing dates\n",
    "for (stock in unique_stocks) {\n",
    "  # Get data for this stock\n",
    "  stock_data <- control_micro[control_micro$stkcd == stock, ]\n",
    "  \n",
    "  # Create stock-specific complete date sequence\n",
    "  stock_dates <- data.frame(\n",
    "  stkcd = stock,\n",
    "  year = all_dates$year,\n",
    "  quarter = all_dates$quarter,\n",
    "  month = all_dates$month\n",
    "  )\n",
    "  \n",
    "  # Merge with actual data (will add NA for missing dates)\n",
    "  complete_stock_data <- merge(\n",
    "  stock_dates,\n",
    "  stock_data,\n",
    "  by = index_cols,\n",
    "  all.x = TRUE\n",
    "  )\n",
    "  \n",
    "  # Add to the balanced panel\n",
    "  balanced_control_micro <- rbind(balanced_control_micro, complete_stock_data)\n",
    "}\n",
    "\n",
    "# Sort the balanced panel\n",
    "balanced_control_micro <- balanced_control_micro[order(balanced_control_micro$stkcd, balanced_control_micro$year, balanced_control_micro$quarter), c(index_cols, var_cols)]\n",
    "\n",
    "# Display summary statistics\n",
    "cat(\"Original data had\", nrow(control_micro), \"observations\\n\")\n",
    "cat(\"Balanced panel has\", nrow(balanced_control_micro), \"observations\\n\")\n",
    "cat(\"Added\", nrow(balanced_control_micro) - nrow(control_micro), \"missing observations\\n\")\n",
    "\n",
    "# Calculate how many stocks have missing observations\n",
    "stocks_with_gaps <- sapply(unique_stocks, function(stock) {\n",
    "  stock_data <- control_micro[control_micro$stkcd == stock, ]\n",
    "  expected_obs <- nrow(all_dates)\n",
    "  actual_obs <- nrow(stock_data)\n",
    "  return(expected_obs != actual_obs)\n",
    "})\n",
    "\n",
    "cat(\"Number of stocks with time gaps:\", sum(stocks_with_gaps), \"out of\", length(unique_stocks), \"\\n\")\n",
    "\n",
    "# Update the control_micro dataframe\n",
    "control_micro <- balanced_control_micro\n",
    "\n",
    "# Display the first few rows\n",
    "head(control_micro)"
   ]
  },
  {
   "cell_type": "code",
   "execution_count": 17,
   "id": "6ae2d16a",
   "metadata": {
    "vscode": {
     "languageId": "r"
    }
   },
   "outputs": [
    {
     "name": "stdout",
     "output_type": "stream",
     "text": [
      "Rows in control_micro before merge: 452179 \n",
      "Rows after merge with industry data: 166952 \n",
      "Stocks with missing industry information: 4 \n"
     ]
    },
    {
     "data": {
      "text/html": [
       "<table class=\"dataframe\">\n",
       "<caption>A data.frame: 6 x 12</caption>\n",
       "<thead>\n",
       "\t<tr><th></th><th scope=col>year</th><th scope=col>stkcd</th><th scope=col>quarter</th><th scope=col>month</th><th scope=col>Size</th><th scope=col>Lev</th><th scope=col>ROA</th><th scope=col>BM</th><th scope=col>Board</th><th scope=col>Top1</th><th scope=col>SOE</th><th scope=col>ind</th></tr>\n",
       "\t<tr><th></th><th scope=col>&lt;int&gt;</th><th scope=col>&lt;chr&gt;</th><th scope=col>&lt;int&gt;</th><th scope=col>&lt;dbl&gt;</th><th scope=col>&lt;dbl&gt;</th><th scope=col>&lt;dbl&gt;</th><th scope=col>&lt;dbl&gt;</th><th scope=col>&lt;dbl&gt;</th><th scope=col>&lt;dbl&gt;</th><th scope=col>&lt;dbl&gt;</th><th scope=col>&lt;int&gt;</th><th scope=col>&lt;fct&gt;</th></tr>\n",
       "</thead>\n",
       "<tbody>\n",
       "\t<tr><th scope=row>1</th><td>2008</td><td>000002</td><td>4</td><td>12</td><td>25.31735</td><td>0.6744409</td><td>0.042309</td><td>1.9096906</td><td>2.397895</td><td>0.147255</td><td>0</td><td>K</td></tr>\n",
       "\t<tr><th scope=row>2</th><td>2008</td><td>000002</td><td>1</td><td> 3</td><td>25.31735</td><td>0.6654745</td><td>0.007196</td><td>0.6847717</td><td>2.397895</td><td>      NA</td><td>0</td><td>K</td></tr>\n",
       "\t<tr><th scope=row>3</th><td>2008</td><td>000002</td><td>3</td><td> 9</td><td>25.31735</td><td>0.6966075</td><td>0.023780</td><td>1.9215522</td><td>2.397895</td><td>      NA</td><td>0</td><td>K</td></tr>\n",
       "\t<tr><th scope=row>4</th><td>2008</td><td>000002</td><td>2</td><td> 6</td><td>25.31735</td><td>0.6775643</td><td>0.021844</td><td>1.2738179</td><td>2.397895</td><td>0.146345</td><td>0</td><td>K</td></tr>\n",
       "\t<tr><th scope=row>5</th><td>2008</td><td>000005</td><td>1</td><td> 3</td><td>21.11211</td><td>0.4897155</td><td>0.001542</td><td>0.2352045</td><td>2.708050</td><td>      NA</td><td>0</td><td>S</td></tr>\n",
       "\t<tr><th scope=row>6</th><td>2008</td><td>000005</td><td>2</td><td> 6</td><td>21.09840</td><td>0.4804520</td><td>0.003770</td><td>0.4166303</td><td>2.708050</td><td>0.201386</td><td>0</td><td>S</td></tr>\n",
       "</tbody>\n",
       "</table>\n"
      ],
      "text/latex": [
       "A data.frame: 6 x 12\n",
       "\\begin{tabular}{r|llllllllllll}\n",
       "  & year & stkcd & quarter & month & Size & Lev & ROA & BM & Board & Top1 & SOE & ind\\\\\n",
       "  & <int> & <chr> & <int> & <dbl> & <dbl> & <dbl> & <dbl> & <dbl> & <dbl> & <dbl> & <int> & <fct>\\\\\n",
       "\\hline\n",
       "\t1 & 2008 & 000002 & 4 & 12 & 25.31735 & 0.6744409 & 0.042309 & 1.9096906 & 2.397895 & 0.147255 & 0 & K\\\\\n",
       "\t2 & 2008 & 000002 & 1 &  3 & 25.31735 & 0.6654745 & 0.007196 & 0.6847717 & 2.397895 &       NA & 0 & K\\\\\n",
       "\t3 & 2008 & 000002 & 3 &  9 & 25.31735 & 0.6966075 & 0.023780 & 1.9215522 & 2.397895 &       NA & 0 & K\\\\\n",
       "\t4 & 2008 & 000002 & 2 &  6 & 25.31735 & 0.6775643 & 0.021844 & 1.2738179 & 2.397895 & 0.146345 & 0 & K\\\\\n",
       "\t5 & 2008 & 000005 & 1 &  3 & 21.11211 & 0.4897155 & 0.001542 & 0.2352045 & 2.708050 &       NA & 0 & S\\\\\n",
       "\t6 & 2008 & 000005 & 2 &  6 & 21.09840 & 0.4804520 & 0.003770 & 0.4166303 & 2.708050 & 0.201386 & 0 & S\\\\\n",
       "\\end{tabular}\n"
      ],
      "text/markdown": [
       "\n",
       "A data.frame: 6 x 12\n",
       "\n",
       "| <!--/--> | year &lt;int&gt; | stkcd &lt;chr&gt; | quarter &lt;int&gt; | month &lt;dbl&gt; | Size &lt;dbl&gt; | Lev &lt;dbl&gt; | ROA &lt;dbl&gt; | BM &lt;dbl&gt; | Board &lt;dbl&gt; | Top1 &lt;dbl&gt; | SOE &lt;int&gt; | ind &lt;fct&gt; |\n",
       "|---|---|---|---|---|---|---|---|---|---|---|---|---|\n",
       "| 1 | 2008 | 000002 | 4 | 12 | 25.31735 | 0.6744409 | 0.042309 | 1.9096906 | 2.397895 | 0.147255 | 0 | K |\n",
       "| 2 | 2008 | 000002 | 1 |  3 | 25.31735 | 0.6654745 | 0.007196 | 0.6847717 | 2.397895 |       NA | 0 | K |\n",
       "| 3 | 2008 | 000002 | 3 |  9 | 25.31735 | 0.6966075 | 0.023780 | 1.9215522 | 2.397895 |       NA | 0 | K |\n",
       "| 4 | 2008 | 000002 | 2 |  6 | 25.31735 | 0.6775643 | 0.021844 | 1.2738179 | 2.397895 | 0.146345 | 0 | K |\n",
       "| 5 | 2008 | 000005 | 1 |  3 | 21.11211 | 0.4897155 | 0.001542 | 0.2352045 | 2.708050 |       NA | 0 | S |\n",
       "| 6 | 2008 | 000005 | 2 |  6 | 21.09840 | 0.4804520 | 0.003770 | 0.4166303 | 2.708050 | 0.201386 | 0 | S |\n",
       "\n"
      ],
      "text/plain": [
       "  year stkcd  quarter month Size     Lev       ROA      BM        Board   \n",
       "1 2008 000002 4       12    25.31735 0.6744409 0.042309 1.9096906 2.397895\n",
       "2 2008 000002 1        3    25.31735 0.6654745 0.007196 0.6847717 2.397895\n",
       "3 2008 000002 3        9    25.31735 0.6966075 0.023780 1.9215522 2.397895\n",
       "4 2008 000002 2        6    25.31735 0.6775643 0.021844 1.2738179 2.397895\n",
       "5 2008 000005 1        3    21.11211 0.4897155 0.001542 0.2352045 2.708050\n",
       "6 2008 000005 2        6    21.09840 0.4804520 0.003770 0.4166303 2.708050\n",
       "  Top1     SOE ind\n",
       "1 0.147255 0   K  \n",
       "2       NA 0   K  \n",
       "3       NA 0   K  \n",
       "4 0.146345 0   K  \n",
       "5       NA 0   S  \n",
       "6 0.201386 0   S  "
      ]
     },
     "metadata": {},
     "output_type": "display_data"
    }
   ],
   "source": [
    "# Read industry classification data\n",
    "ind_type <- read.csv(\"ind_type.csv\", header = TRUE, stringsAsFactors = FALSE, \n",
    "                    colClasses = c(stkcd = \"character\", year = \"integer\"))\n",
    "\n",
    "# Ensure stock code format consistency for merging\n",
    "if(any(grepl(\"\\\\.\", ind_type$stkcd))) {\n",
    "  ind_type$stkcd <- gsub(\"\\\\.[A-Z]+$\", \"\", ind_type$stkcd)\n",
    "}\n",
    "\n",
    "# Check for duplicate entries\n",
    "duplicates <- ind_type[duplicated(ind_type[, c(\"year\", \"stkcd\")]) | \n",
    "                      duplicated(ind_type[, c(\"year\", \"stkcd\")], fromLast = TRUE), ]\n",
    "if(nrow(duplicates) > 0) {\n",
    "  cat(\"Warning: Found\", nrow(duplicates)/2, \"duplicate year-stock combinations in industry data\\n\")\n",
    "}\n",
    "\n",
    "# Merge with control_micro using inner join\n",
    "control_micro_with_ind <- merge(\n",
    "  control_micro,\n",
    "  ind_type,\n",
    "  by = c(\"year\", \"stkcd\"),\n",
    "  all.x = FALSE\n",
    ")\n",
    "\n",
    "# Check dimensions before and after merge\n",
    "cat(\"Rows in control_micro before merge:\", nrow(control_micro), \"\\n\")\n",
    "cat(\"Rows after merge with industry data:\", nrow(control_micro_with_ind), \"\\n\")\n",
    "cat(\"Stocks with missing industry information:\", \n",
    "    length(setdiff(unique(control_micro$stkcd), unique(control_micro_with_ind$stkcd))), \"\\n\")\n",
    "\n",
    "# Convert industry codes to factors for regression analysis\n",
    "control_micro_with_ind$ind <- factor(control_micro_with_ind$ind)\n",
    "\n",
    "# Update the control_micro dataframe\n",
    "control_micro <- control_micro_with_ind\n",
    "\n",
    "# Display the first few rows of the merged data\n",
    "head(control_micro)"
   ]
  },
  {
   "cell_type": "markdown",
   "id": "439ce926",
   "metadata": {},
   "source": [
    "- Treat the missing values"
   ]
  },
  {
   "cell_type": "code",
   "execution_count": 18,
   "id": "32310c79",
   "metadata": {
    "vscode": {
     "languageId": "r"
    }
   },
   "outputs": [
    {
     "name": "stdout",
     "output_type": "stream",
     "text": [
      "Missing values per column:\n",
      "   year   stkcd quarter   month    Size     Lev     ROA      BM   Board    Top1 \n",
      "      0       0       0       0    4659    4659    4669    5454    4671   22499 \n",
      "    SOE     ind \n",
      "   4658       0 \n",
      "\n",
      "Percentage of missing values:\n",
      "   year   stkcd quarter   month    Size     Lev     ROA      BM   Board    Top1 \n",
      "   0.00    0.00    0.00    0.00    2.79    2.79    2.80    3.27    2.80   13.48 \n",
      "    SOE     ind \n",
      "   2.79    0.00 \n",
      "\n",
      "Missing values after imputation:\n",
      "   year   stkcd quarter   month    Size     Lev     ROA      BM   Board    Top1 \n",
      "      0       0       0       0       0       0       0       0       0       0 \n",
      "    SOE     ind \n",
      "      0       0 \n",
      "\n",
      "Summary before imputation:\n",
      "      Size            Lev              ROA                BM         \n",
      " Min.   :19.37   Min.   :0.0253   Min.   :-0.1634   Min.   : 0.0520  \n",
      " 1st Qu.:21.15   1st Qu.:0.2462   1st Qu.: 0.0059   1st Qu.: 0.3636  \n",
      " Median :21.91   Median :0.4089   Median : 0.0203   Median : 0.6300  \n",
      " Mean   :22.10   Mean   :0.4160   Mean   : 0.0286   Mean   : 0.9983  \n",
      " 3rd Qu.:22.83   3rd Qu.:0.5724   3rd Qu.: 0.0461   3rd Qu.: 1.1419  \n",
      " Max.   :26.44   Max.   :0.9209   Max.   : 0.1996   Max.   :10.2573  \n",
      " NA's   :4659    NA's   :4659     NA's   :4669      NA's   :5454     \n",
      "     Board            Top1             SOE        \n",
      " Min.   :1.609   Min.   :0.0811   Min.   :0.0000  \n",
      " 1st Qu.:1.946   1st Qu.:0.2266   1st Qu.:0.0000  \n",
      " Median :2.197   Median :0.3203   Median :0.0000  \n",
      " Mean   :2.126   Mean   :0.3423   Mean   :0.3494  \n",
      " 3rd Qu.:2.197   3rd Qu.:0.4431   3rd Qu.:1.0000  \n",
      " Max.   :2.708   Max.   :0.7590   Max.   :1.0000  \n",
      " NA's   :4671    NA's   :22499    NA's   :4658    \n",
      "\n",
      "Summary after imputation:\n",
      "      Size            Lev               ROA                  BM          \n",
      " Min.   :19.37   Min.   :0.02527   Min.   :-0.163439   Min.   : 0.05203  \n",
      " 1st Qu.:21.13   1st Qu.:0.24093   1st Qu.: 0.006204   1st Qu.: 0.35410  \n",
      " Median :21.88   Median :0.40333   Median : 0.021269   Median : 0.61362  \n",
      " Mean   :22.08   Mean   :0.41166   Mean   : 0.029907   Mean   : 0.97890  \n",
      " 3rd Qu.:22.81   3rd Qu.:0.56836   3rd Qu.: 0.048239   3rd Qu.: 1.11687  \n",
      " Max.   :26.44   Max.   :0.92086   Max.   : 0.199596   Max.   :10.25725  \n",
      "     Board            Top1              SOE        \n",
      " Min.   :1.609   Min.   :0.08105   Min.   :0.0000  \n",
      " 1st Qu.:1.946   1st Qu.:0.22973   1st Qu.:0.0000  \n",
      " Median :2.197   Median :0.32500   Median :0.0000  \n",
      " Mean   :2.125   Mean   :0.34621   Mean   :0.3424  \n",
      " 3rd Qu.:2.197   3rd Qu.:0.44856   3rd Qu.:1.0000  \n",
      " Max.   :2.708   Max.   :0.75902   Max.   :1.0000  \n"
     ]
    },
    {
     "data": {
      "text/html": [
       "<table class=\"dataframe\">\n",
       "<caption>A data.frame: 6 x 12</caption>\n",
       "<thead>\n",
       "\t<tr><th></th><th scope=col>year</th><th scope=col>stkcd</th><th scope=col>quarter</th><th scope=col>month</th><th scope=col>Size</th><th scope=col>Lev</th><th scope=col>ROA</th><th scope=col>BM</th><th scope=col>Board</th><th scope=col>Top1</th><th scope=col>SOE</th><th scope=col>ind</th></tr>\n",
       "\t<tr><th></th><th scope=col>&lt;int&gt;</th><th scope=col>&lt;chr&gt;</th><th scope=col>&lt;int&gt;</th><th scope=col>&lt;dbl&gt;</th><th scope=col>&lt;dbl&gt;</th><th scope=col>&lt;dbl&gt;</th><th scope=col>&lt;dbl&gt;</th><th scope=col>&lt;dbl&gt;</th><th scope=col>&lt;dbl&gt;</th><th scope=col>&lt;dbl&gt;</th><th scope=col>&lt;int&gt;</th><th scope=col>&lt;fct&gt;</th></tr>\n",
       "</thead>\n",
       "<tbody>\n",
       "\t<tr><th scope=row>1</th><td>2008</td><td>000002</td><td>1</td><td> 3</td><td>25.31735</td><td>0.6654745</td><td>0.007196</td><td>0.6847717</td><td>2.397895</td><td>0.146345</td><td>0</td><td>K</td></tr>\n",
       "\t<tr><th scope=row>2</th><td>2008</td><td>000002</td><td>2</td><td> 6</td><td>25.31735</td><td>0.6775643</td><td>0.021844</td><td>1.2738179</td><td>2.397895</td><td>0.146345</td><td>0</td><td>K</td></tr>\n",
       "\t<tr><th scope=row>3</th><td>2008</td><td>000002</td><td>3</td><td> 9</td><td>25.31735</td><td>0.6966075</td><td>0.023780</td><td>1.9215522</td><td>2.397895</td><td>0.146345</td><td>0</td><td>K</td></tr>\n",
       "\t<tr><th scope=row>4</th><td>2008</td><td>000002</td><td>4</td><td>12</td><td>25.31735</td><td>0.6744409</td><td>0.042309</td><td>1.9096906</td><td>2.397895</td><td>0.147255</td><td>0</td><td>K</td></tr>\n",
       "\t<tr><th scope=row>5</th><td>2008</td><td>000005</td><td>1</td><td> 3</td><td>21.11211</td><td>0.4897155</td><td>0.001542</td><td>0.2352045</td><td>2.708050</td><td>0.201386</td><td>0</td><td>S</td></tr>\n",
       "\t<tr><th scope=row>6</th><td>2008</td><td>000005</td><td>2</td><td> 6</td><td>21.09840</td><td>0.4804520</td><td>0.003770</td><td>0.4166303</td><td>2.708050</td><td>0.201386</td><td>0</td><td>S</td></tr>\n",
       "</tbody>\n",
       "</table>\n"
      ],
      "text/latex": [
       "A data.frame: 6 x 12\n",
       "\\begin{tabular}{r|llllllllllll}\n",
       "  & year & stkcd & quarter & month & Size & Lev & ROA & BM & Board & Top1 & SOE & ind\\\\\n",
       "  & <int> & <chr> & <int> & <dbl> & <dbl> & <dbl> & <dbl> & <dbl> & <dbl> & <dbl> & <int> & <fct>\\\\\n",
       "\\hline\n",
       "\t1 & 2008 & 000002 & 1 &  3 & 25.31735 & 0.6654745 & 0.007196 & 0.6847717 & 2.397895 & 0.146345 & 0 & K\\\\\n",
       "\t2 & 2008 & 000002 & 2 &  6 & 25.31735 & 0.6775643 & 0.021844 & 1.2738179 & 2.397895 & 0.146345 & 0 & K\\\\\n",
       "\t3 & 2008 & 000002 & 3 &  9 & 25.31735 & 0.6966075 & 0.023780 & 1.9215522 & 2.397895 & 0.146345 & 0 & K\\\\\n",
       "\t4 & 2008 & 000002 & 4 & 12 & 25.31735 & 0.6744409 & 0.042309 & 1.9096906 & 2.397895 & 0.147255 & 0 & K\\\\\n",
       "\t5 & 2008 & 000005 & 1 &  3 & 21.11211 & 0.4897155 & 0.001542 & 0.2352045 & 2.708050 & 0.201386 & 0 & S\\\\\n",
       "\t6 & 2008 & 000005 & 2 &  6 & 21.09840 & 0.4804520 & 0.003770 & 0.4166303 & 2.708050 & 0.201386 & 0 & S\\\\\n",
       "\\end{tabular}\n"
      ],
      "text/markdown": [
       "\n",
       "A data.frame: 6 x 12\n",
       "\n",
       "| <!--/--> | year &lt;int&gt; | stkcd &lt;chr&gt; | quarter &lt;int&gt; | month &lt;dbl&gt; | Size &lt;dbl&gt; | Lev &lt;dbl&gt; | ROA &lt;dbl&gt; | BM &lt;dbl&gt; | Board &lt;dbl&gt; | Top1 &lt;dbl&gt; | SOE &lt;int&gt; | ind &lt;fct&gt; |\n",
       "|---|---|---|---|---|---|---|---|---|---|---|---|---|\n",
       "| 1 | 2008 | 000002 | 1 |  3 | 25.31735 | 0.6654745 | 0.007196 | 0.6847717 | 2.397895 | 0.146345 | 0 | K |\n",
       "| 2 | 2008 | 000002 | 2 |  6 | 25.31735 | 0.6775643 | 0.021844 | 1.2738179 | 2.397895 | 0.146345 | 0 | K |\n",
       "| 3 | 2008 | 000002 | 3 |  9 | 25.31735 | 0.6966075 | 0.023780 | 1.9215522 | 2.397895 | 0.146345 | 0 | K |\n",
       "| 4 | 2008 | 000002 | 4 | 12 | 25.31735 | 0.6744409 | 0.042309 | 1.9096906 | 2.397895 | 0.147255 | 0 | K |\n",
       "| 5 | 2008 | 000005 | 1 |  3 | 21.11211 | 0.4897155 | 0.001542 | 0.2352045 | 2.708050 | 0.201386 | 0 | S |\n",
       "| 6 | 2008 | 000005 | 2 |  6 | 21.09840 | 0.4804520 | 0.003770 | 0.4166303 | 2.708050 | 0.201386 | 0 | S |\n",
       "\n"
      ],
      "text/plain": [
       "  year stkcd  quarter month Size     Lev       ROA      BM        Board   \n",
       "1 2008 000002 1        3    25.31735 0.6654745 0.007196 0.6847717 2.397895\n",
       "2 2008 000002 2        6    25.31735 0.6775643 0.021844 1.2738179 2.397895\n",
       "3 2008 000002 3        9    25.31735 0.6966075 0.023780 1.9215522 2.397895\n",
       "4 2008 000002 4       12    25.31735 0.6744409 0.042309 1.9096906 2.397895\n",
       "5 2008 000005 1        3    21.11211 0.4897155 0.001542 0.2352045 2.708050\n",
       "6 2008 000005 2        6    21.09840 0.4804520 0.003770 0.4166303 2.708050\n",
       "  Top1     SOE ind\n",
       "1 0.146345 0   K  \n",
       "2 0.146345 0   K  \n",
       "3 0.146345 0   K  \n",
       "4 0.147255 0   K  \n",
       "5 0.201386 0   S  \n",
       "6 0.201386 0   S  "
      ]
     },
     "metadata": {},
     "output_type": "display_data"
    }
   ],
   "source": [
    "library(zoo)\n",
    "\n",
    "# Check how many missing values we have in each column\n",
    "missing_values <- colSums(is.na(control_micro))\n",
    "cat(\"Missing values per column:\\n\")\n",
    "print(missing_values)\n",
    "\n",
    "# Calculate percentage of missing values by column\n",
    "pct_missing <- round(missing_values / nrow(control_micro) * 100, 2)\n",
    "cat(\"\\nPercentage of missing values:\\n\")\n",
    "print(pct_missing)\n",
    "\n",
    "# For visualization, get missing pattern by stock and time\n",
    "missing_by_stock <- tapply(rowSums(is.na(control_micro[, var_cols])), \n",
    "                          control_micro$stkcd, mean)\n",
    "missing_by_time <- aggregate(rowSums(is.na(control_micro[, var_cols])), \n",
    "                            by = list(year = control_micro$year, \n",
    "                                     quarter = control_micro$quarter), \n",
    "                            mean)\n",
    "\n",
    "# Impute missing values based on variable characteristics\n",
    "control_micro_imputed <- control_micro\n",
    "\n",
    "# Approach for each variable:\n",
    "for (id in unique(control_micro$stkcd)) {\n",
    "  # Get data for this stock only\n",
    "  stock_data <- control_micro[control_micro$stkcd == id, ]\n",
    "  stock_data <- stock_data[order(stock_data$year, stock_data$quarter), ]\n",
    "  \n",
    "  for (var in var_cols) {\n",
    "    # Skip if no missing values for this variable and stock\n",
    "    if (!any(is.na(stock_data[, var]))) next\n",
    "    \n",
    "    # Choose imputation method based on variable type\n",
    "    if (var %in% c(\"Size\", \"Lev\", \"ROA\", \"BM\")) {\n",
    "      # For financial metrics that change gradually, use interpolation\n",
    "      stock_data[, var] <- na.approx(stock_data[, var], na.rm = FALSE)\n",
    "      \n",
    "      # Handle any remaining NAs at the beginning with next observation\n",
    "      if (any(is.na(stock_data[, var]))) {\n",
    "        stock_data[, var] <- na.locf(stock_data[, var], fromLast = TRUE, na.rm = FALSE)\n",
    "        \n",
    "        # Handle any remaining NAs at the end with last observation\n",
    "        stock_data[, var] <- na.locf(stock_data[, var], na.rm = FALSE)\n",
    "      }\n",
    "    } else if (var %in% c(\"Board\", \"Top1\", \"SOE\", \"ind1\", \"ind2\")) {\n",
    "      # For governance metrics that change infrequently, use LOCF\n",
    "      stock_data[, var] <- na.locf(stock_data[, var], na.rm = FALSE)\n",
    "      \n",
    "      # If there are still NAs at the beginning, use NOCB\n",
    "      if (any(is.na(stock_data[, var]))) {\n",
    "        stock_data[, var] <- na.locf(stock_data[, var], fromLast = TRUE, na.rm = FALSE)\n",
    "      }\n",
    "      \n",
    "      # For any remaining NAs (if entire series is NA), use cross-sectional median\n",
    "      if (any(is.na(stock_data[, var]))) {\n",
    "        # Get the median value from the whole dataset for this variable\n",
    "        var_median <- median(control_micro[, var], na.rm = TRUE)\n",
    "        stock_data[is.na(stock_data[, var]), var] <- var_median\n",
    "      }\n",
    "    }\n",
    "  }\n",
    "  \n",
    "  # Update the imputed dataset with this stock's data\n",
    "  control_micro_imputed[control_micro_imputed$stkcd == id, ] <- stock_data\n",
    "}\n",
    "\n",
    "# Check if any missing values remain\n",
    "missing_after <- colSums(is.na(control_micro_imputed))\n",
    "cat(\"\\nMissing values after imputation:\\n\")\n",
    "print(missing_after)\n",
    "\n",
    "# Display summary statistics before and after imputation\n",
    "cat(\"\\nSummary before imputation:\\n\")\n",
    "print(summary(control_micro[, var_cols]))\n",
    "\n",
    "cat(\"\\nSummary after imputation:\\n\")\n",
    "print(summary(control_micro_imputed[, var_cols]))\n",
    "\n",
    "# Update the control_micro dataframe\n",
    "control_micro <- control_micro_imputed\n",
    "\n",
    "# Display the first few rows of the imputed data\n",
    "head(control_micro)"
   ]
  },
  {
   "cell_type": "markdown",
   "id": "97e48a63",
   "metadata": {},
   "source": [
    "#### Macro"
   ]
  },
  {
   "cell_type": "markdown",
   "id": "854a87f4",
   "metadata": {},
   "source": [
    "- Read the macro part of control variable"
   ]
  },
  {
   "cell_type": "code",
   "execution_count": 19,
   "id": "fc81f8af",
   "metadata": {
    "vscode": {
     "languageId": "r"
    }
   },
   "outputs": [
    {
     "name": "stdout",
     "output_type": "stream",
     "text": [
      "Date range: 2003 Q 1 to 2024 Q 4 \n",
      "Found 1 missing year-quarter combinations\n",
      "Added missing periods with NA values for observations\n"
     ]
    },
    {
     "data": {
      "text/html": [
       "<table class=\"dataframe\">\n",
       "<caption>A data.frame: 6 x 5</caption>\n",
       "<thead>\n",
       "\t<tr><th></th><th scope=col>year</th><th scope=col>quarter</th><th scope=col>month</th><th scope=col>gdp_growth_rate</th><th scope=col>m2_growth_rate</th></tr>\n",
       "\t<tr><th></th><th scope=col>&lt;int&gt;</th><th scope=col>&lt;int&gt;</th><th scope=col>&lt;dbl&gt;</th><th scope=col>&lt;dbl&gt;</th><th scope=col>&lt;dbl&gt;</th></tr>\n",
       "</thead>\n",
       "<tbody>\n",
       "\t<tr><th scope=row>1</th><td>2003</td><td>1</td><td> 3</td><td>         NA</td><td>        NA</td></tr>\n",
       "\t<tr><th scope=row>2</th><td>2003</td><td>2</td><td> 6</td><td> 0.08903639</td><td>0.04413487</td></tr>\n",
       "\t<tr><th scope=row>3</th><td>2003</td><td>3</td><td> 9</td><td> 0.08490761</td><td>0.04925471</td></tr>\n",
       "\t<tr><th scope=row>4</th><td>2003</td><td>4</td><td>12</td><td> 0.12746553</td><td>0.03426695</td></tr>\n",
       "\t<tr><th scope=row>5</th><td>2004</td><td>1</td><td> 3</td><td>-0.12967664</td><td>0.04955063</td></tr>\n",
       "\t<tr><th scope=row>6</th><td>2004</td><td>2</td><td> 6</td><td> 0.11803645</td><td>0.03350321</td></tr>\n",
       "</tbody>\n",
       "</table>\n"
      ],
      "text/latex": [
       "A data.frame: 6 x 5\n",
       "\\begin{tabular}{r|lllll}\n",
       "  & year & quarter & month & gdp\\_growth\\_rate & m2\\_growth\\_rate\\\\\n",
       "  & <int> & <int> & <dbl> & <dbl> & <dbl>\\\\\n",
       "\\hline\n",
       "\t1 & 2003 & 1 &  3 &          NA &         NA\\\\\n",
       "\t2 & 2003 & 2 &  6 &  0.08903639 & 0.04413487\\\\\n",
       "\t3 & 2003 & 3 &  9 &  0.08490761 & 0.04925471\\\\\n",
       "\t4 & 2003 & 4 & 12 &  0.12746553 & 0.03426695\\\\\n",
       "\t5 & 2004 & 1 &  3 & -0.12967664 & 0.04955063\\\\\n",
       "\t6 & 2004 & 2 &  6 &  0.11803645 & 0.03350321\\\\\n",
       "\\end{tabular}\n"
      ],
      "text/markdown": [
       "\n",
       "A data.frame: 6 x 5\n",
       "\n",
       "| <!--/--> | year &lt;int&gt; | quarter &lt;int&gt; | month &lt;dbl&gt; | gdp_growth_rate &lt;dbl&gt; | m2_growth_rate &lt;dbl&gt; |\n",
       "|---|---|---|---|---|---|\n",
       "| 1 | 2003 | 1 |  3 |          NA |         NA |\n",
       "| 2 | 2003 | 2 |  6 |  0.08903639 | 0.04413487 |\n",
       "| 3 | 2003 | 3 |  9 |  0.08490761 | 0.04925471 |\n",
       "| 4 | 2003 | 4 | 12 |  0.12746553 | 0.03426695 |\n",
       "| 5 | 2004 | 1 |  3 | -0.12967664 | 0.04955063 |\n",
       "| 6 | 2004 | 2 |  6 |  0.11803645 | 0.03350321 |\n",
       "\n"
      ],
      "text/plain": [
       "  year quarter month gdp_growth_rate m2_growth_rate\n",
       "1 2003 1        3             NA             NA    \n",
       "2 2003 2        6     0.08903639     0.04413487    \n",
       "3 2003 3        9     0.08490761     0.04925471    \n",
       "4 2003 4       12     0.12746553     0.03426695    \n",
       "5 2004 1        3    -0.12967664     0.04955063    \n",
       "6 2004 2        6     0.11803645     0.03350321    "
      ]
     },
     "metadata": {},
     "output_type": "display_data"
    }
   ],
   "source": [
    "# Read the control_macro data\n",
    "control_macro <- read.csv(\"control_macro.csv\", header = TRUE, stringsAsFactors = FALSE, \n",
    "              colClasses = c(year = \"integer\", quarter = \"integer\", month = \"integer\"))\n",
    "\n",
    "index_cols <- c(\"year\", \"quarter\", \"month\")\n",
    "var_cols <- c(\"gdp_growth_rate\", \"m2_growth_rate\")\n",
    "\n",
    "# Sort by date to ensure chronological order\n",
    "control_macro <- control_macro[order(control_macro$year, control_macro$quarter), ][, c(index_cols, var_cols)]\n",
    "\n",
    "# Find the earliest and latest year-quarter combinations\n",
    "min_year <- min(control_macro$year)\n",
    "min_quarter <- min(control_macro$quarter[control_macro$year == min_year])\n",
    "max_year <- max(control_macro$year)\n",
    "max_quarter <- max(control_macro$quarter[control_macro$year == max_year])\n",
    "\n",
    "cat(\"Date range:\", min_year, \"Q\", min_quarter, \"to\", max_year, \"Q\", max_quarter, \"\\n\")\n",
    "\n",
    "# Create a complete sequence of year-quarter combinations\n",
    "all_dates <- expand.grid(\n",
    "  year = min_year:max_year,\n",
    "  quarter = 1:4\n",
    ")\n",
    "\n",
    "# Filter to keep only dates within the identified range\n",
    "all_dates <- all_dates[\n",
    "  (all_dates$year > min_year | all_dates$quarter >= min_quarter) &\n",
    "  (all_dates$year < max_year | all_dates$quarter <= max_quarter),\n",
    "]\n",
    "all_dates <- all_dates[order(all_dates$year, all_dates$quarter), ]\n",
    "\n",
    "# Add month column (last month of each quarter)\n",
    "all_dates$month <- all_dates$quarter * 3\n",
    "\n",
    "# Merge with actual data (will add NA for missing dates)\n",
    "complete_control_macro <- merge(\n",
    "  all_dates,\n",
    "  control_macro,\n",
    "  by = index_cols,\n",
    "  all.x = TRUE\n",
    ")\n",
    "\n",
    "# Handle merged month columns if they exist\n",
    "if (\"month.y\" %in% colnames(complete_control_macro)) {\n",
    "  # Use month.y values where available, otherwise use month.x\n",
    "  complete_control_macro$month <- ifelse(\n",
    "    is.na(complete_control_macro$month.y),\n",
    "    complete_control_macro$month.x,\n",
    "    complete_control_macro$month.y\n",
    "  )\n",
    "  \n",
    "  # Remove the extra month columns\n",
    "  complete_control_macro$month.x <- NULL\n",
    "  complete_control_macro$month.y <- NULL\n",
    "}\n",
    "\n",
    "# Count missing periods\n",
    "non_date_cols <- setdiff(names(complete_control_macro), index_cols)\n",
    "missing_periods <- sum(apply(complete_control_macro[, non_date_cols, drop=FALSE], 1, function(x) all(is.na(x))))\n",
    "\n",
    "# Report results\n",
    "cat(\"Found\", missing_periods, \"missing year-quarter combinations\\n\")\n",
    "if (missing_periods > 0) {\n",
    "  cat(\"Added missing periods with NA values for observations\\n\")\n",
    "}\n",
    "\n",
    "# Update the control_macro dataframe\n",
    "control_macro <- complete_control_macro[order(complete_control_macro$year, complete_control_macro$quarter), ]\n",
    "\n",
    "# Display the first few rows\n",
    "head(control_macro)"
   ]
  },
  {
   "cell_type": "markdown",
   "id": "85060f5a",
   "metadata": {},
   "source": [
    "- Treat the missing values"
   ]
  },
  {
   "cell_type": "code",
   "execution_count": 20,
   "id": "7884d79f",
   "metadata": {
    "vscode": {
     "languageId": "r"
    }
   },
   "outputs": [
    {
     "name": "stdout",
     "output_type": "stream",
     "text": [
      "Missing values in control_macro:\n",
      "           year         quarter           month gdp_growth_rate  m2_growth_rate \n",
      "              0               0               0               1               1 \n"
     ]
    },
    {
     "name": "stderr",
     "output_type": "stream",
     "text": [
      "Registered S3 method overwritten by 'quantmod':\n",
      "  method            from\n",
      "  as.zoo.data.frame zoo \n",
      "\n"
     ]
    },
    {
     "name": "stdout",
     "output_type": "stream",
     "text": [
      "\n",
      "Missing values after imputation:\n",
      "           year         quarter           month gdp_growth_rate  m2_growth_rate \n",
      "              0               0               0               0               0 \n",
      "\n",
      "Summary of imputed economic variables:\n",
      "GDP growth rate summary:\n",
      "    Min.  1st Qu.   Median     Mean  3rd Qu.     Max. \n",
      "-0.25702  0.03761  0.08028  0.04166  0.11251  0.58151 \n",
      "\n",
      "M2 growth rate summary:\n",
      "    Min.  1st Qu.   Median     Mean  3rd Qu.     Max. \n",
      "-0.03933  0.01921  0.03236  0.03199  0.04113  0.10565 \n"
     ]
    },
    {
     "data": {
      "text/html": [
       "<table class=\"dataframe\">\n",
       "<caption>A data.frame: 6 x 5</caption>\n",
       "<thead>\n",
       "\t<tr><th></th><th scope=col>year</th><th scope=col>quarter</th><th scope=col>month</th><th scope=col>gdp_growth_rate</th><th scope=col>m2_growth_rate</th></tr>\n",
       "\t<tr><th></th><th scope=col>&lt;int&gt;</th><th scope=col>&lt;int&gt;</th><th scope=col>&lt;dbl&gt;</th><th scope=col>&lt;dbl&gt;</th><th scope=col>&lt;dbl&gt;</th></tr>\n",
       "</thead>\n",
       "<tbody>\n",
       "\t<tr><th scope=row>1</th><td>2003</td><td>1</td><td> 3</td><td> 0.58151038</td><td>-0.03933086</td></tr>\n",
       "\t<tr><th scope=row>2</th><td>2003</td><td>2</td><td> 6</td><td> 0.08903639</td><td> 0.04413487</td></tr>\n",
       "\t<tr><th scope=row>3</th><td>2003</td><td>3</td><td> 9</td><td> 0.08490761</td><td> 0.04925471</td></tr>\n",
       "\t<tr><th scope=row>4</th><td>2003</td><td>4</td><td>12</td><td> 0.12746553</td><td> 0.03426695</td></tr>\n",
       "\t<tr><th scope=row>5</th><td>2004</td><td>1</td><td> 3</td><td>-0.12967664</td><td> 0.04955063</td></tr>\n",
       "\t<tr><th scope=row>6</th><td>2004</td><td>2</td><td> 6</td><td> 0.11803645</td><td> 0.03350321</td></tr>\n",
       "</tbody>\n",
       "</table>\n"
      ],
      "text/latex": [
       "A data.frame: 6 x 5\n",
       "\\begin{tabular}{r|lllll}\n",
       "  & year & quarter & month & gdp\\_growth\\_rate & m2\\_growth\\_rate\\\\\n",
       "  & <int> & <int> & <dbl> & <dbl> & <dbl>\\\\\n",
       "\\hline\n",
       "\t1 & 2003 & 1 &  3 &  0.58151038 & -0.03933086\\\\\n",
       "\t2 & 2003 & 2 &  6 &  0.08903639 &  0.04413487\\\\\n",
       "\t3 & 2003 & 3 &  9 &  0.08490761 &  0.04925471\\\\\n",
       "\t4 & 2003 & 4 & 12 &  0.12746553 &  0.03426695\\\\\n",
       "\t5 & 2004 & 1 &  3 & -0.12967664 &  0.04955063\\\\\n",
       "\t6 & 2004 & 2 &  6 &  0.11803645 &  0.03350321\\\\\n",
       "\\end{tabular}\n"
      ],
      "text/markdown": [
       "\n",
       "A data.frame: 6 x 5\n",
       "\n",
       "| <!--/--> | year &lt;int&gt; | quarter &lt;int&gt; | month &lt;dbl&gt; | gdp_growth_rate &lt;dbl&gt; | m2_growth_rate &lt;dbl&gt; |\n",
       "|---|---|---|---|---|---|\n",
       "| 1 | 2003 | 1 |  3 |  0.58151038 | -0.03933086 |\n",
       "| 2 | 2003 | 2 |  6 |  0.08903639 |  0.04413487 |\n",
       "| 3 | 2003 | 3 |  9 |  0.08490761 |  0.04925471 |\n",
       "| 4 | 2003 | 4 | 12 |  0.12746553 |  0.03426695 |\n",
       "| 5 | 2004 | 1 |  3 | -0.12967664 |  0.04955063 |\n",
       "| 6 | 2004 | 2 |  6 |  0.11803645 |  0.03350321 |\n",
       "\n"
      ],
      "text/plain": [
       "  year quarter month gdp_growth_rate m2_growth_rate\n",
       "1 2003 1        3     0.58151038     -0.03933086   \n",
       "2 2003 2        6     0.08903639      0.04413487   \n",
       "3 2003 3        9     0.08490761      0.04925471   \n",
       "4 2003 4       12     0.12746553      0.03426695   \n",
       "5 2004 1        3    -0.12967664      0.04955063   \n",
       "6 2004 2        6     0.11803645      0.03350321   "
      ]
     },
     "metadata": {},
     "output_type": "display_data"
    }
   ],
   "source": [
    "# Check current missing values in control_macro data\n",
    "missing_values <- colSums(is.na(control_macro))\n",
    "cat(\"Missing values in control_macro:\\n\")\n",
    "print(missing_values)\n",
    "\n",
    "# Impute missing values for each economic variable\n",
    "library(zoo)\n",
    "library(forecast)\n",
    "\n",
    "# Create a time index for better time series handling\n",
    "control_macro$time_idx <- control_macro$year + (control_macro$quarter - 1) / 4\n",
    "\n",
    "# Sort data by time\n",
    "control_macro <- control_macro[order(control_macro$time_idx), ]\n",
    "\n",
    "# Function to impute missing economic time series data\n",
    "impute_economic_ts <- function(x, time_idx) {\n",
    "    # If no missing values, return as is\n",
    "    if(!any(is.na(x))) return(x)\n",
    "    \n",
    "    # For short gaps (1-2 periods), use spline interpolation\n",
    "    x_spline <- na.spline(x, na.rm = FALSE)\n",
    "    \n",
    "    # For remaining gaps, try time series methods\n",
    "    if(any(is.na(x_spline))) {\n",
    "        # Create a time series object\n",
    "        ts_data <- ts(x, frequency = 4)  # Quarterly data has frequency 4\n",
    "        \n",
    "        # Simple imputation with seasonal components\n",
    "        x_seadec <- na.seadec(ts_data, algorithm = \"interpolation\")\n",
    "        \n",
    "        # Replace values still missing after spline with these estimates\n",
    "        na_idx <- which(is.na(x_spline))\n",
    "        x_spline[na_idx] <- x_seadec[na_idx]\n",
    "        \n",
    "        # If still have missing values (e.g., at edges), use ARIMA forecasting\n",
    "        if(any(is.na(x_spline))) {\n",
    "            # First fill leading NAs with the first non-NA value\n",
    "            if(is.na(x_spline[1])) {\n",
    "                first_valid <- min(which(!is.na(x_spline)))\n",
    "                x_spline[1:first_valid-1] <- x_spline[first_valid]\n",
    "            }\n",
    "            \n",
    "            # Then fill trailing NAs with the last non-NA value\n",
    "            if(is.na(x_spline[length(x_spline)])) {\n",
    "                last_valid <- max(which(!is.na(x_spline)))\n",
    "                x_spline[last_valid+1:length(x_spline)] <- x_spline[last_valid]\n",
    "            }\n",
    "        }\n",
    "    }\n",
    "    \n",
    "    return(x_spline)\n",
    "}\n",
    "\n",
    "# Apply imputation to each economic variable\n",
    "control_macro$gdp_growth_rate <- impute_economic_ts(control_macro$gdp_growth_rate, control_macro$time_idx)\n",
    "control_macro$m2_growth_rate <- impute_economic_ts(control_macro$m2_growth_rate, control_macro$time_idx)\n",
    "\n",
    "# Remove the time index after imputation\n",
    "control_macro$time_idx <- NULL\n",
    "\n",
    "# Check if imputation was successful\n",
    "missing_after <- colSums(is.na(control_macro))\n",
    "cat(\"\\nMissing values after imputation:\\n\")\n",
    "print(missing_after)\n",
    "\n",
    "# Verify the imputed data makes economic sense\n",
    "cat(\"\\nSummary of imputed economic variables:\\n\")\n",
    "cat(\"GDP growth rate summary:\\n\")\n",
    "print(summary(control_macro$gdp_growth_rate))\n",
    "cat(\"\\nM2 growth rate summary:\\n\")\n",
    "print(summary(control_macro$m2_growth_rate))\n",
    "\n",
    "# Display the first few rows to check for patterns\n",
    "head(control_macro)"
   ]
  },
  {
   "cell_type": "markdown",
   "id": "a19f67d3",
   "metadata": {},
   "source": [
    "#### Merge Micro & Macro"
   ]
  },
  {
   "cell_type": "code",
   "execution_count": 21,
   "id": "3a0b00b7",
   "metadata": {
    "vscode": {
     "languageId": "r"
    }
   },
   "outputs": [
    {
     "name": "stdout",
     "output_type": "stream",
     "text": [
      "Control_micro dimensions: 166952 observations, 12 variables\n",
      "Control_macro dimensions: 88 observations, 5 variables\n",
      "\n",
      "Merged control dataset dimensions: 166952 observations, 14 variables\n",
      "Number of stocks in merged dataset: 4965 \n",
      "Time period covered: 2008 Q 1 to 2022 Q 4 \n",
      "\n",
      "No missing values in the merged dataset\n"
     ]
    },
    {
     "data": {
      "text/html": [
       "<table class=\"dataframe\">\n",
       "<caption>A data.frame: 6 x 14</caption>\n",
       "<thead>\n",
       "\t<tr><th></th><th scope=col>year</th><th scope=col>quarter</th><th scope=col>month</th><th scope=col>stkcd</th><th scope=col>Size</th><th scope=col>Lev</th><th scope=col>ROA</th><th scope=col>BM</th><th scope=col>Board</th><th scope=col>Top1</th><th scope=col>SOE</th><th scope=col>ind</th><th scope=col>gdp_growth_rate</th><th scope=col>m2_growth_rate</th></tr>\n",
       "\t<tr><th></th><th scope=col>&lt;int&gt;</th><th scope=col>&lt;int&gt;</th><th scope=col>&lt;dbl&gt;</th><th scope=col>&lt;chr&gt;</th><th scope=col>&lt;dbl&gt;</th><th scope=col>&lt;dbl&gt;</th><th scope=col>&lt;dbl&gt;</th><th scope=col>&lt;dbl&gt;</th><th scope=col>&lt;dbl&gt;</th><th scope=col>&lt;dbl&gt;</th><th scope=col>&lt;int&gt;</th><th scope=col>&lt;fct&gt;</th><th scope=col>&lt;dbl&gt;</th><th scope=col>&lt;dbl&gt;</th></tr>\n",
       "</thead>\n",
       "<tbody>\n",
       "\t<tr><th scope=row>1</th><td>2008</td><td>1</td><td>3</td><td>000002</td><td>25.31735</td><td>0.6654745</td><td> 0.007196</td><td>0.6847717</td><td>2.397895</td><td>0.146345</td><td>0</td><td>K  </td><td>-0.1157663</td><td>0.05393113</td></tr>\n",
       "\t<tr><th scope=row>2</th><td>2008</td><td>1</td><td>3</td><td>600285</td><td>20.70395</td><td>0.4129128</td><td> 0.001340</td><td>0.4533193</td><td>2.197225</td><td>0.094434</td><td>1</td><td>C27</td><td>-0.1157663</td><td>0.05393113</td></tr>\n",
       "\t<tr><th scope=row>3</th><td>2008</td><td>1</td><td>3</td><td>002192</td><td>19.65011</td><td>0.3093229</td><td>-0.002974</td><td>0.3012335</td><td>2.079442</td><td>0.331843</td><td>0</td><td>C25</td><td>-0.1157663</td><td>0.05393113</td></tr>\n",
       "\t<tr><th scope=row>4</th><td>2008</td><td>1</td><td>3</td><td>000859</td><td>21.36608</td><td>0.4419385</td><td> 0.002923</td><td>0.5352634</td><td>2.302585</td><td>0.340578</td><td>1</td><td>C29</td><td>-0.1157663</td><td>0.05393113</td></tr>\n",
       "\t<tr><th scope=row>5</th><td>2008</td><td>1</td><td>3</td><td>000005</td><td>21.11211</td><td>0.4897155</td><td> 0.001542</td><td>0.2352045</td><td>2.708050</td><td>0.201386</td><td>0</td><td>S  </td><td>-0.1157663</td><td>0.05393113</td></tr>\n",
       "\t<tr><th scope=row>6</th><td>2008</td><td>1</td><td>3</td><td>600287</td><td>22.00931</td><td>0.6698279</td><td> 0.002023</td><td>0.8710921</td><td>1.791759</td><td>0.497270</td><td>1</td><td>F  </td><td>-0.1157663</td><td>0.05393113</td></tr>\n",
       "</tbody>\n",
       "</table>\n"
      ],
      "text/latex": [
       "A data.frame: 6 x 14\n",
       "\\begin{tabular}{r|llllllllllllll}\n",
       "  & year & quarter & month & stkcd & Size & Lev & ROA & BM & Board & Top1 & SOE & ind & gdp\\_growth\\_rate & m2\\_growth\\_rate\\\\\n",
       "  & <int> & <int> & <dbl> & <chr> & <dbl> & <dbl> & <dbl> & <dbl> & <dbl> & <dbl> & <int> & <fct> & <dbl> & <dbl>\\\\\n",
       "\\hline\n",
       "\t1 & 2008 & 1 & 3 & 000002 & 25.31735 & 0.6654745 &  0.007196 & 0.6847717 & 2.397895 & 0.146345 & 0 & K   & -0.1157663 & 0.05393113\\\\\n",
       "\t2 & 2008 & 1 & 3 & 600285 & 20.70395 & 0.4129128 &  0.001340 & 0.4533193 & 2.197225 & 0.094434 & 1 & C27 & -0.1157663 & 0.05393113\\\\\n",
       "\t3 & 2008 & 1 & 3 & 002192 & 19.65011 & 0.3093229 & -0.002974 & 0.3012335 & 2.079442 & 0.331843 & 0 & C25 & -0.1157663 & 0.05393113\\\\\n",
       "\t4 & 2008 & 1 & 3 & 000859 & 21.36608 & 0.4419385 &  0.002923 & 0.5352634 & 2.302585 & 0.340578 & 1 & C29 & -0.1157663 & 0.05393113\\\\\n",
       "\t5 & 2008 & 1 & 3 & 000005 & 21.11211 & 0.4897155 &  0.001542 & 0.2352045 & 2.708050 & 0.201386 & 0 & S   & -0.1157663 & 0.05393113\\\\\n",
       "\t6 & 2008 & 1 & 3 & 600287 & 22.00931 & 0.6698279 &  0.002023 & 0.8710921 & 1.791759 & 0.497270 & 1 & F   & -0.1157663 & 0.05393113\\\\\n",
       "\\end{tabular}\n"
      ],
      "text/markdown": [
       "\n",
       "A data.frame: 6 x 14\n",
       "\n",
       "| <!--/--> | year &lt;int&gt; | quarter &lt;int&gt; | month &lt;dbl&gt; | stkcd &lt;chr&gt; | Size &lt;dbl&gt; | Lev &lt;dbl&gt; | ROA &lt;dbl&gt; | BM &lt;dbl&gt; | Board &lt;dbl&gt; | Top1 &lt;dbl&gt; | SOE &lt;int&gt; | ind &lt;fct&gt; | gdp_growth_rate &lt;dbl&gt; | m2_growth_rate &lt;dbl&gt; |\n",
       "|---|---|---|---|---|---|---|---|---|---|---|---|---|---|---|\n",
       "| 1 | 2008 | 1 | 3 | 000002 | 25.31735 | 0.6654745 |  0.007196 | 0.6847717 | 2.397895 | 0.146345 | 0 | K   | -0.1157663 | 0.05393113 |\n",
       "| 2 | 2008 | 1 | 3 | 600285 | 20.70395 | 0.4129128 |  0.001340 | 0.4533193 | 2.197225 | 0.094434 | 1 | C27 | -0.1157663 | 0.05393113 |\n",
       "| 3 | 2008 | 1 | 3 | 002192 | 19.65011 | 0.3093229 | -0.002974 | 0.3012335 | 2.079442 | 0.331843 | 0 | C25 | -0.1157663 | 0.05393113 |\n",
       "| 4 | 2008 | 1 | 3 | 000859 | 21.36608 | 0.4419385 |  0.002923 | 0.5352634 | 2.302585 | 0.340578 | 1 | C29 | -0.1157663 | 0.05393113 |\n",
       "| 5 | 2008 | 1 | 3 | 000005 | 21.11211 | 0.4897155 |  0.001542 | 0.2352045 | 2.708050 | 0.201386 | 0 | S   | -0.1157663 | 0.05393113 |\n",
       "| 6 | 2008 | 1 | 3 | 600287 | 22.00931 | 0.6698279 |  0.002023 | 0.8710921 | 1.791759 | 0.497270 | 1 | F   | -0.1157663 | 0.05393113 |\n",
       "\n"
      ],
      "text/plain": [
       "  year quarter month stkcd  Size     Lev       ROA       BM        Board   \n",
       "1 2008 1       3     000002 25.31735 0.6654745  0.007196 0.6847717 2.397895\n",
       "2 2008 1       3     600285 20.70395 0.4129128  0.001340 0.4533193 2.197225\n",
       "3 2008 1       3     002192 19.65011 0.3093229 -0.002974 0.3012335 2.079442\n",
       "4 2008 1       3     000859 21.36608 0.4419385  0.002923 0.5352634 2.302585\n",
       "5 2008 1       3     000005 21.11211 0.4897155  0.001542 0.2352045 2.708050\n",
       "6 2008 1       3     600287 22.00931 0.6698279  0.002023 0.8710921 1.791759\n",
       "  Top1     SOE ind gdp_growth_rate m2_growth_rate\n",
       "1 0.146345 0   K   -0.1157663      0.05393113    \n",
       "2 0.094434 1   C27 -0.1157663      0.05393113    \n",
       "3 0.331843 0   C25 -0.1157663      0.05393113    \n",
       "4 0.340578 1   C29 -0.1157663      0.05393113    \n",
       "5 0.201386 0   S   -0.1157663      0.05393113    \n",
       "6 0.497270 1   F   -0.1157663      0.05393113    "
      ]
     },
     "metadata": {},
     "output_type": "display_data"
    }
   ],
   "source": [
    "# Merge the control_micro and control_macro datasets\n",
    "# This will add macro variables to each stock in each time period\n",
    "\n",
    "# First, check dimensions of input datasets\n",
    "cat(\"Control_micro dimensions:\", dim(control_micro)[1], \"observations,\", dim(control_micro)[2], \"variables\\n\")\n",
    "cat(\"Control_macro dimensions:\", dim(control_macro)[1], \"observations,\", dim(control_macro)[2], \"variables\\n\")\n",
    "\n",
    "# Perform the merge using merge() function with an inner join approach\n",
    "control <- merge(\n",
    "    control_micro,  # Stock-level micro controls\n",
    "    control_macro,  # Time-level macro controls\n",
    "    by = c(\"year\", \"quarter\", \"month\"),  # Join keys\n",
    "    all.x = FALSE,  # Inner join to keep only matched records\n",
    "    all.y = FALSE\n",
    ")\n",
    "\n",
    "# Verify the structure of the merged dataset\n",
    "cat(\"\\nMerged control dataset dimensions:\", dim(control)[1], \"observations,\", dim(control)[2], \"variables\\n\")\n",
    "cat(\"Number of stocks in merged dataset:\", length(unique(control$stkcd)), \"\\n\")\n",
    "cat(\"Time period covered:\", min(paste(control$year, \"Q\", control$quarter)), \"to\", \n",
    "        max(paste(control$year, \"Q\", control$quarter)), \"\\n\")\n",
    "\n",
    "# Check for missing values in key columns\n",
    "missing_counts <- colSums(is.na(control))\n",
    "if (any(missing_counts > 0)) {\n",
    "    cat(\"\\nMissing values found in the following columns:\\n\")\n",
    "    print(missing_counts[missing_counts > 0])\n",
    "} else {\n",
    "    cat(\"\\nNo missing values in the merged dataset\\n\")\n",
    "}\n",
    "\n",
    "# Display the first few rows of the merged dataset\n",
    "head(control)"
   ]
  },
  {
   "cell_type": "markdown",
   "id": "b85021e6",
   "metadata": {},
   "source": [
    "## Panel preparation"
   ]
  },
  {
   "cell_type": "markdown",
   "id": "d4df9218",
   "metadata": {},
   "source": [
    "### Variable Calculation"
   ]
  },
  {
   "cell_type": "markdown",
   "id": "b3335276",
   "metadata": {},
   "source": [
    "#### GFC"
   ]
  },
  {
   "cell_type": "code",
   "execution_count": 22,
   "id": "4a64fd7d",
   "metadata": {
    "vscode": {
     "languageId": "r"
    }
   },
   "outputs": [
    {
     "name": "stdout",
     "output_type": "stream",
     "text": [
      "GFC indicators calculated for 138 quarters\n"
     ]
    },
    {
     "data": {
      "text/html": [
       "<table class=\"dataframe\">\n",
       "<caption>A data.frame: 6 x 6</caption>\n",
       "<thead>\n",
       "\t<tr><th></th><th scope=col>year</th><th scope=col>month</th><th scope=col>quarter</th><th scope=col>log_diff_lag1</th><th scope=col>log_diff_avg_lag1</th><th scope=col>diff_gfcf_lag1</th></tr>\n",
       "\t<tr><th></th><th scope=col>&lt;int&gt;</th><th scope=col>&lt;dbl&gt;</th><th scope=col>&lt;dbl&gt;</th><th scope=col>&lt;dbl&gt;</th><th scope=col>&lt;dbl&gt;</th><th scope=col>&lt;dbl&gt;</th></tr>\n",
       "</thead>\n",
       "<tbody>\n",
       "\t<tr><th scope=row>3</th><td>1990</td><td> 9</td><td>3</td><td>-0.12035515</td><td>-0.16693099</td><td> 0.11544264</td></tr>\n",
       "\t<tr><th scope=row>4</th><td>1990</td><td>12</td><td>4</td><td> 0.41179163</td><td> 0.29528976</td><td>-1.08445686</td></tr>\n",
       "\t<tr><th scope=row>5</th><td>1991</td><td> 3</td><td>1</td><td>-0.07071789</td><td> 0.02621695</td><td> 0.07670249</td></tr>\n",
       "\t<tr><th scope=row>6</th><td>1991</td><td> 6</td><td>2</td><td> 0.06328700</td><td>-0.15112439</td><td> 0.67129779</td></tr>\n",
       "\t<tr><th scope=row>7</th><td>1991</td><td> 9</td><td>3</td><td>-0.58734477</td><td>-0.26578044</td><td>-0.01359283</td></tr>\n",
       "\t<tr><th scope=row>8</th><td>1991</td><td>12</td><td>4</td><td> 0.05181503</td><td>-0.02721769</td><td> 0.02934118</td></tr>\n",
       "</tbody>\n",
       "</table>\n"
      ],
      "text/latex": [
       "A data.frame: 6 x 6\n",
       "\\begin{tabular}{r|llllll}\n",
       "  & year & month & quarter & log\\_diff\\_lag1 & log\\_diff\\_avg\\_lag1 & diff\\_gfcf\\_lag1\\\\\n",
       "  & <int> & <dbl> & <dbl> & <dbl> & <dbl> & <dbl>\\\\\n",
       "\\hline\n",
       "\t3 & 1990 &  9 & 3 & -0.12035515 & -0.16693099 &  0.11544264\\\\\n",
       "\t4 & 1990 & 12 & 4 &  0.41179163 &  0.29528976 & -1.08445686\\\\\n",
       "\t5 & 1991 &  3 & 1 & -0.07071789 &  0.02621695 &  0.07670249\\\\\n",
       "\t6 & 1991 &  6 & 2 &  0.06328700 & -0.15112439 &  0.67129779\\\\\n",
       "\t7 & 1991 &  9 & 3 & -0.58734477 & -0.26578044 & -0.01359283\\\\\n",
       "\t8 & 1991 & 12 & 4 &  0.05181503 & -0.02721769 &  0.02934118\\\\\n",
       "\\end{tabular}\n"
      ],
      "text/markdown": [
       "\n",
       "A data.frame: 6 x 6\n",
       "\n",
       "| <!--/--> | year &lt;int&gt; | month &lt;dbl&gt; | quarter &lt;dbl&gt; | log_diff_lag1 &lt;dbl&gt; | log_diff_avg_lag1 &lt;dbl&gt; | diff_gfcf_lag1 &lt;dbl&gt; |\n",
       "|---|---|---|---|---|---|---|\n",
       "| 3 | 1990 |  9 | 3 | -0.12035515 | -0.16693099 |  0.11544264 |\n",
       "| 4 | 1990 | 12 | 4 |  0.41179163 |  0.29528976 | -1.08445686 |\n",
       "| 5 | 1991 |  3 | 1 | -0.07071789 |  0.02621695 |  0.07670249 |\n",
       "| 6 | 1991 |  6 | 2 |  0.06328700 | -0.15112439 |  0.67129779 |\n",
       "| 7 | 1991 |  9 | 3 | -0.58734477 | -0.26578044 | -0.01359283 |\n",
       "| 8 | 1991 | 12 | 4 |  0.05181503 | -0.02721769 |  0.02934118 |\n",
       "\n"
      ],
      "text/plain": [
       "  year month quarter log_diff_lag1 log_diff_avg_lag1 diff_gfcf_lag1\n",
       "3 1990  9    3       -0.12035515   -0.16693099        0.11544264   \n",
       "4 1990 12    4        0.41179163    0.29528976       -1.08445686   \n",
       "5 1991  3    1       -0.07071789    0.02621695        0.07670249   \n",
       "6 1991  6    2        0.06328700   -0.15112439        0.67129779   \n",
       "7 1991  9    3       -0.58734477   -0.26578044       -0.01359283   \n",
       "8 1991 12    4        0.05181503   -0.02721769        0.02934118   "
      ]
     },
     "metadata": {},
     "output_type": "display_data"
    }
   ],
   "source": [
    "# 1. Process VIX for quarter-end values\n",
    "vix$year <- as.integer(format(vix$date, \"%Y\"))\n",
    "vix$month <- as.integer(format(vix$date, \"%m\"))\n",
    "vix$quarter <- ceiling(vix$month / 3)\n",
    "\n",
    "# Find last trading day of each quarter\n",
    "vix_quarter_end <- aggregate(\n",
    "    cbind(date, close) ~ year + quarter, \n",
    "    data = vix, \n",
    "    FUN = function(x) x[which.max(as.Date(x))]\n",
    ")\n",
    "vix_quarter_end$month <- vix_quarter_end$quarter * 3  # Last month of quarter\n",
    "\n",
    "# 2. Process VIX for quarterly averages\n",
    "vix_quarterly_avg <- aggregate(close ~ year + quarter, data = vix, FUN = mean)\n",
    "vix_quarterly_avg$month <- vix_quarterly_avg$quarter * 3\n",
    "\n",
    "# 3. Process GFCF for quarter-end values\n",
    "gfcf_quarter_end <- gfcf[gfcf$month %in% c(3, 6, 9, 12), ]\n",
    "gfcf_quarter_end$quarter <- ceiling(gfcf_quarter_end$month / 3)\n",
    "\n",
    "# Calculate logs and first differences\n",
    "# 1. VIX quarter-end\n",
    "vix_quarter_end$log_vix <- log(vix_quarter_end$close)\n",
    "vix_quarter_end <- vix_quarter_end[order(vix_quarter_end$year, vix_quarter_end$quarter), ]\n",
    "vix_quarter_end$log_diff <- c(NA, diff(vix_quarter_end$log_vix))\n",
    "\n",
    "# 2. VIX quarterly average\n",
    "vix_quarterly_avg$log_vix_avg <- log(vix_quarterly_avg$close)\n",
    "vix_quarterly_avg <- vix_quarterly_avg[order(vix_quarterly_avg$year, vix_quarterly_avg$quarter), ]\n",
    "vix_quarterly_avg$log_diff_avg <- c(NA, diff(vix_quarterly_avg$log_vix_avg))\n",
    "\n",
    "# 3. GFCF quarter-end - CHANGED: using direct difference instead of log difference\n",
    "gfcf_quarter_end <- gfcf_quarter_end[order(gfcf_quarter_end$year, gfcf_quarter_end$quarter), ]\n",
    "gfcf_quarter_end$diff_gfcf <- c(NA, diff(gfcf_quarter_end$gfcf))\n",
    "\n",
    "# Merge indicators using inner joins to keep only periods with all data available\n",
    "# First merge VIX quarter-end with VIX quarterly average\n",
    "gfc_indicators <- merge(\n",
    "    vix_quarter_end[, c(\"year\", \"quarter\", \"month\", \"log_diff\")],\n",
    "    vix_quarterly_avg[, c(\"year\", \"quarter\", \"log_diff_avg\")],\n",
    "    by = c(\"year\", \"quarter\"),\n",
    "    all = FALSE  # Inner join\n",
    ")\n",
    "\n",
    "# Then merge with GFCF quarter-end - CHANGED: using diff_gfcf instead of log_diff_gfcf\n",
    "gfc_indicators <- merge(\n",
    "    gfc_indicators,\n",
    "    gfcf_quarter_end[, c(\"year\", \"quarter\", \"diff_gfcf\")],\n",
    "    by = c(\"year\", \"quarter\"),\n",
    "    all = FALSE  # Inner join\n",
    ")\n",
    "\n",
    "# Sort chronologically\n",
    "gfc_indicators <- gfc_indicators[order(gfc_indicators$year, gfc_indicators$quarter), ]\n",
    "\n",
    "# Add lagged values (for t-1 period)\n",
    "gfc_indicators$log_diff_lag1 <- c(NA, gfc_indicators$log_diff[-nrow(gfc_indicators)])\n",
    "gfc_indicators$log_diff_avg_lag1 <- c(NA, gfc_indicators$log_diff_avg[-nrow(gfc_indicators)])\n",
    "gfc_indicators$diff_gfcf_lag1 <- c(NA, gfc_indicators$diff_gfcf[-nrow(gfc_indicators)])\n",
    "\n",
    "# Add date column for easier merging\n",
    "gfc_indicators$date <- as.Date(paste(gfc_indicators$year, gfc_indicators$month, \"01\", sep = \"-\"))\n",
    "\n",
    "gfc_indicators <- gfc_indicators[, c(\"year\", \"month\", \"quarter\", \"log_diff_lag1\", \"log_diff_avg_lag1\", \"diff_gfcf_lag1\")]\n",
    "\n",
    "# Remove rows with NA for lagged values (first period)\n",
    "gfc_indicators <- gfc_indicators[!is.na(gfc_indicators$log_diff_lag1), ]\n",
    "\n",
    "# Display summary\n",
    "cat(\"GFC indicators calculated for\", nrow(gfc_indicators), \"quarters\\n\")\n",
    "head(gfc_indicators)"
   ]
  },
  {
   "cell_type": "markdown",
   "id": "e10b6259",
   "metadata": {},
   "source": [
    "#### Volatility"
   ]
  },
  {
   "cell_type": "markdown",
   "id": "9a998fb8",
   "metadata": {},
   "source": [
    "- Calculate the volatility as the standard deviation of return rate cycle component within a 48-month (4-year) rolling window"
   ]
  },
  {
   "cell_type": "code",
   "execution_count": 23,
   "id": "5b325607",
   "metadata": {
    "vscode": {
     "languageId": "r"
    }
   },
   "outputs": [
    {
     "data": {
      "text/html": [
       "<table class=\"dataframe\">\n",
       "<caption>A data.frame: 6 x 152</caption>\n",
       "<thead>\n",
       "\t<tr><th></th><th scope=col>year</th><th scope=col>quarter</th><th scope=col>month</th><th scope=col>000001</th><th scope=col>000002</th><th scope=col>000063</th><th scope=col>000157</th><th scope=col>000301</th><th scope=col>000338</th><th scope=col>000425</th><th scope=col>...</th><th scope=col>601857</th><th scope=col>601872</th><th scope=col>601877</th><th scope=col>601888</th><th scope=col>601898</th><th scope=col>601899</th><th scope=col>601939</th><th scope=col>601988</th><th scope=col>601989</th><th scope=col>601998</th></tr>\n",
       "\t<tr><th></th><th scope=col>&lt;int&gt;</th><th scope=col>&lt;dbl&gt;</th><th scope=col>&lt;int&gt;</th><th scope=col>&lt;dbl&gt;</th><th scope=col>&lt;dbl&gt;</th><th scope=col>&lt;dbl&gt;</th><th scope=col>&lt;dbl&gt;</th><th scope=col>&lt;dbl&gt;</th><th scope=col>&lt;dbl&gt;</th><th scope=col>&lt;dbl&gt;</th><th scope=col>...</th><th scope=col>&lt;dbl&gt;</th><th scope=col>&lt;dbl&gt;</th><th scope=col>&lt;dbl&gt;</th><th scope=col>&lt;dbl&gt;</th><th scope=col>&lt;dbl&gt;</th><th scope=col>&lt;dbl&gt;</th><th scope=col>&lt;dbl&gt;</th><th scope=col>&lt;dbl&gt;</th><th scope=col>&lt;dbl&gt;</th><th scope=col>&lt;dbl&gt;</th></tr>\n",
       "</thead>\n",
       "<tbody>\n",
       "\t<tr><th scope=row>48</th><td>2016</td><td>1</td><td>1</td><td>11.12355</td><td>9.253694</td><td>10.36819</td><td>8.614711</td><td>10.66467</td><td>8.384462</td><td>10.86323</td><td>...</td><td>5.498045</td><td>13.19412</td><td>7.315076</td><td>6.999269</td><td>11.08972</td><td>11.02880</td><td>6.496128</td><td>5.750086</td><td>12.35487</td><td>10.51822</td></tr>\n",
       "\t<tr><th scope=row>49</th><td>2016</td><td>1</td><td>2</td><td>11.13727</td><td>9.219553</td><td>10.09476</td><td>8.599081</td><td>10.61434</td><td>8.360619</td><td>10.84743</td><td>...</td><td>5.460883</td><td>13.17024</td><td>7.197324</td><td>7.070943</td><td>11.03373</td><td>11.05998</td><td>6.541287</td><td>5.741362</td><td>12.27668</td><td>10.51063</td></tr>\n",
       "\t<tr><th scope=row>50</th><td>2016</td><td>1</td><td>3</td><td>11.18649</td><td>9.219607</td><td>10.16105</td><td>8.700393</td><td>10.68461</td><td>8.358254</td><td>11.06297</td><td>...</td><td>5.436743</td><td>13.21019</td><td>7.212554</td><td>7.118779</td><td>11.02220</td><td>10.95722</td><td>6.615632</td><td>5.819976</td><td>12.76728</td><td>10.63625</td></tr>\n",
       "\t<tr><th scope=row>51</th><td>2016</td><td>2</td><td>4</td><td>11.15866</td><td>9.176814</td><td>10.20220</td><td>8.458706</td><td>10.42040</td><td>8.185450</td><td>10.81323</td><td>...</td><td>5.413795</td><td>13.14946</td><td>7.282186</td><td>6.939559</td><td>10.98761</td><td>10.91621</td><td>6.636956</td><td>5.813161</td><td>12.79760</td><td>10.60346</td></tr>\n",
       "\t<tr><th scope=row>52</th><td>2016</td><td>2</td><td>5</td><td>11.13431</td><td>9.179539</td><td>10.16375</td><td>8.316153</td><td>10.44452</td><td>8.190901</td><td>10.82345</td><td>...</td><td>5.389511</td><td>13.05255</td><td>7.278994</td><td>6.852661</td><td>11.02849</td><td>10.94166</td><td>6.605485</td><td>5.812899</td><td>12.79711</td><td>10.57233</td></tr>\n",
       "\t<tr><th scope=row>53</th><td>2016</td><td>2</td><td>6</td><td>11.12291</td><td>9.148981</td><td>10.10884</td><td>8.268319</td><td>10.36937</td><td>8.110892</td><td>10.83932</td><td>...</td><td>5.387518</td><td>13.03673</td><td>7.188860</td><td>6.837364</td><td>10.98823</td><td>11.01500</td><td>6.612699</td><td>5.806923</td><td>12.70478</td><td>10.55278</td></tr>\n",
       "</tbody>\n",
       "</table>\n"
      ],
      "text/latex": [
       "A data.frame: 6 x 152\n",
       "\\begin{tabular}{r|lllllllllllllllllllll}\n",
       "  & year & quarter & month & 000001 & 000002 & 000063 & 000157 & 000301 & 000338 & 000425 & ... & 601857 & 601872 & 601877 & 601888 & 601898 & 601899 & 601939 & 601988 & 601989 & 601998\\\\\n",
       "  & <int> & <dbl> & <int> & <dbl> & <dbl> & <dbl> & <dbl> & <dbl> & <dbl> & <dbl> & ... & <dbl> & <dbl> & <dbl> & <dbl> & <dbl> & <dbl> & <dbl> & <dbl> & <dbl> & <dbl>\\\\\n",
       "\\hline\n",
       "\t48 & 2016 & 1 & 1 & 11.12355 & 9.253694 & 10.36819 & 8.614711 & 10.66467 & 8.384462 & 10.86323 & ... & 5.498045 & 13.19412 & 7.315076 & 6.999269 & 11.08972 & 11.02880 & 6.496128 & 5.750086 & 12.35487 & 10.51822\\\\\n",
       "\t49 & 2016 & 1 & 2 & 11.13727 & 9.219553 & 10.09476 & 8.599081 & 10.61434 & 8.360619 & 10.84743 & ... & 5.460883 & 13.17024 & 7.197324 & 7.070943 & 11.03373 & 11.05998 & 6.541287 & 5.741362 & 12.27668 & 10.51063\\\\\n",
       "\t50 & 2016 & 1 & 3 & 11.18649 & 9.219607 & 10.16105 & 8.700393 & 10.68461 & 8.358254 & 11.06297 & ... & 5.436743 & 13.21019 & 7.212554 & 7.118779 & 11.02220 & 10.95722 & 6.615632 & 5.819976 & 12.76728 & 10.63625\\\\\n",
       "\t51 & 2016 & 2 & 4 & 11.15866 & 9.176814 & 10.20220 & 8.458706 & 10.42040 & 8.185450 & 10.81323 & ... & 5.413795 & 13.14946 & 7.282186 & 6.939559 & 10.98761 & 10.91621 & 6.636956 & 5.813161 & 12.79760 & 10.60346\\\\\n",
       "\t52 & 2016 & 2 & 5 & 11.13431 & 9.179539 & 10.16375 & 8.316153 & 10.44452 & 8.190901 & 10.82345 & ... & 5.389511 & 13.05255 & 7.278994 & 6.852661 & 11.02849 & 10.94166 & 6.605485 & 5.812899 & 12.79711 & 10.57233\\\\\n",
       "\t53 & 2016 & 2 & 6 & 11.12291 & 9.148981 & 10.10884 & 8.268319 & 10.36937 & 8.110892 & 10.83932 & ... & 5.387518 & 13.03673 & 7.188860 & 6.837364 & 10.98823 & 11.01500 & 6.612699 & 5.806923 & 12.70478 & 10.55278\\\\\n",
       "\\end{tabular}\n"
      ],
      "text/markdown": [
       "\n",
       "A data.frame: 6 x 152\n",
       "\n",
       "| <!--/--> | year &lt;int&gt; | quarter &lt;dbl&gt; | month &lt;int&gt; | 000001 &lt;dbl&gt; | 000002 &lt;dbl&gt; | 000063 &lt;dbl&gt; | 000157 &lt;dbl&gt; | 000301 &lt;dbl&gt; | 000338 &lt;dbl&gt; | 000425 &lt;dbl&gt; | ... ... | 601857 &lt;dbl&gt; | 601872 &lt;dbl&gt; | 601877 &lt;dbl&gt; | 601888 &lt;dbl&gt; | 601898 &lt;dbl&gt; | 601899 &lt;dbl&gt; | 601939 &lt;dbl&gt; | 601988 &lt;dbl&gt; | 601989 &lt;dbl&gt; | 601998 &lt;dbl&gt; |\n",
       "|---|---|---|---|---|---|---|---|---|---|---|---|---|---|---|---|---|---|---|---|---|---|\n",
       "| 48 | 2016 | 1 | 1 | 11.12355 | 9.253694 | 10.36819 | 8.614711 | 10.66467 | 8.384462 | 10.86323 | ... | 5.498045 | 13.19412 | 7.315076 | 6.999269 | 11.08972 | 11.02880 | 6.496128 | 5.750086 | 12.35487 | 10.51822 |\n",
       "| 49 | 2016 | 1 | 2 | 11.13727 | 9.219553 | 10.09476 | 8.599081 | 10.61434 | 8.360619 | 10.84743 | ... | 5.460883 | 13.17024 | 7.197324 | 7.070943 | 11.03373 | 11.05998 | 6.541287 | 5.741362 | 12.27668 | 10.51063 |\n",
       "| 50 | 2016 | 1 | 3 | 11.18649 | 9.219607 | 10.16105 | 8.700393 | 10.68461 | 8.358254 | 11.06297 | ... | 5.436743 | 13.21019 | 7.212554 | 7.118779 | 11.02220 | 10.95722 | 6.615632 | 5.819976 | 12.76728 | 10.63625 |\n",
       "| 51 | 2016 | 2 | 4 | 11.15866 | 9.176814 | 10.20220 | 8.458706 | 10.42040 | 8.185450 | 10.81323 | ... | 5.413795 | 13.14946 | 7.282186 | 6.939559 | 10.98761 | 10.91621 | 6.636956 | 5.813161 | 12.79760 | 10.60346 |\n",
       "| 52 | 2016 | 2 | 5 | 11.13431 | 9.179539 | 10.16375 | 8.316153 | 10.44452 | 8.190901 | 10.82345 | ... | 5.389511 | 13.05255 | 7.278994 | 6.852661 | 11.02849 | 10.94166 | 6.605485 | 5.812899 | 12.79711 | 10.57233 |\n",
       "| 53 | 2016 | 2 | 6 | 11.12291 | 9.148981 | 10.10884 | 8.268319 | 10.36937 | 8.110892 | 10.83932 | ... | 5.387518 | 13.03673 | 7.188860 | 6.837364 | 10.98823 | 11.01500 | 6.612699 | 5.806923 | 12.70478 | 10.55278 |\n",
       "\n"
      ],
      "text/plain": [
       "   year quarter month 000001   000002   000063   000157   000301   000338  \n",
       "48 2016 1       1     11.12355 9.253694 10.36819 8.614711 10.66467 8.384462\n",
       "49 2016 1       2     11.13727 9.219553 10.09476 8.599081 10.61434 8.360619\n",
       "50 2016 1       3     11.18649 9.219607 10.16105 8.700393 10.68461 8.358254\n",
       "51 2016 2       4     11.15866 9.176814 10.20220 8.458706 10.42040 8.185450\n",
       "52 2016 2       5     11.13431 9.179539 10.16375 8.316153 10.44452 8.190901\n",
       "53 2016 2       6     11.12291 9.148981 10.10884 8.268319 10.36937 8.110892\n",
       "   000425   ... 601857   601872   601877   601888   601898   601899   601939  \n",
       "48 10.86323 ... 5.498045 13.19412 7.315076 6.999269 11.08972 11.02880 6.496128\n",
       "49 10.84743 ... 5.460883 13.17024 7.197324 7.070943 11.03373 11.05998 6.541287\n",
       "50 11.06297 ... 5.436743 13.21019 7.212554 7.118779 11.02220 10.95722 6.615632\n",
       "51 10.81323 ... 5.413795 13.14946 7.282186 6.939559 10.98761 10.91621 6.636956\n",
       "52 10.82345 ... 5.389511 13.05255 7.278994 6.852661 11.02849 10.94166 6.605485\n",
       "53 10.83932 ... 5.387518 13.03673 7.188860 6.837364 10.98823 11.01500 6.612699\n",
       "   601988   601989   601998  \n",
       "48 5.750086 12.35487 10.51822\n",
       "49 5.741362 12.27668 10.51063\n",
       "50 5.819976 12.76728 10.63625\n",
       "51 5.813161 12.79760 10.60346\n",
       "52 5.812899 12.79711 10.57233\n",
       "53 5.806923 12.70478 10.55278"
      ]
     },
     "metadata": {},
     "output_type": "display_data"
    }
   ],
   "source": [
    "library(zoo)\n",
    "\n",
    "# Create a new dataframe to store the volatilities with year and month from cycle\n",
    "volatility <- data.frame(year = cycle$year, month = cycle$month)\n",
    "\n",
    "# Set the window size for rolling volatility calculation\n",
    "window_size <- 48 # 48 months\n",
    "\n",
    "# Ensure data is sorted chronologically\n",
    "cycle <- cycle[order(cycle$year, cycle$month), ]\n",
    "volatility <- volatility[order(volatility$year, volatility$month), ]\n",
    "\n",
    "# Calculate simple rolling standard deviation for each stock\n",
    "for (id in stock_id) {\n",
    "    # Use rollapply with standard deviation function\n",
    "    vol <- rollapply(cycle[,id], width=window_size, \n",
    "                    FUN=function(x) sd(x, na.rm=TRUE), \n",
    "                    fill=NA, align=\"right\")\n",
    "    volatility[,id] <- vol\n",
    "}\n",
    "\n",
    "# Remove rows with NA values (first 47 observations due to the rolling window)\n",
    "volatility <- na.omit(volatility)\n",
    "\n",
    "# Add quarter column\n",
    "volatility$quarter <- ceiling(volatility$month / 3)  # Calculate quarter from month\n",
    "\n",
    "# Reorder columns to put year, quarter, month first, followed by stock columns\n",
    "volatility <- volatility[, c(\"year\", \"quarter\", \"month\", stock_id)]\n",
    "\n",
    "# Display the first few rows of the volatility dataframe\n",
    "head(volatility)\n"
   ]
  },
  {
   "cell_type": "markdown",
   "id": "0302ea7b",
   "metadata": {},
   "source": [
    "- Convert the original volatility table from wide to long form"
   ]
  },
  {
   "cell_type": "code",
   "execution_count": 24,
   "id": "0b8b3b1f",
   "metadata": {
    "vscode": {
     "languageId": "r"
    }
   },
   "outputs": [
    {
     "name": "stdout",
     "output_type": "stream",
     "text": [
      "Observations per stock - summary:\n",
      "   Min. 1st Qu.  Median    Mean 3rd Qu.    Max. \n",
      "    111     111     111     111     111     111 \n",
      "\n",
      "Expected number of periods per stock: 111 \n",
      "Number of stocks with complete data: 149 out of 149 \n"
     ]
    },
    {
     "data": {
      "text/html": [
       "<table class=\"dataframe\">\n",
       "<caption>A data.frame: 6 x 5</caption>\n",
       "<thead>\n",
       "\t<tr><th></th><th scope=col>stkcd</th><th scope=col>year</th><th scope=col>quarter</th><th scope=col>month</th><th scope=col>volatility</th></tr>\n",
       "\t<tr><th></th><th scope=col>&lt;chr&gt;</th><th scope=col>&lt;int&gt;</th><th scope=col>&lt;dbl&gt;</th><th scope=col>&lt;int&gt;</th><th scope=col>&lt;dbl&gt;</th></tr>\n",
       "</thead>\n",
       "<tbody>\n",
       "\t<tr><th scope=row>1</th><td>000001</td><td>2016</td><td>1</td><td>1</td><td>11.12355</td></tr>\n",
       "\t<tr><th scope=row>2</th><td>000001</td><td>2016</td><td>1</td><td>2</td><td>11.13727</td></tr>\n",
       "\t<tr><th scope=row>3</th><td>000001</td><td>2016</td><td>1</td><td>3</td><td>11.18649</td></tr>\n",
       "\t<tr><th scope=row>4</th><td>000001</td><td>2016</td><td>2</td><td>4</td><td>11.15866</td></tr>\n",
       "\t<tr><th scope=row>5</th><td>000001</td><td>2016</td><td>2</td><td>5</td><td>11.13431</td></tr>\n",
       "\t<tr><th scope=row>6</th><td>000001</td><td>2016</td><td>2</td><td>6</td><td>11.12291</td></tr>\n",
       "</tbody>\n",
       "</table>\n"
      ],
      "text/latex": [
       "A data.frame: 6 x 5\n",
       "\\begin{tabular}{r|lllll}\n",
       "  & stkcd & year & quarter & month & volatility\\\\\n",
       "  & <chr> & <int> & <dbl> & <int> & <dbl>\\\\\n",
       "\\hline\n",
       "\t1 & 000001 & 2016 & 1 & 1 & 11.12355\\\\\n",
       "\t2 & 000001 & 2016 & 1 & 2 & 11.13727\\\\\n",
       "\t3 & 000001 & 2016 & 1 & 3 & 11.18649\\\\\n",
       "\t4 & 000001 & 2016 & 2 & 4 & 11.15866\\\\\n",
       "\t5 & 000001 & 2016 & 2 & 5 & 11.13431\\\\\n",
       "\t6 & 000001 & 2016 & 2 & 6 & 11.12291\\\\\n",
       "\\end{tabular}\n"
      ],
      "text/markdown": [
       "\n",
       "A data.frame: 6 x 5\n",
       "\n",
       "| <!--/--> | stkcd &lt;chr&gt; | year &lt;int&gt; | quarter &lt;dbl&gt; | month &lt;int&gt; | volatility &lt;dbl&gt; |\n",
       "|---|---|---|---|---|---|\n",
       "| 1 | 000001 | 2016 | 1 | 1 | 11.12355 |\n",
       "| 2 | 000001 | 2016 | 1 | 2 | 11.13727 |\n",
       "| 3 | 000001 | 2016 | 1 | 3 | 11.18649 |\n",
       "| 4 | 000001 | 2016 | 2 | 4 | 11.15866 |\n",
       "| 5 | 000001 | 2016 | 2 | 5 | 11.13431 |\n",
       "| 6 | 000001 | 2016 | 2 | 6 | 11.12291 |\n",
       "\n"
      ],
      "text/plain": [
       "  stkcd  year quarter month volatility\n",
       "1 000001 2016 1       1     11.12355  \n",
       "2 000001 2016 1       2     11.13727  \n",
       "3 000001 2016 1       3     11.18649  \n",
       "4 000001 2016 2       4     11.15866  \n",
       "5 000001 2016 2       5     11.13431  \n",
       "6 000001 2016 2       6     11.12291  "
      ]
     },
     "metadata": {},
     "output_type": "display_data"
    }
   ],
   "source": [
    "library(reshape2)\n",
    "\n",
    "# Filter the volatility data to keep only quarterly data (March, June, September, December)\n",
    "volatility_long <- volatility\n",
    "\n",
    "# Reshape from wide to long format\n",
    "volatility_molten <- melt(\n",
    "    volatility_long,\n",
    "    id.vars = c(\"year\", \"month\", \"quarter\"),\n",
    "    measure.vars = stock_id,\n",
    "    variable.name = \"stkcd\",\n",
    "    value.name = \"volatility\"\n",
    ")\n",
    "\n",
    "# Ensure stkcd is character type for consistent merging\n",
    "volatility_molten$stkcd <- as.character(volatility_molten$stkcd)\n",
    "\n",
    "# Create a new dataframe with selected columns\n",
    "volatility <- volatility_molten[, c(\"stkcd\", \"year\", \"quarter\", \"month\", \"volatility\")]\n",
    "\n",
    "# Check for time series continuity\n",
    "# Count observations per stock\n",
    "obs_per_stock <- table(volatility$stkcd)\n",
    "cat(\"Observations per stock - summary:\\n\")\n",
    "print(summary(as.numeric(obs_per_stock)))\n",
    "\n",
    "# Check if all stocks have the same number of time periods\n",
    "expected_periods <- length(unique(paste(volatility$year, volatility$month, sep=\"-\")))\n",
    "cat(\"\\nExpected number of periods per stock:\", expected_periods, \"\\n\")\n",
    "cat(\"Number of stocks with complete data:\", sum(obs_per_stock == expected_periods), \n",
    "    \"out of\", length(obs_per_stock), \"\\n\")\n",
    "\n",
    "# Check for any stocks with incomplete time series\n",
    "if(any(obs_per_stock != expected_periods)) {\n",
    "  cat(\"\\nStocks with incomplete time series:\\n\")\n",
    "  incomplete_stocks <- names(obs_per_stock)[obs_per_stock != expected_periods]\n",
    "  print(data.frame(\n",
    "    Stock = incomplete_stocks,\n",
    "    Observations = as.numeric(obs_per_stock[incomplete_stocks]),\n",
    "    Missing = expected_periods - as.numeric(obs_per_stock[incomplete_stocks])\n",
    "  ))\n",
    "}\n",
    "\n",
    "# Display the first few rows of the melted data\n",
    "head(volatility)"
   ]
  },
  {
   "cell_type": "markdown",
   "id": "9e3010a6",
   "metadata": {},
   "source": [
    "- Take logarithm of volatility"
   ]
  },
  {
   "cell_type": "code",
   "execution_count": 25,
   "id": "b323601e",
   "metadata": {
    "vscode": {
     "languageId": "r"
    }
   },
   "outputs": [
    {
     "name": "stdout",
     "output_type": "stream",
     "text": [
      "Volatility summary before log transformation:\n",
      "   Min. 1st Qu.  Median    Mean 3rd Qu.    Max. \n",
      "  2.147   7.411   9.463   9.566  11.472  26.839 \n",
      "\n",
      "Volatility summary after log transformation:\n",
      "   Min. 1st Qu.  Median    Mean 3rd Qu.    Max. \n",
      " 0.7639  2.0030  2.2474  2.1976  2.4399  3.2898 \n"
     ]
    },
    {
     "data": {
      "text/html": [
       "<table class=\"dataframe\">\n",
       "<caption>A data.frame: 6 x 5</caption>\n",
       "<thead>\n",
       "\t<tr><th></th><th scope=col>stkcd</th><th scope=col>year</th><th scope=col>quarter</th><th scope=col>month</th><th scope=col>volatility</th></tr>\n",
       "\t<tr><th></th><th scope=col>&lt;chr&gt;</th><th scope=col>&lt;int&gt;</th><th scope=col>&lt;dbl&gt;</th><th scope=col>&lt;int&gt;</th><th scope=col>&lt;dbl&gt;</th></tr>\n",
       "</thead>\n",
       "<tbody>\n",
       "\t<tr><th scope=row>1</th><td>000001</td><td>2016</td><td>1</td><td>1</td><td>2.409065</td></tr>\n",
       "\t<tr><th scope=row>2</th><td>000001</td><td>2016</td><td>1</td><td>2</td><td>2.410297</td></tr>\n",
       "\t<tr><th scope=row>3</th><td>000001</td><td>2016</td><td>1</td><td>3</td><td>2.414707</td></tr>\n",
       "\t<tr><th scope=row>4</th><td>000001</td><td>2016</td><td>2</td><td>4</td><td>2.412216</td></tr>\n",
       "\t<tr><th scope=row>5</th><td>000001</td><td>2016</td><td>2</td><td>5</td><td>2.410032</td></tr>\n",
       "\t<tr><th scope=row>6</th><td>000001</td><td>2016</td><td>2</td><td>6</td><td>2.409007</td></tr>\n",
       "</tbody>\n",
       "</table>\n"
      ],
      "text/latex": [
       "A data.frame: 6 x 5\n",
       "\\begin{tabular}{r|lllll}\n",
       "  & stkcd & year & quarter & month & volatility\\\\\n",
       "  & <chr> & <int> & <dbl> & <int> & <dbl>\\\\\n",
       "\\hline\n",
       "\t1 & 000001 & 2016 & 1 & 1 & 2.409065\\\\\n",
       "\t2 & 000001 & 2016 & 1 & 2 & 2.410297\\\\\n",
       "\t3 & 000001 & 2016 & 1 & 3 & 2.414707\\\\\n",
       "\t4 & 000001 & 2016 & 2 & 4 & 2.412216\\\\\n",
       "\t5 & 000001 & 2016 & 2 & 5 & 2.410032\\\\\n",
       "\t6 & 000001 & 2016 & 2 & 6 & 2.409007\\\\\n",
       "\\end{tabular}\n"
      ],
      "text/markdown": [
       "\n",
       "A data.frame: 6 x 5\n",
       "\n",
       "| <!--/--> | stkcd &lt;chr&gt; | year &lt;int&gt; | quarter &lt;dbl&gt; | month &lt;int&gt; | volatility &lt;dbl&gt; |\n",
       "|---|---|---|---|---|---|\n",
       "| 1 | 000001 | 2016 | 1 | 1 | 2.409065 |\n",
       "| 2 | 000001 | 2016 | 1 | 2 | 2.410297 |\n",
       "| 3 | 000001 | 2016 | 1 | 3 | 2.414707 |\n",
       "| 4 | 000001 | 2016 | 2 | 4 | 2.412216 |\n",
       "| 5 | 000001 | 2016 | 2 | 5 | 2.410032 |\n",
       "| 6 | 000001 | 2016 | 2 | 6 | 2.409007 |\n",
       "\n"
      ],
      "text/plain": [
       "  stkcd  year quarter month volatility\n",
       "1 000001 2016 1       1     2.409065  \n",
       "2 000001 2016 1       2     2.410297  \n",
       "3 000001 2016 1       3     2.414707  \n",
       "4 000001 2016 2       4     2.412216  \n",
       "5 000001 2016 2       5     2.410032  \n",
       "6 000001 2016 2       6     2.409007  "
      ]
     },
     "metadata": {},
     "output_type": "display_data"
    }
   ],
   "source": [
    "# Create a copy of the volatility dataframe for log transformation\n",
    "volatility_log <- volatility\n",
    "\n",
    "# Check for non-positive values in the volatility column\n",
    "non_positive_count <- sum(volatility_log$volatility <= 0, na.rm = TRUE)\n",
    "if (non_positive_count > 0) {\n",
    "    cat(\"Warning:\", non_positive_count, \"non-positive volatility values found.\\n\")\n",
    "    cat(\"Adding a small constant before log transformation to handle zeros/negatives.\\n\")\n",
    "    \n",
    "    # Add a small constant to handle zeros and negative values\n",
    "    min_positive <- min(volatility_log$volatility[volatility_log$volatility > 0], na.rm = TRUE)\n",
    "    offset <- min_positive * 0.001  # Small fraction of the minimum positive value\n",
    "    volatility_log$volatility <- volatility_log$volatility + offset\n",
    "}\n",
    "\n",
    "# Apply log transformation\n",
    "volatility_log$volatility <- log(volatility_log$volatility)\n",
    "\n",
    "# Verify the transformation\n",
    "cat(\"Volatility summary before log transformation:\\n\")\n",
    "print(summary(volatility$volatility))\n",
    "cat(\"\\nVolatility summary after log transformation:\\n\")\n",
    "print(summary(volatility_log$volatility))\n",
    "\n",
    "# Update the volatility dataframe with log-transformed values\n",
    "volatility <- volatility_log\n",
    "\n",
    "# Display the first few rows of the transformed dataframe\n",
    "head(volatility)"
   ]
  },
  {
   "cell_type": "markdown",
   "id": "5f259d8e",
   "metadata": {},
   "source": [
    "- Remove stocks incurred extreme volatility within observation period"
   ]
  },
  {
   "cell_type": "code",
   "execution_count": 26,
   "id": "996ac70b",
   "metadata": {
    "vscode": {
     "languageId": "r"
    }
   },
   "outputs": [
    {
     "name": "stdout",
     "output_type": "stream",
     "text": [
      "Period 2016-01: Removed 1 stocks to improve normality\n",
      "Period 2016-03: Removed 1 stocks to improve normality\n",
      "Period 2016-04: Removed 1 stocks to improve normality\n",
      "Period 2016-05: Removed 1 stocks to improve normality\n",
      "Period 2016-06: Removed 1 stocks to improve normality\n",
      "Period 2016-07: Removed 1 stocks to improve normality\n",
      "Period 2016-08: Removed 1 stocks to improve normality\n",
      "Period 2016-09: Removed 1 stocks to improve normality\n",
      "Period 2016-10: Removed 1 stocks to improve normality\n",
      "Period 2016-11: Removed 1 stocks to improve normality\n",
      "Period 2016-12: Removed 1 stocks to improve normality\n",
      "Period 2017-01: Removed 1 stocks to improve normality\n",
      "Period 2017-02: Removed 1 stocks to improve normality\n",
      "Period 2017-03: Removed 1 stocks to improve normality\n",
      "Period 2017-04: Removed 1 stocks to improve normality\n",
      "Period 2017-05: Removed 1 stocks to improve normality\n",
      "Period 2017-06: Removed 1 stocks to improve normality\n",
      "Period 2018-01: Removed 1 stocks to improve normality\n",
      "Period 2018-05: Removed 1 stocks to improve normality\n",
      "Period 2018-06: Removed 1 stocks to improve normality\n",
      "Period 2018-07: Removed 1 stocks to improve normality\n",
      "Period 2018-08: Removed 1 stocks to improve normality\n",
      "Period 2018-09: Removed 1 stocks to improve normality\n",
      "Period 2018-10: Removed 1 stocks to improve normality\n",
      "Period 2018-11: Removed 1 stocks to improve normality\n",
      "Period 2019-04: Removed 1 stocks to improve normality\n",
      "Period 2019-05: Removed 1 stocks to improve normality\n",
      "Period 2019-06: Removed 1 stocks to improve normality\n",
      "Period 2019-08: Removed 2 stocks to improve normality\n",
      "Period 2019-09: Removed 2 stocks to improve normality\n",
      "Period 2019-10: Removed 3 stocks to improve normality\n",
      "Period 2019-11: Removed 2 stocks to improve normality\n",
      "Period 2019-12: Removed 3 stocks to improve normality\n",
      "Period 2022-01: Removed 1 stocks to improve normality\n",
      "Period 2022-02: Removed 1 stocks to improve normality\n",
      "Period 2022-03: Removed 1 stocks to improve normality\n",
      "Period 2022-04: Removed 1 stocks to improve normality\n",
      "Period 2022-05: Removed 1 stocks to improve normality\n",
      "Period 2022-06: Removed 1 stocks to improve normality\n",
      "Period 2022-07: Removed 1 stocks to improve normality\n",
      "Period 2022-08: Removed 1 stocks to improve normality\n",
      "Period 2022-09: Removed 3 stocks to improve normality\n",
      "Period 2022-10: Removed 3 stocks to improve normality\n",
      "Period 2022-11: Removed 2 stocks to improve normality\n",
      "Period 2022-12: Removed 2 stocks to improve normality\n",
      "Period 2023-01: Removed 4 stocks to improve normality\n",
      "Period 2023-02: Removed 2 stocks to improve normality\n",
      "Period 2023-03: Removed 2 stocks to improve normality\n",
      "Period 2023-04: Removed 2 stocks to improve normality\n",
      "Period 2023-05: Removed 2 stocks to improve normality\n",
      "Period 2023-06: Removed 2 stocks to improve normality\n",
      "Period 2023-07: Removed 3 stocks to improve normality\n",
      "Period 2023-08: Removed 3 stocks to improve normality\n",
      "Period 2023-09: Removed 3 stocks to improve normality\n",
      "Period 2023-10: Removed 8 stocks to improve normality\n",
      "Period 2023-11: Removed 3 stocks to improve normality\n",
      "Period 2023-12: Removed 8 stocks to improve normality\n",
      "Period 2024-01: Removed 3 stocks to improve normality\n",
      "Period 2024-02: Removed 4 stocks to improve normality\n",
      "Period 2024-03: Removed 3 stocks to improve normality\n",
      "Period 2024-04: Removed 3 stocks to improve normality\n",
      "Period 2024-05: Removed 3 stocks to improve normality\n",
      "Period 2024-06: Removed 3 stocks to improve normality\n",
      "Period 2024-07: Removed 3 stocks to improve normality\n",
      "Period 2024-08: Removed 3 stocks to improve normality\n",
      "Period 2024-09: Removed 8 stocks to improve normality\n",
      "Period 2024-10: Removed 3 stocks to improve normality\n",
      "Period 2024-11: Removed 3 stocks to improve normality\n",
      "Period 2024-12: Removed 10 stocks to improve normality\n",
      "Period 2025-01: Removed 9 stocks to improve normality\n",
      "Period 2025-02: Removed 8 stocks to improve normality\n",
      "Period 2025-03: Removed 8 stocks to improve normality\n",
      "Removing 14 stocks to make distributions more normal\n",
      "\n",
      "Before filtering: 16539 observations, 149 stocks\n",
      "After filtering: 14985 observations, 135 stocks\n"
     ]
    },
    {
     "data": {
      "text/html": [
       "<table class=\"dataframe\">\n",
       "<caption>A data.frame: 6 x 5</caption>\n",
       "<thead>\n",
       "\t<tr><th></th><th scope=col>stkcd</th><th scope=col>year</th><th scope=col>quarter</th><th scope=col>month</th><th scope=col>volatility</th></tr>\n",
       "\t<tr><th></th><th scope=col>&lt;chr&gt;</th><th scope=col>&lt;int&gt;</th><th scope=col>&lt;dbl&gt;</th><th scope=col>&lt;int&gt;</th><th scope=col>&lt;dbl&gt;</th></tr>\n",
       "</thead>\n",
       "<tbody>\n",
       "\t<tr><th scope=row>1</th><td>000001</td><td>2016</td><td>1</td><td>1</td><td>2.409065</td></tr>\n",
       "\t<tr><th scope=row>2</th><td>000001</td><td>2016</td><td>1</td><td>2</td><td>2.410297</td></tr>\n",
       "\t<tr><th scope=row>3</th><td>000001</td><td>2016</td><td>1</td><td>3</td><td>2.414707</td></tr>\n",
       "\t<tr><th scope=row>4</th><td>000001</td><td>2016</td><td>2</td><td>4</td><td>2.412216</td></tr>\n",
       "\t<tr><th scope=row>5</th><td>000001</td><td>2016</td><td>2</td><td>5</td><td>2.410032</td></tr>\n",
       "\t<tr><th scope=row>6</th><td>000001</td><td>2016</td><td>2</td><td>6</td><td>2.409007</td></tr>\n",
       "</tbody>\n",
       "</table>\n"
      ],
      "text/latex": [
       "A data.frame: 6 x 5\n",
       "\\begin{tabular}{r|lllll}\n",
       "  & stkcd & year & quarter & month & volatility\\\\\n",
       "  & <chr> & <int> & <dbl> & <int> & <dbl>\\\\\n",
       "\\hline\n",
       "\t1 & 000001 & 2016 & 1 & 1 & 2.409065\\\\\n",
       "\t2 & 000001 & 2016 & 1 & 2 & 2.410297\\\\\n",
       "\t3 & 000001 & 2016 & 1 & 3 & 2.414707\\\\\n",
       "\t4 & 000001 & 2016 & 2 & 4 & 2.412216\\\\\n",
       "\t5 & 000001 & 2016 & 2 & 5 & 2.410032\\\\\n",
       "\t6 & 000001 & 2016 & 2 & 6 & 2.409007\\\\\n",
       "\\end{tabular}\n"
      ],
      "text/markdown": [
       "\n",
       "A data.frame: 6 x 5\n",
       "\n",
       "| <!--/--> | stkcd &lt;chr&gt; | year &lt;int&gt; | quarter &lt;dbl&gt; | month &lt;int&gt; | volatility &lt;dbl&gt; |\n",
       "|---|---|---|---|---|---|\n",
       "| 1 | 000001 | 2016 | 1 | 1 | 2.409065 |\n",
       "| 2 | 000001 | 2016 | 1 | 2 | 2.410297 |\n",
       "| 3 | 000001 | 2016 | 1 | 3 | 2.414707 |\n",
       "| 4 | 000001 | 2016 | 2 | 4 | 2.412216 |\n",
       "| 5 | 000001 | 2016 | 2 | 5 | 2.410032 |\n",
       "| 6 | 000001 | 2016 | 2 | 6 | 2.409007 |\n",
       "\n"
      ],
      "text/plain": [
       "  stkcd  year quarter month volatility\n",
       "1 000001 2016 1       1     2.409065  \n",
       "2 000001 2016 1       2     2.410297  \n",
       "3 000001 2016 1       3     2.414707  \n",
       "4 000001 2016 2       4     2.412216  \n",
       "5 000001 2016 2       5     2.410032  \n",
       "6 000001 2016 2       6     2.409007  "
      ]
     },
     "metadata": {},
     "output_type": "display_data"
    }
   ],
   "source": [
    "# Load required libraries for normality tests and statistics\n",
    "library(moments)  # For skewness and kurtosis functions\n",
    "\n",
    "# Initialize an empty vector to store outlier stock IDs\n",
    "outlier_stocks <- character(0)\n",
    "\n",
    "# Function to measure distance from normal distribution\n",
    "# Lower value = closer to normal distribution\n",
    "normality_distance <- function(x) {\n",
    "  # Calculate absolute skewness (0 for normal) and excess kurtosis (0 for normal)\n",
    "  sk <- abs(skewness(x, na.rm = TRUE))\n",
    "  kt <- abs(kurtosis(x, na.rm = TRUE) - 3)  # Normal kurtosis is 3\n",
    "  \n",
    "  # Combined distance metric\n",
    "  return(sk + kt/2)  # Weighting kurtosis less as it's more sensitive\n",
    "}\n",
    "\n",
    "# Get unique year-month combinations\n",
    "periods <- unique(volatility[, c(\"year\", \"month\")])\n",
    "\n",
    "# For each year-month period, transform distribution toward normal\n",
    "for (i in 1:nrow(periods)) {\n",
    "  curr_year <- periods$year[i]\n",
    "  curr_month <- periods$month[i]\n",
    "  \n",
    "  # Get data for this period\n",
    "  period_data <- volatility[volatility$year == curr_year & volatility$month == curr_month, ]\n",
    "  \n",
    "  # Skip if too few stocks for meaningful distribution shaping\n",
    "  if (nrow(period_data) < 10) next\n",
    "  \n",
    "  # Calculate initial normality distance\n",
    "  initial_distance <- normality_distance(period_data$volatility)\n",
    "  \n",
    "  # Prepare working copy of data\n",
    "  working_data <- period_data\n",
    "  period_stocks <- working_data$stkcd\n",
    "  period_values <- working_data$volatility\n",
    "  \n",
    "  # Set maximum percentage of stocks to remove (to avoid over-pruning)\n",
    "  max_remove_pct <- 0.1  # 10% maximum removal\n",
    "  max_removals <- floor(length(period_stocks) * max_remove_pct)\n",
    "  \n",
    "  # Iteratively remove extreme values\n",
    "  removals <- 0\n",
    "  period_outliers <- character(0)\n",
    "  \n",
    "  while (removals < max_removals) {\n",
    "    # Find current mean and standard deviation\n",
    "    curr_mean <- mean(period_values, na.rm = TRUE)\n",
    "    curr_sd <- sd(period_values, na.rm = TRUE)\n",
    "    \n",
    "    # Calculate z-scores to identify extremes\n",
    "    z_scores <- abs((period_values - curr_mean) / curr_sd)\n",
    "    \n",
    "    # Find the most extreme value (highest z-score)\n",
    "    max_idx <- which.max(z_scores)\n",
    "    \n",
    "    # Temporarily remove it\n",
    "    test_values <- period_values[-max_idx]\n",
    "    \n",
    "    # Check if removal improves normality\n",
    "    new_distance <- normality_distance(test_values)\n",
    "    \n",
    "    # Stop if no improvement or minimal improvement\n",
    "    if (new_distance >= initial_distance || (initial_distance - new_distance) < 0.05) {\n",
    "      break\n",
    "    }\n",
    "    \n",
    "    # Otherwise, keep this removal\n",
    "    period_outliers <- c(period_outliers, period_stocks[max_idx])\n",
    "    period_stocks <- period_stocks[-max_idx]\n",
    "    period_values <- test_values\n",
    "    removals <- removals + 1\n",
    "    initial_distance <- new_distance\n",
    "  }\n",
    "  \n",
    "  # Add to our master list of outlier stocks\n",
    "  outlier_stocks <- unique(c(outlier_stocks, period_outliers))\n",
    "  \n",
    "  # Report progress if significant removals made\n",
    "  if (length(period_outliers) > 0) {\n",
    "    cat(sprintf(\"Period %d-%02d: Removed %d stocks to improve normality\\n\", \n",
    "                curr_year, curr_month, length(period_outliers)))\n",
    "  }\n",
    "}\n",
    "\n",
    "# Print the stocks to be removed\n",
    "cat(\"Removing\", length(outlier_stocks), \"stocks to make distributions more normal\\n\")\n",
    "\n",
    "# Create a filtered version of the volatility dataframe\n",
    "volatility_filtered <- volatility[!volatility$stkcd %in% outlier_stocks, ]\n",
    "\n",
    "# Update stock_id list to exclude outlier stocks\n",
    "stock_id <- stock_id[!stock_id %in% outlier_stocks]\n",
    "\n",
    "# Print summary statistics before and after filtering\n",
    "cat(\"\\nBefore filtering:\", nrow(volatility), \"observations,\", length(unique(volatility$stkcd)), \"stocks\\n\")\n",
    "cat(\"After filtering:\", nrow(volatility_filtered), \"observations,\", length(unique(volatility_filtered$stkcd)), \"stocks\\n\")\n",
    "\n",
    "# Update the main volatility dataframe\n",
    "volatility <- volatility_filtered\n",
    "\n",
    "# Display the first few rows of the filtered dataframe\n",
    "head(volatility)"
   ]
  },
  {
   "cell_type": "code",
   "execution_count": 27,
   "id": "03e142ec",
   "metadata": {
    "vscode": {
     "languageId": "r"
    }
   },
   "outputs": [
    {
     "name": "stdout",
     "output_type": "stream",
     "text": [
      "New quarterly volatility dataset has 4995 observations for 135 stocks\n"
     ]
    },
    {
     "data": {
      "text/html": [
       "<table class=\"dataframe\">\n",
       "<caption>A data.frame: 6 x 6</caption>\n",
       "<thead>\n",
       "\t<tr><th></th><th scope=col>stkcd</th><th scope=col>year</th><th scope=col>quarter</th><th scope=col>month</th><th scope=col>volatility_end</th><th scope=col>volatility_avg</th></tr>\n",
       "\t<tr><th></th><th scope=col>&lt;chr&gt;</th><th scope=col>&lt;int&gt;</th><th scope=col>&lt;dbl&gt;</th><th scope=col>&lt;int&gt;</th><th scope=col>&lt;dbl&gt;</th><th scope=col>&lt;dbl&gt;</th></tr>\n",
       "</thead>\n",
       "<tbody>\n",
       "\t<tr><th scope=row>1</th><td>000001</td><td>2016</td><td>1</td><td> 3</td><td>2.414707</td><td>2.411356</td></tr>\n",
       "\t<tr><th scope=row>2</th><td>000001</td><td>2016</td><td>2</td><td> 6</td><td>2.409007</td><td>2.410418</td></tr>\n",
       "\t<tr><th scope=row>3</th><td>000001</td><td>2016</td><td>3</td><td> 9</td><td>2.404304</td><td>2.407613</td></tr>\n",
       "\t<tr><th scope=row>4</th><td>000001</td><td>2016</td><td>4</td><td>12</td><td>2.353794</td><td>2.387311</td></tr>\n",
       "\t<tr><th scope=row>5</th><td>000001</td><td>2017</td><td>1</td><td> 3</td><td>2.303832</td><td>2.317413</td></tr>\n",
       "\t<tr><th scope=row>6</th><td>000001</td><td>2017</td><td>2</td><td> 6</td><td>2.212951</td><td>2.264951</td></tr>\n",
       "</tbody>\n",
       "</table>\n"
      ],
      "text/latex": [
       "A data.frame: 6 x 6\n",
       "\\begin{tabular}{r|llllll}\n",
       "  & stkcd & year & quarter & month & volatility\\_end & volatility\\_avg\\\\\n",
       "  & <chr> & <int> & <dbl> & <int> & <dbl> & <dbl>\\\\\n",
       "\\hline\n",
       "\t1 & 000001 & 2016 & 1 &  3 & 2.414707 & 2.411356\\\\\n",
       "\t2 & 000001 & 2016 & 2 &  6 & 2.409007 & 2.410418\\\\\n",
       "\t3 & 000001 & 2016 & 3 &  9 & 2.404304 & 2.407613\\\\\n",
       "\t4 & 000001 & 2016 & 4 & 12 & 2.353794 & 2.387311\\\\\n",
       "\t5 & 000001 & 2017 & 1 &  3 & 2.303832 & 2.317413\\\\\n",
       "\t6 & 000001 & 2017 & 2 &  6 & 2.212951 & 2.264951\\\\\n",
       "\\end{tabular}\n"
      ],
      "text/markdown": [
       "\n",
       "A data.frame: 6 x 6\n",
       "\n",
       "| <!--/--> | stkcd &lt;chr&gt; | year &lt;int&gt; | quarter &lt;dbl&gt; | month &lt;int&gt; | volatility_end &lt;dbl&gt; | volatility_avg &lt;dbl&gt; |\n",
       "|---|---|---|---|---|---|---|\n",
       "| 1 | 000001 | 2016 | 1 |  3 | 2.414707 | 2.411356 |\n",
       "| 2 | 000001 | 2016 | 2 |  6 | 2.409007 | 2.410418 |\n",
       "| 3 | 000001 | 2016 | 3 |  9 | 2.404304 | 2.407613 |\n",
       "| 4 | 000001 | 2016 | 4 | 12 | 2.353794 | 2.387311 |\n",
       "| 5 | 000001 | 2017 | 1 |  3 | 2.303832 | 2.317413 |\n",
       "| 6 | 000001 | 2017 | 2 |  6 | 2.212951 | 2.264951 |\n",
       "\n"
      ],
      "text/plain": [
       "  stkcd  year quarter month volatility_end volatility_avg\n",
       "1 000001 2016 1        3    2.414707       2.411356      \n",
       "2 000001 2016 2        6    2.409007       2.410418      \n",
       "3 000001 2016 3        9    2.404304       2.407613      \n",
       "4 000001 2016 4       12    2.353794       2.387311      \n",
       "5 000001 2017 1        3    2.303832       2.317413      \n",
       "6 000001 2017 2        6    2.212951       2.264951      "
      ]
     },
     "metadata": {},
     "output_type": "display_data"
    }
   ],
   "source": [
    "# 1. Filter for quarter-end volatility (month is 3, 6, 9, or 12)\n",
    "volatility_quarter_end <- volatility[volatility$month %in% c(3, 6, 9, 12), ]\n",
    "\n",
    "# 2. Calculate quarterly average volatility for each stock\n",
    "volatility_avg <- aggregate(\n",
    "    volatility ~ stkcd + year + quarter,\n",
    "    data = volatility,\n",
    "    FUN = mean\n",
    ")\n",
    "\n",
    "# 3. Merge quarter-end data with quarterly average\n",
    "volatility_quarterly <- merge(\n",
    "    volatility_quarter_end,\n",
    "    volatility_avg[, c(\"stkcd\", \"year\", \"quarter\", \"volatility\")],\n",
    "    by = c(\"stkcd\", \"year\", \"quarter\"),\n",
    "    all.x = TRUE,\n",
    "    suffixes = c(\"_end\", \"_avg\")\n",
    ")\n",
    "\n",
    "# 4. Create a clean dataframe with the required columns\n",
    "volatility <- volatility_quarterly[, c(\"stkcd\", \"year\", \"quarter\", \"month\", \"volatility_end\", \"volatility_avg\")]\n",
    "\n",
    "\n",
    "# Report the dimensions of the new dataset\n",
    "cat(\"New quarterly volatility dataset has\", nrow(volatility), \"observations for\", \n",
    "        length(unique(volatility$stkcd)), \"stocks\\n\")\n",
    "\n",
    "# Display the first few rows of the updated volatility dataframe\n",
    "head(volatility)"
   ]
  },
  {
   "cell_type": "markdown",
   "id": "7153fc86",
   "metadata": {},
   "source": [
    "- Visualization"
   ]
  },
  {
   "cell_type": "code",
   "execution_count": 28,
   "id": "86e5c0df",
   "metadata": {
    "vscode": {
     "languageId": "r"
    }
   },
   "outputs": [
    {
     "name": "stderr",
     "output_type": "stream",
     "text": [
      "\n",
      "Attaching package: 'dplyr'\n",
      "\n",
      "\n",
      "The following objects are masked from 'package:stats':\n",
      "\n",
      "    filter, lag\n",
      "\n",
      "\n",
      "The following objects are masked from 'package:base':\n",
      "\n",
      "    intersect, setdiff, setequal, union\n",
      "\n",
      "\n",
      "Warning message:\n",
      "\"\u001b[1m\u001b[22mThe dot-dot notation (`..x..`) was deprecated in ggplot2 3.4.0.\n",
      "\u001b[36mℹ\u001b[39m Please use `after_stat(x)` instead.\"\n",
      "Picking joint bandwidth of 0.093\n",
      "\n",
      "Warning message:\n",
      "\"\u001b[1m\u001b[22mUsing `size` aesthetic for lines was deprecated in ggplot2 3.4.0.\n",
      "\u001b[36mℹ\u001b[39m Please use `linewidth` instead.\"\n"
     ]
    },
    {
     "data": {
      "image/png": "[encoded data removed]",
      "text/plain": [
       "plot without title"
      ]
     },
     "metadata": {
      "image/png": {
       "height": 420,
       "width": 420
      }
     },
     "output_type": "display_data"
    },
    {
     "data": {
      "image/png": "[encoded data removed]",
      "text/plain": [
       "plot without title"
      ]
     },
     "metadata": {
      "image/png": {
       "height": 420,
       "width": 420
      }
     },
     "output_type": "display_data"
    }
   ],
   "source": [
    "# Load required libraries\n",
    "library(ggplot2)\n",
    "library(ggridges)\n",
    "library(dplyr)\n",
    "\n",
    "# Create a copy of the volatility dataframe for visualization\n",
    "vol_viz <- volatility\n",
    "\n",
    "# Create a proper year-quarter factor for chronological ordering\n",
    "vol_viz$yearquarter <- paste0(vol_viz$year, \"-Q\", vol_viz$quarter)\n",
    "\n",
    "# Create a chronologically ordered factor for the y-axis\n",
    "unique_yearquarters <- unique(vol_viz$yearquarter[order(vol_viz$year, vol_viz$quarter)])\n",
    "vol_viz$yearquarter <- factor(vol_viz$yearquarter, levels = unique_yearquarters)\n",
    "\n",
    "# Ridge plot of volatility distributions over time\n",
    "ggplot(vol_viz, aes(x = volatility_end, y = yearquarter, fill = ..x..)) +\n",
    "  geom_density_ridges_gradient(scale = 3, rel_min_height = 0.01, alpha = 0.8) +\n",
    "  scale_fill_viridis_c(name = \"Volatility\", option = \"C\") +\n",
    "  labs(title = \"Distribution of End-of-Quarter Stock Volatility Over Time\",\n",
    "       x = \"Volatility (End of Quarter)\",\n",
    "       y = \"Year-Quarter\") +\n",
    "  theme_ridges(font_size = 10, grid = TRUE) +\n",
    "  theme(\n",
    "    legend.position = \"right\",\n",
    "    axis.text.y = element_text(size = 8, hjust = 1),\n",
    "    plot.title = element_text(hjust = 0.5),\n",
    "    panel.spacing.y = unit(0.5, \"lines\")\n",
    "  )\n",
    "\n",
    "# Create a summary of volatility measures for time series visualization\n",
    "vol_summary <- vol_viz %>%\n",
    "  group_by(year, quarter, yearquarter) %>%\n",
    "  summarize(\n",
    "    median_vol = median(volatility_end, na.rm = TRUE),\n",
    "    q25 = quantile(volatility_end, 0.25, na.rm = TRUE),\n",
    "    q75 = quantile(volatility_end, 0.75, na.rm = TRUE),\n",
    "    .groups = \"drop\"\n",
    "  )\n",
    "\n",
    "# Convert yearquarter to a factor with same ordering\n",
    "vol_summary$yearquarter <- factor(vol_summary$yearquarter, levels = unique_yearquarters)\n",
    "\n",
    "# Time series plot showing median volatility and IQR\n",
    "ggplot(vol_summary, aes(x = as.numeric(yearquarter), y = median_vol)) +\n",
    "  geom_line(size = 1, color = \"darkblue\") +\n",
    "  geom_ribbon(aes(ymin = q25, ymax = q75), alpha = 0.3, fill = \"lightblue\") +\n",
    "  labs(title = \"Median Stock Volatility Over Time (with IQR)\",\n",
    "       x = \"Time\", \n",
    "       y = \"Volatility (End of Quarter)\") +\n",
    "  theme_minimal() +\n",
    "  theme(\n",
    "    plot.title = element_text(hjust = 0.5),\n",
    "    axis.text.x = element_text(angle = 90, hjust = 1, vjust = 0.5)\n",
    "  ) +\n",
    "  # Add custom x-axis labels with appropriate gaps\n",
    "  scale_x_continuous(\n",
    "    breaks = seq(1, length(unique_yearquarters), by = 4),\n",
    "    labels = unique_yearquarters[seq(1, length(unique_yearquarters), by = 4)]\n",
    "  )"
   ]
  },
  {
   "cell_type": "markdown",
   "id": "0ee4d2d2",
   "metadata": {},
   "source": [
    "### Data Merging"
   ]
  },
  {
   "cell_type": "markdown",
   "id": "1f90a3ea",
   "metadata": {},
   "source": [
    "- 1. Merge volatility with GFC indicators"
   ]
  },
  {
   "cell_type": "code",
   "execution_count": 29,
   "id": "a9d6ab70",
   "metadata": {
    "vscode": {
     "languageId": "r"
    }
   },
   "outputs": [
    {
     "data": {
      "text/html": [
       "<table class=\"dataframe\">\n",
       "<caption>A data.frame: 6 x 9</caption>\n",
       "<thead>\n",
       "\t<tr><th></th><th scope=col>year</th><th scope=col>month</th><th scope=col>quarter</th><th scope=col>stkcd</th><th scope=col>volatility_end</th><th scope=col>volatility_avg</th><th scope=col>log_diff_lag1</th><th scope=col>log_diff_avg_lag1</th><th scope=col>diff_gfcf_lag1</th></tr>\n",
       "\t<tr><th></th><th scope=col>&lt;int&gt;</th><th scope=col>&lt;int&gt;</th><th scope=col>&lt;dbl&gt;</th><th scope=col>&lt;chr&gt;</th><th scope=col>&lt;dbl&gt;</th><th scope=col>&lt;dbl&gt;</th><th scope=col>&lt;dbl&gt;</th><th scope=col>&lt;dbl&gt;</th><th scope=col>&lt;dbl&gt;</th></tr>\n",
       "</thead>\n",
       "<tbody>\n",
       "\t<tr><th scope=row>1</th><td>2016</td><td>3</td><td>1</td><td>600482</td><td>2.438525</td><td>2.439948</td><td>-0.5130372</td><td>-0.1340702</td><td>0.06858532</td></tr>\n",
       "\t<tr><th scope=row>2</th><td>2016</td><td>3</td><td>1</td><td>600438</td><td>2.331690</td><td>2.340306</td><td>-0.5130372</td><td>-0.1340702</td><td>0.06858532</td></tr>\n",
       "\t<tr><th scope=row>3</th><td>2016</td><td>3</td><td>1</td><td>601766</td><td>2.371816</td><td>2.369645</td><td>-0.5130372</td><td>-0.1340702</td><td>0.06858532</td></tr>\n",
       "\t<tr><th scope=row>4</th><td>2016</td><td>3</td><td>1</td><td>600028</td><td>1.760594</td><td>1.743084</td><td>-0.5130372</td><td>-0.1340702</td><td>0.06858532</td></tr>\n",
       "\t<tr><th scope=row>5</th><td>2016</td><td>3</td><td>1</td><td>601699</td><td>2.495432</td><td>2.493065</td><td>-0.5130372</td><td>-0.1340702</td><td>0.06858532</td></tr>\n",
       "\t<tr><th scope=row>6</th><td>2016</td><td>3</td><td>1</td><td>600027</td><td>2.438201</td><td>2.436851</td><td>-0.5130372</td><td>-0.1340702</td><td>0.06858532</td></tr>\n",
       "</tbody>\n",
       "</table>\n"
      ],
      "text/latex": [
       "A data.frame: 6 x 9\n",
       "\\begin{tabular}{r|lllllllll}\n",
       "  & year & month & quarter & stkcd & volatility\\_end & volatility\\_avg & log\\_diff\\_lag1 & log\\_diff\\_avg\\_lag1 & diff\\_gfcf\\_lag1\\\\\n",
       "  & <int> & <int> & <dbl> & <chr> & <dbl> & <dbl> & <dbl> & <dbl> & <dbl>\\\\\n",
       "\\hline\n",
       "\t1 & 2016 & 3 & 1 & 600482 & 2.438525 & 2.439948 & -0.5130372 & -0.1340702 & 0.06858532\\\\\n",
       "\t2 & 2016 & 3 & 1 & 600438 & 2.331690 & 2.340306 & -0.5130372 & -0.1340702 & 0.06858532\\\\\n",
       "\t3 & 2016 & 3 & 1 & 601766 & 2.371816 & 2.369645 & -0.5130372 & -0.1340702 & 0.06858532\\\\\n",
       "\t4 & 2016 & 3 & 1 & 600028 & 1.760594 & 1.743084 & -0.5130372 & -0.1340702 & 0.06858532\\\\\n",
       "\t5 & 2016 & 3 & 1 & 601699 & 2.495432 & 2.493065 & -0.5130372 & -0.1340702 & 0.06858532\\\\\n",
       "\t6 & 2016 & 3 & 1 & 600027 & 2.438201 & 2.436851 & -0.5130372 & -0.1340702 & 0.06858532\\\\\n",
       "\\end{tabular}\n"
      ],
      "text/markdown": [
       "\n",
       "A data.frame: 6 x 9\n",
       "\n",
       "| <!--/--> | year &lt;int&gt; | month &lt;int&gt; | quarter &lt;dbl&gt; | stkcd &lt;chr&gt; | volatility_end &lt;dbl&gt; | volatility_avg &lt;dbl&gt; | log_diff_lag1 &lt;dbl&gt; | log_diff_avg_lag1 &lt;dbl&gt; | diff_gfcf_lag1 &lt;dbl&gt; |\n",
       "|---|---|---|---|---|---|---|---|---|---|\n",
       "| 1 | 2016 | 3 | 1 | 600482 | 2.438525 | 2.439948 | -0.5130372 | -0.1340702 | 0.06858532 |\n",
       "| 2 | 2016 | 3 | 1 | 600438 | 2.331690 | 2.340306 | -0.5130372 | -0.1340702 | 0.06858532 |\n",
       "| 3 | 2016 | 3 | 1 | 601766 | 2.371816 | 2.369645 | -0.5130372 | -0.1340702 | 0.06858532 |\n",
       "| 4 | 2016 | 3 | 1 | 600028 | 1.760594 | 1.743084 | -0.5130372 | -0.1340702 | 0.06858532 |\n",
       "| 5 | 2016 | 3 | 1 | 601699 | 2.495432 | 2.493065 | -0.5130372 | -0.1340702 | 0.06858532 |\n",
       "| 6 | 2016 | 3 | 1 | 600027 | 2.438201 | 2.436851 | -0.5130372 | -0.1340702 | 0.06858532 |\n",
       "\n"
      ],
      "text/plain": [
       "  year month quarter stkcd  volatility_end volatility_avg log_diff_lag1\n",
       "1 2016 3     1       600482 2.438525       2.439948       -0.5130372   \n",
       "2 2016 3     1       600438 2.331690       2.340306       -0.5130372   \n",
       "3 2016 3     1       601766 2.371816       2.369645       -0.5130372   \n",
       "4 2016 3     1       600028 1.760594       1.743084       -0.5130372   \n",
       "5 2016 3     1       601699 2.495432       2.493065       -0.5130372   \n",
       "6 2016 3     1       600027 2.438201       2.436851       -0.5130372   \n",
       "  log_diff_avg_lag1 diff_gfcf_lag1\n",
       "1 -0.1340702        0.06858532    \n",
       "2 -0.1340702        0.06858532    \n",
       "3 -0.1340702        0.06858532    \n",
       "4 -0.1340702        0.06858532    \n",
       "5 -0.1340702        0.06858532    \n",
       "6 -0.1340702        0.06858532    "
      ]
     },
     "metadata": {},
     "output_type": "display_data"
    }
   ],
   "source": [
    "panel_data <- merge(\n",
    "    volatility,\n",
    "    gfc_indicators,\n",
    "    by = c(\"year\", \"month\", \"quarter\"),\n",
    "    all.x = TRUE\n",
    ")\n",
    "\n",
    "# Show a sample of the final merged dataset\n",
    "head(panel_data)"
   ]
  },
  {
   "cell_type": "markdown",
   "id": "e5672975",
   "metadata": {},
   "source": [
    "- 2. Merge with control variables"
   ]
  },
  {
   "cell_type": "code",
   "execution_count": 30,
   "id": "a60f1b9e",
   "metadata": {
    "vscode": {
     "languageId": "r"
    }
   },
   "outputs": [
    {
     "name": "stdout",
     "output_type": "stream",
     "text": [
      "Columns in merged panel_data:\n",
      " [1] \"stkcd\"             \"year\"              \"quarter\"          \n",
      " [4] \"month\"             \"volatility_end\"    \"volatility_avg\"   \n",
      " [7] \"log_diff_lag1\"     \"log_diff_avg_lag1\" \"diff_gfcf_lag1\"   \n",
      "[10] \"Size\"              \"Lev\"               \"ROA\"              \n",
      "[13] \"BM\"                \"Board\"             \"Top1\"             \n",
      "[16] \"SOE\"               \"ind\"               \"gdp_growth_rate\"  \n",
      "[19] \"m2_growth_rate\"   \n",
      "Missing value counts in final panel dataset:\n",
      "named numeric(0)\n"
     ]
    },
    {
     "data": {
      "text/html": [
       "<table class=\"dataframe\">\n",
       "<caption>A data.frame: 6 x 19</caption>\n",
       "<thead>\n",
       "\t<tr><th></th><th scope=col>stkcd</th><th scope=col>year</th><th scope=col>quarter</th><th scope=col>month</th><th scope=col>volatility_end</th><th scope=col>volatility_avg</th><th scope=col>log_diff_lag1</th><th scope=col>log_diff_avg_lag1</th><th scope=col>diff_gfcf_lag1</th><th scope=col>Size</th><th scope=col>Lev</th><th scope=col>ROA</th><th scope=col>BM</th><th scope=col>Board</th><th scope=col>Top1</th><th scope=col>SOE</th><th scope=col>ind</th><th scope=col>gdp_growth_rate</th><th scope=col>m2_growth_rate</th></tr>\n",
       "\t<tr><th></th><th scope=col>&lt;chr&gt;</th><th scope=col>&lt;int&gt;</th><th scope=col>&lt;fct&gt;</th><th scope=col>&lt;int&gt;</th><th scope=col>&lt;dbl&gt;</th><th scope=col>&lt;dbl&gt;</th><th scope=col>&lt;dbl&gt;</th><th scope=col>&lt;dbl&gt;</th><th scope=col>&lt;dbl&gt;</th><th scope=col>&lt;dbl&gt;</th><th scope=col>&lt;dbl&gt;</th><th scope=col>&lt;dbl&gt;</th><th scope=col>&lt;dbl&gt;</th><th scope=col>&lt;dbl&gt;</th><th scope=col>&lt;dbl&gt;</th><th scope=col>&lt;int&gt;</th><th scope=col>&lt;fct&gt;</th><th scope=col>&lt;dbl&gt;</th><th scope=col>&lt;dbl&gt;</th></tr>\n",
       "</thead>\n",
       "<tbody>\n",
       "\t<tr><th scope=row>1</th><td>000002</td><td>2016</td><td>1</td><td> 3</td><td>2.221332</td><td>2.222561</td><td>-0.51303720</td><td>-0.13407018</td><td> 0.06858532</td><td>26.03564</td><td>0.7894035</td><td>0.001968</td><td>2.772296</td><td>2.397895</td><td>0.152436</td><td>0</td><td>K</td><td>-0.15585196</td><td>0.03873796</td></tr>\n",
       "\t<tr><th scope=row>2</th><td>000002</td><td>2016</td><td>2</td><td> 6</td><td>2.213642</td><td>2.215767</td><td> 0.14301884</td><td> 0.18856999</td><td>-0.02142195</td><td>26.03564</td><td>0.8060189</td><td>0.010720</td><td>2.997288</td><td>2.397895</td><td>0.152436</td><td>0</td><td>K</td><td> 0.11625103</td><td>0.02571886</td></tr>\n",
       "\t<tr><th scope=row>3</th><td>000002</td><td>2016</td><td>3</td><td> 9</td><td>2.458129</td><td>2.407451</td><td>-0.08836915</td><td>-0.26805092</td><td>-0.12204480</td><td>26.03564</td><td>0.8101231</td><td>0.016516</td><td>2.970462</td><td>2.397895</td><td>0.152436</td><td>0</td><td>K</td><td> 0.05316315</td><td>0.02763126</td></tr>\n",
       "\t<tr><th scope=row>4</th><td>000002</td><td>2016</td><td>4</td><td>12</td><td>2.497818</td><td>2.474038</td><td>-0.35070346</td><td>-0.17293136</td><td> 0.29816244</td><td>26.03564</td><td>0.8053671</td><td>0.039322</td><td>4.156858</td><td>2.397895</td><td>0.152436</td><td>0</td><td>K</td><td> 0.10665503</td><td>0.01794285</td></tr>\n",
       "\t<tr><th scope=row>5</th><td>000002</td><td>2017</td><td>1</td><td> 3</td><td>2.465599</td><td>2.471818</td><td> 0.21584021</td><td> 0.05901848</td><td> 0.11982483</td><td>26.10168</td><td>0.8173269</td><td>0.001292</td><td>4.431021</td><td>2.397895</td><td>0.153055</td><td>0</td><td>K</td><td>-0.14072811</td><td>0.03956675</td></tr>\n",
       "\t<tr><th scope=row>6</th><td>000002</td><td>2017</td><td>2</td><td> 6</td><td>2.459049</td><td>2.464600</td><td>-0.51535237</td><td>-0.18363093</td><td> 0.19498112</td><td>26.10168</td><td>0.8265752</td><td>0.011424</td><td>3.827082</td><td>2.397895</td><td>0.256343</td><td>0</td><td>K</td><td> 0.11005946</td><td>0.01488211</td></tr>\n",
       "</tbody>\n",
       "</table>\n"
      ],
      "text/latex": [
       "A data.frame: 6 x 19\n",
       "\\begin{tabular}{r|lllllllllllllllllll}\n",
       "  & stkcd & year & quarter & month & volatility\\_end & volatility\\_avg & log\\_diff\\_lag1 & log\\_diff\\_avg\\_lag1 & diff\\_gfcf\\_lag1 & Size & Lev & ROA & BM & Board & Top1 & SOE & ind & gdp\\_growth\\_rate & m2\\_growth\\_rate\\\\\n",
       "  & <chr> & <int> & <fct> & <int> & <dbl> & <dbl> & <dbl> & <dbl> & <dbl> & <dbl> & <dbl> & <dbl> & <dbl> & <dbl> & <dbl> & <int> & <fct> & <dbl> & <dbl>\\\\\n",
       "\\hline\n",
       "\t1 & 000002 & 2016 & 1 &  3 & 2.221332 & 2.222561 & -0.51303720 & -0.13407018 &  0.06858532 & 26.03564 & 0.7894035 & 0.001968 & 2.772296 & 2.397895 & 0.152436 & 0 & K & -0.15585196 & 0.03873796\\\\\n",
       "\t2 & 000002 & 2016 & 2 &  6 & 2.213642 & 2.215767 &  0.14301884 &  0.18856999 & -0.02142195 & 26.03564 & 0.8060189 & 0.010720 & 2.997288 & 2.397895 & 0.152436 & 0 & K &  0.11625103 & 0.02571886\\\\\n",
       "\t3 & 000002 & 2016 & 3 &  9 & 2.458129 & 2.407451 & -0.08836915 & -0.26805092 & -0.12204480 & 26.03564 & 0.8101231 & 0.016516 & 2.970462 & 2.397895 & 0.152436 & 0 & K &  0.05316315 & 0.02763126\\\\\n",
       "\t4 & 000002 & 2016 & 4 & 12 & 2.497818 & 2.474038 & -0.35070346 & -0.17293136 &  0.29816244 & 26.03564 & 0.8053671 & 0.039322 & 4.156858 & 2.397895 & 0.152436 & 0 & K &  0.10665503 & 0.01794285\\\\\n",
       "\t5 & 000002 & 2017 & 1 &  3 & 2.465599 & 2.471818 &  0.21584021 &  0.05901848 &  0.11982483 & 26.10168 & 0.8173269 & 0.001292 & 4.431021 & 2.397895 & 0.153055 & 0 & K & -0.14072811 & 0.03956675\\\\\n",
       "\t6 & 000002 & 2017 & 2 &  6 & 2.459049 & 2.464600 & -0.51535237 & -0.18363093 &  0.19498112 & 26.10168 & 0.8265752 & 0.011424 & 3.827082 & 2.397895 & 0.256343 & 0 & K &  0.11005946 & 0.01488211\\\\\n",
       "\\end{tabular}\n"
      ],
      "text/markdown": [
       "\n",
       "A data.frame: 6 x 19\n",
       "\n",
       "| <!--/--> | stkcd &lt;chr&gt; | year &lt;int&gt; | quarter &lt;fct&gt; | month &lt;int&gt; | volatility_end &lt;dbl&gt; | volatility_avg &lt;dbl&gt; | log_diff_lag1 &lt;dbl&gt; | log_diff_avg_lag1 &lt;dbl&gt; | diff_gfcf_lag1 &lt;dbl&gt; | Size &lt;dbl&gt; | Lev &lt;dbl&gt; | ROA &lt;dbl&gt; | BM &lt;dbl&gt; | Board &lt;dbl&gt; | Top1 &lt;dbl&gt; | SOE &lt;int&gt; | ind &lt;fct&gt; | gdp_growth_rate &lt;dbl&gt; | m2_growth_rate &lt;dbl&gt; |\n",
       "|---|---|---|---|---|---|---|---|---|---|---|---|---|---|---|---|---|---|---|---|\n",
       "| 1 | 000002 | 2016 | 1 |  3 | 2.221332 | 2.222561 | -0.51303720 | -0.13407018 |  0.06858532 | 26.03564 | 0.7894035 | 0.001968 | 2.772296 | 2.397895 | 0.152436 | 0 | K | -0.15585196 | 0.03873796 |\n",
       "| 2 | 000002 | 2016 | 2 |  6 | 2.213642 | 2.215767 |  0.14301884 |  0.18856999 | -0.02142195 | 26.03564 | 0.8060189 | 0.010720 | 2.997288 | 2.397895 | 0.152436 | 0 | K |  0.11625103 | 0.02571886 |\n",
       "| 3 | 000002 | 2016 | 3 |  9 | 2.458129 | 2.407451 | -0.08836915 | -0.26805092 | -0.12204480 | 26.03564 | 0.8101231 | 0.016516 | 2.970462 | 2.397895 | 0.152436 | 0 | K |  0.05316315 | 0.02763126 |\n",
       "| 4 | 000002 | 2016 | 4 | 12 | 2.497818 | 2.474038 | -0.35070346 | -0.17293136 |  0.29816244 | 26.03564 | 0.8053671 | 0.039322 | 4.156858 | 2.397895 | 0.152436 | 0 | K |  0.10665503 | 0.01794285 |\n",
       "| 5 | 000002 | 2017 | 1 |  3 | 2.465599 | 2.471818 |  0.21584021 |  0.05901848 |  0.11982483 | 26.10168 | 0.8173269 | 0.001292 | 4.431021 | 2.397895 | 0.153055 | 0 | K | -0.14072811 | 0.03956675 |\n",
       "| 6 | 000002 | 2017 | 2 |  6 | 2.459049 | 2.464600 | -0.51535237 | -0.18363093 |  0.19498112 | 26.10168 | 0.8265752 | 0.011424 | 3.827082 | 2.397895 | 0.256343 | 0 | K |  0.11005946 | 0.01488211 |\n",
       "\n"
      ],
      "text/plain": [
       "  stkcd  year quarter month volatility_end volatility_avg log_diff_lag1\n",
       "1 000002 2016 1        3    2.221332       2.222561       -0.51303720  \n",
       "2 000002 2016 2        6    2.213642       2.215767        0.14301884  \n",
       "3 000002 2016 3        9    2.458129       2.407451       -0.08836915  \n",
       "4 000002 2016 4       12    2.497818       2.474038       -0.35070346  \n",
       "5 000002 2017 1        3    2.465599       2.471818        0.21584021  \n",
       "6 000002 2017 2        6    2.459049       2.464600       -0.51535237  \n",
       "  log_diff_avg_lag1 diff_gfcf_lag1 Size     Lev       ROA      BM      \n",
       "1 -0.13407018        0.06858532    26.03564 0.7894035 0.001968 2.772296\n",
       "2  0.18856999       -0.02142195    26.03564 0.8060189 0.010720 2.997288\n",
       "3 -0.26805092       -0.12204480    26.03564 0.8101231 0.016516 2.970462\n",
       "4 -0.17293136        0.29816244    26.03564 0.8053671 0.039322 4.156858\n",
       "5  0.05901848        0.11982483    26.10168 0.8173269 0.001292 4.431021\n",
       "6 -0.18363093        0.19498112    26.10168 0.8265752 0.011424 3.827082\n",
       "  Board    Top1     SOE ind gdp_growth_rate m2_growth_rate\n",
       "1 2.397895 0.152436 0   K   -0.15585196     0.03873796    \n",
       "2 2.397895 0.152436 0   K    0.11625103     0.02571886    \n",
       "3 2.397895 0.152436 0   K    0.05316315     0.02763126    \n",
       "4 2.397895 0.152436 0   K    0.10665503     0.01794285    \n",
       "5 2.397895 0.153055 0   K   -0.14072811     0.03956675    \n",
       "6 2.397895 0.256343 0   K    0.11005946     0.01488211    "
      ]
     },
     "metadata": {},
     "output_type": "display_data"
    }
   ],
   "source": [
    "panel_data <- merge(\n",
    "    panel_data,\n",
    "    control,\n",
    "    by = c(\"stkcd\", \"year\", \"quarter\", \"month\"),\n",
    "    all.x = FALSE\n",
    ")\n",
    "\n",
    "# Display column names to verify what's available\n",
    "cat(\"Columns in merged panel_data:\\n\")\n",
    "print(names(panel_data))\n",
    "\n",
    "# Create factor variables for fixed effects\n",
    "panel_data$quarter <- factor(panel_data$quarter)  # Quarter fixed effects\n",
    "\n",
    "# Check for missing data in key columns\n",
    "missing_counts <- colSums(is.na(panel_data))\n",
    "cat(\"Missing value counts in final panel dataset:\\n\")\n",
    "print(missing_counts[missing_counts > 0])\n",
    "\n",
    "# Show a sample of the final merged dataset\n",
    "head(panel_data)"
   ]
  },
  {
   "cell_type": "markdown",
   "id": "c932dcf7",
   "metadata": {},
   "source": [
    "- 3. Merge with Capital Inflow"
   ]
  },
  {
   "cell_type": "code",
   "execution_count": 31,
   "id": "3a8cf4ff",
   "metadata": {
    "vscode": {
     "languageId": "r"
    }
   },
   "outputs": [
    {
     "name": "stdout",
     "output_type": "stream",
     "text": [
      "Missing values in inflow variable: 0 \n",
      "\n",
      "Panel dataset dimensions after adding inflow data:  3556 observations, 20 variables\n"
     ]
    },
    {
     "data": {
      "text/html": [
       "<table class=\"dataframe\">\n",
       "<caption>A data.frame: 6 x 20</caption>\n",
       "<thead>\n",
       "\t<tr><th></th><th scope=col>year</th><th scope=col>quarter</th><th scope=col>month</th><th scope=col>stkcd</th><th scope=col>volatility_end</th><th scope=col>volatility_avg</th><th scope=col>log_diff_lag1</th><th scope=col>log_diff_avg_lag1</th><th scope=col>diff_gfcf_lag1</th><th scope=col>Size</th><th scope=col>Lev</th><th scope=col>ROA</th><th scope=col>BM</th><th scope=col>Board</th><th scope=col>Top1</th><th scope=col>SOE</th><th scope=col>ind</th><th scope=col>gdp_growth_rate</th><th scope=col>m2_growth_rate</th><th scope=col>inflow</th></tr>\n",
       "\t<tr><th></th><th scope=col>&lt;int&gt;</th><th scope=col>&lt;fct&gt;</th><th scope=col>&lt;int&gt;</th><th scope=col>&lt;chr&gt;</th><th scope=col>&lt;dbl&gt;</th><th scope=col>&lt;dbl&gt;</th><th scope=col>&lt;dbl&gt;</th><th scope=col>&lt;dbl&gt;</th><th scope=col>&lt;dbl&gt;</th><th scope=col>&lt;dbl&gt;</th><th scope=col>&lt;dbl&gt;</th><th scope=col>&lt;dbl&gt;</th><th scope=col>&lt;dbl&gt;</th><th scope=col>&lt;dbl&gt;</th><th scope=col>&lt;dbl&gt;</th><th scope=col>&lt;int&gt;</th><th scope=col>&lt;fct&gt;</th><th scope=col>&lt;dbl&gt;</th><th scope=col>&lt;dbl&gt;</th><th scope=col>&lt;dbl&gt;</th></tr>\n",
       "</thead>\n",
       "<tbody>\n",
       "\t<tr><th scope=row>1</th><td>2016</td><td>1</td><td>3</td><td>000002</td><td>2.221332</td><td>2.222561</td><td>-0.5130372</td><td>-0.1340702</td><td>0.06858532</td><td>26.03564</td><td>0.7894035</td><td> 0.001968</td><td>2.7722964</td><td>2.397895</td><td>0.152436</td><td>0</td><td>K  </td><td>-0.155852</td><td>0.03873796</td><td>-0.007274988</td></tr>\n",
       "\t<tr><th scope=row>2</th><td>2016</td><td>1</td><td>3</td><td>000768</td><td>2.709447</td><td>2.706603</td><td>-0.5130372</td><td>-0.1340702</td><td>0.06858532</td><td>24.33632</td><td>0.5457232</td><td>-0.001966</td><td>0.6921163</td><td>2.302585</td><td>0.381795</td><td>1</td><td>C37</td><td>-0.155852</td><td>0.03873796</td><td>-0.007274988</td></tr>\n",
       "\t<tr><th scope=row>3</th><td>2016</td><td>1</td><td>3</td><td>002001</td><td>2.309555</td><td>2.269524</td><td>-0.5130372</td><td>-0.1340702</td><td>0.06858532</td><td>22.99321</td><td>0.2543242</td><td> 0.016947</td><td>0.4192690</td><td>2.397895</td><td>0.563566</td><td>0</td><td>C27</td><td>-0.155852</td><td>0.03873796</td><td>-0.007274988</td></tr>\n",
       "\t<tr><th scope=row>4</th><td>2016</td><td>1</td><td>3</td><td>002271</td><td>2.419430</td><td>2.421962</td><td>-0.5130372</td><td>-0.1340702</td><td>0.06858532</td><td>22.53034</td><td>0.3464335</td><td> 0.009051</td><td>0.4342413</td><td>2.484907</td><td>0.313611</td><td>0</td><td>C30</td><td>-0.155852</td><td>0.03873796</td><td>-0.007274988</td></tr>\n",
       "\t<tr><th scope=row>5</th><td>2016</td><td>1</td><td>3</td><td>601888</td><td>1.962736</td><td>1.954845</td><td>-0.5130372</td><td>-0.1340702</td><td>0.06858532</td><td>23.53468</td><td>0.2410802</td><td> 0.046906</td><td>0.3732376</td><td>1.609438</td><td>0.552986</td><td>1</td><td>L  </td><td>-0.155852</td><td>0.03873796</td><td>-0.007274988</td></tr>\n",
       "\t<tr><th scope=row>6</th><td>2016</td><td>1</td><td>3</td><td>600406</td><td>2.643335</td><td>2.642714</td><td>-0.5130372</td><td>-0.1340702</td><td>0.06858532</td><td>23.45700</td><td>0.4696918</td><td> 0.000661</td><td>0.4400109</td><td>2.484907</td><td>0.410149</td><td>1</td><td>I  </td><td>-0.155852</td><td>0.03873796</td><td>-0.007274988</td></tr>\n",
       "</tbody>\n",
       "</table>\n"
      ],
      "text/latex": [
       "A data.frame: 6 x 20\n",
       "\\begin{tabular}{r|llllllllllllllllllll}\n",
       "  & year & quarter & month & stkcd & volatility\\_end & volatility\\_avg & log\\_diff\\_lag1 & log\\_diff\\_avg\\_lag1 & diff\\_gfcf\\_lag1 & Size & Lev & ROA & BM & Board & Top1 & SOE & ind & gdp\\_growth\\_rate & m2\\_growth\\_rate & inflow\\\\\n",
       "  & <int> & <fct> & <int> & <chr> & <dbl> & <dbl> & <dbl> & <dbl> & <dbl> & <dbl> & <dbl> & <dbl> & <dbl> & <dbl> & <dbl> & <int> & <fct> & <dbl> & <dbl> & <dbl>\\\\\n",
       "\\hline\n",
       "\t1 & 2016 & 1 & 3 & 000002 & 2.221332 & 2.222561 & -0.5130372 & -0.1340702 & 0.06858532 & 26.03564 & 0.7894035 &  0.001968 & 2.7722964 & 2.397895 & 0.152436 & 0 & K   & -0.155852 & 0.03873796 & -0.007274988\\\\\n",
       "\t2 & 2016 & 1 & 3 & 000768 & 2.709447 & 2.706603 & -0.5130372 & -0.1340702 & 0.06858532 & 24.33632 & 0.5457232 & -0.001966 & 0.6921163 & 2.302585 & 0.381795 & 1 & C37 & -0.155852 & 0.03873796 & -0.007274988\\\\\n",
       "\t3 & 2016 & 1 & 3 & 002001 & 2.309555 & 2.269524 & -0.5130372 & -0.1340702 & 0.06858532 & 22.99321 & 0.2543242 &  0.016947 & 0.4192690 & 2.397895 & 0.563566 & 0 & C27 & -0.155852 & 0.03873796 & -0.007274988\\\\\n",
       "\t4 & 2016 & 1 & 3 & 002271 & 2.419430 & 2.421962 & -0.5130372 & -0.1340702 & 0.06858532 & 22.53034 & 0.3464335 &  0.009051 & 0.4342413 & 2.484907 & 0.313611 & 0 & C30 & -0.155852 & 0.03873796 & -0.007274988\\\\\n",
       "\t5 & 2016 & 1 & 3 & 601888 & 1.962736 & 1.954845 & -0.5130372 & -0.1340702 & 0.06858532 & 23.53468 & 0.2410802 &  0.046906 & 0.3732376 & 1.609438 & 0.552986 & 1 & L   & -0.155852 & 0.03873796 & -0.007274988\\\\\n",
       "\t6 & 2016 & 1 & 3 & 600406 & 2.643335 & 2.642714 & -0.5130372 & -0.1340702 & 0.06858532 & 23.45700 & 0.4696918 &  0.000661 & 0.4400109 & 2.484907 & 0.410149 & 1 & I   & -0.155852 & 0.03873796 & -0.007274988\\\\\n",
       "\\end{tabular}\n"
      ],
      "text/markdown": [
       "\n",
       "A data.frame: 6 x 20\n",
       "\n",
       "| <!--/--> | year &lt;int&gt; | quarter &lt;fct&gt; | month &lt;int&gt; | stkcd &lt;chr&gt; | volatility_end &lt;dbl&gt; | volatility_avg &lt;dbl&gt; | log_diff_lag1 &lt;dbl&gt; | log_diff_avg_lag1 &lt;dbl&gt; | diff_gfcf_lag1 &lt;dbl&gt; | Size &lt;dbl&gt; | Lev &lt;dbl&gt; | ROA &lt;dbl&gt; | BM &lt;dbl&gt; | Board &lt;dbl&gt; | Top1 &lt;dbl&gt; | SOE &lt;int&gt; | ind &lt;fct&gt; | gdp_growth_rate &lt;dbl&gt; | m2_growth_rate &lt;dbl&gt; | inflow &lt;dbl&gt; |\n",
       "|---|---|---|---|---|---|---|---|---|---|---|---|---|---|---|---|---|---|---|---|---|\n",
       "| 1 | 2016 | 1 | 3 | 000002 | 2.221332 | 2.222561 | -0.5130372 | -0.1340702 | 0.06858532 | 26.03564 | 0.7894035 |  0.001968 | 2.7722964 | 2.397895 | 0.152436 | 0 | K   | -0.155852 | 0.03873796 | -0.007274988 |\n",
       "| 2 | 2016 | 1 | 3 | 000768 | 2.709447 | 2.706603 | -0.5130372 | -0.1340702 | 0.06858532 | 24.33632 | 0.5457232 | -0.001966 | 0.6921163 | 2.302585 | 0.381795 | 1 | C37 | -0.155852 | 0.03873796 | -0.007274988 |\n",
       "| 3 | 2016 | 1 | 3 | 002001 | 2.309555 | 2.269524 | -0.5130372 | -0.1340702 | 0.06858532 | 22.99321 | 0.2543242 |  0.016947 | 0.4192690 | 2.397895 | 0.563566 | 0 | C27 | -0.155852 | 0.03873796 | -0.007274988 |\n",
       "| 4 | 2016 | 1 | 3 | 002271 | 2.419430 | 2.421962 | -0.5130372 | -0.1340702 | 0.06858532 | 22.53034 | 0.3464335 |  0.009051 | 0.4342413 | 2.484907 | 0.313611 | 0 | C30 | -0.155852 | 0.03873796 | -0.007274988 |\n",
       "| 5 | 2016 | 1 | 3 | 601888 | 1.962736 | 1.954845 | -0.5130372 | -0.1340702 | 0.06858532 | 23.53468 | 0.2410802 |  0.046906 | 0.3732376 | 1.609438 | 0.552986 | 1 | L   | -0.155852 | 0.03873796 | -0.007274988 |\n",
       "| 6 | 2016 | 1 | 3 | 600406 | 2.643335 | 2.642714 | -0.5130372 | -0.1340702 | 0.06858532 | 23.45700 | 0.4696918 |  0.000661 | 0.4400109 | 2.484907 | 0.410149 | 1 | I   | -0.155852 | 0.03873796 | -0.007274988 |\n",
       "\n"
      ],
      "text/plain": [
       "  year quarter month stkcd  volatility_end volatility_avg log_diff_lag1\n",
       "1 2016 1       3     000002 2.221332       2.222561       -0.5130372   \n",
       "2 2016 1       3     000768 2.709447       2.706603       -0.5130372   \n",
       "3 2016 1       3     002001 2.309555       2.269524       -0.5130372   \n",
       "4 2016 1       3     002271 2.419430       2.421962       -0.5130372   \n",
       "5 2016 1       3     601888 1.962736       1.954845       -0.5130372   \n",
       "6 2016 1       3     600406 2.643335       2.642714       -0.5130372   \n",
       "  log_diff_avg_lag1 diff_gfcf_lag1 Size     Lev       ROA       BM       \n",
       "1 -0.1340702        0.06858532     26.03564 0.7894035  0.001968 2.7722964\n",
       "2 -0.1340702        0.06858532     24.33632 0.5457232 -0.001966 0.6921163\n",
       "3 -0.1340702        0.06858532     22.99321 0.2543242  0.016947 0.4192690\n",
       "4 -0.1340702        0.06858532     22.53034 0.3464335  0.009051 0.4342413\n",
       "5 -0.1340702        0.06858532     23.53468 0.2410802  0.046906 0.3732376\n",
       "6 -0.1340702        0.06858532     23.45700 0.4696918  0.000661 0.4400109\n",
       "  Board    Top1     SOE ind gdp_growth_rate m2_growth_rate inflow      \n",
       "1 2.397895 0.152436 0   K   -0.155852       0.03873796     -0.007274988\n",
       "2 2.302585 0.381795 1   C37 -0.155852       0.03873796     -0.007274988\n",
       "3 2.397895 0.563566 0   C27 -0.155852       0.03873796     -0.007274988\n",
       "4 2.484907 0.313611 0   C30 -0.155852       0.03873796     -0.007274988\n",
       "5 1.609438 0.552986 1   L   -0.155852       0.03873796     -0.007274988\n",
       "6 2.484907 0.410149 1   I   -0.155852       0.03873796     -0.007274988"
      ]
     },
     "metadata": {},
     "output_type": "display_data"
    }
   ],
   "source": [
    "# Merge panel_data with inflow data based on year and quarter\n",
    "# Using inflow data read previously\n",
    "panel_data <- merge(\n",
    "    panel_data,\n",
    "    inflow[, c(\"year\", \"quarter\", \"month\", \"inflow\")],\n",
    "    by = c(\"year\", \"quarter\", \"month\"),\n",
    "    all.x = TRUE\n",
    ")\n",
    "\n",
    "# Check for missing values in the inflow variable\n",
    "cat(\"Missing values in inflow variable:\", sum(is.na(panel_data$inflow)), \"\\n\")\n",
    "\n",
    "# Display dimensions of the enhanced panel dataset\n",
    "cat(\"\\nPanel dataset dimensions after adding inflow data: \", \n",
    "    nrow(panel_data), \"observations,\", ncol(panel_data), \"variables\\n\")\n",
    "\n",
    "# Display a sample of the merged data\n",
    "head(panel_data)\n"
   ]
  },
  {
   "cell_type": "markdown",
   "id": "b8425c0d",
   "metadata": {},
   "source": [
    "- 4. Merge with EPU & TPU"
   ]
  },
  {
   "cell_type": "code",
   "execution_count": 32,
   "id": "0f86396a",
   "metadata": {
    "vscode": {
     "languageId": "r"
    }
   },
   "outputs": [
    {
     "data": {
      "text/html": [
       "<table class=\"dataframe\">\n",
       "<caption>A data.frame: 6 x 22</caption>\n",
       "<thead>\n",
       "\t<tr><th></th><th scope=col>year</th><th scope=col>quarter</th><th scope=col>month</th><th scope=col>stkcd</th><th scope=col>volatility_end</th><th scope=col>volatility_avg</th><th scope=col>log_diff_lag1</th><th scope=col>log_diff_avg_lag1</th><th scope=col>diff_gfcf_lag1</th><th scope=col>Size</th><th scope=col>...</th><th scope=col>BM</th><th scope=col>Board</th><th scope=col>Top1</th><th scope=col>SOE</th><th scope=col>ind</th><th scope=col>gdp_growth_rate</th><th scope=col>m2_growth_rate</th><th scope=col>inflow</th><th scope=col>log_epu</th><th scope=col>log_tpu</th></tr>\n",
       "\t<tr><th></th><th scope=col>&lt;int&gt;</th><th scope=col>&lt;fct&gt;</th><th scope=col>&lt;int&gt;</th><th scope=col>&lt;chr&gt;</th><th scope=col>&lt;dbl&gt;</th><th scope=col>&lt;dbl&gt;</th><th scope=col>&lt;dbl&gt;</th><th scope=col>&lt;dbl&gt;</th><th scope=col>&lt;dbl&gt;</th><th scope=col>&lt;dbl&gt;</th><th scope=col>...</th><th scope=col>&lt;dbl&gt;</th><th scope=col>&lt;dbl&gt;</th><th scope=col>&lt;dbl&gt;</th><th scope=col>&lt;int&gt;</th><th scope=col>&lt;fct&gt;</th><th scope=col>&lt;dbl&gt;</th><th scope=col>&lt;dbl&gt;</th><th scope=col>&lt;dbl&gt;</th><th scope=col>&lt;dbl&gt;</th><th scope=col>&lt;dbl&gt;</th></tr>\n",
       "</thead>\n",
       "<tbody>\n",
       "\t<tr><th scope=row>1</th><td>2016</td><td>1</td><td>3</td><td>000002</td><td>2.221332</td><td>2.222561</td><td>-0.5130372</td><td>-0.1340702</td><td>0.06858532</td><td>26.03564</td><td>...</td><td>2.7722964</td><td>2.397895</td><td>0.152436</td><td>0</td><td>K  </td><td>-0.155852</td><td>0.03873796</td><td>-0.007274988</td><td>4.869584</td><td>4.685213</td></tr>\n",
       "\t<tr><th scope=row>2</th><td>2016</td><td>1</td><td>3</td><td>000768</td><td>2.709447</td><td>2.706603</td><td>-0.5130372</td><td>-0.1340702</td><td>0.06858532</td><td>24.33632</td><td>...</td><td>0.6921163</td><td>2.302585</td><td>0.381795</td><td>1</td><td>C37</td><td>-0.155852</td><td>0.03873796</td><td>-0.007274988</td><td>4.869584</td><td>4.685213</td></tr>\n",
       "\t<tr><th scope=row>3</th><td>2016</td><td>1</td><td>3</td><td>002001</td><td>2.309555</td><td>2.269524</td><td>-0.5130372</td><td>-0.1340702</td><td>0.06858532</td><td>22.99321</td><td>...</td><td>0.4192690</td><td>2.397895</td><td>0.563566</td><td>0</td><td>C27</td><td>-0.155852</td><td>0.03873796</td><td>-0.007274988</td><td>4.869584</td><td>4.685213</td></tr>\n",
       "\t<tr><th scope=row>4</th><td>2016</td><td>1</td><td>3</td><td>002271</td><td>2.419430</td><td>2.421962</td><td>-0.5130372</td><td>-0.1340702</td><td>0.06858532</td><td>22.53034</td><td>...</td><td>0.4342413</td><td>2.484907</td><td>0.313611</td><td>0</td><td>C30</td><td>-0.155852</td><td>0.03873796</td><td>-0.007274988</td><td>4.869584</td><td>4.685213</td></tr>\n",
       "\t<tr><th scope=row>5</th><td>2016</td><td>1</td><td>3</td><td>601888</td><td>1.962736</td><td>1.954845</td><td>-0.5130372</td><td>-0.1340702</td><td>0.06858532</td><td>23.53468</td><td>...</td><td>0.3732376</td><td>1.609438</td><td>0.552986</td><td>1</td><td>L  </td><td>-0.155852</td><td>0.03873796</td><td>-0.007274988</td><td>4.869584</td><td>4.685213</td></tr>\n",
       "\t<tr><th scope=row>6</th><td>2016</td><td>1</td><td>3</td><td>600406</td><td>2.643335</td><td>2.642714</td><td>-0.5130372</td><td>-0.1340702</td><td>0.06858532</td><td>23.45700</td><td>...</td><td>0.4400109</td><td>2.484907</td><td>0.410149</td><td>1</td><td>I  </td><td>-0.155852</td><td>0.03873796</td><td>-0.007274988</td><td>4.869584</td><td>4.685213</td></tr>\n",
       "</tbody>\n",
       "</table>\n"
      ],
      "text/latex": [
       "A data.frame: 6 x 22\n",
       "\\begin{tabular}{r|lllllllllllllllllllll}\n",
       "  & year & quarter & month & stkcd & volatility\\_end & volatility\\_avg & log\\_diff\\_lag1 & log\\_diff\\_avg\\_lag1 & diff\\_gfcf\\_lag1 & Size & ... & BM & Board & Top1 & SOE & ind & gdp\\_growth\\_rate & m2\\_growth\\_rate & inflow & log\\_epu & log\\_tpu\\\\\n",
       "  & <int> & <fct> & <int> & <chr> & <dbl> & <dbl> & <dbl> & <dbl> & <dbl> & <dbl> & ... & <dbl> & <dbl> & <dbl> & <int> & <fct> & <dbl> & <dbl> & <dbl> & <dbl> & <dbl>\\\\\n",
       "\\hline\n",
       "\t1 & 2016 & 1 & 3 & 000002 & 2.221332 & 2.222561 & -0.5130372 & -0.1340702 & 0.06858532 & 26.03564 & ... & 2.7722964 & 2.397895 & 0.152436 & 0 & K   & -0.155852 & 0.03873796 & -0.007274988 & 4.869584 & 4.685213\\\\\n",
       "\t2 & 2016 & 1 & 3 & 000768 & 2.709447 & 2.706603 & -0.5130372 & -0.1340702 & 0.06858532 & 24.33632 & ... & 0.6921163 & 2.302585 & 0.381795 & 1 & C37 & -0.155852 & 0.03873796 & -0.007274988 & 4.869584 & 4.685213\\\\\n",
       "\t3 & 2016 & 1 & 3 & 002001 & 2.309555 & 2.269524 & -0.5130372 & -0.1340702 & 0.06858532 & 22.99321 & ... & 0.4192690 & 2.397895 & 0.563566 & 0 & C27 & -0.155852 & 0.03873796 & -0.007274988 & 4.869584 & 4.685213\\\\\n",
       "\t4 & 2016 & 1 & 3 & 002271 & 2.419430 & 2.421962 & -0.5130372 & -0.1340702 & 0.06858532 & 22.53034 & ... & 0.4342413 & 2.484907 & 0.313611 & 0 & C30 & -0.155852 & 0.03873796 & -0.007274988 & 4.869584 & 4.685213\\\\\n",
       "\t5 & 2016 & 1 & 3 & 601888 & 1.962736 & 1.954845 & -0.5130372 & -0.1340702 & 0.06858532 & 23.53468 & ... & 0.3732376 & 1.609438 & 0.552986 & 1 & L   & -0.155852 & 0.03873796 & -0.007274988 & 4.869584 & 4.685213\\\\\n",
       "\t6 & 2016 & 1 & 3 & 600406 & 2.643335 & 2.642714 & -0.5130372 & -0.1340702 & 0.06858532 & 23.45700 & ... & 0.4400109 & 2.484907 & 0.410149 & 1 & I   & -0.155852 & 0.03873796 & -0.007274988 & 4.869584 & 4.685213\\\\\n",
       "\\end{tabular}\n"
      ],
      "text/markdown": [
       "\n",
       "A data.frame: 6 x 22\n",
       "\n",
       "| <!--/--> | year &lt;int&gt; | quarter &lt;fct&gt; | month &lt;int&gt; | stkcd &lt;chr&gt; | volatility_end &lt;dbl&gt; | volatility_avg &lt;dbl&gt; | log_diff_lag1 &lt;dbl&gt; | log_diff_avg_lag1 &lt;dbl&gt; | diff_gfcf_lag1 &lt;dbl&gt; | Size &lt;dbl&gt; | ... ... | BM &lt;dbl&gt; | Board &lt;dbl&gt; | Top1 &lt;dbl&gt; | SOE &lt;int&gt; | ind &lt;fct&gt; | gdp_growth_rate &lt;dbl&gt; | m2_growth_rate &lt;dbl&gt; | inflow &lt;dbl&gt; | log_epu &lt;dbl&gt; | log_tpu &lt;dbl&gt; |\n",
       "|---|---|---|---|---|---|---|---|---|---|---|---|---|---|---|---|---|---|---|---|---|---|\n",
       "| 1 | 2016 | 1 | 3 | 000002 | 2.221332 | 2.222561 | -0.5130372 | -0.1340702 | 0.06858532 | 26.03564 | ... | 2.7722964 | 2.397895 | 0.152436 | 0 | K   | -0.155852 | 0.03873796 | -0.007274988 | 4.869584 | 4.685213 |\n",
       "| 2 | 2016 | 1 | 3 | 000768 | 2.709447 | 2.706603 | -0.5130372 | -0.1340702 | 0.06858532 | 24.33632 | ... | 0.6921163 | 2.302585 | 0.381795 | 1 | C37 | -0.155852 | 0.03873796 | -0.007274988 | 4.869584 | 4.685213 |\n",
       "| 3 | 2016 | 1 | 3 | 002001 | 2.309555 | 2.269524 | -0.5130372 | -0.1340702 | 0.06858532 | 22.99321 | ... | 0.4192690 | 2.397895 | 0.563566 | 0 | C27 | -0.155852 | 0.03873796 | -0.007274988 | 4.869584 | 4.685213 |\n",
       "| 4 | 2016 | 1 | 3 | 002271 | 2.419430 | 2.421962 | -0.5130372 | -0.1340702 | 0.06858532 | 22.53034 | ... | 0.4342413 | 2.484907 | 0.313611 | 0 | C30 | -0.155852 | 0.03873796 | -0.007274988 | 4.869584 | 4.685213 |\n",
       "| 5 | 2016 | 1 | 3 | 601888 | 1.962736 | 1.954845 | -0.5130372 | -0.1340702 | 0.06858532 | 23.53468 | ... | 0.3732376 | 1.609438 | 0.552986 | 1 | L   | -0.155852 | 0.03873796 | -0.007274988 | 4.869584 | 4.685213 |\n",
       "| 6 | 2016 | 1 | 3 | 600406 | 2.643335 | 2.642714 | -0.5130372 | -0.1340702 | 0.06858532 | 23.45700 | ... | 0.4400109 | 2.484907 | 0.410149 | 1 | I   | -0.155852 | 0.03873796 | -0.007274988 | 4.869584 | 4.685213 |\n",
       "\n"
      ],
      "text/plain": [
       "  year quarter month stkcd  volatility_end volatility_avg log_diff_lag1\n",
       "1 2016 1       3     000002 2.221332       2.222561       -0.5130372   \n",
       "2 2016 1       3     000768 2.709447       2.706603       -0.5130372   \n",
       "3 2016 1       3     002001 2.309555       2.269524       -0.5130372   \n",
       "4 2016 1       3     002271 2.419430       2.421962       -0.5130372   \n",
       "5 2016 1       3     601888 1.962736       1.954845       -0.5130372   \n",
       "6 2016 1       3     600406 2.643335       2.642714       -0.5130372   \n",
       "  log_diff_avg_lag1 diff_gfcf_lag1 Size     ... BM        Board    Top1     SOE\n",
       "1 -0.1340702        0.06858532     26.03564 ... 2.7722964 2.397895 0.152436 0  \n",
       "2 -0.1340702        0.06858532     24.33632 ... 0.6921163 2.302585 0.381795 1  \n",
       "3 -0.1340702        0.06858532     22.99321 ... 0.4192690 2.397895 0.563566 0  \n",
       "4 -0.1340702        0.06858532     22.53034 ... 0.4342413 2.484907 0.313611 0  \n",
       "5 -0.1340702        0.06858532     23.53468 ... 0.3732376 1.609438 0.552986 1  \n",
       "6 -0.1340702        0.06858532     23.45700 ... 0.4400109 2.484907 0.410149 1  \n",
       "  ind gdp_growth_rate m2_growth_rate inflow       log_epu  log_tpu \n",
       "1 K   -0.155852       0.03873796     -0.007274988 4.869584 4.685213\n",
       "2 C37 -0.155852       0.03873796     -0.007274988 4.869584 4.685213\n",
       "3 C27 -0.155852       0.03873796     -0.007274988 4.869584 4.685213\n",
       "4 C30 -0.155852       0.03873796     -0.007274988 4.869584 4.685213\n",
       "5 L   -0.155852       0.03873796     -0.007274988 4.869584 4.685213\n",
       "6 I   -0.155852       0.03873796     -0.007274988 4.869584 4.685213"
      ]
     },
     "metadata": {},
     "output_type": "display_data"
    }
   ],
   "source": [
    "# Merge panel_data with EPU data based on year, quarter, and month\n",
    "panel_data <- merge(\n",
    "    panel_data,\n",
    "    epu[, c(\"year\", \"quarter\", \"month\", \"log_epu\")],\n",
    "    by = c(\"year\", \"quarter\", \"month\"),\n",
    "    all.x = TRUE\n",
    ")\n",
    "\n",
    "panel_data <- merge(\n",
    "    panel_data,\n",
    "    tpu[, c(\"year\", \"quarter\", \"month\", \"log_tpu\")],\n",
    "    by = c(\"year\", \"quarter\", \"month\"),\n",
    "    all.x = TRUE\n",
    ")\n",
    "\n",
    "# Display a sample of the merged data with EPU\n",
    "head(panel_data)"
   ]
  },
  {
   "cell_type": "markdown",
   "id": "abd364e5",
   "metadata": {},
   "source": [
    "- 5. Convert to panel"
   ]
  },
  {
   "cell_type": "code",
   "execution_count": 33,
   "id": "5bc7c65a",
   "metadata": {
    "vscode": {
     "languageId": "r"
    }
   },
   "outputs": [
    {
     "name": "stderr",
     "output_type": "stream",
     "text": [
      "\n",
      "Attaching package: 'plm'\n",
      "\n",
      "\n",
      "The following objects are masked from 'package:dplyr':\n",
      "\n",
      "    between, lag, lead\n",
      "\n",
      "\n",
      "Warning message in pdata.frame(panel_data, index = c(\"stkcd\", \"year\", \"quarter\")):\n",
      "\"duplicate couples (id-time) in resulting pdata.frame\n",
      " to find out which, use, e.g., table(index(your_pdataframe), useNA = \"ifany\")\"\n"
     ]
    },
    {
     "name": "stdout",
     "output_type": "stream",
     "text": [
      "Panel Data Structure:\n",
      "-------------------\n",
      "Total observations: 3556 \n",
      "Number of stocks: 127 \n",
      "Number of time periods: 28 \n",
      "\n",
      "Panel Dimensions:\n",
      "Balanced Panel: n = 127, T = 7, N = 3556\n",
      "\n",
      "The panel is balanced.\n"
     ]
    },
    {
     "data": {
      "text/html": [
       "<table class=\"dataframe\">\n",
       "<caption>A pdata.frame: 6 x 22</caption>\n",
       "<thead>\n",
       "\t<tr><th></th><th scope=col>year</th><th scope=col>quarter</th><th scope=col>month</th><th scope=col>stkcd</th><th scope=col>volatility_end</th><th scope=col>volatility_avg</th><th scope=col>log_diff_lag1</th><th scope=col>log_diff_avg_lag1</th><th scope=col>diff_gfcf_lag1</th><th scope=col>Size</th><th scope=col>...</th><th scope=col>BM</th><th scope=col>Board</th><th scope=col>Top1</th><th scope=col>SOE</th><th scope=col>ind</th><th scope=col>gdp_growth_rate</th><th scope=col>m2_growth_rate</th><th scope=col>inflow</th><th scope=col>log_epu</th><th scope=col>log_tpu</th></tr>\n",
       "\t<tr><th></th><th scope=col>&lt;fct&gt;</th><th scope=col>&lt;fct&gt;</th><th scope=col>&lt;int&gt;</th><th scope=col>&lt;fct&gt;</th><th scope=col>&lt;dbl&gt;</th><th scope=col>&lt;dbl&gt;</th><th scope=col>&lt;dbl&gt;</th><th scope=col>&lt;dbl&gt;</th><th scope=col>&lt;dbl&gt;</th><th scope=col>&lt;dbl&gt;</th><th scope=col>...</th><th scope=col>&lt;dbl&gt;</th><th scope=col>&lt;dbl&gt;</th><th scope=col>&lt;dbl&gt;</th><th scope=col>&lt;int&gt;</th><th scope=col>&lt;fct&gt;</th><th scope=col>&lt;dbl&gt;</th><th scope=col>&lt;dbl&gt;</th><th scope=col>&lt;dbl&gt;</th><th scope=col>&lt;dbl&gt;</th><th scope=col>&lt;dbl&gt;</th></tr>\n",
       "</thead>\n",
       "<tbody>\n",
       "\t<tr><th scope=row>1-000002-2016</th><td>2016</td><td>1</td><td>3</td><td>000002</td><td>2.221332</td><td>2.222561</td><td>-0.5130372</td><td>-0.13407018</td><td> 0.06858532</td><td>26.03564</td><td>...</td><td>2.772296</td><td>2.397895</td><td>0.152436</td><td>0</td><td>K</td><td>-0.1558520</td><td>0.03873796</td><td>-0.007274988</td><td>4.869584</td><td>4.685213</td></tr>\n",
       "\t<tr><th scope=row>1-000002-2017</th><td>2017</td><td>1</td><td>3</td><td>000002</td><td>2.465599</td><td>2.471818</td><td> 0.2158402</td><td> 0.05901848</td><td> 0.11982483</td><td>26.10168</td><td>...</td><td>4.431021</td><td>2.397895</td><td>0.153055</td><td>0</td><td>K</td><td>-0.1407281</td><td>0.03956675</td><td> 0.037143361</td><td>5.624619</td><td>6.131444</td></tr>\n",
       "\t<tr><th scope=row>1-000002-2018</th><td>2018</td><td>1</td><td>3</td><td>000002</td><td>2.466718</td><td>2.479195</td><td>-0.2001859</td><td>-0.06464072</td><td> 0.16306429</td><td>26.22657</td><td>...</td><td>3.781881</td><td>2.397895</td><td>0.293755</td><td>0</td><td>K</td><td>-0.1416523</td><td>0.03138059</td><td> 0.055560308</td><td>5.406873</td><td>5.740436</td></tr>\n",
       "\t<tr><th scope=row>1-000002-2019</th><td>2019</td><td>1</td><td>3</td><td>000002</td><td>2.416099</td><td>2.414292</td><td> 0.8041608</td><td> 0.50432708</td><td>-1.00651606</td><td>26.36560</td><td>...</td><td>5.192584</td><td>2.302585</td><td>0.293755</td><td>0</td><td>K</td><td>-0.1593623</td><td>0.03445767</td><td> 0.018622227</td><td>5.746523</td><td>6.387104</td></tr>\n",
       "\t<tr><th scope=row>1-000002-2020</th><td>2020</td><td>1</td><td>3</td><td>000002</td><td>2.454909</td><td>2.445607</td><td>-0.1789924</td><td>-0.14800621</td><td> 0.36742426</td><td>26.41523</td><td>...</td><td>6.975204</td><td>2.397895</td><td>0.286920</td><td>0</td><td>K</td><td>-0.2570161</td><td>0.04094352</td><td> 0.023850909</td><td>5.401776</td><td>5.279474</td></tr>\n",
       "\t<tr><th scope=row>1-000002-2021</th><td>2021</td><td>1</td><td>3</td><td>000002</td><td>2.166188</td><td>2.140492</td><td> 0.1813290</td><td>-0.01461407</td><td> 0.93783868</td><td>26.43151</td><td>...</td><td>6.539908</td><td>2.397895</td><td>0.279126</td><td>0</td><td>K</td><td>-0.1549880</td><td>0.03334817</td><td> 0.056467942</td><td>5.723694</td><td>5.773723</td></tr>\n",
       "</tbody>\n",
       "</table>\n"
      ],
      "text/latex": [
       "A pdata.frame: 6 x 22\n",
       "\\begin{tabular}{r|lllllllllllllllllllll}\n",
       "  & year & quarter & month & stkcd & volatility\\_end & volatility\\_avg & log\\_diff\\_lag1 & log\\_diff\\_avg\\_lag1 & diff\\_gfcf\\_lag1 & Size & ... & BM & Board & Top1 & SOE & ind & gdp\\_growth\\_rate & m2\\_growth\\_rate & inflow & log\\_epu & log\\_tpu\\\\\n",
       "  & <fct> & <fct> & <int> & <fct> & <dbl> & <dbl> & <dbl> & <dbl> & <dbl> & <dbl> & ... & <dbl> & <dbl> & <dbl> & <int> & <fct> & <dbl> & <dbl> & <dbl> & <dbl> & <dbl>\\\\\n",
       "\\hline\n",
       "\t1-000002-2016 & 2016 & 1 & 3 & 000002 & 2.221332 & 2.222561 & -0.5130372 & -0.13407018 &  0.06858532 & 26.03564 & ... & 2.772296 & 2.397895 & 0.152436 & 0 & K & -0.1558520 & 0.03873796 & -0.007274988 & 4.869584 & 4.685213\\\\\n",
       "\t1-000002-2017 & 2017 & 1 & 3 & 000002 & 2.465599 & 2.471818 &  0.2158402 &  0.05901848 &  0.11982483 & 26.10168 & ... & 4.431021 & 2.397895 & 0.153055 & 0 & K & -0.1407281 & 0.03956675 &  0.037143361 & 5.624619 & 6.131444\\\\\n",
       "\t1-000002-2018 & 2018 & 1 & 3 & 000002 & 2.466718 & 2.479195 & -0.2001859 & -0.06464072 &  0.16306429 & 26.22657 & ... & 3.781881 & 2.397895 & 0.293755 & 0 & K & -0.1416523 & 0.03138059 &  0.055560308 & 5.406873 & 5.740436\\\\\n",
       "\t1-000002-2019 & 2019 & 1 & 3 & 000002 & 2.416099 & 2.414292 &  0.8041608 &  0.50432708 & -1.00651606 & 26.36560 & ... & 5.192584 & 2.302585 & 0.293755 & 0 & K & -0.1593623 & 0.03445767 &  0.018622227 & 5.746523 & 6.387104\\\\\n",
       "\t1-000002-2020 & 2020 & 1 & 3 & 000002 & 2.454909 & 2.445607 & -0.1789924 & -0.14800621 &  0.36742426 & 26.41523 & ... & 6.975204 & 2.397895 & 0.286920 & 0 & K & -0.2570161 & 0.04094352 &  0.023850909 & 5.401776 & 5.279474\\\\\n",
       "\t1-000002-2021 & 2021 & 1 & 3 & 000002 & 2.166188 & 2.140492 &  0.1813290 & -0.01461407 &  0.93783868 & 26.43151 & ... & 6.539908 & 2.397895 & 0.279126 & 0 & K & -0.1549880 & 0.03334817 &  0.056467942 & 5.723694 & 5.773723\\\\\n",
       "\\end{tabular}\n"
      ],
      "text/markdown": [
       "\n",
       "A pdata.frame: 6 x 22\n",
       "\n",
       "| <!--/--> | year &lt;fct&gt; | quarter &lt;fct&gt; | month &lt;int&gt; | stkcd &lt;fct&gt; | volatility_end &lt;dbl&gt; | volatility_avg &lt;dbl&gt; | log_diff_lag1 &lt;dbl&gt; | log_diff_avg_lag1 &lt;dbl&gt; | diff_gfcf_lag1 &lt;dbl&gt; | Size &lt;dbl&gt; | ... ... | BM &lt;dbl&gt; | Board &lt;dbl&gt; | Top1 &lt;dbl&gt; | SOE &lt;int&gt; | ind &lt;fct&gt; | gdp_growth_rate &lt;dbl&gt; | m2_growth_rate &lt;dbl&gt; | inflow &lt;dbl&gt; | log_epu &lt;dbl&gt; | log_tpu &lt;dbl&gt; |\n",
       "|---|---|---|---|---|---|---|---|---|---|---|---|---|---|---|---|---|---|---|---|---|---|\n",
       "| 1-000002-2016 | 2016 | 1 | 3 | 000002 | 2.221332 | 2.222561 | -0.5130372 | -0.13407018 |  0.06858532 | 26.03564 | ... | 2.772296 | 2.397895 | 0.152436 | 0 | K | -0.1558520 | 0.03873796 | -0.007274988 | 4.869584 | 4.685213 |\n",
       "| 1-000002-2017 | 2017 | 1 | 3 | 000002 | 2.465599 | 2.471818 |  0.2158402 |  0.05901848 |  0.11982483 | 26.10168 | ... | 4.431021 | 2.397895 | 0.153055 | 0 | K | -0.1407281 | 0.03956675 |  0.037143361 | 5.624619 | 6.131444 |\n",
       "| 1-000002-2018 | 2018 | 1 | 3 | 000002 | 2.466718 | 2.479195 | -0.2001859 | -0.06464072 |  0.16306429 | 26.22657 | ... | 3.781881 | 2.397895 | 0.293755 | 0 | K | -0.1416523 | 0.03138059 |  0.055560308 | 5.406873 | 5.740436 |\n",
       "| 1-000002-2019 | 2019 | 1 | 3 | 000002 | 2.416099 | 2.414292 |  0.8041608 |  0.50432708 | -1.00651606 | 26.36560 | ... | 5.192584 | 2.302585 | 0.293755 | 0 | K | -0.1593623 | 0.03445767 |  0.018622227 | 5.746523 | 6.387104 |\n",
       "| 1-000002-2020 | 2020 | 1 | 3 | 000002 | 2.454909 | 2.445607 | -0.1789924 | -0.14800621 |  0.36742426 | 26.41523 | ... | 6.975204 | 2.397895 | 0.286920 | 0 | K | -0.2570161 | 0.04094352 |  0.023850909 | 5.401776 | 5.279474 |\n",
       "| 1-000002-2021 | 2021 | 1 | 3 | 000002 | 2.166188 | 2.140492 |  0.1813290 | -0.01461407 |  0.93783868 | 26.43151 | ... | 6.539908 | 2.397895 | 0.279126 | 0 | K | -0.1549880 | 0.03334817 |  0.056467942 | 5.723694 | 5.773723 |\n",
       "\n"
      ],
      "text/plain": [
       "              year quarter month stkcd  volatility_end volatility_avg\n",
       "1-000002-2016 2016 1       3     000002 2.221332       2.222561      \n",
       "1-000002-2017 2017 1       3     000002 2.465599       2.471818      \n",
       "1-000002-2018 2018 1       3     000002 2.466718       2.479195      \n",
       "1-000002-2019 2019 1       3     000002 2.416099       2.414292      \n",
       "1-000002-2020 2020 1       3     000002 2.454909       2.445607      \n",
       "1-000002-2021 2021 1       3     000002 2.166188       2.140492      \n",
       "              log_diff_lag1 log_diff_avg_lag1 diff_gfcf_lag1 Size     ...\n",
       "1-000002-2016 -0.5130372    -0.13407018        0.06858532    26.03564 ...\n",
       "1-000002-2017  0.2158402     0.05901848        0.11982483    26.10168 ...\n",
       "1-000002-2018 -0.2001859    -0.06464072        0.16306429    26.22657 ...\n",
       "1-000002-2019  0.8041608     0.50432708       -1.00651606    26.36560 ...\n",
       "1-000002-2020 -0.1789924    -0.14800621        0.36742426    26.41523 ...\n",
       "1-000002-2021  0.1813290    -0.01461407        0.93783868    26.43151 ...\n",
       "              BM       Board    Top1     SOE ind gdp_growth_rate m2_growth_rate\n",
       "1-000002-2016 2.772296 2.397895 0.152436 0   K   -0.1558520      0.03873796    \n",
       "1-000002-2017 4.431021 2.397895 0.153055 0   K   -0.1407281      0.03956675    \n",
       "1-000002-2018 3.781881 2.397895 0.293755 0   K   -0.1416523      0.03138059    \n",
       "1-000002-2019 5.192584 2.302585 0.293755 0   K   -0.1593623      0.03445767    \n",
       "1-000002-2020 6.975204 2.397895 0.286920 0   K   -0.2570161      0.04094352    \n",
       "1-000002-2021 6.539908 2.397895 0.279126 0   K   -0.1549880      0.03334817    \n",
       "              inflow       log_epu  log_tpu \n",
       "1-000002-2016 -0.007274988 4.869584 4.685213\n",
       "1-000002-2017  0.037143361 5.624619 6.131444\n",
       "1-000002-2018  0.055560308 5.406873 5.740436\n",
       "1-000002-2019  0.018622227 5.746523 6.387104\n",
       "1-000002-2020  0.023850909 5.401776 5.279474\n",
       "1-000002-2021  0.056467942 5.723694 5.773723"
      ]
     },
     "metadata": {},
     "output_type": "display_data"
    },
    {
     "data": {
      "text/html": [
       "<table class=\"dataframe\">\n",
       "<caption>A pdata.frame: 6 x 22</caption>\n",
       "<thead>\n",
       "\t<tr><th></th><th scope=col>year</th><th scope=col>quarter</th><th scope=col>month</th><th scope=col>stkcd</th><th scope=col>volatility_end</th><th scope=col>volatility_avg</th><th scope=col>log_diff_lag1</th><th scope=col>log_diff_avg_lag1</th><th scope=col>diff_gfcf_lag1</th><th scope=col>Size</th><th scope=col>...</th><th scope=col>BM</th><th scope=col>Board</th><th scope=col>Top1</th><th scope=col>SOE</th><th scope=col>ind</th><th scope=col>gdp_growth_rate</th><th scope=col>m2_growth_rate</th><th scope=col>inflow</th><th scope=col>log_epu</th><th scope=col>log_tpu</th></tr>\n",
       "\t<tr><th></th><th scope=col>&lt;fct&gt;</th><th scope=col>&lt;fct&gt;</th><th scope=col>&lt;int&gt;</th><th scope=col>&lt;fct&gt;</th><th scope=col>&lt;dbl&gt;</th><th scope=col>&lt;dbl&gt;</th><th scope=col>&lt;dbl&gt;</th><th scope=col>&lt;dbl&gt;</th><th scope=col>&lt;dbl&gt;</th><th scope=col>&lt;dbl&gt;</th><th scope=col>...</th><th scope=col>&lt;dbl&gt;</th><th scope=col>&lt;dbl&gt;</th><th scope=col>&lt;dbl&gt;</th><th scope=col>&lt;int&gt;</th><th scope=col>&lt;fct&gt;</th><th scope=col>&lt;dbl&gt;</th><th scope=col>&lt;dbl&gt;</th><th scope=col>&lt;dbl&gt;</th><th scope=col>&lt;dbl&gt;</th><th scope=col>&lt;dbl&gt;</th></tr>\n",
       "</thead>\n",
       "<tbody>\n",
       "\t<tr><th scope=row>4-601989-2017</th><td>2017</td><td>4</td><td>12</td><td>601989</td><td>2.376983</td><td>2.386231</td><td> 0.00500001</td><td>-0.04321450</td><td> 0.16067961</td><td>25.99856</td><td>...</td><td>1.698789</td><td>2.397895</td><td>0.409886</td><td>1</td><td>C37</td><td>0.10579811</td><td>0.01592735</td><td>0.031684632</td><td>5.147882</td><td>5.472271</td></tr>\n",
       "\t<tr><th scope=row>4-601989-2018</th><td>2018</td><td>4</td><td>12</td><td>601989</td><td>2.274677</td><td>2.274585</td><td>-0.38079315</td><td>-0.17239462</td><td> 0.03257107</td><td>25.95008</td><td>...</td><td>1.914849</td><td>2.397895</td><td>0.355974</td><td>1</td><td>C37</td><td>0.10317894</td><td>0.01284792</td><td>0.018947606</td><td>5.838799</td><td>6.550652</td></tr>\n",
       "\t<tr><th scope=row>4-601989-2019</th><td>2019</td><td>4</td><td>12</td><td>601989</td><td>2.160352</td><td>2.166972</td><td> 0.17947892</td><td> 0.05842639</td><td>-0.22285484</td><td>25.93085</td><td>...</td><td>1.528686</td><td>2.302585</td><td>0.357263</td><td>1</td><td>C37</td><td>0.10224933</td><td>0.01487221</td><td>0.023041990</td><td>5.776826</td><td>6.609978</td></tr>\n",
       "\t<tr><th scope=row>4-601989-2020</th><td>2020</td><td>4</td><td>12</td><td>601989</td><td>1.794793</td><td>1.804308</td><td>-0.52957728</td><td>-0.28385467</td><td> 0.16358810</td><td>25.87312</td><td>...</td><td>1.804541</td><td>2.397895</td><td>0.357263</td><td>1</td><td>C37</td><td>0.11828379</td><td>0.01278149</td><td>0.043628424</td><td>6.213074</td><td>6.628350</td></tr>\n",
       "\t<tr><th scope=row>4-601989-2021</th><td>2021</td><td>4</td><td>12</td><td>601989</td><td>1.824621</td><td>1.824353</td><td>-0.07057337</td><td> 0.01647522</td><td>-0.18376918</td><td>25.91700</td><td>...</td><td>1.872072</td><td>2.397895</td><td>0.345253</td><td>1</td><td>C37</td><td>0.11701093</td><td>0.01693508</td><td>0.029763107</td><td>5.727499</td><td>5.894311</td></tr>\n",
       "\t<tr><th scope=row>4-601989-2022</th><td>2022</td><td>4</td><td>12</td><td>601989</td><td>1.816688</td><td>1.811621</td><td>-0.06386728</td><td>-0.10055506</td><td>-0.46104594</td><td>25.96447</td><td>...</td><td>2.373706</td><td>2.302585</td><td>0.345253</td><td>1</td><td>C37</td><td>0.08542433</td><td>0.01596156</td><td>0.000530357</td><td>5.827081</td><td>5.664233</td></tr>\n",
       "</tbody>\n",
       "</table>\n"
      ],
      "text/latex": [
       "A pdata.frame: 6 x 22\n",
       "\\begin{tabular}{r|lllllllllllllllllllll}\n",
       "  & year & quarter & month & stkcd & volatility\\_end & volatility\\_avg & log\\_diff\\_lag1 & log\\_diff\\_avg\\_lag1 & diff\\_gfcf\\_lag1 & Size & ... & BM & Board & Top1 & SOE & ind & gdp\\_growth\\_rate & m2\\_growth\\_rate & inflow & log\\_epu & log\\_tpu\\\\\n",
       "  & <fct> & <fct> & <int> & <fct> & <dbl> & <dbl> & <dbl> & <dbl> & <dbl> & <dbl> & ... & <dbl> & <dbl> & <dbl> & <int> & <fct> & <dbl> & <dbl> & <dbl> & <dbl> & <dbl>\\\\\n",
       "\\hline\n",
       "\t4-601989-2017 & 2017 & 4 & 12 & 601989 & 2.376983 & 2.386231 &  0.00500001 & -0.04321450 &  0.16067961 & 25.99856 & ... & 1.698789 & 2.397895 & 0.409886 & 1 & C37 & 0.10579811 & 0.01592735 & 0.031684632 & 5.147882 & 5.472271\\\\\n",
       "\t4-601989-2018 & 2018 & 4 & 12 & 601989 & 2.274677 & 2.274585 & -0.38079315 & -0.17239462 &  0.03257107 & 25.95008 & ... & 1.914849 & 2.397895 & 0.355974 & 1 & C37 & 0.10317894 & 0.01284792 & 0.018947606 & 5.838799 & 6.550652\\\\\n",
       "\t4-601989-2019 & 2019 & 4 & 12 & 601989 & 2.160352 & 2.166972 &  0.17947892 &  0.05842639 & -0.22285484 & 25.93085 & ... & 1.528686 & 2.302585 & 0.357263 & 1 & C37 & 0.10224933 & 0.01487221 & 0.023041990 & 5.776826 & 6.609978\\\\\n",
       "\t4-601989-2020 & 2020 & 4 & 12 & 601989 & 1.794793 & 1.804308 & -0.52957728 & -0.28385467 &  0.16358810 & 25.87312 & ... & 1.804541 & 2.397895 & 0.357263 & 1 & C37 & 0.11828379 & 0.01278149 & 0.043628424 & 6.213074 & 6.628350\\\\\n",
       "\t4-601989-2021 & 2021 & 4 & 12 & 601989 & 1.824621 & 1.824353 & -0.07057337 &  0.01647522 & -0.18376918 & 25.91700 & ... & 1.872072 & 2.397895 & 0.345253 & 1 & C37 & 0.11701093 & 0.01693508 & 0.029763107 & 5.727499 & 5.894311\\\\\n",
       "\t4-601989-2022 & 2022 & 4 & 12 & 601989 & 1.816688 & 1.811621 & -0.06386728 & -0.10055506 & -0.46104594 & 25.96447 & ... & 2.373706 & 2.302585 & 0.345253 & 1 & C37 & 0.08542433 & 0.01596156 & 0.000530357 & 5.827081 & 5.664233\\\\\n",
       "\\end{tabular}\n"
      ],
      "text/markdown": [
       "\n",
       "A pdata.frame: 6 x 22\n",
       "\n",
       "| <!--/--> | year &lt;fct&gt; | quarter &lt;fct&gt; | month &lt;int&gt; | stkcd &lt;fct&gt; | volatility_end &lt;dbl&gt; | volatility_avg &lt;dbl&gt; | log_diff_lag1 &lt;dbl&gt; | log_diff_avg_lag1 &lt;dbl&gt; | diff_gfcf_lag1 &lt;dbl&gt; | Size &lt;dbl&gt; | ... ... | BM &lt;dbl&gt; | Board &lt;dbl&gt; | Top1 &lt;dbl&gt; | SOE &lt;int&gt; | ind &lt;fct&gt; | gdp_growth_rate &lt;dbl&gt; | m2_growth_rate &lt;dbl&gt; | inflow &lt;dbl&gt; | log_epu &lt;dbl&gt; | log_tpu &lt;dbl&gt; |\n",
       "|---|---|---|---|---|---|---|---|---|---|---|---|---|---|---|---|---|---|---|---|---|---|\n",
       "| 4-601989-2017 | 2017 | 4 | 12 | 601989 | 2.376983 | 2.386231 |  0.00500001 | -0.04321450 |  0.16067961 | 25.99856 | ... | 1.698789 | 2.397895 | 0.409886 | 1 | C37 | 0.10579811 | 0.01592735 | 0.031684632 | 5.147882 | 5.472271 |\n",
       "| 4-601989-2018 | 2018 | 4 | 12 | 601989 | 2.274677 | 2.274585 | -0.38079315 | -0.17239462 |  0.03257107 | 25.95008 | ... | 1.914849 | 2.397895 | 0.355974 | 1 | C37 | 0.10317894 | 0.01284792 | 0.018947606 | 5.838799 | 6.550652 |\n",
       "| 4-601989-2019 | 2019 | 4 | 12 | 601989 | 2.160352 | 2.166972 |  0.17947892 |  0.05842639 | -0.22285484 | 25.93085 | ... | 1.528686 | 2.302585 | 0.357263 | 1 | C37 | 0.10224933 | 0.01487221 | 0.023041990 | 5.776826 | 6.609978 |\n",
       "| 4-601989-2020 | 2020 | 4 | 12 | 601989 | 1.794793 | 1.804308 | -0.52957728 | -0.28385467 |  0.16358810 | 25.87312 | ... | 1.804541 | 2.397895 | 0.357263 | 1 | C37 | 0.11828379 | 0.01278149 | 0.043628424 | 6.213074 | 6.628350 |\n",
       "| 4-601989-2021 | 2021 | 4 | 12 | 601989 | 1.824621 | 1.824353 | -0.07057337 |  0.01647522 | -0.18376918 | 25.91700 | ... | 1.872072 | 2.397895 | 0.345253 | 1 | C37 | 0.11701093 | 0.01693508 | 0.029763107 | 5.727499 | 5.894311 |\n",
       "| 4-601989-2022 | 2022 | 4 | 12 | 601989 | 1.816688 | 1.811621 | -0.06386728 | -0.10055506 | -0.46104594 | 25.96447 | ... | 2.373706 | 2.302585 | 0.345253 | 1 | C37 | 0.08542433 | 0.01596156 | 0.000530357 | 5.827081 | 5.664233 |\n",
       "\n"
      ],
      "text/plain": [
       "              year quarter month stkcd  volatility_end volatility_avg\n",
       "4-601989-2017 2017 4       12    601989 2.376983       2.386231      \n",
       "4-601989-2018 2018 4       12    601989 2.274677       2.274585      \n",
       "4-601989-2019 2019 4       12    601989 2.160352       2.166972      \n",
       "4-601989-2020 2020 4       12    601989 1.794793       1.804308      \n",
       "4-601989-2021 2021 4       12    601989 1.824621       1.824353      \n",
       "4-601989-2022 2022 4       12    601989 1.816688       1.811621      \n",
       "              log_diff_lag1 log_diff_avg_lag1 diff_gfcf_lag1 Size     ...\n",
       "4-601989-2017  0.00500001   -0.04321450        0.16067961    25.99856 ...\n",
       "4-601989-2018 -0.38079315   -0.17239462        0.03257107    25.95008 ...\n",
       "4-601989-2019  0.17947892    0.05842639       -0.22285484    25.93085 ...\n",
       "4-601989-2020 -0.52957728   -0.28385467        0.16358810    25.87312 ...\n",
       "4-601989-2021 -0.07057337    0.01647522       -0.18376918    25.91700 ...\n",
       "4-601989-2022 -0.06386728   -0.10055506       -0.46104594    25.96447 ...\n",
       "              BM       Board    Top1     SOE ind gdp_growth_rate m2_growth_rate\n",
       "4-601989-2017 1.698789 2.397895 0.409886 1   C37 0.10579811      0.01592735    \n",
       "4-601989-2018 1.914849 2.397895 0.355974 1   C37 0.10317894      0.01284792    \n",
       "4-601989-2019 1.528686 2.302585 0.357263 1   C37 0.10224933      0.01487221    \n",
       "4-601989-2020 1.804541 2.397895 0.357263 1   C37 0.11828379      0.01278149    \n",
       "4-601989-2021 1.872072 2.397895 0.345253 1   C37 0.11701093      0.01693508    \n",
       "4-601989-2022 2.373706 2.302585 0.345253 1   C37 0.08542433      0.01596156    \n",
       "              inflow      log_epu  log_tpu \n",
       "4-601989-2017 0.031684632 5.147882 5.472271\n",
       "4-601989-2018 0.018947606 5.838799 6.550652\n",
       "4-601989-2019 0.023041990 5.776826 6.609978\n",
       "4-601989-2020 0.043628424 6.213074 6.628350\n",
       "4-601989-2021 0.029763107 5.727499 5.894311\n",
       "4-601989-2022 0.000530357 5.827081 5.664233"
      ]
     },
     "metadata": {},
     "output_type": "display_data"
    }
   ],
   "source": [
    "library(plm)\n",
    "\n",
    "# Create panel data structure\n",
    "panel_data <- pdata.frame(panel_data, index = c(\"stkcd\", \"year\", \"quarter\"))\n",
    "\n",
    "# Basic panel information\n",
    "cat(\"Panel Data Structure:\\n\")\n",
    "cat(\"-------------------\\n\")\n",
    "cat(\"Total observations:\", nrow(panel_data), \"\\n\")\n",
    "cat(\"Number of stocks:\", length(unique(panel_data$stkcd)), \"\\n\")\n",
    "cat(\"Number of time periods:\", length(unique(paste(panel_data$year, panel_data$quarter))), \"\\n\")\n",
    "\n",
    "# Check if panel is balanced\n",
    "pdim <- pdim(panel_data)\n",
    "cat(\"\\nPanel Dimensions:\\n\")\n",
    "print(pdim)\n",
    "\n",
    "if (pdim$balanced) {\n",
    "    cat(\"\\nThe panel is balanced.\\n\")\n",
    "} else {\n",
    "    cat(\"\\nThe panel is unbalanced.\\n\")\n",
    "    # Calculate distribution of observations per stock\n",
    "    obs_per_stock <- table(index(panel_data, \"id\"))\n",
    "    cat(\"Observation distribution per stock:\\n\")\n",
    "    print(summary(as.numeric(obs_per_stock)))\n",
    "}\n",
    "\n",
    "# Display the first few rows\n",
    "head(panel_data)\n",
    "tail(panel_data)"
   ]
  },
  {
   "cell_type": "markdown",
   "id": "e5390ef6",
   "metadata": {},
   "source": [
    "# Regression"
   ]
  },
  {
   "cell_type": "markdown",
   "id": "ee9cb550",
   "metadata": {},
   "source": [
    "1. Main\n",
    "\n",
    "- $\\text{Volatility}_{i,t} = \\alpha + \\beta \\text{GFC}_{t-1} + \\sum \\text{Control} + \\sum \\text{FE} + \\epsilon_{i,t}$\n",
    "\n",
    "|Model|Volatility|GFC (lagged 1 period)|Firm|Macro|FE(S)|FE(Q)|FE(P)|FE(I)| \n",
    "|:-|:-|:-|:-:|:-:|:-:|:-:|:-:|:-:|\n",
    "|a|$\\ln(\\text{Volatility}_{\\text{end of quarter }t})$|$\\Delta\\ln(\\text{VIX}_{\\text{end of quarter }t})$|||⚪|⚪|||\n",
    "|a1|$\\ln(\\text{Volatility}_{\\text{end of quarter }t})$|$\\Delta\\ln(\\text{VIX}_{\\text{end of quarter }t})$|⚪|⚪|⚪|⚪|||\n",
    "\n",
    "2. Robustness Test\n",
    "\n",
    "|Model|Volatility|GFC (lagged 1 period)|Firm|Macro|FE(S)|FE(Q)|FE(P)|FE(I)|\n",
    "|:-|:-|:-|:-:|:-:|:-:|:-:|:-:|:-:|\n",
    "|a2|$\\ln(\\overline{\\text{Volatility}_{\\text{quarter }t}})$|$\\Delta\\ln(\\overline{\\text{VIX}_{\\text{quarter }t}})$|⚪|⚪|⚪|⚪|||\n",
    "|a3|$\\ln(\\text{Volatility}_{\\text{end of quarter }t})$|$\\Delta\\text{GFCF}_{\\text{end of quarter }t}$|⚪|⚪|⚪|⚪|||\n",
    "|a4|$\\ln(\\text{Volatility}_{\\text{end of quarter }t})$|$\\Delta\\ln(\\text{VIX}_{\\text{end of quarter }t})$|⚪|⚪|⚪|⚪|⚪|⚪|\n",
    "\n",
    "3. Channel Verification: `GFC` >> Channel >> `Volatility`\n",
    "\n",
    "    1. $\\text{Channel}_{i,t} = \\alpha + \\beta \\text{GFC}_{t-1} + \\sum \\text{Control} + \\sum \\text{FE} + \\epsilon_{i,t}$\n",
    "    2. $\\text{Volatility}_{i,t} = \\alpha + \\beta \\text{Channel}_{t} + \\sum \\text{Control} + \\sum \\text{FE} + \\epsilon_{i,t}$\n",
    "\n",
    "|Model|Volatility|Channel|GFC (lagged 1 period)|Firm|Macro|FE(S)|FE(Q)|\n",
    "|:-|:-|:-|:-|:-:|:-:|:-:|:-:|\n",
    "|b1|$\\ln(\\text{Volatility}_{\\text{end of quarter }t})$|`inflow`|$\\Delta\\ln(\\text{VIX}_{\\text{end of quarter }t})$|⚪|⚪|⚪|⚪|\n",
    "|b2|$\\ln(\\text{Volatility}_{\\text{end of quarter }t})$|`epu`|$\\Delta\\ln(\\text{VIX}_{\\text{end of quarter }t})$|⚪|⚪|⚪|⚪|\n",
    "\n",
    "where:\n",
    "\n",
    "||Channels|\n",
    "|:-|:-:|\n",
    "|`inflow`| |\n",
    "|`epu`| |\n",
    "\n",
    "and\n",
    "\n",
    "||Control Variables|\n",
    "|:-|:-:|\n",
    "|Firm|`Size`, `Lev`, `ROA`, `BM`, `Board`, `Top1`|\n",
    "|Macro|`GDP Growth Rate`, `Money Supply Growth Rate`|\n",
    "\n",
    "also\n",
    "\n",
    "||Fixed Effects|\n",
    "|:-|:-:|\n",
    "|FE(S)|`Individual (stock)`|\n",
    "|FE(Q)|`Quarter`|\n",
    "|FE(P)|`Province`|\n",
    "|FE(I)|`Industry`|"
   ]
  },
  {
   "cell_type": "markdown",
   "id": "cfe0ed5c",
   "metadata": {},
   "source": [
    "## Main"
   ]
  },
  {
   "cell_type": "markdown",
   "id": "f4fcf62b",
   "metadata": {},
   "source": [
    "### Model a"
   ]
  },
  {
   "cell_type": "code",
   "execution_count": 34,
   "id": "2faa86ef",
   "metadata": {
    "vscode": {
     "languageId": "r"
    }
   },
   "outputs": [
    {
     "data": {
      "text/plain": [
       "Oneway (individual) effect Within Model\n",
       "\n",
       "Call:\n",
       "plm(formula = volatility_end ~ log_diff_lag1 + I(log_diff_lag1^2) + \n",
       "    I(log_diff_lag1^3) + quarter, data = panel_data, effect = \"individual\", \n",
       "    model = \"within\")\n",
       "\n",
       "Balanced Panel: n = 127, T = 7, N = 3556\n",
       "\n",
       "Residuals:\n",
       "      Min.    1st Qu.     Median    3rd Qu.       Max. \n",
       "-0.6667387 -0.1060082  0.0073487  0.1107512  0.5839768 \n",
       "\n",
       "Coefficients:\n",
       "                     Estimate Std. Error t-value  Pr(>|t|)    \n",
       "log_diff_lag1       0.0973558  0.0141065  6.9015 6.105e-12 ***\n",
       "I(log_diff_lag1^2)  0.1626050  0.0271961  5.9790 2.476e-09 ***\n",
       "I(log_diff_lag1^3) -0.2258028  0.0250642 -9.0090 < 2.2e-16 ***\n",
       "quarter2            0.0269687  0.0092380  2.9193  0.003531 ** \n",
       "quarter3            0.0156030  0.0092230  1.6917  0.090786 .  \n",
       "quarter4            0.0081806  0.0090598  0.9030  0.366614    \n",
       "---\n",
       "Signif. codes:  0 '***' 0.001 '**' 0.01 '*' 0.05 '.' 0.1 ' ' 1\n",
       "\n",
       "Total Sum of Squares:    117.25\n",
       "Residual Sum of Squares: 113.2\n",
       "R-Squared:      0.03456\n",
       "Adj. R-Squared: -0.00267\n",
       "F-statistic: 20.4222 on 6 and 3423 DF, p-value: < 2.22e-16"
      ]
     },
     "metadata": {},
     "output_type": "display_data"
    },
    {
     "name": "stdout",
     "output_type": "stream",
     "text": [
      "\n",
      "Robust standard errors for two-way fixed effects model:\n"
     ]
    },
    {
     "data": {
      "text/plain": [
       "\n",
       "t test of coefficients:\n",
       "\n",
       "                     Estimate Std. Error t value  Pr(>|t|)    \n",
       "log_diff_lag1       0.0973558  0.0091852 10.5992 < 2.2e-16 ***\n",
       "I(log_diff_lag1^2)  0.1626050  0.0370484  4.3890 1.173e-05 ***\n",
       "I(log_diff_lag1^3) -0.2258028  0.0312308 -7.2301 5.924e-13 ***\n",
       "quarter2            0.0269687  0.0030246  8.9164 < 2.2e-16 ***\n",
       "quarter3            0.0156030  0.0027406  5.6933 1.351e-08 ***\n",
       "quarter4            0.0081806  0.0030975  2.6410  0.008303 ** \n",
       "---\n",
       "Signif. codes:  0 '***' 0.001 '**' 0.01 '*' 0.05 '.' 0.1 ' ' 1\n"
      ]
     },
     "metadata": {},
     "output_type": "display_data"
    }
   ],
   "source": [
    "library(plm)\n",
    "\n",
    "# Run model with individual fixed effects and quarter dummies\n",
    "model_a <- plm(volatility_end ~ log_diff_lag1 + I(log_diff_lag1^2) + I(log_diff_lag1^3) + quarter, \n",
    "             data = panel_data, \n",
    "             model = \"within\", \n",
    "             effect = \"individual\")\n",
    "\n",
    "# Display regression results\n",
    "summary(model_a)\n",
    "\n",
    "# Get robust standard errors for both models\n",
    "library(lmtest)\n",
    "library(sandwich)\n",
    "cat(\"\\nRobust standard errors for two-way fixed effects model:\\n\")\n",
    "coeftest(model_a, vcov = vcovHC(model_a, type = \"HC1\"))"
   ]
  },
  {
   "cell_type": "markdown",
   "id": "7acc3c4e",
   "metadata": {},
   "source": [
    "### Model a1"
   ]
  },
  {
   "cell_type": "markdown",
   "id": "0e1e0162",
   "metadata": {},
   "source": [
    "#### Panel Regression"
   ]
  },
  {
   "cell_type": "code",
   "execution_count": 35,
   "id": "e5dd2fe4",
   "metadata": {
    "vscode": {
     "languageId": "r"
    }
   },
   "outputs": [
    {
     "data": {
      "text/plain": [
       "Oneway (individual) effect Within Model\n",
       "\n",
       "Call:\n",
       "plm(formula = volatility_end ~ log_diff_lag1 + I(log_diff_lag1^2) + \n",
       "    I(log_diff_lag1^3) + Size + Lev + ROA + BM + Board + Top1 + \n",
       "    quarter + gdp_growth_rate + m2_growth_rate, data = panel_data, \n",
       "    effect = \"individual\", model = \"within\")\n",
       "\n",
       "Balanced Panel: n = 127, T = 7, N = 3556\n",
       "\n",
       "Residuals:\n",
       "      Min.    1st Qu.     Median    3rd Qu.       Max. \n",
       "-0.6217185 -0.0991969  0.0058653  0.0999832  0.5248352 \n",
       "\n",
       "Coefficients:\n",
       "                     Estimate Std. Error  t-value  Pr(>|t|)    \n",
       "log_diff_lag1       0.0932767  0.0134940   6.9125 5.660e-12 ***\n",
       "I(log_diff_lag1^2)  0.1821398  0.0295478   6.1642 7.908e-10 ***\n",
       "I(log_diff_lag1^3) -0.2458908  0.0278714  -8.8223 < 2.2e-16 ***\n",
       "Size               -0.0493606  0.0075881  -6.5050 8.903e-11 ***\n",
       "Lev                 0.2047429  0.0514560   3.9790 7.065e-05 ***\n",
       "ROA                 0.2522455  0.1118610   2.2550 0.0241970 *  \n",
       "BM                 -0.0775472  0.0042756 -18.1371 < 2.2e-16 ***\n",
       "Board               0.1053785  0.0335400   3.1419 0.0016930 ** \n",
       "Top1               -0.0059316  0.0602602  -0.0984 0.9215947    \n",
       "quarter2           -0.0374078  0.0376696  -0.9931 0.3207550    \n",
       "quarter3           -0.0215952  0.0310744  -0.6950 0.4871326    \n",
       "quarter4           -0.0328498  0.0387144  -0.8485 0.3962092    \n",
       "gdp_growth_rate     0.4487606  0.1312420   3.4193 0.0006351 ***\n",
       "m2_growth_rate      4.0535310  0.6722762   6.0296 1.819e-09 ***\n",
       "---\n",
       "Signif. codes:  0 '***' 0.001 '**' 0.01 '*' 0.05 '.' 0.1 ' ' 1\n",
       "\n",
       "Total Sum of Squares:    117.25\n",
       "Residual Sum of Squares: 98.457\n",
       "R-Squared:      0.16031\n",
       "Adj. R-Squared: 0.12589\n",
       "F-statistic: 46.5709 on 14 and 3415 DF, p-value: < 2.22e-16"
      ]
     },
     "metadata": {},
     "output_type": "display_data"
    },
    {
     "name": "stdout",
     "output_type": "stream",
     "text": [
      "\n",
      "Robust standard errors for two-way fixed effects model:\n"
     ]
    },
    {
     "data": {
      "text/plain": [
       "\n",
       "t test of coefficients:\n",
       "\n",
       "                     Estimate Std. Error t value  Pr(>|t|)    \n",
       "log_diff_lag1       0.0932767  0.0097536  9.5633 < 2.2e-16 ***\n",
       "I(log_diff_lag1^2)  0.1821398  0.0234097  7.7805 9.498e-15 ***\n",
       "I(log_diff_lag1^3) -0.2458908  0.0263522 -9.3309 < 2.2e-16 ***\n",
       "Size               -0.0493606  0.0201392 -2.4510   0.01430 *  \n",
       "Lev                 0.2047429  0.1430145  1.4316   0.15234    \n",
       "ROA                 0.2522455  0.2562680  0.9843   0.32504    \n",
       "BM                 -0.0775472  0.0109104 -7.1077 1.430e-12 ***\n",
       "Board               0.1053785  0.0735071  1.4336   0.15178    \n",
       "Top1               -0.0059316  0.1785356 -0.0332   0.97350    \n",
       "quarter2           -0.0374078  0.0214051 -1.7476   0.08062 .  \n",
       "quarter3           -0.0215952  0.0184819 -1.1685   0.24271    \n",
       "quarter4           -0.0328498  0.0240270 -1.3672   0.17165    \n",
       "gdp_growth_rate     0.4487606  0.0992875  4.5198 6.399e-06 ***\n",
       "m2_growth_rate      4.0535310  0.6680435  6.0678 1.439e-09 ***\n",
       "---\n",
       "Signif. codes:  0 '***' 0.001 '**' 0.01 '*' 0.05 '.' 0.1 ' ' 1\n"
      ]
     },
     "metadata": {},
     "output_type": "display_data"
    }
   ],
   "source": [
    "library(plm)\n",
    "\n",
    "# Run model with individual fixed effects and quarter dummies\n",
    "model_a1 <- plm(volatility_end ~ log_diff_lag1 + I(log_diff_lag1^2) + I(log_diff_lag1^3) +  Size + Lev + ROA + BM + Board + Top1 + quarter + gdp_growth_rate + m2_growth_rate, \n",
    "             data = panel_data, \n",
    "             model = \"within\", \n",
    "             effect = \"individual\")\n",
    "\n",
    "# Display regression results\n",
    "summary(model_a1)\n",
    "\n",
    "# Get robust standard errors for both models\n",
    "library(lmtest)\n",
    "library(sandwich)\n",
    "cat(\"\\nRobust standard errors for two-way fixed effects model:\\n\")\n",
    "coeftest(model_a1, vcov = vcovHC(model_a1, type = \"HC1\"))"
   ]
  },
  {
   "cell_type": "code",
   "execution_count": 36,
   "id": "96911fde",
   "metadata": {
    "vscode": {
     "languageId": "r"
    }
   },
   "outputs": [
    {
     "data": {
      "image/png": "[encoded data removed]",
      "text/plain": [
       "Plot with title \"Effect of VIX Changes on Stock Volatility\""
      ]
     },
     "metadata": {
      "image/png": {
       "height": 420,
       "width": 420
      }
     },
     "output_type": "display_data"
    }
   ],
   "source": [
    "par(bg=\"white\", mar=c(5, 4, 4, 2) + 0.1)\n",
    "\n",
    "# Extract coefficients for log_diff_lag1 and its higher order terms\n",
    "coefficients <- coef(model_a1)\n",
    "b1 <- coefficients[\"log_diff_lag1\"]\n",
    "b2 <- coefficients[\"I(log_diff_lag1^2)\"]\n",
    "b3 <- coefficients[\"I(log_diff_lag1^3)\"]\n",
    "\n",
    "# Use the range from the original gfc_indicators dataframe\n",
    "min_value <- min(gfc_indicators$log_diff_lag1, na.rm = TRUE)\n",
    "max_value <- max(gfc_indicators$log_diff_lag1, na.rm = TRUE)\n",
    "log_diff_values <- seq(min_value, max_value, length.out = 100)\n",
    "\n",
    "# Calculate predicted volatility for each value (partial effect, ignoring other variables)\n",
    "predicted_volatility <- b1 * log_diff_values + \n",
    "                        b2 * log_diff_values^2 + \n",
    "                        b3 * log_diff_values^3\n",
    "\n",
    "# Get the variance-covariance matrix for the coefficients\n",
    "vcov_matrix <- vcovHC(model_a1, type = \"HC1\") # Using robust variance-covariance matrix\n",
    "\n",
    "# Extract the rows/columns for our parameters of interest\n",
    "param_indices <- which(names(coefficients) %in% c(\"log_diff_lag1\", \"I(log_diff_lag1^2)\", \"I(log_diff_lag1^3)\"))\n",
    "vcov_subset <- vcov_matrix[param_indices, param_indices]\n",
    "\n",
    "# Calculate standard error for each prediction point\n",
    "se_predictions <- numeric(length(log_diff_values))\n",
    "for (i in 1:length(log_diff_values)) {\n",
    "    # Create X matrix for this prediction point\n",
    "    X_i <- c(log_diff_values[i], log_diff_values[i]^2, log_diff_values[i]^3)\n",
    "    \n",
    "    # Calculate variance of prediction\n",
    "    se_predictions[i] <- sqrt(t(X_i) %*% vcov_subset %*% X_i)\n",
    "}\n",
    "\n",
    "# Calculate confidence intervals (95%)\n",
    "confidence_level <- 0.95\n",
    "t_value <- qt((1 + confidence_level) / 2, df = df.residual(model_a1))\n",
    "upper_ci <- predicted_volatility + t_value * se_predictions\n",
    "lower_ci <- predicted_volatility - t_value * se_predictions\n",
    "\n",
    "# Create the plot\n",
    "plot(log_diff_values, predicted_volatility, type = \"l\", lwd = 2, col = \"blue\",\n",
    "     xlab = \"Log Difference of VIX (lagged 1 period)\",\n",
    "     ylab = \"Predicted Volatility\",\n",
    "     main = \"Effect of VIX Changes on Stock Volatility\",\n",
    "     ylim = range(c(lower_ci, upper_ci)))\n",
    "\n",
    "# Add confidence intervals\n",
    "polygon(c(log_diff_values, rev(log_diff_values)), \n",
    "        c(lower_ci, rev(upper_ci)), \n",
    "        col = rgb(0, 0, 1, 0.2), border = NA)\n",
    "\n",
    "# Add the CI lines\n",
    "lines(log_diff_values, upper_ci, lty = 2, col = \"blue\")\n",
    "lines(log_diff_values, lower_ci, lty = 2, col = \"blue\")\n",
    "\n",
    "# Add a vertical line at x = 0 for reference\n",
    "abline(v = 0, lty = 2, col = \"darkgray\")\n",
    "\n",
    "# Add a grid for better readability\n",
    "grid()\n",
    "\n",
    "# Add a legend\n",
    "legend(\"bottomleft\", \n",
    "       legend = c(\"Predicted Effect\", \"95% Confidence Interval\"),\n",
    "       col = c(\"blue\", rgb(0, 0, 1, 0.2)),\n",
    "       lty = c(1, NA), \n",
    "       lwd = c(2, NA),\n",
    "       fill = c(NA, rgb(0, 0, 1, 0.2)),\n",
    "       border = c(NA, NA))"
   ]
  },
  {
   "cell_type": "markdown",
   "id": "2bdb2807",
   "metadata": {},
   "source": [
    "#### Testing"
   ]
  },
  {
   "cell_type": "markdown",
   "id": "e82c301f",
   "metadata": {},
   "source": [
    "- Hausman"
   ]
  },
  {
   "cell_type": "code",
   "execution_count": 37,
   "id": "a2f75477",
   "metadata": {
    "vscode": {
     "languageId": "r"
    }
   },
   "outputs": [
    {
     "name": "stdout",
     "output_type": "stream",
     "text": [
      "\n",
      "\tHausman Test\n",
      "\n",
      "data:  volatility_end ~ log_diff_lag1 + I(log_diff_lag1^2) + I(log_diff_lag1^3) +  ...\n",
      "chisq = 50.831, df = 14, p-value = 4.429e-06\n",
      "alternative hypothesis: one model is inconsistent\n",
      "\n"
     ]
    }
   ],
   "source": [
    "# First estimate a random effects version of model_a1\n",
    "model_a1_re <- plm(volatility_end ~ log_diff_lag1 + I(log_diff_lag1^2) + I(log_diff_lag1^3) +  \n",
    "                   Size + Lev + ROA + BM + Board + Top1 + quarter + \n",
    "                   gdp_growth_rate + m2_growth_rate, \n",
    "                   data = panel_data, \n",
    "                   model = \"random\")\n",
    "\n",
    "# Perform Hausman test\n",
    "hausman_test <- phtest(model_a1, model_a1_re)\n",
    "\n",
    "# Print the results\n",
    "print(hausman_test)"
   ]
  },
  {
   "cell_type": "markdown",
   "id": "9bd2e5fa",
   "metadata": {},
   "source": [
    "- Residual Plots"
   ]
  },
  {
   "cell_type": "code",
   "execution_count": 38,
   "id": "b83b4f63",
   "metadata": {
    "vscode": {
     "languageId": "r"
    }
   },
   "outputs": [],
   "source": [
    "# Extract fitted values and residuals\n",
    "fitted_values_model_a1 <- as.numeric(fitted(model_a1))\n",
    "residuals_model_a1 <- as.numeric(residuals(model_a1))"
   ]
  },
  {
   "cell_type": "markdown",
   "id": "d61213ef",
   "metadata": {},
   "source": [
    "- Fitted vs Residual Plot"
   ]
  },
  {
   "cell_type": "code",
   "execution_count": 39,
   "id": "d3d881ee",
   "metadata": {
    "vscode": {
     "languageId": "r"
    }
   },
   "outputs": [
    {
     "data": {
      "image/png": "[encoded data removed]",
      "text/plain": [
       "Plot with title \"Residual Diagnostic Plot for Model a1\""
      ]
     },
     "metadata": {
      "image/png": {
       "height": 420,
       "width": 420
      }
     },
     "output_type": "display_data"
    }
   ],
   "source": [
    "par(bg=\"white\")\n",
    "\n",
    "# Create a scatter plot of fitted values vs residuals\n",
    "plot(fitted_values_model_a1, residuals_model_a1, \n",
    "    pch = 20, col = \"darkblue\",\n",
    "    xlab = \"Fitted Values\", ylab = \"Residuals\",\n",
    "    main = \"Residual Diagnostic Plot for Model a1\")\n",
    "\n",
    "# Add a horizontal line at y = 0\n",
    "abline(h = 0, col = \"red\", lwd = 2)\n",
    "\n",
    "# Add a smoothed line to detect patterns\n",
    "# Create a data frame for loess model\n",
    "loess_data <- data.frame(x = fitted_values_model_a1, y = residuals_model_a1)\n",
    "smooth_line <- loess(y ~ x, data = loess_data, span = 0.75)\n",
    "\n",
    "# Sort the data for smooth line plotting\n",
    "sorted_data <- loess_data[order(loess_data$x),]\n",
    "# Predict using the sorted data\n",
    "smooth_pred <- predict(smooth_line, newdata = sorted_data)\n",
    "\n",
    "# Plot the smooth line\n",
    "lines(sorted_data$x, smooth_pred, col = \"cyan\", lwd = 2)\n",
    "\n",
    "# Add a legend\n",
    "legend(\"topright\", \n",
    "      legend = c(\"Residuals\", \"Reference Line\", \"Smooth Line\"),\n",
    "      col = c(\"darkblue\", \"red\", \"cyan\"),\n",
    "      pch = c(20, NA, NA), \n",
    "      lty = c(NA, 1, 1),\n",
    "      lwd = c(NA, 2, 2))\n",
    "\n",
    "# Add grid for better readability\n",
    "grid()"
   ]
  },
  {
   "cell_type": "markdown",
   "id": "a438e74c",
   "metadata": {},
   "source": [
    "- Q-Q Plot"
   ]
  },
  {
   "cell_type": "code",
   "execution_count": 40,
   "id": "8b26a07c",
   "metadata": {
    "vscode": {
     "languageId": "r"
    }
   },
   "outputs": [
    {
     "data": {
      "image/png": "[encoded data removed]",
      "text/plain": [
       "Plot with title \"Normal Q-Q Plot\""
      ]
     },
     "metadata": {
      "image/png": {
       "height": 420,
       "width": 420
      }
     },
     "output_type": "display_data"
    }
   ],
   "source": [
    "par(bg=\"white\")\n",
    "qqnorm(fitted_values_model_a1)\n",
    "qqline(residuals_model_a1, col=\"red\")"
   ]
  },
  {
   "cell_type": "markdown",
   "id": "b3a7058f",
   "metadata": {},
   "source": [
    "## Robustness Test"
   ]
  },
  {
   "cell_type": "markdown",
   "id": "bba4cd87",
   "metadata": {},
   "source": [
    "### Model a2\n",
    "\n",
    "> Robustness verification of Model a1 by changing $\\text{Volatility}$ and $\\text{GFC}$ from quarter-end data to quarterly-averaged data."
   ]
  },
  {
   "cell_type": "markdown",
   "id": "7f518c4d",
   "metadata": {},
   "source": [
    "#### Panel Regression"
   ]
  },
  {
   "cell_type": "code",
   "execution_count": 41,
   "id": "df296c4c",
   "metadata": {
    "vscode": {
     "languageId": "r"
    }
   },
   "outputs": [
    {
     "data": {
      "text/plain": [
       "Oneway (individual) effect Within Model\n",
       "\n",
       "Call:\n",
       "plm(formula = volatility_avg ~ log_diff_avg_lag1 + I(log_diff_avg_lag1^2) + \n",
       "    I(log_diff_avg_lag1^3) + Size + Lev + ROA + BM + Board + \n",
       "    Top1 + quarter + gdp_growth_rate + m2_growth_rate, data = panel_data, \n",
       "    effect = \"individual\", model = \"within\")\n",
       "\n",
       "Balanced Panel: n = 127, T = 7, N = 3556\n",
       "\n",
       "Residuals:\n",
       "      Min.    1st Qu.     Median    3rd Qu.       Max. \n",
       "-0.6306385 -0.0962135  0.0073421  0.0998254  0.5358076 \n",
       "\n",
       "Coefficients:\n",
       "                         Estimate Std. Error  t-value  Pr(>|t|)    \n",
       "log_diff_avg_lag1       0.0996119  0.0207125   4.8093 1.580e-06 ***\n",
       "I(log_diff_avg_lag1^2)  0.4882712  0.0908303   5.3756 8.143e-08 ***\n",
       "I(log_diff_avg_lag1^3) -1.1672533  0.1404392  -8.3115 < 2.2e-16 ***\n",
       "Size                   -0.0626009  0.0074389  -8.4154 < 2.2e-16 ***\n",
       "Lev                     0.2348138  0.0513208   4.5754 4.922e-06 ***\n",
       "ROA                     0.2605508  0.1116857   2.3329 0.0197115 *  \n",
       "BM                     -0.0749686  0.0042622 -17.5893 < 2.2e-16 ***\n",
       "Board                   0.1158795  0.0334794   3.4612 0.0005443 ***\n",
       "Top1                    0.0051173  0.0601494   0.0851 0.9322060    \n",
       "quarter2               -0.1053920  0.0394307  -2.6728 0.0075570 ** \n",
       "quarter3               -0.0859839  0.0318784  -2.6972 0.0070259 ** \n",
       "quarter4               -0.0956084  0.0394507  -2.4235 0.0154239 *  \n",
       "gdp_growth_rate         0.6184805  0.1402584   4.4096 1.068e-05 ***\n",
       "m2_growth_rate          3.8030021  0.6421977   5.9219 3.499e-09 ***\n",
       "---\n",
       "Signif. codes:  0 '***' 0.001 '**' 0.01 '*' 0.05 '.' 0.1 ' ' 1\n",
       "\n",
       "Total Sum of Squares:    116.73\n",
       "Residual Sum of Squares: 98.175\n",
       "R-Squared:      0.15898\n",
       "Adj. R-Squared: 0.1245\n",
       "F-statistic: 46.1102 on 14 and 3415 DF, p-value: < 2.22e-16"
      ]
     },
     "metadata": {},
     "output_type": "display_data"
    },
    {
     "name": "stdout",
     "output_type": "stream",
     "text": [
      "\n",
      "Robust standard errors for two-way fixed effects model:\n"
     ]
    },
    {
     "data": {
      "text/plain": [
       "\n",
       "t test of coefficients:\n",
       "\n",
       "                         Estimate Std. Error  t value  Pr(>|t|)    \n",
       "log_diff_avg_lag1       0.0996119  0.0115621   8.6154 < 2.2e-16 ***\n",
       "I(log_diff_avg_lag1^2)  0.4882712  0.0370581  13.1758 < 2.2e-16 ***\n",
       "I(log_diff_avg_lag1^3) -1.1672533  0.1045289 -11.1668 < 2.2e-16 ***\n",
       "Size                   -0.0626009  0.0205734  -3.0428 0.0023617 ** \n",
       "Lev                     0.2348138  0.1427092   1.6454 0.0999791 .  \n",
       "ROA                     0.2605508  0.2519094   1.0343 0.3010675    \n",
       "BM                     -0.0749686  0.0107369  -6.9823 3.474e-12 ***\n",
       "Board                   0.1158795  0.0741704   1.5623 0.1183000    \n",
       "Top1                    0.0051173  0.1774046   0.0288 0.9769897    \n",
       "quarter2               -0.1053920  0.0259855  -4.0558 5.108e-05 ***\n",
       "quarter3               -0.0859839  0.0228152  -3.7687 0.0001669 ***\n",
       "quarter4               -0.0956084  0.0284504  -3.3605 0.0007865 ***\n",
       "gdp_growth_rate         0.6184805  0.1169520   5.2883 1.312e-07 ***\n",
       "m2_growth_rate          3.8030021  0.8016567   4.7439 2.182e-06 ***\n",
       "---\n",
       "Signif. codes:  0 '***' 0.001 '**' 0.01 '*' 0.05 '.' 0.1 ' ' 1\n"
      ]
     },
     "metadata": {},
     "output_type": "display_data"
    }
   ],
   "source": [
    "library(plm)\n",
    "\n",
    "# Run model with individual fixed effects and quarter dummies\n",
    "model_a2 <- plm(volatility_avg ~ log_diff_avg_lag1 + I(log_diff_avg_lag1^2) + I(log_diff_avg_lag1^3) + Size + Lev + ROA + BM + Board + Top1 + quarter + gdp_growth_rate + m2_growth_rate, \n",
    "             data = panel_data, \n",
    "             model = \"within\", \n",
    "             effect = \"individual\")\n",
    "\n",
    "# Display regression results\n",
    "summary(model_a2)\n",
    "\n",
    "# Get robust standard errors for both models\n",
    "library(lmtest)\n",
    "library(sandwich)\n",
    "cat(\"\\nRobust standard errors for two-way fixed effects model:\\n\")\n",
    "coeftest(model_a2, vcov = vcovHC(model_a2, type = \"HC1\"))"
   ]
  },
  {
   "cell_type": "markdown",
   "id": "e949885a",
   "metadata": {},
   "source": [
    "#### Testing"
   ]
  },
  {
   "cell_type": "markdown",
   "id": "6926691e",
   "metadata": {},
   "source": [
    "- Residual Plots"
   ]
  },
  {
   "cell_type": "code",
   "execution_count": 42,
   "id": "127a5157",
   "metadata": {
    "vscode": {
     "languageId": "r"
    }
   },
   "outputs": [],
   "source": [
    "# Extract fitted values and residuals\n",
    "fitted_values_model_a2 <- as.numeric(fitted(model_a2))\n",
    "residuals_model_a2 <- as.numeric(residuals(model_a2))"
   ]
  },
  {
   "cell_type": "markdown",
   "id": "f97e35ad",
   "metadata": {},
   "source": [
    "- Fitted vs Residual Plot"
   ]
  },
  {
   "cell_type": "code",
   "execution_count": 43,
   "id": "ec9ecdcd",
   "metadata": {
    "vscode": {
     "languageId": "r"
    }
   },
   "outputs": [
    {
     "data": {
      "image/png": "[encoded data removed]",
      "text/plain": [
       "Plot with title \"Residual Diagnostic Plot for Model a1\""
      ]
     },
     "metadata": {
      "image/png": {
       "height": 420,
       "width": 420
      }
     },
     "output_type": "display_data"
    }
   ],
   "source": [
    "par(bg=\"white\")\n",
    "\n",
    "# Create a scatter plot of fitted values vs residuals\n",
    "plot(fitted_values_model_a2, residuals_model_a2, \n",
    "    pch = 20, col = \"darkblue\",\n",
    "    xlab = \"Fitted Values\", ylab = \"Residuals\",\n",
    "    main = \"Residual Diagnostic Plot for Model a1\")\n",
    "\n",
    "# Add a horizontal line at y = 0\n",
    "abline(h = 0, col = \"red\", lwd = 2)\n",
    "\n",
    "# Add a smoothed line to detect patterns\n",
    "# Create a data frame for loess model\n",
    "loess_data <- data.frame(x = fitted_values_model_a2, y = residuals_model_a2)\n",
    "smooth_line <- loess(y ~ x, data = loess_data, span = 0.75)\n",
    "\n",
    "# Sort the data for smooth line plotting\n",
    "sorted_data <- loess_data[order(loess_data$x),]\n",
    "# Predict using the sorted data\n",
    "smooth_pred <- predict(smooth_line, newdata = sorted_data)\n",
    "\n",
    "# Plot the smooth line\n",
    "lines(sorted_data$x, smooth_pred, col = \"cyan\", lwd = 2)\n",
    "\n",
    "# Add a legend\n",
    "legend(\"topright\", \n",
    "      legend = c(\"Residuals\", \"Reference Line\", \"Smooth Line\"),\n",
    "      col = c(\"darkblue\", \"red\", \"cyan\"),\n",
    "      pch = c(20, NA, NA), \n",
    "      lty = c(NA, 1, 1),\n",
    "      lwd = c(NA, 2, 2))\n",
    "\n",
    "# Add grid for better readability\n",
    "grid()"
   ]
  },
  {
   "cell_type": "markdown",
   "id": "1d1819e4",
   "metadata": {},
   "source": [
    "- Q-Q Plot"
   ]
  },
  {
   "cell_type": "code",
   "execution_count": 44,
   "id": "85951643",
   "metadata": {
    "vscode": {
     "languageId": "r"
    }
   },
   "outputs": [
    {
     "data": {
      "image/png": "[encoded data removed]",
      "text/plain": [
       "Plot with title \"Normal Q-Q Plot\""
      ]
     },
     "metadata": {
      "image/png": {
       "height": 420,
       "width": 420
      }
     },
     "output_type": "display_data"
    }
   ],
   "source": [
    "par(bg=\"white\")\n",
    "qqnorm(fitted_values_model_a2)\n",
    "qqline(residuals_model_a2, col=\"red\")"
   ]
  },
  {
   "cell_type": "markdown",
   "id": "215175dc",
   "metadata": {},
   "source": [
    "### Model a3\n",
    "\n",
    "> Robustness verification of Model a1 by changing the proxy for $\\text{GFC}$ from VIX-based data to GFCF."
   ]
  },
  {
   "cell_type": "markdown",
   "id": "c0a46045",
   "metadata": {},
   "source": [
    "#### Panel Regression"
   ]
  },
  {
   "cell_type": "code",
   "execution_count": 45,
   "id": "7aa65c30",
   "metadata": {
    "vscode": {
     "languageId": "r"
    }
   },
   "outputs": [
    {
     "data": {
      "text/plain": [
       "Oneway (individual) effect Within Model\n",
       "\n",
       "Call:\n",
       "plm(formula = volatility_end ~ diff_gfcf_lag1 + I(diff_gfcf_lag1^2) + \n",
       "    I(diff_gfcf_lag1^3) + Size + Lev + ROA + BM + Board + Top1 + \n",
       "    quarter + gdp_growth_rate + m2_growth_rate, data = panel_data, \n",
       "    effect = \"individual\", model = \"within\")\n",
       "\n",
       "Balanced Panel: n = 127, T = 7, N = 3556\n",
       "\n",
       "Residuals:\n",
       "      Min.    1st Qu.     Median    3rd Qu.       Max. \n",
       "-0.6199819 -0.0978502  0.0051083  0.1005591  0.5141257 \n",
       "\n",
       "Coefficients:\n",
       "                      Estimate Std. Error  t-value  Pr(>|t|)    \n",
       "diff_gfcf_lag1      -0.1020794  0.0090766 -11.2464 < 2.2e-16 ***\n",
       "I(diff_gfcf_lag1^2) -0.0470302  0.0112844  -4.1677 3.153e-05 ***\n",
       "I(diff_gfcf_lag1^3)  0.0363553  0.0070453   5.1603 2.607e-07 ***\n",
       "Size                -0.0417731  0.0078299  -5.3351 1.017e-07 ***\n",
       "Lev                  0.2078062  0.0506278   4.1046 4.145e-05 ***\n",
       "ROA                  0.2122839  0.1098736   1.9321 0.0534330 .  \n",
       "BM                  -0.0739799  0.0042128 -17.5606 < 2.2e-16 ***\n",
       "Board                0.0954825  0.0329395   2.8987 0.0037707 ** \n",
       "Top1                -0.0148956  0.0593111  -0.2511 0.8017188    \n",
       "quarter2            -0.2331633  0.0404517  -5.7640 8.944e-09 ***\n",
       "quarter3            -0.1992840  0.0323537  -6.1595 8.144e-10 ***\n",
       "quarter4            -0.2574340  0.0410252  -6.2750 3.935e-10 ***\n",
       "gdp_growth_rate      0.9813137  0.1445122   6.7905 1.312e-11 ***\n",
       "m2_growth_rate       2.2884000  0.6804622   3.3630 0.0007795 ***\n",
       "---\n",
       "Signif. codes:  0 '***' 0.001 '**' 0.01 '*' 0.05 '.' 0.1 ' ' 1\n",
       "\n",
       "Total Sum of Squares:    117.25\n",
       "Residual Sum of Squares: 94.848\n",
       "R-Squared:      0.1911\n",
       "Adj. R-Squared: 0.15794\n",
       "F-statistic: 57.6265 on 14 and 3415 DF, p-value: < 2.22e-16"
      ]
     },
     "metadata": {},
     "output_type": "display_data"
    },
    {
     "name": "stdout",
     "output_type": "stream",
     "text": [
      "\n",
      "Robust standard errors for two-way fixed effects model:\n"
     ]
    },
    {
     "data": {
      "text/plain": [
       "\n",
       "t test of coefficients:\n",
       "\n",
       "                      Estimate Std. Error  t value  Pr(>|t|)    \n",
       "diff_gfcf_lag1      -0.1020794  0.0085341 -11.9613 < 2.2e-16 ***\n",
       "I(diff_gfcf_lag1^2) -0.0470302  0.0153991  -3.0541  0.002275 ** \n",
       "I(diff_gfcf_lag1^3)  0.0363553  0.0071712   5.0696 4.198e-07 ***\n",
       "Size                -0.0417731  0.0190933  -2.1878  0.028749 *  \n",
       "Lev                  0.2078062  0.1393331   1.4914  0.135940    \n",
       "ROA                  0.2122839  0.2503573   0.8479  0.396540    \n",
       "BM                  -0.0739799  0.0109658  -6.7464 1.773e-11 ***\n",
       "Board                0.0954825  0.0723171   1.3203  0.186813    \n",
       "Top1                -0.0148956  0.1783602  -0.0835  0.933448    \n",
       "quarter2            -0.2331633  0.0430663  -5.4141 6.587e-08 ***\n",
       "quarter3            -0.1992840  0.0357367  -5.5765 2.645e-08 ***\n",
       "quarter4            -0.2574340  0.0477486  -5.3914 7.464e-08 ***\n",
       "gdp_growth_rate      0.9813137  0.1569163   6.2537 4.504e-10 ***\n",
       "m2_growth_rate       2.2884000  0.8886936   2.5750  0.010065 *  \n",
       "---\n",
       "Signif. codes:  0 '***' 0.001 '**' 0.01 '*' 0.05 '.' 0.1 ' ' 1\n"
      ]
     },
     "metadata": {},
     "output_type": "display_data"
    }
   ],
   "source": [
    "library(plm)\n",
    "\n",
    "# Run model with individual fixed effects and quarter dummies\n",
    "model_a3 <- plm(volatility_end ~ diff_gfcf_lag1 + I(diff_gfcf_lag1^2) + I(diff_gfcf_lag1^3) + Size + Lev + ROA + BM + Board + Top1 + quarter + gdp_growth_rate + m2_growth_rate, \n",
    "             data = panel_data, \n",
    "             model = \"within\", \n",
    "             effect = \"individual\")\n",
    "\n",
    "# Display regression results\n",
    "summary(model_a3)\n",
    "\n",
    "# Get robust standard errors for both models\n",
    "library(lmtest)\n",
    "library(sandwich)\n",
    "cat(\"\\nRobust standard errors for two-way fixed effects model:\\n\")\n",
    "coeftest(model_a3, vcov = vcovHC(model_a3, type = \"HC1\"))"
   ]
  },
  {
   "cell_type": "markdown",
   "id": "d17e039f",
   "metadata": {},
   "source": [
    "#### Testing"
   ]
  },
  {
   "cell_type": "markdown",
   "id": "1df2dd84",
   "metadata": {},
   "source": [
    "- Residual Plots"
   ]
  },
  {
   "cell_type": "code",
   "execution_count": 46,
   "id": "a1423635",
   "metadata": {
    "vscode": {
     "languageId": "r"
    }
   },
   "outputs": [],
   "source": [
    "# Extract fitted values and residuals\n",
    "fitted_values_model_a3 <- as.numeric(fitted(model_a3))\n",
    "residuals_model_a3 <- as.numeric(residuals(model_a3))"
   ]
  },
  {
   "cell_type": "markdown",
   "id": "6b72c99d",
   "metadata": {},
   "source": [
    "- Fitted vs Residual Plot"
   ]
  },
  {
   "cell_type": "code",
   "execution_count": 47,
   "id": "5e3927bf",
   "metadata": {
    "vscode": {
     "languageId": "r"
    }
   },
   "outputs": [
    {
     "data": {
      "image/png": "[encoded data removed]",
      "text/plain": [
       "Plot with title \"Residual Diagnostic Plot for Model a1\""
      ]
     },
     "metadata": {
      "image/png": {
       "height": 420,
       "width": 420
      }
     },
     "output_type": "display_data"
    }
   ],
   "source": [
    "par(bg=\"white\")\n",
    "\n",
    "# Create a scatter plot of fitted values vs residuals\n",
    "plot(fitted_values_model_a3, residuals_model_a3, \n",
    "    pch = 20, col = \"darkblue\",\n",
    "    xlab = \"Fitted Values\", ylab = \"Residuals\",\n",
    "    main = \"Residual Diagnostic Plot for Model a1\")\n",
    "\n",
    "# Add a horizontal line at y = 0\n",
    "abline(h = 0, col = \"red\", lwd = 2)\n",
    "\n",
    "# Add a smoothed line to detect patterns\n",
    "# Create a data frame for loess model\n",
    "loess_data <- data.frame(x = fitted_values_model_a2, y = residuals_model_a3)\n",
    "smooth_line <- loess(y ~ x, data = loess_data, span = 0.75)\n",
    "\n",
    "# Sort the data for smooth line plotting\n",
    "sorted_data <- loess_data[order(loess_data$x),]\n",
    "# Predict using the sorted data\n",
    "smooth_pred <- predict(smooth_line, newdata = sorted_data)\n",
    "\n",
    "# Plot the smooth line\n",
    "lines(sorted_data$x, smooth_pred, col = \"cyan\", lwd = 2)\n",
    "\n",
    "# Add a legend\n",
    "legend(\"topright\", \n",
    "      legend = c(\"Residuals\", \"Reference Line\", \"Smooth Line\"),\n",
    "      col = c(\"darkblue\", \"red\", \"cyan\"),\n",
    "      pch = c(20, NA, NA), \n",
    "      lty = c(NA, 1, 1),\n",
    "      lwd = c(NA, 2, 2))\n",
    "\n",
    "# Add grid for better readability\n",
    "grid()"
   ]
  },
  {
   "cell_type": "markdown",
   "id": "0c22cb68",
   "metadata": {},
   "source": [
    "- Q-Q Plot"
   ]
  },
  {
   "cell_type": "code",
   "execution_count": 48,
   "id": "415b4265",
   "metadata": {
    "vscode": {
     "languageId": "r"
    }
   },
   "outputs": [
    {
     "data": {
      "image/png": "[encoded data removed]",
      "text/plain": [
       "Plot with title \"Normal Q-Q Plot\""
      ]
     },
     "metadata": {
      "image/png": {
       "height": 420,
       "width": 420
      }
     },
     "output_type": "display_data"
    }
   ],
   "source": [
    "par(bg=\"white\")\n",
    "qqnorm(fitted_values_model_a3)\n",
    "qqline(residuals_model_a3, col=\"red\")"
   ]
  },
  {
   "cell_type": "markdown",
   "id": "204a0ee5",
   "metadata": {},
   "source": [
    "### Model a4\n",
    "\n",
    "> Robustness verification of Model a1 by controlling industrial and provincial fixed effects."
   ]
  },
  {
   "cell_type": "markdown",
   "id": "96dc37b5",
   "metadata": {},
   "source": [
    "#### Panel Regression"
   ]
  },
  {
   "cell_type": "code",
   "execution_count": 49,
   "id": "ca9963de",
   "metadata": {
    "vscode": {
     "languageId": "r"
    }
   },
   "outputs": [
    {
     "data": {
      "text/plain": [
       "Oneway (individual) effect Within Model\n",
       "\n",
       "Call:\n",
       "plm(formula = volatility_end ~ log_diff_avg_lag1 + I(log_diff_avg_lag1^2) + \n",
       "    I(log_diff_avg_lag1^3) + Size + Lev + ROA + BM + Board + \n",
       "    Top1 + quarter + ind + gdp_growth_rate + m2_growth_rate, \n",
       "    data = panel_data, effect = \"individual\", model = \"within\")\n",
       "\n",
       "Balanced Panel: n = 127, T = 7, N = 3556\n",
       "\n",
       "Residuals:\n",
       "      Min.    1st Qu.     Median    3rd Qu.       Max. \n",
       "-0.6276770 -0.0969830  0.0067972  0.0987419  0.5407385 \n",
       "\n",
       "Coefficients: (3 dropped because of singularities)\n",
       "                         Estimate Std. Error  t-value  Pr(>|t|)    \n",
       "log_diff_avg_lag1       0.1123553  0.0207214   5.4222 6.297e-08 ***\n",
       "I(log_diff_avg_lag1^2)  0.5234502  0.0908941   5.7589 9.216e-09 ***\n",
       "I(log_diff_avg_lag1^3) -1.2287868  0.1405517  -8.7426 < 2.2e-16 ***\n",
       "Size                   -0.0539088  0.0080139  -6.7269 2.025e-11 ***\n",
       "Lev                     0.2127531  0.0518123   4.1062 4.116e-05 ***\n",
       "ROA                     0.2627266  0.1118456   2.3490 0.0188800 *  \n",
       "BM                     -0.0773530  0.0042756 -18.0918 < 2.2e-16 ***\n",
       "Board                   0.1160366  0.0336914   3.4441 0.0005799 ***\n",
       "Top1                    0.0163662  0.0626298   0.2613 0.7938644    \n",
       "quarter2               -0.1261743  0.0394649  -3.1971 0.0014007 ** \n",
       "quarter3               -0.0977645  0.0319111  -3.0636 0.0022036 ** \n",
       "quarter4               -0.1125744  0.0394949  -2.8504 0.0043933 ** \n",
       "indC18                  0.1705812  0.0925164   1.8438 0.0652998 .  \n",
       "indC26                  0.1588387  0.0730932   2.1731 0.0298416 *  \n",
       "indC28                 -0.0178702  0.0752851  -0.2374 0.8123860    \n",
       "indC33                 -0.0955825  0.0967810  -0.9876 0.3234106    \n",
       "indC35                  0.1262376  0.0920801   1.3710 0.1704793    \n",
       "gdp_growth_rate         0.6704531  0.1403665   4.7764 1.859e-06 ***\n",
       "m2_growth_rate          3.8404354  0.6442362   5.9612 2.759e-09 ***\n",
       "---\n",
       "Signif. codes:  0 '***' 0.001 '**' 0.01 '*' 0.05 '.' 0.1 ' ' 1\n",
       "\n",
       "Total Sum of Squares:    117.25\n",
       "Residual Sum of Squares: 98.099\n",
       "R-Squared:      0.16337\n",
       "Adj. R-Squared: 0.1278\n",
       "F-statistic: 35.0467 on 19 and 3410 DF, p-value: < 2.22e-16"
      ]
     },
     "metadata": {},
     "output_type": "display_data"
    },
    {
     "name": "stdout",
     "output_type": "stream",
     "text": [
      "\n",
      "Robust standard errors for two-way fixed effects model:\n"
     ]
    },
    {
     "data": {
      "text/plain": [
       "\n",
       "t test of coefficients:\n",
       "\n",
       "                        Estimate Std. Error  t value  Pr(>|t|)    \n",
       "log_diff_avg_lag1       0.112355   0.011462   9.8027 < 2.2e-16 ***\n",
       "I(log_diff_avg_lag1^2)  0.523450   0.040895  12.7999 < 2.2e-16 ***\n",
       "I(log_diff_avg_lag1^3) -1.228787   0.111046 -11.0655 < 2.2e-16 ***\n",
       "Size                   -0.053909   0.023649  -2.2796 0.0226937 *  \n",
       "Lev                     0.212753   0.145401   1.4632 0.1434996    \n",
       "ROA                     0.262727   0.257263   1.0212 0.3072147    \n",
       "BM                     -0.077353   0.011013  -7.0235 2.601e-12 ***\n",
       "Board                   0.116037   0.074476   1.5580 0.1193180    \n",
       "Top1                    0.016366   0.188601   0.0868 0.9308539    \n",
       "quarter2               -0.126174   0.027181  -4.6420 3.580e-06 ***\n",
       "quarter3               -0.097764   0.023558  -4.1500 3.407e-05 ***\n",
       "quarter4               -0.112574   0.029257  -3.8478 0.0001214 ***\n",
       "indC18                  0.170581   0.039411   4.3282 1.546e-05 ***\n",
       "indC26                  0.158839   0.049039   3.2390 0.0012109 ** \n",
       "indC28                 -0.017870   0.078671  -0.2272 0.8203192    \n",
       "indC33                 -0.095582   0.097319  -0.9822 0.3260940    \n",
       "indC35                  0.126238   0.025234   5.0026 5.941e-07 ***\n",
       "gdp_growth_rate         0.670453   0.121688   5.5096 3.863e-08 ***\n",
       "m2_growth_rate          3.840435   0.783706   4.9003 1.001e-06 ***\n",
       "---\n",
       "Signif. codes:  0 '***' 0.001 '**' 0.01 '*' 0.05 '.' 0.1 ' ' 1\n"
      ]
     },
     "metadata": {},
     "output_type": "display_data"
    }
   ],
   "source": [
    "library(plm)\n",
    "\n",
    "# Run model with individual fixed effects and quarter dummies\n",
    "model_a4 <- plm(volatility_end ~ log_diff_avg_lag1 + I(log_diff_avg_lag1^2) + I(log_diff_avg_lag1^3) + Size + Lev + ROA + BM + Board + Top1 + quarter + ind + gdp_growth_rate + m2_growth_rate, \n",
    "             data = panel_data, \n",
    "             model = \"within\", \n",
    "             effect = \"individual\")\n",
    "\n",
    "# Display regression results\n",
    "summary(model_a4)\n",
    "\n",
    "# Get robust standard errors for both models\n",
    "library(lmtest)\n",
    "library(sandwich)\n",
    "cat(\"\\nRobust standard errors for two-way fixed effects model:\\n\")\n",
    "coeftest(model_a4, vcov = vcovHC(model_a4, type = \"HC1\"))"
   ]
  },
  {
   "cell_type": "markdown",
   "id": "96b00200",
   "metadata": {},
   "source": [
    "## Channel Verification"
   ]
  },
  {
   "cell_type": "markdown",
   "id": "07484065",
   "metadata": {},
   "source": [
    "### Model b1\n",
    "\n",
    "> `GFC` >> `International Capital Inflow` >> `Volatility`"
   ]
  },
  {
   "cell_type": "markdown",
   "id": "296c6d89",
   "metadata": {},
   "source": [
    "- `GFC` >> `International Capital Inflow`"
   ]
  },
  {
   "cell_type": "code",
   "execution_count": 50,
   "id": "52540ad6",
   "metadata": {
    "vscode": {
     "languageId": "r"
    }
   },
   "outputs": [
    {
     "data": {
      "text/plain": [
       "Oneway (individual) effect Within Model\n",
       "\n",
       "Call:\n",
       "plm(formula = inflow ~ log_diff_lag1 + I(log_diff_lag1^2) + I(log_diff_lag1^3) + \n",
       "    Size + Lev + ROA + BM + Board + Top1 + quarter + gdp_growth_rate + \n",
       "    m2_growth_rate, data = panel_data, effect = \"individual\", \n",
       "    model = \"within\")\n",
       "\n",
       "Balanced Panel: n = 127, T = 7, N = 3556\n",
       "\n",
       "Residuals:\n",
       "      Min.    1st Qu.     Median    3rd Qu.       Max. \n",
       "-0.0515899 -0.0089303  0.0022444  0.0093117  0.0268450 \n",
       "\n",
       "Coefficients:\n",
       "                      Estimate  Std. Error  t-value  Pr(>|t|)    \n",
       "log_diff_lag1      -0.00662648  0.00115073  -5.7585 9.238e-09 ***\n",
       "I(log_diff_lag1^2) -0.03733641  0.00251976 -14.8175 < 2.2e-16 ***\n",
       "I(log_diff_lag1^3)  0.03215341  0.00237680  13.5280 < 2.2e-16 ***\n",
       "Size               -0.00728211  0.00064710 -11.2535 < 2.2e-16 ***\n",
       "Lev                 0.01589331  0.00438804   3.6220 0.0002966 ***\n",
       "ROA                -0.00352681  0.00953922  -0.3697 0.7116164    \n",
       "BM                 -0.00031368  0.00036461  -0.8603 0.3896791    \n",
       "Board               0.00047297  0.00286020   0.1654 0.8686686    \n",
       "Top1                0.01497946  0.00513884   2.9150 0.0035806 ** \n",
       "quarter2           -0.08219468  0.00321236 -25.5870 < 2.2e-16 ***\n",
       "quarter3           -0.07352765  0.00264995 -27.7468 < 2.2e-16 ***\n",
       "quarter4           -0.09200899  0.00330146 -27.8692 < 2.2e-16 ***\n",
       "gdp_growth_rate     0.18566697  0.01119198  16.5893 < 2.2e-16 ***\n",
       "m2_growth_rate     -1.77576433  0.05732998 -30.9744 < 2.2e-16 ***\n",
       "---\n",
       "Signif. codes:  0 '***' 0.001 '**' 0.01 '*' 0.05 '.' 0.1 ' ' 1\n",
       "\n",
       "Total Sum of Squares:    1.0598\n",
       "Residual Sum of Squares: 0.716\n",
       "R-Squared:      0.3244\n",
       "Adj. R-Squared: 0.2967\n",
       "F-statistic: 117.125 on 14 and 3415 DF, p-value: < 2.22e-16"
      ]
     },
     "metadata": {},
     "output_type": "display_data"
    },
    {
     "name": "stdout",
     "output_type": "stream",
     "text": [
      "\n",
      "Robust standard errors for two-way fixed effects model:\n"
     ]
    },
    {
     "data": {
      "text/plain": [
       "\n",
       "t test of coefficients:\n",
       "\n",
       "                      Estimate  Std. Error   t value  Pr(>|t|)    \n",
       "log_diff_lag1      -0.00662648  0.00015502  -42.7465 < 2.2e-16 ***\n",
       "I(log_diff_lag1^2) -0.03733641  0.00053544  -69.7301 < 2.2e-16 ***\n",
       "I(log_diff_lag1^3)  0.03215341  0.00053436   60.1723 < 2.2e-16 ***\n",
       "Size               -0.00728211  0.00076694   -9.4950 < 2.2e-16 ***\n",
       "Lev                 0.01589331  0.00543591    2.9238  0.003481 ** \n",
       "ROA                -0.00352681  0.01034394   -0.3410  0.733159    \n",
       "BM                 -0.00031368  0.00045707   -0.6863  0.492576    \n",
       "Board               0.00047297  0.00374743    0.1262  0.899572    \n",
       "Top1                0.01497946  0.00557729    2.6858  0.007271 ** \n",
       "quarter2           -0.08219468  0.00061173 -134.3654 < 2.2e-16 ***\n",
       "quarter3           -0.07352765  0.00061135 -120.2712 < 2.2e-16 ***\n",
       "quarter4           -0.09200899  0.00079616 -115.5665 < 2.2e-16 ***\n",
       "gdp_growth_rate     0.18566697  0.00226993   81.7942 < 2.2e-16 ***\n",
       "m2_growth_rate     -1.77576433  0.00649640 -273.3461 < 2.2e-16 ***\n",
       "---\n",
       "Signif. codes:  0 '***' 0.001 '**' 0.01 '*' 0.05 '.' 0.1 ' ' 1\n"
      ]
     },
     "metadata": {},
     "output_type": "display_data"
    }
   ],
   "source": [
    "library(plm)\n",
    "\n",
    "# Run model with individual fixed effects and quarter dummies\n",
    "model_b1_1 <- plm(inflow ~ log_diff_lag1 + I(log_diff_lag1^2) + I(log_diff_lag1^3) + Size + Lev + ROA + BM + Board + Top1 + quarter + gdp_growth_rate + m2_growth_rate, \n",
    "             data = panel_data, \n",
    "             model = \"within\", \n",
    "             effect = \"individual\")\n",
    "\n",
    "# Display regression results\n",
    "summary(model_b1_1)\n",
    "\n",
    "# Get robust standard errors for both models\n",
    "library(lmtest)\n",
    "library(sandwich)\n",
    "cat(\"\\nRobust standard errors for two-way fixed effects model:\\n\")\n",
    "coeftest(model_b1_1, vcov = vcovHC(model_b1_1, type = \"HC1\"))"
   ]
  },
  {
   "cell_type": "code",
   "execution_count": 51,
   "id": "30baf5d4",
   "metadata": {
    "vscode": {
     "languageId": "r"
    }
   },
   "outputs": [
    {
     "data": {
      "image/png": "[encoded data removed]",
      "text/plain": [
       "Plot with title \"Effect of VIX Changes on Fund Inflow\""
      ]
     },
     "metadata": {
      "image/png": {
       "height": 420,
       "width": 420
      }
     },
     "output_type": "display_data"
    }
   ],
   "source": [
    "par(bg=\"white\", mar=c(5, 4, 4, 2) + 0.1)\n",
    "\n",
    "# Extract coefficients for log_diff_lag1 and its higher order terms\n",
    "coefficients <- coef(model_b1_1)\n",
    "b1 <- coefficients[\"log_diff_lag1\"]\n",
    "b2 <- coefficients[\"I(log_diff_lag1^2)\"]\n",
    "b3 <- coefficients[\"I(log_diff_lag1^3)\"]\n",
    "\n",
    "# Use the range from the original gfc_indicators dataframe\n",
    "min_value <- min(gfc_indicators$log_diff_lag1, na.rm = TRUE)\n",
    "max_value <- max(gfc_indicators$log_diff_lag1, na.rm = TRUE)\n",
    "log_diff_values <- seq(min_value, max_value, length.out = 100)\n",
    "\n",
    "# Calculate predicted inflow for each value (partial effect, ignoring other variables)\n",
    "predicted_inflow <- b1 * log_diff_values + \n",
    "                    b2 * log_diff_values^2 + \n",
    "                    b3 * log_diff_values^3\n",
    "\n",
    "# Get the variance-covariance matrix for the coefficients\n",
    "vcov_matrix <- vcovHC(model_b1_1, type = \"HC1\") # Using robust variance-covariance matrix\n",
    "\n",
    "# Extract the rows/columns for our parameters of interest\n",
    "param_indices <- which(names(coefficients) %in% c(\"log_diff_lag1\", \"I(log_diff_lag1^2)\", \"I(log_diff_lag1^3)\"))\n",
    "vcov_subset <- vcov_matrix[param_indices, param_indices]\n",
    "\n",
    "# Calculate standard error for each prediction point\n",
    "se_predictions <- numeric(length(log_diff_values))\n",
    "for (i in 1:length(log_diff_values)) {\n",
    "    # Create X matrix for this prediction point\n",
    "    X_i <- c(log_diff_values[i], log_diff_values[i]^2, log_diff_values[i]^3)\n",
    "    \n",
    "    # Calculate variance of prediction\n",
    "    se_predictions[i] <- sqrt(t(X_i) %*% vcov_subset %*% X_i)\n",
    "}\n",
    "\n",
    "# Calculate confidence intervals (95%)\n",
    "confidence_level <- 0.95\n",
    "t_value <- qt((1 + confidence_level) / 2, df = df.residual(model_b1_1))\n",
    "upper_ci <- predicted_inflow + t_value * se_predictions\n",
    "lower_ci <- predicted_inflow - t_value * se_predictions\n",
    "\n",
    "# Create the plot\n",
    "plot(log_diff_values, predicted_inflow, type = \"l\", lwd = 2, col = \"blue\",\n",
    "     xlab = \"Log Difference of VIX (lagged 1 period)\",\n",
    "     ylab = \"Predicted Inflow\",\n",
    "     main = \"Effect of VIX Changes on Fund Inflow\",\n",
    "     ylim = range(c(lower_ci, upper_ci)))\n",
    "\n",
    "# Add confidence intervals\n",
    "polygon(c(log_diff_values, rev(log_diff_values)), \n",
    "        c(lower_ci, rev(upper_ci)), \n",
    "        col = rgb(0, 0, 1, 0.2), border = NA)\n",
    "\n",
    "# Add the CI lines\n",
    "lines(log_diff_values, upper_ci, lty = 2, col = \"blue\")\n",
    "lines(log_diff_values, lower_ci, lty = 2, col = \"blue\")\n",
    "\n",
    "# Add a vertical line at x = 0 for reference\n",
    "abline(v = 0, lty = 2, col = \"darkgray\")\n",
    "\n",
    "# Add a grid for better readability\n",
    "grid()\n",
    "\n",
    "# Add a legend\n",
    "legend(\"bottomleft\", \n",
    "       legend = c(\"Predicted Effect\", \"95% Confidence Interval\"),\n",
    "       col = c(\"blue\", rgb(0, 0, 1, 0.2)),\n",
    "       lty = c(1, NA), \n",
    "       lwd = c(2, NA),\n",
    "       fill = c(NA, rgb(0, 0, 1, 0.2)),\n",
    "       border = c(NA, NA))"
   ]
  },
  {
   "cell_type": "markdown",
   "id": "5389fc4c",
   "metadata": {},
   "source": [
    "- `International Capital Inflow` >> `Volatility`"
   ]
  },
  {
   "cell_type": "code",
   "execution_count": 52,
   "id": "534d4858",
   "metadata": {
    "vscode": {
     "languageId": "r"
    }
   },
   "outputs": [
    {
     "data": {
      "text/plain": [
       "Oneway (individual) effect Within Model\n",
       "\n",
       "Call:\n",
       "plm(formula = volatility_end ~ inflow + Size + Lev + ROA + BM + \n",
       "    Board + Top1 + quarter + gdp_growth_rate + m2_growth_rate, \n",
       "    data = panel_data, effect = \"individual\", model = \"within\")\n",
       "\n",
       "Balanced Panel: n = 127, T = 7, N = 3556\n",
       "\n",
       "Residuals:\n",
       "      Min.    1st Qu.     Median    3rd Qu.       Max. \n",
       "-0.6235217 -0.0996885  0.0061141  0.0998493  0.5350678 \n",
       "\n",
       "Coefficients:\n",
       "                  Estimate Std. Error  t-value  Pr(>|t|)    \n",
       "inflow          -1.9427205  0.1945213  -9.9872 < 2.2e-16 ***\n",
       "Size            -0.0726360  0.0073810  -9.8409 < 2.2e-16 ***\n",
       "Lev              0.2426603  0.0514326   4.7180 2.477e-06 ***\n",
       "ROA              0.2652589  0.1118592   2.3714  0.017778 *  \n",
       "BM              -0.0839278  0.0042218 -19.8794 < 2.2e-16 ***\n",
       "Board            0.1103045  0.0335278   3.2899  0.001012 ** \n",
       "Top1             0.0357682  0.0602233   0.5939  0.552601    \n",
       "quarter2        -0.0805818  0.0369300  -2.1820  0.029177 *  \n",
       "quarter3        -0.0755472  0.0299937  -2.5188  0.011822 *  \n",
       "quarter4        -0.0943924  0.0375326  -2.5149  0.011951 *  \n",
       "gdp_growth_rate  0.1916202  0.1120293   1.7104  0.087274 .  \n",
       "m2_growth_rate  -1.2844657  0.6308411  -2.0361  0.041816 *  \n",
       "---\n",
       "Signif. codes:  0 '***' 0.001 '**' 0.01 '*' 0.05 '.' 0.1 ' ' 1\n",
       "\n",
       "Total Sum of Squares:    117.25\n",
       "Residual Sum of Squares: 98.549\n",
       "R-Squared:      0.15953\n",
       "Adj. R-Squared: 0.12559\n",
       "F-statistic: 54.05 on 12 and 3417 DF, p-value: < 2.22e-16"
      ]
     },
     "metadata": {},
     "output_type": "display_data"
    },
    {
     "name": "stdout",
     "output_type": "stream",
     "text": [
      "\n",
      "Robust standard errors for two-way fixed effects model:\n"
     ]
    },
    {
     "data": {
      "text/plain": [
       "\n",
       "t test of coefficients:\n",
       "\n",
       "                 Estimate Std. Error  t value  Pr(>|t|)    \n",
       "inflow          -1.942720   0.186786 -10.4008 < 2.2e-16 ***\n",
       "Size            -0.072636   0.020436  -3.5543 0.0003842 ***\n",
       "Lev              0.242660   0.142559   1.7022 0.0888127 .  \n",
       "ROA              0.265259   0.256376   1.0346 0.3009072    \n",
       "BM              -0.083928   0.010970  -7.6506 2.586e-14 ***\n",
       "Board            0.110304   0.073426   1.5023 0.1331237    \n",
       "Top1             0.035768   0.178526   0.2004 0.8412162    \n",
       "quarter2        -0.080582   0.013945  -5.7784 8.219e-09 ***\n",
       "quarter3        -0.075547   0.014529  -5.1998 2.112e-07 ***\n",
       "quarter4        -0.094392   0.019197  -4.9170 9.201e-07 ***\n",
       "gdp_growth_rate  0.191620   0.035211   5.4420 5.639e-08 ***\n",
       "m2_growth_rate  -1.284466   0.484050  -2.6536 0.0080012 ** \n",
       "---\n",
       "Signif. codes:  0 '***' 0.001 '**' 0.01 '*' 0.05 '.' 0.1 ' ' 1\n"
      ]
     },
     "metadata": {},
     "output_type": "display_data"
    }
   ],
   "source": [
    "library(plm)\n",
    "\n",
    "# Run model with individual fixed effects and quarter dummies\n",
    "model_b1_2 <- plm(volatility_end ~ inflow +  Size + Lev + ROA + BM + Board + Top1 + quarter + gdp_growth_rate + m2_growth_rate, \n",
    "             data = panel_data, \n",
    "             model = \"within\", \n",
    "             effect = \"individual\")\n",
    "\n",
    "# Display regression results\n",
    "summary(model_b1_2)\n",
    "\n",
    "# Get robust standard errors for both models\n",
    "library(lmtest)\n",
    "library(sandwich)\n",
    "cat(\"\\nRobust standard errors for two-way fixed effects model:\\n\")\n",
    "coeftest(model_b1_2, vcov = vcovHC(model_b1_2, type = \"HC1\"))"
   ]
  },
  {
   "cell_type": "code",
   "execution_count": 53,
   "id": "749f2cf7",
   "metadata": {
    "vscode": {
     "languageId": "r"
    }
   },
   "outputs": [
    {
     "data": {
      "image/png": "[encoded data removed]",
      "text/plain": [
       "Plot with title \"Effect of Fund Inflow on Stock Volatility\""
      ]
     },
     "metadata": {
      "image/png": {
       "height": 420,
       "width": 420
      }
     },
     "output_type": "display_data"
    }
   ],
   "source": [
    "par(bg=\"white\", mar=c(5, 4, 4, 2) + 0.1)\n",
    "\n",
    "# Extract coefficient for inflow\n",
    "coefficient <- coef(model_b1_2)[\"inflow\"]\n",
    "vcov_matrix <- vcovHC(model_b1_2, type = \"HC1\") \n",
    "se <- sqrt(vcov_matrix[\"inflow\", \"inflow\"])\n",
    "\n",
    "# Use the range from panel_data\n",
    "min_value <- quantile(panel_data$inflow, 0.05, na.rm = TRUE)\n",
    "max_value <- quantile(panel_data$inflow, 0.95, na.rm = TRUE)\n",
    "inflow_values <- seq(min_value, max_value, length.out = 100)\n",
    "\n",
    "# Calculate predicted change in volatility across the range\n",
    "effect_values <- coefficient * inflow_values\n",
    "\n",
    "# Calculate confidence intervals\n",
    "t_value <- qt(0.975, df = df.residual(model_b1_2))\n",
    "ci_width <- t_value * se * abs(inflow_values)\n",
    "upper_ci <- effect_values + ci_width\n",
    "lower_ci <- effect_values - ci_width\n",
    "\n",
    "# Create the plot\n",
    "plot(inflow_values, effect_values, type = \"l\", lwd = 2, col = \"blue\",\n",
    "    xlab = \"Fund Inflow\",\n",
    "    ylab = \"Effect on Log Volatility\",\n",
    "    main = \"Effect of Fund Inflow on Stock Volatility\",\n",
    "    ylim = range(c(lower_ci, upper_ci, 0)))  # Include 0 in range\n",
    "\n",
    "# Add confidence intervals\n",
    "polygon(c(inflow_values, rev(inflow_values)), \n",
    "       c(lower_ci, rev(upper_ci)), \n",
    "       col = rgb(0, 0, 1, 0.2), border = NA)\n",
    "\n",
    "# Add the CI lines\n",
    "lines(inflow_values, upper_ci, lty = 2, col = \"blue\")\n",
    "lines(inflow_values, lower_ci, lty = 2, col = \"blue\")\n",
    "\n",
    "# Add a horizontal line at y = 0 for reference\n",
    "abline(h = 0, lty = 2, col = \"red\")\n",
    "\n",
    "# Add a grid for better readability\n",
    "grid()\n",
    "\n",
    "# Add a legend\n",
    "legend(\"bottomleft\", \n",
    "      legend = c(\"Marginal Effect\", \"95% Confidence Interval\", \"Zero Reference\"),\n",
    "      col = c(\"blue\", rgb(0, 0, 1, 0.2), \"red\"),\n",
    "      lty = c(1, NA, 2), \n",
    "      lwd = c(2, NA, 1),\n",
    "      fill = c(NA, rgb(0, 0, 1, 0.2), NA),\n",
    "      border = c(NA, NA, NA))\n",
    "\n",
    "# Add p-value information\n",
    "p_value <- 2 * pt(-abs(coefficient/se), df = df.residual(model_b1_2))\n",
    "p_text <- if (p_value < 0.001) \"p < 0.001\" else paste(\"p =\", round(p_value, 3))\n",
    "mtext(paste(\"Coefficient =\", round(coefficient, 4), \",\", p_text), \n",
    "     side = 3, line = 0.5, col = \"darkblue\", cex = 0.8)"
   ]
  },
  {
   "cell_type": "markdown",
   "id": "b7142e4e",
   "metadata": {},
   "source": [
    "### Model b2\n",
    "\n",
    "> `GFC` >> `EPU` >> `Volatility`"
   ]
  },
  {
   "cell_type": "markdown",
   "id": "ae298ff0",
   "metadata": {},
   "source": [
    "- `GFC` >> `EPU`"
   ]
  },
  {
   "cell_type": "code",
   "execution_count": 54,
   "id": "21c5cfc0",
   "metadata": {
    "vscode": {
     "languageId": "r"
    }
   },
   "outputs": [
    {
     "data": {
      "text/plain": [
       "Oneway (individual) effect Within Model\n",
       "\n",
       "Call:\n",
       "plm(formula = log_epu ~ log_diff_lag1 + I(log_diff_lag1^2) + \n",
       "    I(log_diff_lag1^3) + Size + Lev + ROA + BM + Board + Top1 + \n",
       "    quarter + gdp_growth_rate + m2_growth_rate, data = panel_data, \n",
       "    effect = \"individual\", model = \"within\")\n",
       "\n",
       "Balanced Panel: n = 127, T = 7, N = 3556\n",
       "\n",
       "Residuals:\n",
       "     Min.   1st Qu.    Median   3rd Qu.      Max. \n",
       "-0.976841 -0.218677  0.022844  0.222027  1.377587 \n",
       "\n",
       "Coefficients:\n",
       "                      Estimate  Std. Error  t-value  Pr(>|t|)    \n",
       "log_diff_lag1       -0.0446282   0.0237706  -1.8775  0.060541 .  \n",
       "I(log_diff_lag1^2)   0.2715211   0.0520505   5.2165 1.932e-07 ***\n",
       "I(log_diff_lag1^3)  -0.0472947   0.0490975  -0.9633  0.335475    \n",
       "Size                 0.5074421   0.0133670  37.9622 < 2.2e-16 ***\n",
       "Lev                 -0.7005774   0.0906435  -7.7289 1.416e-14 ***\n",
       "ROA                 -0.0335169   0.1970513  -0.1701  0.864948    \n",
       "BM                   0.0743079   0.0075318   9.8659 < 2.2e-16 ***\n",
       "Board               -0.1591318   0.0590831  -2.6934  0.007108 ** \n",
       "Top1                -0.8588742   0.1061527  -8.0909 8.148e-16 ***\n",
       "quarter2            -0.7179341   0.0663577 -10.8192 < 2.2e-16 ***\n",
       "quarter3            -0.5320689   0.0547398  -9.7200 < 2.2e-16 ***\n",
       "quarter4            -0.7009308   0.0681981 -10.2779 < 2.2e-16 ***\n",
       "gdp_growth_rate      1.7180768   0.2311923   7.4314 1.351e-13 ***\n",
       "m2_growth_rate     -13.9539750   1.1842630 -11.7828 < 2.2e-16 ***\n",
       "---\n",
       "Signif. codes:  0 '***' 0.001 '**' 0.01 '*' 0.05 '.' 0.1 ' ' 1\n",
       "\n",
       "Total Sum of Squares:    531.33\n",
       "Residual Sum of Squares: 305.53\n",
       "R-Squared:      0.42497\n",
       "Adj. R-Squared: 0.4014\n",
       "F-statistic: 180.276 on 14 and 3415 DF, p-value: < 2.22e-16"
      ]
     },
     "metadata": {},
     "output_type": "display_data"
    },
    {
     "name": "stdout",
     "output_type": "stream",
     "text": [
      "\n",
      "Robust standard errors for two-way fixed effects model:\n"
     ]
    },
    {
     "data": {
      "text/plain": [
       "\n",
       "t test of coefficients:\n",
       "\n",
       "                      Estimate  Std. Error  t value  Pr(>|t|)    \n",
       "log_diff_lag1       -0.0446282   0.0078140  -5.7113 1.217e-08 ***\n",
       "I(log_diff_lag1^2)   0.2715211   0.0285277   9.5178 < 2.2e-16 ***\n",
       "I(log_diff_lag1^3)  -0.0472947   0.0286957  -1.6481 0.0994152 .  \n",
       "Size                 0.5074421   0.0397517  12.7653 < 2.2e-16 ***\n",
       "Lev                 -0.7005774   0.1899632  -3.6880 0.0002296 ***\n",
       "ROA                 -0.0335169   0.3170644  -0.1057 0.9158186    \n",
       "BM                   0.0743079   0.0094999   7.8220 6.877e-15 ***\n",
       "Board               -0.1591318   0.1301838  -1.2224 0.2216548    \n",
       "Top1                -0.8588742   0.2118233  -4.0547 5.133e-05 ***\n",
       "quarter2            -0.7179341   0.0274374 -26.1662 < 2.2e-16 ***\n",
       "quarter3            -0.5320689   0.0240317 -22.1403 < 2.2e-16 ***\n",
       "quarter4            -0.7009308   0.0303112 -23.1245 < 2.2e-16 ***\n",
       "gdp_growth_rate      1.7180768   0.1145156  15.0030 < 2.2e-16 ***\n",
       "m2_growth_rate     -13.9539750   0.5139845 -27.1486 < 2.2e-16 ***\n",
       "---\n",
       "Signif. codes:  0 '***' 0.001 '**' 0.01 '*' 0.05 '.' 0.1 ' ' 1\n"
      ]
     },
     "metadata": {},
     "output_type": "display_data"
    }
   ],
   "source": [
    "library(plm)\n",
    "\n",
    "# Run model with individual fixed effects and quarter dummies\n",
    "model_b2_1 <- plm(log_epu ~ log_diff_lag1 + I(log_diff_lag1^2) + I(log_diff_lag1^3) + Size + Lev + ROA + BM + Board + Top1 + quarter + gdp_growth_rate + m2_growth_rate, \n",
    "             data = panel_data, \n",
    "             model = \"within\", \n",
    "             effect = \"individual\")\n",
    "\n",
    "# Display regression results\n",
    "summary(model_b2_1)\n",
    "\n",
    "# Get robust standard errors for both models\n",
    "library(lmtest)\n",
    "library(sandwich)\n",
    "cat(\"\\nRobust standard errors for two-way fixed effects model:\\n\")\n",
    "coeftest(model_b2_1, vcov = vcovHC(model_b2_1, type = \"HC1\"))"
   ]
  },
  {
   "cell_type": "markdown",
   "id": "5e2ae48d",
   "metadata": {},
   "source": [
    "- `EPU` >> `Volatility`"
   ]
  },
  {
   "cell_type": "code",
   "execution_count": 55,
   "id": "3a3642ee",
   "metadata": {
    "vscode": {
     "languageId": "r"
    }
   },
   "outputs": [
    {
     "data": {
      "text/plain": [
       "Oneway (individual) effect Within Model\n",
       "\n",
       "Call:\n",
       "plm(formula = volatility_end ~ log_epu + Size + Lev + ROA + BM + \n",
       "    Board + Top1 + quarter + gdp_growth_rate + m2_growth_rate, \n",
       "    data = panel_data, effect = \"individual\", model = \"within\")\n",
       "\n",
       "Balanced Panel: n = 127, T = 7, N = 3556\n",
       "\n",
       "Residuals:\n",
       "      Min.    1st Qu.     Median    3rd Qu.       Max. \n",
       "-0.5841388 -0.1014605  0.0050847  0.1045372  0.5028338 \n",
       "\n",
       "Coefficients:\n",
       "                  Estimate Std. Error  t-value  Pr(>|t|)    \n",
       "log_epu         -0.0839505  0.0095668  -8.7752 < 2.2e-16 ***\n",
       "Size            -0.0208636  0.0087646  -2.3804  0.017347 *  \n",
       "Lev              0.1620926  0.0519440   3.1205  0.001820 ** \n",
       "ROA              0.2727814  0.1122177   2.4308  0.015116 *  \n",
       "BM              -0.0764266  0.0043134 -17.7185 < 2.2e-16 ***\n",
       "Board            0.0996160  0.0336664   2.9589  0.003108 ** \n",
       "Top1            -0.0582478  0.0609215  -0.9561  0.339083    \n",
       "quarter2        -0.0134875  0.0350869  -0.3844  0.700705    \n",
       "quarter3        -0.0122528  0.0281095  -0.4359  0.662939    \n",
       "quarter4        -0.0163016  0.0351858  -0.4633  0.643178    \n",
       "gdp_growth_rate  0.0483917  0.1090075   0.4439  0.657121    \n",
       "m2_growth_rate   0.1216496  0.5913678   0.2057  0.837031    \n",
       "---\n",
       "Signif. codes:  0 '***' 0.001 '**' 0.01 '*' 0.05 '.' 0.1 ' ' 1\n",
       "\n",
       "Total Sum of Squares:    117.25\n",
       "Residual Sum of Squares: 99.19\n",
       "R-Squared:      0.15406\n",
       "Adj. R-Squared: 0.1199\n",
       "F-statistic: 51.8592 on 12 and 3417 DF, p-value: < 2.22e-16"
      ]
     },
     "metadata": {},
     "output_type": "display_data"
    },
    {
     "name": "stdout",
     "output_type": "stream",
     "text": [
      "\n",
      "Robust standard errors for two-way fixed effects model:\n"
     ]
    },
    {
     "data": {
      "text/plain": [
       "\n",
       "t test of coefficients:\n",
       "\n",
       "                 Estimate Std. Error t value  Pr(>|t|)    \n",
       "log_epu         -0.083950   0.019532 -4.2980 1.771e-05 ***\n",
       "Size            -0.020864   0.019861 -1.0505    0.2936    \n",
       "Lev              0.162093   0.138942  1.1666    0.2434    \n",
       "ROA              0.272781   0.254667  1.0711    0.2842    \n",
       "BM              -0.076427   0.010871 -7.0305 2.474e-12 ***\n",
       "Board            0.099616   0.074072  1.3449    0.1788    \n",
       "Top1            -0.058248   0.175798 -0.3313    0.7404    \n",
       "quarter2        -0.013487   0.031964 -0.4220    0.6731    \n",
       "quarter3        -0.012253   0.027910 -0.4390    0.6607    \n",
       "quarter4        -0.016302   0.036269 -0.4495    0.6531    \n",
       "gdp_growth_rate  0.048392   0.083747  0.5778    0.5634    \n",
       "m2_growth_rate   0.121650   0.658264  0.1848    0.8534    \n",
       "---\n",
       "Signif. codes:  0 '***' 0.001 '**' 0.01 '*' 0.05 '.' 0.1 ' ' 1\n"
      ]
     },
     "metadata": {},
     "output_type": "display_data"
    }
   ],
   "source": [
    "library(plm)\n",
    "\n",
    "# Run model with individual fixed effects and quarter dummies\n",
    "model_b2_2 <- plm(volatility_end ~ log_epu +  Size + Lev + ROA + BM + Board + Top1 + quarter + gdp_growth_rate + m2_growth_rate, \n",
    "             data = panel_data, \n",
    "             model = \"within\", \n",
    "             effect = \"individual\")\n",
    "\n",
    "# Display regression results\n",
    "summary(model_b2_2)\n",
    "\n",
    "# Get robust standard errors for both models\n",
    "library(lmtest)\n",
    "library(sandwich)\n",
    "cat(\"\\nRobust standard errors for two-way fixed effects model:\\n\")\n",
    "coeftest(model_b2_2, vcov = vcovHC(model_b2_2, type = \"HC1\"))"
   ]
  },
  {
   "cell_type": "markdown",
   "id": "d748ba37",
   "metadata": {},
   "source": [
    "### Model b3\n",
    "\n",
    "> `GFC` >> `TPU` >> `Volatility`"
   ]
  },
  {
   "cell_type": "markdown",
   "id": "74fd31d2",
   "metadata": {},
   "source": [
    "- `GFC` >> `TPU`"
   ]
  },
  {
   "cell_type": "code",
   "execution_count": 56,
   "id": "e67ee03d",
   "metadata": {
    "vscode": {
     "languageId": "r"
    }
   },
   "outputs": [
    {
     "data": {
      "text/plain": [
       "Oneway (individual) effect Within Model\n",
       "\n",
       "Call:\n",
       "plm(formula = log_tpu ~ log_diff_lag1 + I(log_diff_lag1^2) + \n",
       "    I(log_diff_lag1^3) + Size + Lev + ROA + BM + Board + Top1 + \n",
       "    quarter + gdp_growth_rate + m2_growth_rate, data = panel_data, \n",
       "    effect = \"individual\", model = \"within\")\n",
       "\n",
       "Balanced Panel: n = 127, T = 7, N = 3556\n",
       "\n",
       "Residuals:\n",
       "     Min.   1st Qu.    Median   3rd Qu.      Max. \n",
       "-1.677064 -0.388166 -0.012713  0.458756  1.192221 \n",
       "\n",
       "Coefficients:\n",
       "                     Estimate Std. Error  t-value  Pr(>|t|)    \n",
       "log_diff_lag1        0.356103   0.043294   8.2252 2.738e-16 ***\n",
       "I(log_diff_lag1^2)   0.935816   0.094801   9.8714 < 2.2e-16 ***\n",
       "I(log_diff_lag1^3)  -0.593508   0.089423  -6.6371 3.706e-11 ***\n",
       "Size                 0.437640   0.024346  17.9761 < 2.2e-16 ***\n",
       "Lev                 -0.399111   0.165091  -2.4175   0.01568 *  \n",
       "ROA                  0.313299   0.358895   0.8730   0.38275    \n",
       "BM                   0.100385   0.013718   7.3178 3.126e-13 ***\n",
       "Board               -0.059882   0.107610  -0.5565   0.57792    \n",
       "Top1                -0.766460   0.193339  -3.9643 7.511e-05 ***\n",
       "quarter2            -1.736134   0.120859 -14.3650 < 2.2e-16 ***\n",
       "quarter3            -1.217819   0.099699 -12.2149 < 2.2e-16 ***\n",
       "quarter4            -1.512056   0.124211 -12.1733 < 2.2e-16 ***\n",
       "gdp_growth_rate      2.390230   0.421077   5.6765 1.490e-08 ***\n",
       "m2_growth_rate     -50.174465   2.156930 -23.2620 < 2.2e-16 ***\n",
       "---\n",
       "Signif. codes:  0 '***' 0.001 '**' 0.01 '*' 0.05 '.' 0.1 ' ' 1\n",
       "\n",
       "Total Sum of Squares:    1581.8\n",
       "Residual Sum of Squares: 1013.5\n",
       "R-Squared:      0.35925\n",
       "Adj. R-Squared: 0.33299\n",
       "F-statistic: 136.766 on 14 and 3415 DF, p-value: < 2.22e-16"
      ]
     },
     "metadata": {},
     "output_type": "display_data"
    },
    {
     "name": "stdout",
     "output_type": "stream",
     "text": [
      "\n",
      "Robust standard errors for two-way fixed effects model:\n"
     ]
    },
    {
     "data": {
      "text/plain": [
       "\n",
       "t test of coefficients:\n",
       "\n",
       "                      Estimate  Std. Error  t value  Pr(>|t|)    \n",
       "log_diff_lag1        0.3561034   0.0086451  41.1914 < 2.2e-16 ***\n",
       "I(log_diff_lag1^2)   0.9358163   0.0269876  34.6758 < 2.2e-16 ***\n",
       "I(log_diff_lag1^3)  -0.5935083   0.0290804 -20.4092 < 2.2e-16 ***\n",
       "Size                 0.4376402   0.0367177  11.9191 < 2.2e-16 ***\n",
       "Lev                 -0.3991112   0.2551997  -1.5639  0.117930    \n",
       "ROA                  0.3132989   0.4925025   0.6361  0.524730    \n",
       "BM                   0.1003853   0.0128036   7.8404 5.956e-15 ***\n",
       "Board               -0.0598821   0.1922160  -0.3115  0.755413    \n",
       "Top1                -0.7664599   0.2756157  -2.7809  0.005451 ** \n",
       "quarter2            -1.7361338   0.0282435 -61.4702 < 2.2e-16 ***\n",
       "quarter3            -1.2178187   0.0256123 -47.5482 < 2.2e-16 ***\n",
       "quarter4            -1.5120565   0.0326384 -46.3276 < 2.2e-16 ***\n",
       "gdp_growth_rate      2.3902297   0.1282337  18.6396 < 2.2e-16 ***\n",
       "m2_growth_rate     -50.1744654   0.5583441 -89.8630 < 2.2e-16 ***\n",
       "---\n",
       "Signif. codes:  0 '***' 0.001 '**' 0.01 '*' 0.05 '.' 0.1 ' ' 1\n"
      ]
     },
     "metadata": {},
     "output_type": "display_data"
    }
   ],
   "source": [
    "library(plm)\n",
    "\n",
    "# Run model with individual fixed effects and quarter dummies\n",
    "model_b3_1 <- plm(log_tpu ~ log_diff_lag1 + I(log_diff_lag1^2) + I(log_diff_lag1^3) + Size + Lev + ROA + BM + Board + Top1 + quarter + gdp_growth_rate + m2_growth_rate, \n",
    "             data = panel_data, \n",
    "             model = \"within\", \n",
    "             effect = \"individual\")\n",
    "\n",
    "# Display regression results\n",
    "summary(model_b3_1)\n",
    "\n",
    "# Get robust standard errors for both models\n",
    "library(lmtest)\n",
    "library(sandwich)\n",
    "cat(\"\\nRobust standard errors for two-way fixed effects model:\\n\")\n",
    "coeftest(model_b3_1, vcov = vcovHC(model_b3_1, type = \"HC1\"))"
   ]
  },
  {
   "cell_type": "markdown",
   "id": "57fbd4cf",
   "metadata": {},
   "source": [
    "- `TPU` >> `Volatility`"
   ]
  },
  {
   "cell_type": "code",
   "execution_count": 57,
   "id": "0fd215d0",
   "metadata": {
    "vscode": {
     "languageId": "r"
    }
   },
   "outputs": [
    {
     "data": {
      "text/plain": [
       "Oneway (individual) effect Within Model\n",
       "\n",
       "Call:\n",
       "plm(formula = volatility_end ~ log_tpu + Size + Lev + ROA + BM + \n",
       "    Board + Top1 + quarter + gdp_growth_rate + m2_growth_rate, \n",
       "    data = panel_data, effect = \"individual\", model = \"within\")\n",
       "\n",
       "Balanced Panel: n = 127, T = 7, N = 3556\n",
       "\n",
       "Residuals:\n",
       "      Min.    1st Qu.     Median    3rd Qu.       Max. \n",
       "-0.5964073 -0.1011128  0.0065949  0.1025265  0.5178992 \n",
       "\n",
       "Coefficients:\n",
       "                  Estimate Std. Error  t-value  Pr(>|t|)    \n",
       "log_tpu         -0.0308096  0.0051461  -5.9869 2.360e-09 ***\n",
       "Size            -0.0496350  0.0077087  -6.4388 1.372e-10 ***\n",
       "Lev              0.2077568  0.0518812   4.0045 6.348e-05 ***\n",
       "ROA              0.2867915  0.1128966   2.5403  0.011120 *  \n",
       "BM              -0.0799724  0.0043032 -18.5843 < 2.2e-16 ***\n",
       "Board            0.1112809  0.0338364   3.2888  0.001016 ** \n",
       "Top1            -0.0109407  0.0608678  -0.1797  0.857364    \n",
       "quarter2        -0.0033705  0.0362203  -0.0931  0.925866    \n",
       "quarter3        -0.0043526  0.0290201  -0.1500  0.880785    \n",
       "quarter4        -0.0019290  0.0361352  -0.0534  0.957431    \n",
       "gdp_growth_rate -0.0401845  0.1092314  -0.3679  0.712982    \n",
       "m2_growth_rate  -0.2510364  0.6376798  -0.3937  0.693848    \n",
       "---\n",
       "Signif. codes:  0 '***' 0.001 '**' 0.01 '*' 0.05 '.' 0.1 ' ' 1\n",
       "\n",
       "Total Sum of Squares:    117.25\n",
       "Residual Sum of Squares: 100.37\n",
       "R-Squared:      0.14398\n",
       "Adj. R-Squared: 0.10941\n",
       "F-statistic: 47.8938 on 12 and 3417 DF, p-value: < 2.22e-16"
      ]
     },
     "metadata": {},
     "output_type": "display_data"
    },
    {
     "name": "stdout",
     "output_type": "stream",
     "text": [
      "\n",
      "Robust standard errors for two-way fixed effects model:\n"
     ]
    },
    {
     "data": {
      "text/plain": [
       "\n",
       "t test of coefficients:\n",
       "\n",
       "                  Estimate Std. Error t value  Pr(>|t|)    \n",
       "log_tpu         -0.0308096  0.0073997 -4.1636 3.210e-05 ***\n",
       "Size            -0.0496350  0.0206840 -2.3997   0.01646 *  \n",
       "Lev              0.2077568  0.1419018  1.4641   0.14326    \n",
       "ROA              0.2867915  0.2546765  1.1261   0.26020    \n",
       "BM              -0.0799724  0.0108171 -7.3932 1.794e-13 ***\n",
       "Board            0.1112809  0.0744749  1.4942   0.13521    \n",
       "Top1            -0.0109407  0.1768485 -0.0619   0.95067    \n",
       "quarter2        -0.0033705  0.0246734 -0.1366   0.89135    \n",
       "quarter3        -0.0043526  0.0216620 -0.2009   0.84076    \n",
       "quarter4        -0.0019290  0.0275685 -0.0700   0.94422    \n",
       "gdp_growth_rate -0.0401845  0.0608172 -0.6607   0.50882    \n",
       "m2_growth_rate  -0.2510364  0.5154088 -0.4871   0.62625    \n",
       "---\n",
       "Signif. codes:  0 '***' 0.001 '**' 0.01 '*' 0.05 '.' 0.1 ' ' 1\n"
      ]
     },
     "metadata": {},
     "output_type": "display_data"
    }
   ],
   "source": [
    "library(plm)\n",
    "\n",
    "# Run model with individual fixed effects and quarter dummies\n",
    "model_b3_2 <- plm(volatility_end ~ log_tpu +  Size + Lev + ROA + BM + Board + Top1 + quarter + gdp_growth_rate + m2_growth_rate, \n",
    "             data = panel_data, \n",
    "             model = \"within\", \n",
    "             effect = \"individual\")\n",
    "\n",
    "# Display regression results\n",
    "summary(model_b3_2)\n",
    "\n",
    "# Get robust standard errors for both models\n",
    "library(lmtest)\n",
    "library(sandwich)\n",
    "cat(\"\\nRobust standard errors for two-way fixed effects model:\\n\")\n",
    "coeftest(model_b3_2, vcov = vcovHC(model_b3_2, type = \"HC1\"))"
   ]
  }
 ],
 "metadata": {
  "kernelspec": {
   "display_name": "R",
   "language": "R",
   "name": "ir"
  },
  "language_info": {
   "codemirror_mode": "r",
   "file_extension": ".r",
   "mimetype": "text/x-r-source",
   "name": "R",
   "pygments_lexer": "r",
   "version": "4.5.0"
  }
 },
 "nbformat": 4,
 "nbformat_minor": 5
}
