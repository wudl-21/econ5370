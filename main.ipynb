{
 "cells": [
  {
   "cell_type": "code",
   "execution_count": 31,
   "id": "6107b624",
   "metadata": {
    "vscode": {
     "languageId": "r"
    }
   },
   "outputs": [
    {
     "data": {
      "text/html": [
       "'LC_COLLATE=zh_CN.UTF-8;LC_CTYPE=zh_CN.UTF-8;LC_MONETARY=zh_CN.UTF-8;LC_NUMERIC=C;LC_TIME=zh_CN.UTF-8'"
      ],
      "text/latex": [
       "'LC\\_COLLATE=zh\\_CN.UTF-8;LC\\_CTYPE=zh\\_CN.UTF-8;LC\\_MONETARY=zh\\_CN.UTF-8;LC\\_NUMERIC=C;LC\\_TIME=zh\\_CN.UTF-8'"
      ],
      "text/markdown": [
       "'LC_COLLATE=zh_CN.UTF-8;LC_CTYPE=zh_CN.UTF-8;LC_MONETARY=zh_CN.UTF-8;LC_NUMERIC=C;LC_TIME=zh_CN.UTF-8'"
      ],
      "text/plain": [
       "[1] \"LC_COLLATE=zh_CN.UTF-8;LC_CTYPE=zh_CN.UTF-8;LC_MONETARY=zh_CN.UTF-8;LC_NUMERIC=C;LC_TIME=zh_CN.UTF-8\""
      ]
     },
     "metadata": {},
     "output_type": "display_data"
    }
   ],
   "source": [
    "rm(list = ls(all=TRUE)) # remove all objects\n",
    "Sys.setlocale(\"LC_ALL\", \"zh_CN.UTF-8\") # set locale to Chinese\n",
    "setwd(\"./\") # change working directory"
   ]
  },
  {
   "cell_type": "markdown",
   "id": "6cf8684a",
   "metadata": {},
   "source": [
    "# Data Reading and Preprocessing"
   ]
  },
  {
   "cell_type": "markdown",
   "id": "bc808627",
   "metadata": {},
   "source": [
    "## Primitive Variables"
   ]
  },
  {
   "cell_type": "markdown",
   "id": "f619c311",
   "metadata": {},
   "source": [
    "### Stock Return\n",
    "\n",
    ">  Monthly, between the first and last *trading day* of the month (not necessarily beginning and end of the month)"
   ]
  },
  {
   "cell_type": "markdown",
   "id": "8d449532",
   "metadata": {},
   "source": [
    "- Read stock return"
   ]
  },
  {
   "cell_type": "code",
   "execution_count": 32,
   "id": "00d04f38",
   "metadata": {
    "vscode": {
     "languageId": "r"
    }
   },
   "outputs": [
    {
     "name": "stderr",
     "output_type": "stream",
     "text": [
      "Warning message in read.table(file = file, header = header, sep = sep, quote = quote, :\n",
      "\"not all columns named in 'colClasses' exist\"\n"
     ]
    },
    {
     "data": {
      "text/html": [
       "<table class=\"dataframe\">\n",
       "<caption>A data.frame: 6 x 257</caption>\n",
       "<thead>\n",
       "\t<tr><th></th><th scope=col>year</th><th scope=col>month</th><th scope=col>000001</th><th scope=col>000002</th><th scope=col>000063</th><th scope=col>000157</th><th scope=col>000301</th><th scope=col>000333</th><th scope=col>000338</th><th scope=col>000425</th><th scope=col>...</th><th scope=col>688187</th><th scope=col>688223</th><th scope=col>688256</th><th scope=col>688271</th><th scope=col>688303</th><th scope=col>688396</th><th scope=col>688472</th><th scope=col>688506</th><th scope=col>688599</th><th scope=col>688981</th></tr>\n",
       "\t<tr><th></th><th scope=col>&lt;int&gt;</th><th scope=col>&lt;int&gt;</th><th scope=col>&lt;dbl&gt;</th><th scope=col>&lt;dbl&gt;</th><th scope=col>&lt;dbl&gt;</th><th scope=col>&lt;dbl&gt;</th><th scope=col>&lt;dbl&gt;</th><th scope=col>&lt;dbl&gt;</th><th scope=col>&lt;dbl&gt;</th><th scope=col>&lt;dbl&gt;</th><th scope=col>...</th><th scope=col>&lt;dbl&gt;</th><th scope=col>&lt;dbl&gt;</th><th scope=col>&lt;dbl&gt;</th><th scope=col>&lt;dbl&gt;</th><th scope=col>&lt;dbl&gt;</th><th scope=col>&lt;dbl&gt;</th><th scope=col>&lt;dbl&gt;</th><th scope=col>&lt;dbl&gt;</th><th scope=col>&lt;dbl&gt;</th><th scope=col>&lt;dbl&gt;</th></tr>\n",
       "</thead>\n",
       "<tbody>\n",
       "\t<tr><th scope=row>1</th><td>1999</td><td>1</td><td>-2.5589</td><td>-6.5476</td><td> -1.1685</td><td>NA</td><td>NA</td><td>NA</td><td>NA</td><td>-0.3171</td><td>...</td><td>NA</td><td>NA</td><td>NA</td><td>NA</td><td>NA</td><td>NA</td><td>NA</td><td>NA</td><td>NA</td><td>NA</td></tr>\n",
       "\t<tr><th scope=row>2</th><td>1999</td><td>2</td><td>-6.0815</td><td>-2.1656</td><td> -0.2627</td><td>NA</td><td>NA</td><td>NA</td><td>NA</td><td>-9.8621</td><td>...</td><td>NA</td><td>NA</td><td>NA</td><td>NA</td><td>NA</td><td>NA</td><td>NA</td><td>NA</td><td>NA</td><td>NA</td></tr>\n",
       "\t<tr><th scope=row>3</th><td>1999</td><td>3</td><td> 0.7358</td><td> 2.0833</td><td> -0.0988</td><td>NA</td><td>NA</td><td>NA</td><td>NA</td><td> 6.5882</td><td>...</td><td>NA</td><td>NA</td><td>NA</td><td>NA</td><td>NA</td><td>NA</td><td>NA</td><td>NA</td><td>NA</td><td>NA</td></tr>\n",
       "\t<tr><th scope=row>4</th><td>1999</td><td>4</td><td>-2.1183</td><td>15.9439</td><td>-12.8214</td><td>NA</td><td>NA</td><td>NA</td><td>NA</td><td>-5.0773</td><td>...</td><td>NA</td><td>NA</td><td>NA</td><td>NA</td><td>NA</td><td>NA</td><td>NA</td><td>NA</td><td>NA</td><td>NA</td></tr>\n",
       "\t<tr><th scope=row>5</th><td>1999</td><td>5</td><td>38.3582</td><td>23.7624</td><td> 10.1323</td><td>NA</td><td>NA</td><td>NA</td><td>NA</td><td>-0.6977</td><td>...</td><td>NA</td><td>NA</td><td>NA</td><td>NA</td><td>NA</td><td>NA</td><td>NA</td><td>NA</td><td>NA</td><td>NA</td></tr>\n",
       "\t<tr><th scope=row>6</th><td>1999</td><td>6</td><td>48.5437</td><td>26.7556</td><td> 89.8312</td><td>NA</td><td>NA</td><td>NA</td><td>NA</td><td>36.7681</td><td>...</td><td>NA</td><td>NA</td><td>NA</td><td>NA</td><td>NA</td><td>NA</td><td>NA</td><td>NA</td><td>NA</td><td>NA</td></tr>\n",
       "</tbody>\n",
       "</table>\n"
      ],
      "text/latex": [
       "A data.frame: 6 x 257\n",
       "\\begin{tabular}{r|lllllllllllllllllllll}\n",
       "  & year & month & 000001 & 000002 & 000063 & 000157 & 000301 & 000333 & 000338 & 000425 & ... & 688187 & 688223 & 688256 & 688271 & 688303 & 688396 & 688472 & 688506 & 688599 & 688981\\\\\n",
       "  & <int> & <int> & <dbl> & <dbl> & <dbl> & <dbl> & <dbl> & <dbl> & <dbl> & <dbl> & ... & <dbl> & <dbl> & <dbl> & <dbl> & <dbl> & <dbl> & <dbl> & <dbl> & <dbl> & <dbl>\\\\\n",
       "\\hline\n",
       "\t1 & 1999 & 1 & -2.5589 & -6.5476 &  -1.1685 & NA & NA & NA & NA & -0.3171 & ... & NA & NA & NA & NA & NA & NA & NA & NA & NA & NA\\\\\n",
       "\t2 & 1999 & 2 & -6.0815 & -2.1656 &  -0.2627 & NA & NA & NA & NA & -9.8621 & ... & NA & NA & NA & NA & NA & NA & NA & NA & NA & NA\\\\\n",
       "\t3 & 1999 & 3 &  0.7358 &  2.0833 &  -0.0988 & NA & NA & NA & NA &  6.5882 & ... & NA & NA & NA & NA & NA & NA & NA & NA & NA & NA\\\\\n",
       "\t4 & 1999 & 4 & -2.1183 & 15.9439 & -12.8214 & NA & NA & NA & NA & -5.0773 & ... & NA & NA & NA & NA & NA & NA & NA & NA & NA & NA\\\\\n",
       "\t5 & 1999 & 5 & 38.3582 & 23.7624 &  10.1323 & NA & NA & NA & NA & -0.6977 & ... & NA & NA & NA & NA & NA & NA & NA & NA & NA & NA\\\\\n",
       "\t6 & 1999 & 6 & 48.5437 & 26.7556 &  89.8312 & NA & NA & NA & NA & 36.7681 & ... & NA & NA & NA & NA & NA & NA & NA & NA & NA & NA\\\\\n",
       "\\end{tabular}\n"
      ],
      "text/markdown": [
       "\n",
       "A data.frame: 6 x 257\n",
       "\n",
       "| <!--/--> | year &lt;int&gt; | month &lt;int&gt; | 000001 &lt;dbl&gt; | 000002 &lt;dbl&gt; | 000063 &lt;dbl&gt; | 000157 &lt;dbl&gt; | 000301 &lt;dbl&gt; | 000333 &lt;dbl&gt; | 000338 &lt;dbl&gt; | 000425 &lt;dbl&gt; | ... ... | 688187 &lt;dbl&gt; | 688223 &lt;dbl&gt; | 688256 &lt;dbl&gt; | 688271 &lt;dbl&gt; | 688303 &lt;dbl&gt; | 688396 &lt;dbl&gt; | 688472 &lt;dbl&gt; | 688506 &lt;dbl&gt; | 688599 &lt;dbl&gt; | 688981 &lt;dbl&gt; |\n",
       "|---|---|---|---|---|---|---|---|---|---|---|---|---|---|---|---|---|---|---|---|---|---|\n",
       "| 1 | 1999 | 1 | -2.5589 | -6.5476 |  -1.1685 | NA | NA | NA | NA | -0.3171 | ... | NA | NA | NA | NA | NA | NA | NA | NA | NA | NA |\n",
       "| 2 | 1999 | 2 | -6.0815 | -2.1656 |  -0.2627 | NA | NA | NA | NA | -9.8621 | ... | NA | NA | NA | NA | NA | NA | NA | NA | NA | NA |\n",
       "| 3 | 1999 | 3 |  0.7358 |  2.0833 |  -0.0988 | NA | NA | NA | NA |  6.5882 | ... | NA | NA | NA | NA | NA | NA | NA | NA | NA | NA |\n",
       "| 4 | 1999 | 4 | -2.1183 | 15.9439 | -12.8214 | NA | NA | NA | NA | -5.0773 | ... | NA | NA | NA | NA | NA | NA | NA | NA | NA | NA |\n",
       "| 5 | 1999 | 5 | 38.3582 | 23.7624 |  10.1323 | NA | NA | NA | NA | -0.6977 | ... | NA | NA | NA | NA | NA | NA | NA | NA | NA | NA |\n",
       "| 6 | 1999 | 6 | 48.5437 | 26.7556 |  89.8312 | NA | NA | NA | NA | 36.7681 | ... | NA | NA | NA | NA | NA | NA | NA | NA | NA | NA |\n",
       "\n"
      ],
      "text/plain": [
       "  year month 000001  000002  000063   000157 000301 000333 000338 000425  ...\n",
       "1 1999 1     -2.5589 -6.5476  -1.1685 NA     NA     NA     NA     -0.3171 ...\n",
       "2 1999 2     -6.0815 -2.1656  -0.2627 NA     NA     NA     NA     -9.8621 ...\n",
       "3 1999 3      0.7358  2.0833  -0.0988 NA     NA     NA     NA      6.5882 ...\n",
       "4 1999 4     -2.1183 15.9439 -12.8214 NA     NA     NA     NA     -5.0773 ...\n",
       "5 1999 5     38.3582 23.7624  10.1323 NA     NA     NA     NA     -0.6977 ...\n",
       "6 1999 6     48.5437 26.7556  89.8312 NA     NA     NA     NA     36.7681 ...\n",
       "  688187 688223 688256 688271 688303 688396 688472 688506 688599 688981\n",
       "1 NA     NA     NA     NA     NA     NA     NA     NA     NA     NA    \n",
       "2 NA     NA     NA     NA     NA     NA     NA     NA     NA     NA    \n",
       "3 NA     NA     NA     NA     NA     NA     NA     NA     NA     NA    \n",
       "4 NA     NA     NA     NA     NA     NA     NA     NA     NA     NA    \n",
       "5 NA     NA     NA     NA     NA     NA     NA     NA     NA     NA    \n",
       "6 NA     NA     NA     NA     NA     NA     NA     NA     NA     NA    "
      ]
     },
     "metadata": {},
     "output_type": "display_data"
    }
   ],
   "source": [
    "# Read the stock data using read.csv\n",
    "stock <- read.csv(\"stock.csv\", header = TRUE, stringsAsFactors = FALSE, check.names = FALSE, colClasses = c(stkcd = \"character\", year = \"integer\", month = \"integer\"))\n",
    "\n",
    "index_cols <- c(\"year\", \"month\")\n",
    "\n",
    "# Clean column names by removing the suffix (like \".SZ\") from stock IDs\n",
    "colnames(stock)[-1] <- gsub(\"\\\\.[A-Z]+$\", \"\", colnames(stock)[-1])\n",
    "\n",
    "# Identify stock return columns (all except date, year, and month)\n",
    "stock_id <- colnames(stock)[!(colnames(stock) %in% index_cols)]\n",
    "\n",
    "# Convert all stock ID columns to numeric\n",
    "for (id in stock_id) {\n",
    "    stock[[id]] <- as.numeric(stock[[id]])\n",
    "}\n",
    "\n",
    "# Display the first few rows of the data\n",
    "head(stock)"
   ]
  },
  {
   "cell_type": "markdown",
   "id": "7fbeec2f",
   "metadata": {},
   "source": [
    "- Read listing date"
   ]
  },
  {
   "cell_type": "code",
   "execution_count": 33,
   "id": "a58a1509",
   "metadata": {
    "vscode": {
     "languageId": "r"
    }
   },
   "outputs": [
    {
     "data": {
      "text/html": [
       "<table class=\"dataframe\">\n",
       "<caption>A data.frame: 6 x 3</caption>\n",
       "<thead>\n",
       "\t<tr><th></th><th scope=col>stkcd</th><th scope=col>year</th><th scope=col>month</th></tr>\n",
       "\t<tr><th></th><th scope=col>&lt;chr&gt;</th><th scope=col>&lt;int&gt;</th><th scope=col>&lt;int&gt;</th></tr>\n",
       "</thead>\n",
       "<tbody>\n",
       "\t<tr><th scope=row>1</th><td>000001</td><td>1991</td><td> 4</td></tr>\n",
       "\t<tr><th scope=row>2</th><td>000002</td><td>1991</td><td> 1</td></tr>\n",
       "\t<tr><th scope=row>3</th><td>000063</td><td>1997</td><td>11</td></tr>\n",
       "\t<tr><th scope=row>4</th><td>000157</td><td>2000</td><td>10</td></tr>\n",
       "\t<tr><th scope=row>5</th><td>000301</td><td>2000</td><td> 5</td></tr>\n",
       "\t<tr><th scope=row>6</th><td>000333</td><td>2013</td><td> 9</td></tr>\n",
       "</tbody>\n",
       "</table>\n"
      ],
      "text/latex": [
       "A data.frame: 6 x 3\n",
       "\\begin{tabular}{r|lll}\n",
       "  & stkcd & year & month\\\\\n",
       "  & <chr> & <int> & <int>\\\\\n",
       "\\hline\n",
       "\t1 & 000001 & 1991 &  4\\\\\n",
       "\t2 & 000002 & 1991 &  1\\\\\n",
       "\t3 & 000063 & 1997 & 11\\\\\n",
       "\t4 & 000157 & 2000 & 10\\\\\n",
       "\t5 & 000301 & 2000 &  5\\\\\n",
       "\t6 & 000333 & 2013 &  9\\\\\n",
       "\\end{tabular}\n"
      ],
      "text/markdown": [
       "\n",
       "A data.frame: 6 x 3\n",
       "\n",
       "| <!--/--> | stkcd &lt;chr&gt; | year &lt;int&gt; | month &lt;int&gt; |\n",
       "|---|---|---|---|\n",
       "| 1 | 000001 | 1991 |  4 |\n",
       "| 2 | 000002 | 1991 |  1 |\n",
       "| 3 | 000063 | 1997 | 11 |\n",
       "| 4 | 000157 | 2000 | 10 |\n",
       "| 5 | 000301 | 2000 |  5 |\n",
       "| 6 | 000333 | 2013 |  9 |\n",
       "\n"
      ],
      "text/plain": [
       "  stkcd  year month\n",
       "1 000001 1991  4   \n",
       "2 000002 1991  1   \n",
       "3 000063 1997 11   \n",
       "4 000157 2000 10   \n",
       "5 000301 2000  5   \n",
       "6 000333 2013  9   "
      ]
     },
     "metadata": {},
     "output_type": "display_data"
    }
   ],
   "source": [
    "# Read the list_date.csv file\n",
    "list_time <- read.csv(\"list_time.csv\", header = TRUE, stringsAsFactors = FALSE, colClasses = c(stkcd = \"character\", year = \"integer\", month = \"integer\"))\n",
    "\n",
    "# Clean stock column by removing the suffix (like \".SZ\") from stock IDs\n",
    "list_time$stkcd <- gsub(\"\\\\.[A-Z]+$\", \"\", list_time$stkcd)\n",
    "\n",
    "head(list_time)"
   ]
  },
  {
   "cell_type": "markdown",
   "id": "957a4ecb",
   "metadata": {},
   "source": [
    "- For each stock, remove observations within the 1 year period after the listing date"
   ]
  },
  {
   "cell_type": "code",
   "execution_count": 34,
   "id": "821677f9",
   "metadata": {
    "vscode": {
     "languageId": "r"
    }
   },
   "outputs": [
    {
     "name": "stdout",
     "output_type": "stream",
     "text": [
      "Removed observations for 226 stocks that had been listed for less than 1 year\n",
      "Total observations removed: 2644 \n"
     ]
    },
    {
     "data": {
      "text/html": [
       "<table class=\"dataframe\">\n",
       "<caption>A data.frame: 6 x 257</caption>\n",
       "<thead>\n",
       "\t<tr><th></th><th scope=col>year</th><th scope=col>month</th><th scope=col>000001</th><th scope=col>000002</th><th scope=col>000063</th><th scope=col>000157</th><th scope=col>000301</th><th scope=col>000333</th><th scope=col>000338</th><th scope=col>000425</th><th scope=col>...</th><th scope=col>688187</th><th scope=col>688223</th><th scope=col>688256</th><th scope=col>688271</th><th scope=col>688303</th><th scope=col>688396</th><th scope=col>688472</th><th scope=col>688506</th><th scope=col>688599</th><th scope=col>688981</th></tr>\n",
       "\t<tr><th></th><th scope=col>&lt;int&gt;</th><th scope=col>&lt;int&gt;</th><th scope=col>&lt;dbl&gt;</th><th scope=col>&lt;dbl&gt;</th><th scope=col>&lt;dbl&gt;</th><th scope=col>&lt;dbl&gt;</th><th scope=col>&lt;dbl&gt;</th><th scope=col>&lt;dbl&gt;</th><th scope=col>&lt;dbl&gt;</th><th scope=col>&lt;dbl&gt;</th><th scope=col>...</th><th scope=col>&lt;dbl&gt;</th><th scope=col>&lt;dbl&gt;</th><th scope=col>&lt;dbl&gt;</th><th scope=col>&lt;dbl&gt;</th><th scope=col>&lt;dbl&gt;</th><th scope=col>&lt;dbl&gt;</th><th scope=col>&lt;dbl&gt;</th><th scope=col>&lt;dbl&gt;</th><th scope=col>&lt;dbl&gt;</th><th scope=col>&lt;dbl&gt;</th></tr>\n",
       "</thead>\n",
       "<tbody>\n",
       "\t<tr><th scope=row>1</th><td>1999</td><td>1</td><td>-2.5589</td><td>-6.5476</td><td> -1.1685</td><td>NA</td><td>NA</td><td>NA</td><td>NA</td><td>-0.3171</td><td>...</td><td>NA</td><td>NA</td><td>NA</td><td>NA</td><td>NA</td><td>NA</td><td>NA</td><td>NA</td><td>NA</td><td>NA</td></tr>\n",
       "\t<tr><th scope=row>2</th><td>1999</td><td>2</td><td>-6.0815</td><td>-2.1656</td><td> -0.2627</td><td>NA</td><td>NA</td><td>NA</td><td>NA</td><td>-9.8621</td><td>...</td><td>NA</td><td>NA</td><td>NA</td><td>NA</td><td>NA</td><td>NA</td><td>NA</td><td>NA</td><td>NA</td><td>NA</td></tr>\n",
       "\t<tr><th scope=row>3</th><td>1999</td><td>3</td><td> 0.7358</td><td> 2.0833</td><td> -0.0988</td><td>NA</td><td>NA</td><td>NA</td><td>NA</td><td> 6.5882</td><td>...</td><td>NA</td><td>NA</td><td>NA</td><td>NA</td><td>NA</td><td>NA</td><td>NA</td><td>NA</td><td>NA</td><td>NA</td></tr>\n",
       "\t<tr><th scope=row>4</th><td>1999</td><td>4</td><td>-2.1183</td><td>15.9439</td><td>-12.8214</td><td>NA</td><td>NA</td><td>NA</td><td>NA</td><td>-5.0773</td><td>...</td><td>NA</td><td>NA</td><td>NA</td><td>NA</td><td>NA</td><td>NA</td><td>NA</td><td>NA</td><td>NA</td><td>NA</td></tr>\n",
       "\t<tr><th scope=row>5</th><td>1999</td><td>5</td><td>38.3582</td><td>23.7624</td><td> 10.1323</td><td>NA</td><td>NA</td><td>NA</td><td>NA</td><td>-0.6977</td><td>...</td><td>NA</td><td>NA</td><td>NA</td><td>NA</td><td>NA</td><td>NA</td><td>NA</td><td>NA</td><td>NA</td><td>NA</td></tr>\n",
       "\t<tr><th scope=row>6</th><td>1999</td><td>6</td><td>48.5437</td><td>26.7556</td><td> 89.8312</td><td>NA</td><td>NA</td><td>NA</td><td>NA</td><td>36.7681</td><td>...</td><td>NA</td><td>NA</td><td>NA</td><td>NA</td><td>NA</td><td>NA</td><td>NA</td><td>NA</td><td>NA</td><td>NA</td></tr>\n",
       "</tbody>\n",
       "</table>\n"
      ],
      "text/latex": [
       "A data.frame: 6 x 257\n",
       "\\begin{tabular}{r|lllllllllllllllllllll}\n",
       "  & year & month & 000001 & 000002 & 000063 & 000157 & 000301 & 000333 & 000338 & 000425 & ... & 688187 & 688223 & 688256 & 688271 & 688303 & 688396 & 688472 & 688506 & 688599 & 688981\\\\\n",
       "  & <int> & <int> & <dbl> & <dbl> & <dbl> & <dbl> & <dbl> & <dbl> & <dbl> & <dbl> & ... & <dbl> & <dbl> & <dbl> & <dbl> & <dbl> & <dbl> & <dbl> & <dbl> & <dbl> & <dbl>\\\\\n",
       "\\hline\n",
       "\t1 & 1999 & 1 & -2.5589 & -6.5476 &  -1.1685 & NA & NA & NA & NA & -0.3171 & ... & NA & NA & NA & NA & NA & NA & NA & NA & NA & NA\\\\\n",
       "\t2 & 1999 & 2 & -6.0815 & -2.1656 &  -0.2627 & NA & NA & NA & NA & -9.8621 & ... & NA & NA & NA & NA & NA & NA & NA & NA & NA & NA\\\\\n",
       "\t3 & 1999 & 3 &  0.7358 &  2.0833 &  -0.0988 & NA & NA & NA & NA &  6.5882 & ... & NA & NA & NA & NA & NA & NA & NA & NA & NA & NA\\\\\n",
       "\t4 & 1999 & 4 & -2.1183 & 15.9439 & -12.8214 & NA & NA & NA & NA & -5.0773 & ... & NA & NA & NA & NA & NA & NA & NA & NA & NA & NA\\\\\n",
       "\t5 & 1999 & 5 & 38.3582 & 23.7624 &  10.1323 & NA & NA & NA & NA & -0.6977 & ... & NA & NA & NA & NA & NA & NA & NA & NA & NA & NA\\\\\n",
       "\t6 & 1999 & 6 & 48.5437 & 26.7556 &  89.8312 & NA & NA & NA & NA & 36.7681 & ... & NA & NA & NA & NA & NA & NA & NA & NA & NA & NA\\\\\n",
       "\\end{tabular}\n"
      ],
      "text/markdown": [
       "\n",
       "A data.frame: 6 x 257\n",
       "\n",
       "| <!--/--> | year &lt;int&gt; | month &lt;int&gt; | 000001 &lt;dbl&gt; | 000002 &lt;dbl&gt; | 000063 &lt;dbl&gt; | 000157 &lt;dbl&gt; | 000301 &lt;dbl&gt; | 000333 &lt;dbl&gt; | 000338 &lt;dbl&gt; | 000425 &lt;dbl&gt; | ... ... | 688187 &lt;dbl&gt; | 688223 &lt;dbl&gt; | 688256 &lt;dbl&gt; | 688271 &lt;dbl&gt; | 688303 &lt;dbl&gt; | 688396 &lt;dbl&gt; | 688472 &lt;dbl&gt; | 688506 &lt;dbl&gt; | 688599 &lt;dbl&gt; | 688981 &lt;dbl&gt; |\n",
       "|---|---|---|---|---|---|---|---|---|---|---|---|---|---|---|---|---|---|---|---|---|---|\n",
       "| 1 | 1999 | 1 | -2.5589 | -6.5476 |  -1.1685 | NA | NA | NA | NA | -0.3171 | ... | NA | NA | NA | NA | NA | NA | NA | NA | NA | NA |\n",
       "| 2 | 1999 | 2 | -6.0815 | -2.1656 |  -0.2627 | NA | NA | NA | NA | -9.8621 | ... | NA | NA | NA | NA | NA | NA | NA | NA | NA | NA |\n",
       "| 3 | 1999 | 3 |  0.7358 |  2.0833 |  -0.0988 | NA | NA | NA | NA |  6.5882 | ... | NA | NA | NA | NA | NA | NA | NA | NA | NA | NA |\n",
       "| 4 | 1999 | 4 | -2.1183 | 15.9439 | -12.8214 | NA | NA | NA | NA | -5.0773 | ... | NA | NA | NA | NA | NA | NA | NA | NA | NA | NA |\n",
       "| 5 | 1999 | 5 | 38.3582 | 23.7624 |  10.1323 | NA | NA | NA | NA | -0.6977 | ... | NA | NA | NA | NA | NA | NA | NA | NA | NA | NA |\n",
       "| 6 | 1999 | 6 | 48.5437 | 26.7556 |  89.8312 | NA | NA | NA | NA | 36.7681 | ... | NA | NA | NA | NA | NA | NA | NA | NA | NA | NA |\n",
       "\n"
      ],
      "text/plain": [
       "  year month 000001  000002  000063   000157 000301 000333 000338 000425  ...\n",
       "1 1999 1     -2.5589 -6.5476  -1.1685 NA     NA     NA     NA     -0.3171 ...\n",
       "2 1999 2     -6.0815 -2.1656  -0.2627 NA     NA     NA     NA     -9.8621 ...\n",
       "3 1999 3      0.7358  2.0833  -0.0988 NA     NA     NA     NA      6.5882 ...\n",
       "4 1999 4     -2.1183 15.9439 -12.8214 NA     NA     NA     NA     -5.0773 ...\n",
       "5 1999 5     38.3582 23.7624  10.1323 NA     NA     NA     NA     -0.6977 ...\n",
       "6 1999 6     48.5437 26.7556  89.8312 NA     NA     NA     NA     36.7681 ...\n",
       "  688187 688223 688256 688271 688303 688396 688472 688506 688599 688981\n",
       "1 NA     NA     NA     NA     NA     NA     NA     NA     NA     NA    \n",
       "2 NA     NA     NA     NA     NA     NA     NA     NA     NA     NA    \n",
       "3 NA     NA     NA     NA     NA     NA     NA     NA     NA     NA    \n",
       "4 NA     NA     NA     NA     NA     NA     NA     NA     NA     NA    \n",
       "5 NA     NA     NA     NA     NA     NA     NA     NA     NA     NA    \n",
       "6 NA     NA     NA     NA     NA     NA     NA     NA     NA     NA    "
      ]
     },
     "metadata": {},
     "output_type": "display_data"
    }
   ],
   "source": [
    "# Create a copy of the stock dataframe\n",
    "stock_filtered <- stock\n",
    "\n",
    "# Track statistics\n",
    "affected_stocks <- 0\n",
    "removed_observations <- 0\n",
    "\n",
    "# For each stock, remove observations where it has been listed for less than 1 year\n",
    "for (id in stock_id) {\n",
    "    # Find the stock in list_time\n",
    "    idx <- which(list_time$stkcd == id)\n",
    "    \n",
    "    if (length(idx) > 0) {\n",
    "        # Get the listing year and month\n",
    "        listing_year <- list_time$year[idx]\n",
    "        listing_month <- list_time$month[idx]\n",
    "        \n",
    "        # For each row in stock_filtered\n",
    "        for (row in 1:nrow(stock_filtered)) {\n",
    "            current_year <- stock_filtered$year[row]\n",
    "            current_month <- stock_filtered$month[row]\n",
    "            \n",
    "            # Check if this observation is within 1 year of listing\n",
    "            years_difference <- current_year - listing_year\n",
    "            months_difference <- current_month - listing_month\n",
    "            total_months_difference <- years_difference * 12 + months_difference\n",
    "            \n",
    "            if (total_months_difference < 12) {\n",
    "                # Count if this cell has data (not NA) before setting it to NA\n",
    "                if (!is.na(stock_filtered[row, id])) {\n",
    "                    removed_observations <- removed_observations + 1\n",
    "                    if (sum(!is.na(stock_filtered[, id])) > 0) {\n",
    "                        affected_stocks <- affected_stocks + 1\n",
    "                    }\n",
    "                }\n",
    "                \n",
    "                # Remove this observation\n",
    "                stock_filtered[row, id] <- NA\n",
    "            }\n",
    "        }\n",
    "    }\n",
    "}\n",
    "\n",
    "# Count unique affected stocks (the previous count might double-count)\n",
    "affected_stocks <- sum(sapply(stock_id, function(id) {\n",
    "    any(is.na(stock_filtered[, id])) & any(!is.na(stock[, id]))\n",
    "}))\n",
    "\n",
    "# Print summary\n",
    "cat(\"Removed observations for\", affected_stocks, \"stocks that had been listed for less than 1 year\\n\")\n",
    "cat(\"Total observations removed:\", removed_observations, \"\\n\")\n",
    "\n",
    "# Update the stock dataframe\n",
    "stock <- stock_filtered\n",
    "\n",
    "head(stock)"
   ]
  },
  {
   "cell_type": "markdown",
   "id": "a11b3714",
   "metadata": {},
   "source": [
    "- Remove stocks with too many missing values under the prioritized criteria:\n",
    "  1. Remove as fewer stocks as possible\n",
    "  2. Common time scope of the remaining observations should be closer to latest as possible\n",
    "  3. Common time scope of the remaining observations should be as long as possible"
   ]
  },
  {
   "cell_type": "code",
   "execution_count": 35,
   "id": "f2a3e357",
   "metadata": {
    "vscode": {
     "languageId": "r"
    }
   },
   "outputs": [
    {
     "name": "stdout",
     "output_type": "stream",
     "text": [
      "Removing 106 stocks with excessive NA values: 000333, 001289, 001965, 001979, 002555, 002594, 002601, 002648, 002709, 002714, 002812, 002916, 002920, 002938, 003816, 300274, 300308, 300316, 300347, 300394, 300408, 300413, 300418, 300433, 300442, 300450, 300498, 300502, 300628, 300661, 300750, 300759, 300760, 300782, 300832, 300896, 300979, 300999, 301269, 600023, 600025, 600905, 600919, 600926, 600938, 600941, 600989, 601012, 601021, 601058, 601100, 601127, 601138, 601225, 601229, 601238, 601360, 601633, 601658, 601669, 601689, 601698, 601728, 601800, 601816, 601838, 601865, 601868, 601916, 601985, 603019, 603195, 603259, 603260, 603288, 603296, 603369, 603392, 603501, 603659, 603799, 603806, 603833, 603986, 603993, 605117, 605499, 688008, 688009, 688012, 688036, 688041, 688082, 688111, 688126, 688169, 688187, 688223, 688256, 688271, 688303, 688396, 688472, 688506, 688599, 688981 \n",
      "Retained 149 stocks\n",
      "Common non-NA period: 2012-02 to 2025-03 ( 158 periods )\n",
      "NA values in filtered dataset: 0 \n"
     ]
    },
    {
     "data": {
      "text/html": [
       "<table class=\"dataframe\">\n",
       "<caption>A data.frame: 6 x 151</caption>\n",
       "<thead>\n",
       "\t<tr><th></th><th scope=col>year</th><th scope=col>month</th><th scope=col>000001</th><th scope=col>000002</th><th scope=col>000063</th><th scope=col>000157</th><th scope=col>000301</th><th scope=col>000338</th><th scope=col>000425</th><th scope=col>000538</th><th scope=col>...</th><th scope=col>601857</th><th scope=col>601872</th><th scope=col>601877</th><th scope=col>601888</th><th scope=col>601898</th><th scope=col>601899</th><th scope=col>601939</th><th scope=col>601988</th><th scope=col>601989</th><th scope=col>601998</th></tr>\n",
       "\t<tr><th></th><th scope=col>&lt;int&gt;</th><th scope=col>&lt;int&gt;</th><th scope=col>&lt;dbl&gt;</th><th scope=col>&lt;dbl&gt;</th><th scope=col>&lt;dbl&gt;</th><th scope=col>&lt;dbl&gt;</th><th scope=col>&lt;dbl&gt;</th><th scope=col>&lt;dbl&gt;</th><th scope=col>&lt;dbl&gt;</th><th scope=col>&lt;dbl&gt;</th><th scope=col>...</th><th scope=col>&lt;dbl&gt;</th><th scope=col>&lt;dbl&gt;</th><th scope=col>&lt;dbl&gt;</th><th scope=col>&lt;dbl&gt;</th><th scope=col>&lt;dbl&gt;</th><th scope=col>&lt;dbl&gt;</th><th scope=col>&lt;dbl&gt;</th><th scope=col>&lt;dbl&gt;</th><th scope=col>&lt;dbl&gt;</th><th scope=col>&lt;dbl&gt;</th></tr>\n",
       "</thead>\n",
       "<tbody>\n",
       "\t<tr><th scope=row>158</th><td>2012</td><td>2</td><td> 2.7644</td><td> 8.2353</td><td> 15.8784</td><td> 5.3787</td><td> 8.1633</td><td>  3.0088</td><td>  0.2500</td><td> 6.5466</td><td>...</td><td> 3.0362</td><td>  3.8095</td><td>12.8434</td><td> 9.3409</td><td>  5.3191</td><td>  6.9820</td><td> 2.3061</td><td> 2.3333</td><td>  9.2058</td><td> 3.6697</td></tr>\n",
       "\t<tr><th scope=row>159</th><td>2012</td><td>3</td><td>-8.1287</td><td> 0.0000</td><td> -4.1983</td><td>-9.7917</td><td>-8.4906</td><td>-13.6312</td><td>-16.0848</td><td>-5.4916</td><td>...</td><td>-7.8897</td><td> -9.4801</td><td> 1.3158</td><td>-5.5473</td><td> -8.1818</td><td>-13.4737</td><td>-1.0246</td><td>-2.9316</td><td> -7.2727</td><td>-5.7522</td></tr>\n",
       "\t<tr><th scope=row>160</th><td>2012</td><td>4</td><td> 5.4106</td><td> 8.4541</td><td>  2.3737</td><td>14.4342</td><td>16.8385</td><td>  9.8143</td><td> 13.4473</td><td> 2.4787</td><td>...</td><td> 2.4768</td><td>  7.0946</td><td> 3.4440</td><td>13.2341</td><td>  3.7404</td><td>  4.6229</td><td>-0.8282</td><td> 2.3490</td><td>  8.3779</td><td> 6.3380</td></tr>\n",
       "\t<tr><th scope=row>161</th><td>2012</td><td>5</td><td>-5.2536</td><td> 3.0067</td><td> -9.2152</td><td> 9.4854</td><td>-4.4118</td><td>  0.6643</td><td> -0.1310</td><td> 1.0706</td><td>...</td><td>-4.8338</td><td>  9.4637</td><td> 4.8525</td><td>-6.2241</td><td> -4.2418</td><td> -4.4186</td><td>-6.2630</td><td>-0.6557</td><td> -1.8891</td><td>-6.4018</td></tr>\n",
       "\t<tr><th scope=row>162</th><td>2012</td><td>6</td><td>-3.3779</td><td>-3.6757</td><td> -8.5789</td><td>-7.5576</td><td>-8.3077</td><td>-10.9478</td><td> -5.9672</td><td>16.6040</td><td>...</td><td>-2.5618</td><td> -6.9200</td><td>-4.5654</td><td> 4.4381</td><td>-12.1780</td><td> -5.5961</td><td>-1.2135</td><td>-2.0495</td><td>-12.0339</td><td>-5.6604</td></tr>\n",
       "\t<tr><th scope=row>163</th><td>2012</td><td>7</td><td>-0.3958</td><td> 5.0911</td><td>-16.8056</td><td>-4.2871</td><td>-5.0336</td><td>-21.9939</td><td>-11.4520</td><td>-0.1350</td><td>...</td><td>-2.0994</td><td>-15.8385</td><td>-2.4902</td><td>-0.2126</td><td> -3.3592</td><td> -2.9101</td><td>-5.4762</td><td>-3.1915</td><td>-10.7900</td><td> 1.8135</td></tr>\n",
       "</tbody>\n",
       "</table>\n"
      ],
      "text/latex": [
       "A data.frame: 6 x 151\n",
       "\\begin{tabular}{r|lllllllllllllllllllll}\n",
       "  & year & month & 000001 & 000002 & 000063 & 000157 & 000301 & 000338 & 000425 & 000538 & ... & 601857 & 601872 & 601877 & 601888 & 601898 & 601899 & 601939 & 601988 & 601989 & 601998\\\\\n",
       "  & <int> & <int> & <dbl> & <dbl> & <dbl> & <dbl> & <dbl> & <dbl> & <dbl> & <dbl> & ... & <dbl> & <dbl> & <dbl> & <dbl> & <dbl> & <dbl> & <dbl> & <dbl> & <dbl> & <dbl>\\\\\n",
       "\\hline\n",
       "\t158 & 2012 & 2 &  2.7644 &  8.2353 &  15.8784 &  5.3787 &  8.1633 &   3.0088 &   0.2500 &  6.5466 & ... &  3.0362 &   3.8095 & 12.8434 &  9.3409 &   5.3191 &   6.9820 &  2.3061 &  2.3333 &   9.2058 &  3.6697\\\\\n",
       "\t159 & 2012 & 3 & -8.1287 &  0.0000 &  -4.1983 & -9.7917 & -8.4906 & -13.6312 & -16.0848 & -5.4916 & ... & -7.8897 &  -9.4801 &  1.3158 & -5.5473 &  -8.1818 & -13.4737 & -1.0246 & -2.9316 &  -7.2727 & -5.7522\\\\\n",
       "\t160 & 2012 & 4 &  5.4106 &  8.4541 &   2.3737 & 14.4342 & 16.8385 &   9.8143 &  13.4473 &  2.4787 & ... &  2.4768 &   7.0946 &  3.4440 & 13.2341 &   3.7404 &   4.6229 & -0.8282 &  2.3490 &   8.3779 &  6.3380\\\\\n",
       "\t161 & 2012 & 5 & -5.2536 &  3.0067 &  -9.2152 &  9.4854 & -4.4118 &   0.6643 &  -0.1310 &  1.0706 & ... & -4.8338 &   9.4637 &  4.8525 & -6.2241 &  -4.2418 &  -4.4186 & -6.2630 & -0.6557 &  -1.8891 & -6.4018\\\\\n",
       "\t162 & 2012 & 6 & -3.3779 & -3.6757 &  -8.5789 & -7.5576 & -8.3077 & -10.9478 &  -5.9672 & 16.6040 & ... & -2.5618 &  -6.9200 & -4.5654 &  4.4381 & -12.1780 &  -5.5961 & -1.2135 & -2.0495 & -12.0339 & -5.6604\\\\\n",
       "\t163 & 2012 & 7 & -0.3958 &  5.0911 & -16.8056 & -4.2871 & -5.0336 & -21.9939 & -11.4520 & -0.1350 & ... & -2.0994 & -15.8385 & -2.4902 & -0.2126 &  -3.3592 &  -2.9101 & -5.4762 & -3.1915 & -10.7900 &  1.8135\\\\\n",
       "\\end{tabular}\n"
      ],
      "text/markdown": [
       "\n",
       "A data.frame: 6 x 151\n",
       "\n",
       "| <!--/--> | year &lt;int&gt; | month &lt;int&gt; | 000001 &lt;dbl&gt; | 000002 &lt;dbl&gt; | 000063 &lt;dbl&gt; | 000157 &lt;dbl&gt; | 000301 &lt;dbl&gt; | 000338 &lt;dbl&gt; | 000425 &lt;dbl&gt; | 000538 &lt;dbl&gt; | ... ... | 601857 &lt;dbl&gt; | 601872 &lt;dbl&gt; | 601877 &lt;dbl&gt; | 601888 &lt;dbl&gt; | 601898 &lt;dbl&gt; | 601899 &lt;dbl&gt; | 601939 &lt;dbl&gt; | 601988 &lt;dbl&gt; | 601989 &lt;dbl&gt; | 601998 &lt;dbl&gt; |\n",
       "|---|---|---|---|---|---|---|---|---|---|---|---|---|---|---|---|---|---|---|---|---|---|\n",
       "| 158 | 2012 | 2 |  2.7644 |  8.2353 |  15.8784 |  5.3787 |  8.1633 |   3.0088 |   0.2500 |  6.5466 | ... |  3.0362 |   3.8095 | 12.8434 |  9.3409 |   5.3191 |   6.9820 |  2.3061 |  2.3333 |   9.2058 |  3.6697 |\n",
       "| 159 | 2012 | 3 | -8.1287 |  0.0000 |  -4.1983 | -9.7917 | -8.4906 | -13.6312 | -16.0848 | -5.4916 | ... | -7.8897 |  -9.4801 |  1.3158 | -5.5473 |  -8.1818 | -13.4737 | -1.0246 | -2.9316 |  -7.2727 | -5.7522 |\n",
       "| 160 | 2012 | 4 |  5.4106 |  8.4541 |   2.3737 | 14.4342 | 16.8385 |   9.8143 |  13.4473 |  2.4787 | ... |  2.4768 |   7.0946 |  3.4440 | 13.2341 |   3.7404 |   4.6229 | -0.8282 |  2.3490 |   8.3779 |  6.3380 |\n",
       "| 161 | 2012 | 5 | -5.2536 |  3.0067 |  -9.2152 |  9.4854 | -4.4118 |   0.6643 |  -0.1310 |  1.0706 | ... | -4.8338 |   9.4637 |  4.8525 | -6.2241 |  -4.2418 |  -4.4186 | -6.2630 | -0.6557 |  -1.8891 | -6.4018 |\n",
       "| 162 | 2012 | 6 | -3.3779 | -3.6757 |  -8.5789 | -7.5576 | -8.3077 | -10.9478 |  -5.9672 | 16.6040 | ... | -2.5618 |  -6.9200 | -4.5654 |  4.4381 | -12.1780 |  -5.5961 | -1.2135 | -2.0495 | -12.0339 | -5.6604 |\n",
       "| 163 | 2012 | 7 | -0.3958 |  5.0911 | -16.8056 | -4.2871 | -5.0336 | -21.9939 | -11.4520 | -0.1350 | ... | -2.0994 | -15.8385 | -2.4902 | -0.2126 |  -3.3592 |  -2.9101 | -5.4762 | -3.1915 | -10.7900 |  1.8135 |\n",
       "\n"
      ],
      "text/plain": [
       "    year month 000001  000002  000063   000157  000301  000338   000425  \n",
       "158 2012 2      2.7644  8.2353  15.8784  5.3787  8.1633   3.0088   0.2500\n",
       "159 2012 3     -8.1287  0.0000  -4.1983 -9.7917 -8.4906 -13.6312 -16.0848\n",
       "160 2012 4      5.4106  8.4541   2.3737 14.4342 16.8385   9.8143  13.4473\n",
       "161 2012 5     -5.2536  3.0067  -9.2152  9.4854 -4.4118   0.6643  -0.1310\n",
       "162 2012 6     -3.3779 -3.6757  -8.5789 -7.5576 -8.3077 -10.9478  -5.9672\n",
       "163 2012 7     -0.3958  5.0911 -16.8056 -4.2871 -5.0336 -21.9939 -11.4520\n",
       "    000538  ... 601857  601872   601877  601888  601898   601899   601939 \n",
       "158  6.5466 ...  3.0362   3.8095 12.8434  9.3409   5.3191   6.9820  2.3061\n",
       "159 -5.4916 ... -7.8897  -9.4801  1.3158 -5.5473  -8.1818 -13.4737 -1.0246\n",
       "160  2.4787 ...  2.4768   7.0946  3.4440 13.2341   3.7404   4.6229 -0.8282\n",
       "161  1.0706 ... -4.8338   9.4637  4.8525 -6.2241  -4.2418  -4.4186 -6.2630\n",
       "162 16.6040 ... -2.5618  -6.9200 -4.5654  4.4381 -12.1780  -5.5961 -1.2135\n",
       "163 -0.1350 ... -2.0994 -15.8385 -2.4902 -0.2126  -3.3592  -2.9101 -5.4762\n",
       "    601988  601989   601998 \n",
       "158  2.3333   9.2058  3.6697\n",
       "159 -2.9316  -7.2727 -5.7522\n",
       "160  2.3490   8.3779  6.3380\n",
       "161 -0.6557  -1.8891 -6.4018\n",
       "162 -2.0495 -12.0339 -5.6604\n",
       "163 -3.1915 -10.7900  1.8135"
      ]
     },
     "metadata": {},
     "output_type": "display_data"
    }
   ],
   "source": [
    "# Create a copy of the stock dataframe\n",
    "stock_filtered <- stock\n",
    "\n",
    "# Create a matrix indicating non-NA values\n",
    "has_data <- !is.na(stock_filtered[, stock_id])\n",
    "colnames(has_data) <- stock_id\n",
    "\n",
    "# Calculate the percentage of non-NA values for each stock\n",
    "stock_valid_pct <- colMeans(has_data) * 100\n",
    "names(stock_valid_pct) <- stock_id\n",
    "\n",
    "# Create a year-month identifier for easier period tracking\n",
    "stock_filtered$ym <- stock_filtered$year * 100 + stock_filtered$month\n",
    "\n",
    "# Function to find the common non-NA period for a set of stocks\n",
    "find_common_period <- function(stocks_subset) {\n",
    "    # For each period, check if all stocks have data\n",
    "    all_valid <- apply(has_data[, stocks_subset], 1, all)\n",
    "    \n",
    "    # If no common valid dates found, return NULL\n",
    "    if (!any(all_valid)) {\n",
    "        return(NULL)\n",
    "    }\n",
    "    \n",
    "    # Find continuous valid periods\n",
    "    runs <- rle(all_valid)\n",
    "    valid_run_indices <- which(runs$values)\n",
    "    \n",
    "    if (length(valid_run_indices) == 0) {\n",
    "        return(NULL)\n",
    "    }\n",
    "    \n",
    "    # Find all valid runs and their properties\n",
    "    valid_periods <- data.frame(\n",
    "        run_idx = valid_run_indices,\n",
    "        length = runs$lengths[valid_run_indices],\n",
    "        stringsAsFactors = FALSE\n",
    "    )\n",
    "    \n",
    "    # Calculate start and end positions for each run\n",
    "    valid_periods$start_pos <- sapply(valid_periods$run_idx, function(idx) {\n",
    "        if(idx == 1) 1 else sum(runs$lengths[1:(idx-1)]) + 1\n",
    "    })\n",
    "    valid_periods$end_pos <- valid_periods$start_pos + valid_periods$length - 1\n",
    "    \n",
    "    # Add start and end year-month\n",
    "    valid_periods$start_ym <- stock_filtered$ym[valid_periods$start_pos]\n",
    "    valid_periods$end_ym <- stock_filtered$ym[valid_periods$end_pos]\n",
    "    \n",
    "    # Calculate recency score - higher for more recent periods\n",
    "    max_ym <- max(stock_filtered$ym)\n",
    "    valid_periods$recency_score <- valid_periods$end_ym / max_ym\n",
    "    \n",
    "    # Normalize length\n",
    "    max_length <- max(valid_periods$length)\n",
    "    valid_periods$norm_length <- valid_periods$length / max_length\n",
    "    \n",
    "    # Combined score: 60% length, 40% recency (favoring recent periods)\n",
    "    valid_periods$combined_score <- 0.6 * valid_periods$norm_length + 0.4 * valid_periods$recency_score\n",
    "    \n",
    "    # Find the period with the highest combined score\n",
    "    best_idx <- which.max(valid_periods$combined_score)\n",
    "    \n",
    "    return(list(\n",
    "        start_idx = valid_periods$start_pos[best_idx],\n",
    "        end_idx = valid_periods$end_pos[best_idx],\n",
    "        length = valid_periods$length[best_idx],\n",
    "        start_ym = valid_periods$start_ym[best_idx],\n",
    "        end_ym = valid_periods$end_ym[best_idx],\n",
    "        combined_score = valid_periods$combined_score[best_idx]\n",
    "    ))\n",
    "}\n",
    "\n",
    "# Initialize variables to store best solution\n",
    "best_solution <- NULL\n",
    "best_score <- -Inf\n",
    "\n",
    "# Try different thresholds to include more or fewer stocks\n",
    "thresholds <- seq(95, 50, by = -5)\n",
    "\n",
    "for (threshold in thresholds) {\n",
    "    # Select stocks with valid data percentage above threshold\n",
    "    candidate_stocks <- names(stock_valid_pct[stock_valid_pct >= threshold])\n",
    "    \n",
    "    # Skip if too few stocks meet the threshold\n",
    "    if (length(candidate_stocks) < 2) {\n",
    "        next\n",
    "    }\n",
    "    \n",
    "    # Find common period for these stocks\n",
    "    period <- find_common_period(candidate_stocks)\n",
    "    \n",
    "    # Skip if no common period found\n",
    "    if (is.null(period)) {\n",
    "        next\n",
    "    }\n",
    "    \n",
    "    # Total score combines period quality and number of stocks\n",
    "    # Normalize stock count to give more weight to solutions with more stocks\n",
    "    stock_ratio <- length(candidate_stocks) / length(stock_id)\n",
    "    total_score <- period$combined_score + 0.2 * stock_ratio\n",
    "    \n",
    "    # Update best solution if better score found\n",
    "    if (total_score > best_score) {\n",
    "        best_solution <- list(\n",
    "            stocks = candidate_stocks,\n",
    "            start_idx = period$start_idx,\n",
    "            end_idx = period$end_idx,\n",
    "            length = period$length,\n",
    "            start_ym = period$start_ym,\n",
    "            end_ym = period$end_ym\n",
    "        )\n",
    "        best_score <- total_score\n",
    "    }\n",
    "}\n",
    "\n",
    "if (!is.null(best_solution)) {\n",
    "    # Identify stocks to remove\n",
    "    stocks_to_remove <- setdiff(stock_id, best_solution$stocks)\n",
    "    \n",
    "    # Format year-month for display (YYYY-MM)\n",
    "    format_ym <- function(ym) {\n",
    "        year <- floor(ym/100)\n",
    "        month <- ym %% 100\n",
    "        return(paste0(year, \"-\", sprintf(\"%02d\", month)))\n",
    "    }\n",
    "    \n",
    "    # Print summary\n",
    "    cat(\"Removing\", length(stocks_to_remove), \"stocks with excessive NA values:\", \n",
    "            paste(stocks_to_remove, collapse=\", \"), \"\\n\")\n",
    "    cat(\"Retained\", length(best_solution$stocks), \"stocks\\n\")\n",
    "    cat(\"Common non-NA period:\", format_ym(best_solution$start_ym), \"to\", \n",
    "            format_ym(best_solution$end_ym), \"(\", best_solution$length, \"periods )\\n\")\n",
    "    \n",
    "    # Update stock_id to the selected stocks\n",
    "    stock_id <- best_solution$stocks\n",
    "    \n",
    "    # Filter the dataframe to keep only the selected stocks and date range\n",
    "    stock_filtered <- stock_filtered[best_solution$start_idx:best_solution$end_idx, c(\"year\", \"month\", best_solution$stocks)]\n",
    "    \n",
    "    # Verify no NA values in the filtered dataset\n",
    "    cat(\"NA values in filtered dataset:\", sum(is.na(stock_filtered)), \"\\n\")\n",
    "} else {\n",
    "    cat(\"Could not find a common non-NA period for any subset of stocks\\n\")\n",
    "}\n",
    "\n",
    "# Update the stock dataframe\n",
    "stock <- stock_filtered\n",
    "\n",
    "head(stock)"
   ]
  },
  {
   "cell_type": "markdown",
   "id": "a2ca19ca",
   "metadata": {},
   "source": [
    "- Trim extreme values and replace missing values"
   ]
  },
  {
   "cell_type": "code",
   "execution_count": 36,
   "id": "ed4d68ba",
   "metadata": {
    "vscode": {
     "languageId": "r"
    }
   },
   "outputs": [
    {
     "name": "stdout",
     "output_type": "stream",
     "text": [
      "Extreme Value Removal Report:\n",
      "----------------------------\n",
      "Total outliers identified and removed: 752 \n",
      "Total missing values replaced: 752 \n",
      "\n",
      "Stocks with outliers:\n",
      "  - 000001 : 4 outliers\n",
      "  - 000002 : 1 outliers\n",
      "  - 000063 : 6 outliers\n",
      "  - 000157 : 2 outliers\n",
      "  - 000301 : 4 outliers\n",
      "  - 000338 : 5 outliers\n",
      "  - 000425 : 2 outliers\n",
      "  - 000538 : 3 outliers\n",
      "  - 000625 : 2 outliers\n",
      "  - 000630 : 18 outliers\n",
      "  - 000651 : 4 outliers\n",
      "  - 000661 : 2 outliers\n",
      "  - 000708 : 2 outliers\n",
      "  - 000768 : 2 outliers\n",
      "  - 000786 : 7 outliers\n",
      "  - 000800 : 2 outliers\n",
      "  - 000807 : 12 outliers\n",
      "  - 000858 : 1 outliers\n",
      "  - 000876 : 6 outliers\n",
      "  - 000895 : 1 outliers\n",
      "  - 000938 : 6 outliers\n",
      "  - 000975 : 4 outliers\n",
      "  - 000977 : 1 outliers\n",
      "  - 000983 : 1 outliers\n",
      "  - 000999 : 8 outliers\n",
      "  - 002001 : 5 outliers\n",
      "  - 002007 : 3 outliers\n",
      "  - 002027 : 3 outliers\n",
      "  - 002028 : 2 outliers\n",
      "  - 002049 : 8 outliers\n",
      "  - 002050 : 1 outliers\n",
      "  - 002074 : 5 outliers\n",
      "  - 002129 : 3 outliers\n",
      "  - 002142 : 10 outliers\n",
      "  - 002179 : 8 outliers\n",
      "  - 002180 : 5 outliers\n",
      "  - 002236 : 5 outliers\n",
      "  - 002241 : 15 outliers\n",
      "  - 002252 : 14 outliers\n",
      "  - 002271 : 6 outliers\n",
      "  - 002304 : 8 outliers\n",
      "  - 002311 : 3 outliers\n",
      "  - 002352 : 11 outliers\n",
      "  - 002422 : 2 outliers\n",
      "  - 002460 : 1 outliers\n",
      "  - 002463 : 1 outliers\n",
      "  - 002466 : 19 outliers\n",
      "  - 002475 : 1 outliers\n",
      "  - 002493 : 2 outliers\n",
      "  - 300014 : 1 outliers\n",
      "  - 300015 : 2 outliers\n",
      "  - 300033 : 7 outliers\n",
      "  - 300122 : 4 outliers\n",
      "  - 300124 : 1 outliers\n",
      "  - 600009 : 1 outliers\n",
      "  - 600010 : 8 outliers\n",
      "  - 600011 : 16 outliers\n",
      "  - 600015 : 3 outliers\n",
      "  - 600016 : 4 outliers\n",
      "  - 600018 : 3 outliers\n",
      "  - 600019 : 3 outliers\n",
      "  - 600026 : 1 outliers\n",
      "  - 600027 : 5 outliers\n",
      "  - 600028 : 14 outliers\n",
      "  - 600029 : 7 outliers\n",
      "  - 600031 : 1 outliers\n",
      "  - 600036 : 3 outliers\n",
      "  - 600039 : 3 outliers\n",
      "  - 600048 : 3 outliers\n",
      "  - 600050 : 12 outliers\n",
      "  - 600066 : 1 outliers\n",
      "  - 600085 : 9 outliers\n",
      "  - 600089 : 8 outliers\n",
      "  - 600104 : 4 outliers\n",
      "  - 600111 : 7 outliers\n",
      "  - 600160 : 2 outliers\n",
      "  - 600161 : 18 outliers\n",
      "  - 600188 : 1 outliers\n",
      "  - 600196 : 8 outliers\n",
      "  - 600219 : 5 outliers\n",
      "  - 600233 : 5 outliers\n",
      "  - 600276 : 3 outliers\n",
      "  - 600309 : 8 outliers\n",
      "  - 600332 : 3 outliers\n",
      "  - 600362 : 5 outliers\n",
      "  - 600377 : 8 outliers\n",
      "  - 600406 : 2 outliers\n",
      "  - 600415 : 6 outliers\n",
      "  - 600426 : 2 outliers\n",
      "  - 600436 : 1 outliers\n",
      "  - 600438 : 10 outliers\n",
      "  - 600460 : 12 outliers\n",
      "  - 600482 : 16 outliers\n",
      "  - 600489 : 4 outliers\n",
      "  - 600519 : 1 outliers\n",
      "  - 600547 : 20 outliers\n",
      "  - 600570 : 8 outliers\n",
      "  - 600584 : 6 outliers\n",
      "  - 600585 : 5 outliers\n",
      "  - 600588 : 1 outliers\n",
      "  - 600600 : 3 outliers\n",
      "  - 600660 : 3 outliers\n",
      "  - 600674 : 2 outliers\n",
      "  - 600690 : 7 outliers\n",
      "  - 600741 : 3 outliers\n",
      "  - 600795 : 5 outliers\n",
      "  - 600809 : 1 outliers\n",
      "  - 600875 : 3 outliers\n",
      "  - 600900 : 9 outliers\n",
      "  - 601006 : 6 outliers\n",
      "  - 601009 : 8 outliers\n",
      "  - 601088 : 1 outliers\n",
      "  - 601111 : 2 outliers\n",
      "  - 601117 : 2 outliers\n",
      "  - 601169 : 2 outliers\n",
      "  - 601186 : 16 outliers\n",
      "  - 601288 : 6 outliers\n",
      "  - 601328 : 4 outliers\n",
      "  - 601390 : 5 outliers\n",
      "  - 601398 : 4 outliers\n",
      "  - 601600 : 11 outliers\n",
      "  - 601607 : 3 outliers\n",
      "  - 601618 : 15 outliers\n",
      "  - 601668 : 2 outliers\n",
      "  - 601699 : 4 outliers\n",
      "  - 601766 : 13 outliers\n",
      "  - 601799 : 5 outliers\n",
      "  - 601808 : 2 outliers\n",
      "  - 601818 : 5 outliers\n",
      "  - 601857 : 10 outliers\n",
      "  - 601872 : 2 outliers\n",
      "  - 601877 : 5 outliers\n",
      "  - 601888 : 10 outliers\n",
      "  - 601898 : 13 outliers\n",
      "  - 601899 : 5 outliers\n",
      "  - 601939 : 2 outliers\n",
      "  - 601988 : 2 outliers\n",
      "  - 601989 : 9 outliers\n",
      "  - 601998 : 4 outliers\n"
     ]
    },
    {
     "data": {
      "text/html": [
       "<table class=\"dataframe\">\n",
       "<caption>A data.frame: 6 x 151</caption>\n",
       "<thead>\n",
       "\t<tr><th></th><th scope=col>year</th><th scope=col>month</th><th scope=col>000001</th><th scope=col>000002</th><th scope=col>000063</th><th scope=col>000157</th><th scope=col>000301</th><th scope=col>000338</th><th scope=col>000425</th><th scope=col>000538</th><th scope=col>...</th><th scope=col>601857</th><th scope=col>601872</th><th scope=col>601877</th><th scope=col>601888</th><th scope=col>601898</th><th scope=col>601899</th><th scope=col>601939</th><th scope=col>601988</th><th scope=col>601989</th><th scope=col>601998</th></tr>\n",
       "\t<tr><th></th><th scope=col>&lt;int&gt;</th><th scope=col>&lt;int&gt;</th><th scope=col>&lt;dbl&gt;</th><th scope=col>&lt;dbl&gt;</th><th scope=col>&lt;dbl&gt;</th><th scope=col>&lt;dbl&gt;</th><th scope=col>&lt;dbl&gt;</th><th scope=col>&lt;dbl&gt;</th><th scope=col>&lt;dbl&gt;</th><th scope=col>&lt;dbl&gt;</th><th scope=col>...</th><th scope=col>&lt;dbl&gt;</th><th scope=col>&lt;dbl&gt;</th><th scope=col>&lt;dbl&gt;</th><th scope=col>&lt;dbl&gt;</th><th scope=col>&lt;dbl&gt;</th><th scope=col>&lt;dbl&gt;</th><th scope=col>&lt;dbl&gt;</th><th scope=col>&lt;dbl&gt;</th><th scope=col>&lt;dbl&gt;</th><th scope=col>&lt;dbl&gt;</th></tr>\n",
       "</thead>\n",
       "<tbody>\n",
       "\t<tr><th scope=row>158</th><td>2012</td><td>2</td><td> 2.7644</td><td> 8.2353</td><td> 15.8784</td><td> 5.3787</td><td> 8.1633</td><td>  3.0088</td><td>  0.2500</td><td> 6.5466</td><td>...</td><td> 3.0362</td><td>  3.8095</td><td>12.8434</td><td> 9.3409</td><td>  5.3191</td><td>  6.9820</td><td> 2.3061</td><td> 2.3333</td><td>  9.2058</td><td> 3.6697</td></tr>\n",
       "\t<tr><th scope=row>159</th><td>2012</td><td>3</td><td>-8.1287</td><td> 0.0000</td><td> -4.1983</td><td>-9.7917</td><td>-8.4906</td><td>-13.6312</td><td>-16.0848</td><td>-5.4916</td><td>...</td><td>-7.8897</td><td> -9.4801</td><td> 1.3158</td><td>-5.5473</td><td> -8.1818</td><td>-13.4737</td><td>-1.0246</td><td>-2.9316</td><td> -7.2727</td><td>-5.7522</td></tr>\n",
       "\t<tr><th scope=row>160</th><td>2012</td><td>4</td><td> 5.4106</td><td> 8.4541</td><td>  2.3737</td><td>14.4342</td><td>16.8385</td><td>  9.8143</td><td> 13.4473</td><td> 2.4787</td><td>...</td><td> 2.4768</td><td>  7.0946</td><td> 3.4440</td><td>13.2341</td><td>  3.7404</td><td>  4.6229</td><td>-0.8282</td><td> 2.3490</td><td>  8.3779</td><td> 6.3380</td></tr>\n",
       "\t<tr><th scope=row>161</th><td>2012</td><td>5</td><td>-5.2536</td><td> 3.0067</td><td> -9.2152</td><td> 9.4854</td><td>-4.4118</td><td>  0.6643</td><td> -0.1310</td><td> 1.0706</td><td>...</td><td>-4.8338</td><td>  9.4637</td><td> 4.8525</td><td>-6.2241</td><td> -4.2418</td><td> -4.4186</td><td>-6.2630</td><td>-0.6557</td><td> -1.8891</td><td>-6.4018</td></tr>\n",
       "\t<tr><th scope=row>162</th><td>2012</td><td>6</td><td>-3.3779</td><td>-3.6757</td><td> -8.5789</td><td>-7.5576</td><td>-8.3077</td><td>-10.9478</td><td> -5.9672</td><td>16.6040</td><td>...</td><td>-2.5618</td><td> -6.9200</td><td>-4.5654</td><td> 4.4381</td><td>-12.1780</td><td> -5.5961</td><td>-1.2135</td><td>-2.0495</td><td>-12.0339</td><td>-5.6604</td></tr>\n",
       "\t<tr><th scope=row>163</th><td>2012</td><td>7</td><td>-0.3958</td><td> 5.0911</td><td>-16.8056</td><td>-4.2871</td><td>-5.0336</td><td>-21.9939</td><td>-11.4520</td><td>-0.1350</td><td>...</td><td>-2.0994</td><td>-15.8385</td><td>-2.4902</td><td>-0.2126</td><td> -3.3592</td><td> -2.9101</td><td>-5.4762</td><td>-3.1915</td><td>-10.7900</td><td> 1.8135</td></tr>\n",
       "</tbody>\n",
       "</table>\n"
      ],
      "text/latex": [
       "A data.frame: 6 x 151\n",
       "\\begin{tabular}{r|lllllllllllllllllllll}\n",
       "  & year & month & 000001 & 000002 & 000063 & 000157 & 000301 & 000338 & 000425 & 000538 & ... & 601857 & 601872 & 601877 & 601888 & 601898 & 601899 & 601939 & 601988 & 601989 & 601998\\\\\n",
       "  & <int> & <int> & <dbl> & <dbl> & <dbl> & <dbl> & <dbl> & <dbl> & <dbl> & <dbl> & ... & <dbl> & <dbl> & <dbl> & <dbl> & <dbl> & <dbl> & <dbl> & <dbl> & <dbl> & <dbl>\\\\\n",
       "\\hline\n",
       "\t158 & 2012 & 2 &  2.7644 &  8.2353 &  15.8784 &  5.3787 &  8.1633 &   3.0088 &   0.2500 &  6.5466 & ... &  3.0362 &   3.8095 & 12.8434 &  9.3409 &   5.3191 &   6.9820 &  2.3061 &  2.3333 &   9.2058 &  3.6697\\\\\n",
       "\t159 & 2012 & 3 & -8.1287 &  0.0000 &  -4.1983 & -9.7917 & -8.4906 & -13.6312 & -16.0848 & -5.4916 & ... & -7.8897 &  -9.4801 &  1.3158 & -5.5473 &  -8.1818 & -13.4737 & -1.0246 & -2.9316 &  -7.2727 & -5.7522\\\\\n",
       "\t160 & 2012 & 4 &  5.4106 &  8.4541 &   2.3737 & 14.4342 & 16.8385 &   9.8143 &  13.4473 &  2.4787 & ... &  2.4768 &   7.0946 &  3.4440 & 13.2341 &   3.7404 &   4.6229 & -0.8282 &  2.3490 &   8.3779 &  6.3380\\\\\n",
       "\t161 & 2012 & 5 & -5.2536 &  3.0067 &  -9.2152 &  9.4854 & -4.4118 &   0.6643 &  -0.1310 &  1.0706 & ... & -4.8338 &   9.4637 &  4.8525 & -6.2241 &  -4.2418 &  -4.4186 & -6.2630 & -0.6557 &  -1.8891 & -6.4018\\\\\n",
       "\t162 & 2012 & 6 & -3.3779 & -3.6757 &  -8.5789 & -7.5576 & -8.3077 & -10.9478 &  -5.9672 & 16.6040 & ... & -2.5618 &  -6.9200 & -4.5654 &  4.4381 & -12.1780 &  -5.5961 & -1.2135 & -2.0495 & -12.0339 & -5.6604\\\\\n",
       "\t163 & 2012 & 7 & -0.3958 &  5.0911 & -16.8056 & -4.2871 & -5.0336 & -21.9939 & -11.4520 & -0.1350 & ... & -2.0994 & -15.8385 & -2.4902 & -0.2126 &  -3.3592 &  -2.9101 & -5.4762 & -3.1915 & -10.7900 &  1.8135\\\\\n",
       "\\end{tabular}\n"
      ],
      "text/markdown": [
       "\n",
       "A data.frame: 6 x 151\n",
       "\n",
       "| <!--/--> | year &lt;int&gt; | month &lt;int&gt; | 000001 &lt;dbl&gt; | 000002 &lt;dbl&gt; | 000063 &lt;dbl&gt; | 000157 &lt;dbl&gt; | 000301 &lt;dbl&gt; | 000338 &lt;dbl&gt; | 000425 &lt;dbl&gt; | 000538 &lt;dbl&gt; | ... ... | 601857 &lt;dbl&gt; | 601872 &lt;dbl&gt; | 601877 &lt;dbl&gt; | 601888 &lt;dbl&gt; | 601898 &lt;dbl&gt; | 601899 &lt;dbl&gt; | 601939 &lt;dbl&gt; | 601988 &lt;dbl&gt; | 601989 &lt;dbl&gt; | 601998 &lt;dbl&gt; |\n",
       "|---|---|---|---|---|---|---|---|---|---|---|---|---|---|---|---|---|---|---|---|---|---|\n",
       "| 158 | 2012 | 2 |  2.7644 |  8.2353 |  15.8784 |  5.3787 |  8.1633 |   3.0088 |   0.2500 |  6.5466 | ... |  3.0362 |   3.8095 | 12.8434 |  9.3409 |   5.3191 |   6.9820 |  2.3061 |  2.3333 |   9.2058 |  3.6697 |\n",
       "| 159 | 2012 | 3 | -8.1287 |  0.0000 |  -4.1983 | -9.7917 | -8.4906 | -13.6312 | -16.0848 | -5.4916 | ... | -7.8897 |  -9.4801 |  1.3158 | -5.5473 |  -8.1818 | -13.4737 | -1.0246 | -2.9316 |  -7.2727 | -5.7522 |\n",
       "| 160 | 2012 | 4 |  5.4106 |  8.4541 |   2.3737 | 14.4342 | 16.8385 |   9.8143 |  13.4473 |  2.4787 | ... |  2.4768 |   7.0946 |  3.4440 | 13.2341 |   3.7404 |   4.6229 | -0.8282 |  2.3490 |   8.3779 |  6.3380 |\n",
       "| 161 | 2012 | 5 | -5.2536 |  3.0067 |  -9.2152 |  9.4854 | -4.4118 |   0.6643 |  -0.1310 |  1.0706 | ... | -4.8338 |   9.4637 |  4.8525 | -6.2241 |  -4.2418 |  -4.4186 | -6.2630 | -0.6557 |  -1.8891 | -6.4018 |\n",
       "| 162 | 2012 | 6 | -3.3779 | -3.6757 |  -8.5789 | -7.5576 | -8.3077 | -10.9478 |  -5.9672 | 16.6040 | ... | -2.5618 |  -6.9200 | -4.5654 |  4.4381 | -12.1780 |  -5.5961 | -1.2135 | -2.0495 | -12.0339 | -5.6604 |\n",
       "| 163 | 2012 | 7 | -0.3958 |  5.0911 | -16.8056 | -4.2871 | -5.0336 | -21.9939 | -11.4520 | -0.1350 | ... | -2.0994 | -15.8385 | -2.4902 | -0.2126 |  -3.3592 |  -2.9101 | -5.4762 | -3.1915 | -10.7900 |  1.8135 |\n",
       "\n"
      ],
      "text/plain": [
       "    year month 000001  000002  000063   000157  000301  000338   000425  \n",
       "158 2012 2      2.7644  8.2353  15.8784  5.3787  8.1633   3.0088   0.2500\n",
       "159 2012 3     -8.1287  0.0000  -4.1983 -9.7917 -8.4906 -13.6312 -16.0848\n",
       "160 2012 4      5.4106  8.4541   2.3737 14.4342 16.8385   9.8143  13.4473\n",
       "161 2012 5     -5.2536  3.0067  -9.2152  9.4854 -4.4118   0.6643  -0.1310\n",
       "162 2012 6     -3.3779 -3.6757  -8.5789 -7.5576 -8.3077 -10.9478  -5.9672\n",
       "163 2012 7     -0.3958  5.0911 -16.8056 -4.2871 -5.0336 -21.9939 -11.4520\n",
       "    000538  ... 601857  601872   601877  601888  601898   601899   601939 \n",
       "158  6.5466 ...  3.0362   3.8095 12.8434  9.3409   5.3191   6.9820  2.3061\n",
       "159 -5.4916 ... -7.8897  -9.4801  1.3158 -5.5473  -8.1818 -13.4737 -1.0246\n",
       "160  2.4787 ...  2.4768   7.0946  3.4440 13.2341   3.7404   4.6229 -0.8282\n",
       "161  1.0706 ... -4.8338   9.4637  4.8525 -6.2241  -4.2418  -4.4186 -6.2630\n",
       "162 16.6040 ... -2.5618  -6.9200 -4.5654  4.4381 -12.1780  -5.5961 -1.2135\n",
       "163 -0.1350 ... -2.0994 -15.8385 -2.4902 -0.2126  -3.3592  -2.9101 -5.4762\n",
       "    601988  601989   601998 \n",
       "158  2.3333   9.2058  3.6697\n",
       "159 -2.9316  -7.2727 -5.7522\n",
       "160  2.3490   8.3779  6.3380\n",
       "161 -0.6557  -1.8891 -6.4018\n",
       "162 -2.0495 -12.0339 -5.6604\n",
       "163 -3.1915 -10.7900  1.8135"
      ]
     },
     "metadata": {},
     "output_type": "display_data"
    }
   ],
   "source": [
    "# Create a copy of the stock dataframe\n",
    "stock_filtered <- stock\n",
    "\n",
    "# Make sure data is ordered by year and month\n",
    "stock_filtered <- stock_filtered[order(stock_filtered$year, stock_filtered$month),]\n",
    "\n",
    "# Initialize counters for reporting\n",
    "total_outliers <- 0\n",
    "total_na_replacements <- 0\n",
    "outliers_by_stock <- numeric(length(stock_id))\n",
    "names(outliers_by_stock) <- stock_id\n",
    "\n",
    "# Function to handle outliers with various methods\n",
    "replace_outliers <- function(x, method = \"interp\") {\n",
    "    # Create a copy of the vector with identified outlier positions as NA\n",
    "    x_replaced <- x\n",
    "    \n",
    "    # Skip if no NA values (no outliers to replace)\n",
    "    if (!any(is.na(x_replaced))) return(x_replaced)\n",
    "    \n",
    "    # Apply chosen replacement method\n",
    "    if (method == \"interp\") {\n",
    "        # Linear interpolation\n",
    "        na_idx <- which(is.na(x_replaced))\n",
    "        for (idx in na_idx) {\n",
    "            # Find nearest non-NA values before and after\n",
    "            before_idx <- idx - 1\n",
    "            while(before_idx > 0 && is.na(x_replaced[before_idx])) before_idx <- before_idx - 1\n",
    "            \n",
    "            after_idx <- idx + 1\n",
    "            while(after_idx <= length(x_replaced) && is.na(x_replaced[after_idx])) after_idx <- after_idx + 1\n",
    "            \n",
    "            # Interpolate if both bounds exist\n",
    "            if (before_idx > 0 && after_idx <= length(x_replaced)) {\n",
    "                x_replaced[idx] <- x_replaced[before_idx] + \n",
    "                    (x_replaced[after_idx] - x_replaced[before_idx]) * \n",
    "                    (idx - before_idx) / (after_idx - before_idx)\n",
    "            } else if (before_idx > 0) {\n",
    "                # If only before exists, use that value\n",
    "                x_replaced[idx] <- x_replaced[before_idx]\n",
    "            } else if (after_idx <= length(x_replaced)) {\n",
    "                # If only after exists, use that value\n",
    "                x_replaced[idx] <- x_replaced[after_idx]\n",
    "            } else {\n",
    "                # Fallback to zero if no reference points\n",
    "                x_replaced[idx] <- 0\n",
    "            }\n",
    "        }\n",
    "    } else if (method == \"median\") {\n",
    "        # Replace with rolling median (window of 5 months)\n",
    "        window_size <- 5\n",
    "        na_idx <- which(is.na(x_replaced))\n",
    "        for (idx in na_idx) {\n",
    "            # Define window bounds\n",
    "            start <- max(1, idx - floor(window_size/2))\n",
    "            end <- min(length(x), idx + floor(window_size/2))\n",
    "            \n",
    "            # Get values in window excluding the current NA\n",
    "            window_values <- x[start:end]\n",
    "            window_values <- window_values[!is.na(window_values)]\n",
    "            \n",
    "            if (length(window_values) > 0) {\n",
    "                x_replaced[idx] <- median(window_values)\n",
    "            } else {\n",
    "                x_replaced[idx] <- 0 # Fallback if all window values are NA\n",
    "            }\n",
    "        }\n",
    "    } else if (method == \"zero\") {\n",
    "        # Simple zero replacement\n",
    "        x_replaced[is.na(x_replaced)] <- 0\n",
    "    }\n",
    "    \n",
    "    return(x_replaced)\n",
    "}\n",
    "\n",
    "# Clean each return series\n",
    "for (id in stock_id) {\n",
    "    # Use rolling window for adaptive outlier detection\n",
    "    window_size <- 12 # 12-month rolling window (adjusted from 20 days)\n",
    "    n <- length(stock_filtered[,id])\n",
    "    \n",
    "    for (i in window_size:n) {\n",
    "        # Define the rolling window\n",
    "        window_start <- i - window_size + 1\n",
    "        window_data <- stock_filtered[window_start:i, id]\n",
    "        current_value <- window_data[window_size]\n",
    "        \n",
    "        # Skip if the current value is NA\n",
    "        if (is.na(current_value)) next\n",
    "        \n",
    "        # Calculate robust statistics from the window (excluding current point)\n",
    "        window_prev <- window_data[-window_size]\n",
    "        window_median <- median(window_prev, na.rm = TRUE)\n",
    "        window_mad <- mad(window_prev, na.rm = TRUE)\n",
    "        \n",
    "        # Skip if median or MAD is NA or MAD is 0 (no variability)\n",
    "        if (is.na(window_median) || is.na(window_mad) || window_mad == 0) next\n",
    "        \n",
    "        # Use median absolute deviation (MAD) for robust outlier detection\n",
    "        mad_threshold <- 5 # 5 MADs is a common threshold for extreme outliers\n",
    "        \n",
    "        # Check if the current value is an outlier\n",
    "        if (abs(current_value - window_median) > mad_threshold * window_mad) {\n",
    "            # Mark as outlier\n",
    "            stock_filtered[i, id] <- NA\n",
    "            outliers_by_stock[id] <- outliers_by_stock[id] + 1\n",
    "            total_outliers <- total_outliers + 1\n",
    "        }\n",
    "    }\n",
    "    \n",
    "    # Replace outliers and NAs with chosen method\n",
    "    if (any(is.na(stock_filtered[,id]))) {\n",
    "        na_count_before <- sum(is.na(stock_filtered[,id]))\n",
    "        stock_filtered[,id] <- replace_outliers(stock_filtered[,id], method = \"interp\")\n",
    "        na_count_after <- sum(is.na(stock_filtered[,id]))\n",
    "        total_na_replacements <- total_na_replacements + (na_count_before - na_count_after)\n",
    "    }\n",
    "}\n",
    "\n",
    "# Print report\n",
    "cat(\"Extreme Value Removal Report:\\n\")\n",
    "cat(\"----------------------------\\n\")\n",
    "cat(\"Total outliers identified and removed:\", total_outliers, \"\\n\")\n",
    "cat(\"Total missing values replaced:\", total_na_replacements, \"\\n\\n\")\n",
    "\n",
    "# Print stocks with the most outliers\n",
    "if (total_outliers > 0) {\n",
    "    cat(\"Stocks with outliers:\\n\")\n",
    "    for (id in stock_id) {\n",
    "        if (outliers_by_stock[id] > 0) {\n",
    "            cat(\"  -\", id, \":\", outliers_by_stock[id], \"outliers\\n\")\n",
    "        }\n",
    "    }\n",
    "}\n",
    "\n",
    "# Use the cleaned data for further analysis\n",
    "stock <- stock_filtered\n",
    "\n",
    "head(stock)"
   ]
  },
  {
   "cell_type": "markdown",
   "id": "baf45e74",
   "metadata": {},
   "source": [
    "- Detrend the return series using HP filter"
   ]
  },
  {
   "cell_type": "code",
   "execution_count": 37,
   "id": "4d8505ab",
   "metadata": {
    "vscode": {
     "languageId": "r"
    }
   },
   "outputs": [
    {
     "data": {
      "text/html": [
       "<table class=\"dataframe\">\n",
       "<caption>A data.frame: 6 x 151</caption>\n",
       "<thead>\n",
       "\t<tr><th></th><th scope=col>year</th><th scope=col>month</th><th scope=col>000001</th><th scope=col>000002</th><th scope=col>000063</th><th scope=col>000157</th><th scope=col>000301</th><th scope=col>000338</th><th scope=col>000425</th><th scope=col>000538</th><th scope=col>...</th><th scope=col>601857</th><th scope=col>601872</th><th scope=col>601877</th><th scope=col>601888</th><th scope=col>601898</th><th scope=col>601899</th><th scope=col>601939</th><th scope=col>601988</th><th scope=col>601989</th><th scope=col>601998</th></tr>\n",
       "\t<tr><th></th><th scope=col>&lt;int&gt;</th><th scope=col>&lt;int&gt;</th><th scope=col>&lt;dbl&gt;</th><th scope=col>&lt;dbl&gt;</th><th scope=col>&lt;dbl&gt;</th><th scope=col>&lt;dbl&gt;</th><th scope=col>&lt;dbl&gt;</th><th scope=col>&lt;dbl&gt;</th><th scope=col>&lt;dbl&gt;</th><th scope=col>&lt;dbl&gt;</th><th scope=col>...</th><th scope=col>&lt;dbl&gt;</th><th scope=col>&lt;dbl&gt;</th><th scope=col>&lt;dbl&gt;</th><th scope=col>&lt;dbl&gt;</th><th scope=col>&lt;dbl&gt;</th><th scope=col>&lt;dbl&gt;</th><th scope=col>&lt;dbl&gt;</th><th scope=col>&lt;dbl&gt;</th><th scope=col>&lt;dbl&gt;</th><th scope=col>&lt;dbl&gt;</th></tr>\n",
       "</thead>\n",
       "<tbody>\n",
       "\t<tr><th scope=row>1</th><td>2012</td><td>2</td><td> 3.2075184</td><td> 6.0110196</td><td> 17.045077</td><td> 5.877316</td><td> 7.609275</td><td>  5.297172</td><td>  3.711529</td><td> 2.487938</td><td>...</td><td> 4.265861</td><td>  5.763643</td><td> 8.989856</td><td> 7.283536</td><td>  7.451812</td><td>  9.5223321</td><td> 2.6446295</td><td> 2.4303511</td><td>  9.657070</td><td> 4.213759</td></tr>\n",
       "\t<tr><th scope=row>2</th><td>2012</td><td>3</td><td>-7.8148122</td><td>-2.1636423</td><td> -3.165317</td><td>-9.204487</td><td>-9.065980</td><td>-11.462619</td><td>-12.743277</td><td>-9.453418</td><td>...</td><td>-6.719224</td><td> -7.674583</td><td>-2.482267</td><td>-7.535515</td><td> -6.146122</td><td>-11.0171053</td><td>-0.7274828</td><td>-2.8659252</td><td> -6.901088</td><td>-5.254250</td></tr>\n",
       "\t<tr><th scope=row>3</th><td>2012</td><td>4</td><td> 5.5950344</td><td> 6.3506784</td><td>  3.271805</td><td>15.109602</td><td>16.241236</td><td> 11.862722</td><td> 16.668559</td><td>-1.386447</td><td>...</td><td> 3.587794</td><td>  8.751090</td><td>-0.299214</td><td>11.314528</td><td>  5.678526</td><td>  6.9950960</td><td>-0.5726787</td><td> 2.3831298</td><td>  8.669184</td><td> 6.789548</td></tr>\n",
       "\t<tr><th scope=row>4</th><td>2012</td><td>5</td><td>-5.1985218</td><td> 0.9628145</td><td> -8.454121</td><td>10.248813</td><td>-5.031375</td><td>  2.592623</td><td>  2.970365</td><td>-2.697566</td><td>...</td><td>-3.782414</td><td> 10.970896</td><td> 1.163063</td><td>-8.075517</td><td> -2.401834</td><td> -2.1313602</td><td>-6.0493914</td><td>-0.6532538</td><td> -1.679006</td><td>-5.996874</td></tr>\n",
       "\t<tr><th scope=row>5</th><td>2012</td><td>6</td><td>-3.4521493</td><td>-5.6614423</td><td> -7.958186</td><td>-6.707170</td><td>-8.951040</td><td> -9.139911</td><td> -2.985890</td><td>12.933707</td><td>...</td><td>-1.570226</td><td> -5.562841</td><td>-8.202568</td><td> 2.653582</td><td>-10.437286</td><td> -3.3947558</td><td>-1.0422143</td><td>-2.0790111</td><td>-11.906652</td><td>-5.302716</td></tr>\n",
       "\t<tr><th scope=row>6</th><td>2012</td><td>7</td><td>-0.5990559</td><td> 3.1613331</td><td>-16.329193</td><td>-3.352179</td><td>-5.702836</td><td>-20.307356</td><td> -8.591643</td><td>-3.705762</td><td>...</td><td>-1.167659</td><td>-14.633358</td><td>-6.077117</td><td>-1.931683</td><td> -1.719151</td><td> -0.7958247</td><td>-5.3473206</td><td>-3.2533321</td><td>-10.747929</td><td> 2.123340</td></tr>\n",
       "</tbody>\n",
       "</table>\n"
      ],
      "text/latex": [
       "A data.frame: 6 x 151\n",
       "\\begin{tabular}{r|lllllllllllllllllllll}\n",
       "  & year & month & 000001 & 000002 & 000063 & 000157 & 000301 & 000338 & 000425 & 000538 & ... & 601857 & 601872 & 601877 & 601888 & 601898 & 601899 & 601939 & 601988 & 601989 & 601998\\\\\n",
       "  & <int> & <int> & <dbl> & <dbl> & <dbl> & <dbl> & <dbl> & <dbl> & <dbl> & <dbl> & ... & <dbl> & <dbl> & <dbl> & <dbl> & <dbl> & <dbl> & <dbl> & <dbl> & <dbl> & <dbl>\\\\\n",
       "\\hline\n",
       "\t1 & 2012 & 2 &  3.2075184 &  6.0110196 &  17.045077 &  5.877316 &  7.609275 &   5.297172 &   3.711529 &  2.487938 & ... &  4.265861 &   5.763643 &  8.989856 &  7.283536 &   7.451812 &   9.5223321 &  2.6446295 &  2.4303511 &   9.657070 &  4.213759\\\\\n",
       "\t2 & 2012 & 3 & -7.8148122 & -2.1636423 &  -3.165317 & -9.204487 & -9.065980 & -11.462619 & -12.743277 & -9.453418 & ... & -6.719224 &  -7.674583 & -2.482267 & -7.535515 &  -6.146122 & -11.0171053 & -0.7274828 & -2.8659252 &  -6.901088 & -5.254250\\\\\n",
       "\t3 & 2012 & 4 &  5.5950344 &  6.3506784 &   3.271805 & 15.109602 & 16.241236 &  11.862722 &  16.668559 & -1.386447 & ... &  3.587794 &   8.751090 & -0.299214 & 11.314528 &   5.678526 &   6.9950960 & -0.5726787 &  2.3831298 &   8.669184 &  6.789548\\\\\n",
       "\t4 & 2012 & 5 & -5.1985218 &  0.9628145 &  -8.454121 & 10.248813 & -5.031375 &   2.592623 &   2.970365 & -2.697566 & ... & -3.782414 &  10.970896 &  1.163063 & -8.075517 &  -2.401834 &  -2.1313602 & -6.0493914 & -0.6532538 &  -1.679006 & -5.996874\\\\\n",
       "\t5 & 2012 & 6 & -3.4521493 & -5.6614423 &  -7.958186 & -6.707170 & -8.951040 &  -9.139911 &  -2.985890 & 12.933707 & ... & -1.570226 &  -5.562841 & -8.202568 &  2.653582 & -10.437286 &  -3.3947558 & -1.0422143 & -2.0790111 & -11.906652 & -5.302716\\\\\n",
       "\t6 & 2012 & 7 & -0.5990559 &  3.1613331 & -16.329193 & -3.352179 & -5.702836 & -20.307356 &  -8.591643 & -3.705762 & ... & -1.167659 & -14.633358 & -6.077117 & -1.931683 &  -1.719151 &  -0.7958247 & -5.3473206 & -3.2533321 & -10.747929 &  2.123340\\\\\n",
       "\\end{tabular}\n"
      ],
      "text/markdown": [
       "\n",
       "A data.frame: 6 x 151\n",
       "\n",
       "| <!--/--> | year &lt;int&gt; | month &lt;int&gt; | 000001 &lt;dbl&gt; | 000002 &lt;dbl&gt; | 000063 &lt;dbl&gt; | 000157 &lt;dbl&gt; | 000301 &lt;dbl&gt; | 000338 &lt;dbl&gt; | 000425 &lt;dbl&gt; | 000538 &lt;dbl&gt; | ... ... | 601857 &lt;dbl&gt; | 601872 &lt;dbl&gt; | 601877 &lt;dbl&gt; | 601888 &lt;dbl&gt; | 601898 &lt;dbl&gt; | 601899 &lt;dbl&gt; | 601939 &lt;dbl&gt; | 601988 &lt;dbl&gt; | 601989 &lt;dbl&gt; | 601998 &lt;dbl&gt; |\n",
       "|---|---|---|---|---|---|---|---|---|---|---|---|---|---|---|---|---|---|---|---|---|---|\n",
       "| 1 | 2012 | 2 |  3.2075184 |  6.0110196 |  17.045077 |  5.877316 |  7.609275 |   5.297172 |   3.711529 |  2.487938 | ... |  4.265861 |   5.763643 |  8.989856 |  7.283536 |   7.451812 |   9.5223321 |  2.6446295 |  2.4303511 |   9.657070 |  4.213759 |\n",
       "| 2 | 2012 | 3 | -7.8148122 | -2.1636423 |  -3.165317 | -9.204487 | -9.065980 | -11.462619 | -12.743277 | -9.453418 | ... | -6.719224 |  -7.674583 | -2.482267 | -7.535515 |  -6.146122 | -11.0171053 | -0.7274828 | -2.8659252 |  -6.901088 | -5.254250 |\n",
       "| 3 | 2012 | 4 |  5.5950344 |  6.3506784 |   3.271805 | 15.109602 | 16.241236 |  11.862722 |  16.668559 | -1.386447 | ... |  3.587794 |   8.751090 | -0.299214 | 11.314528 |   5.678526 |   6.9950960 | -0.5726787 |  2.3831298 |   8.669184 |  6.789548 |\n",
       "| 4 | 2012 | 5 | -5.1985218 |  0.9628145 |  -8.454121 | 10.248813 | -5.031375 |   2.592623 |   2.970365 | -2.697566 | ... | -3.782414 |  10.970896 |  1.163063 | -8.075517 |  -2.401834 |  -2.1313602 | -6.0493914 | -0.6532538 |  -1.679006 | -5.996874 |\n",
       "| 5 | 2012 | 6 | -3.4521493 | -5.6614423 |  -7.958186 | -6.707170 | -8.951040 |  -9.139911 |  -2.985890 | 12.933707 | ... | -1.570226 |  -5.562841 | -8.202568 |  2.653582 | -10.437286 |  -3.3947558 | -1.0422143 | -2.0790111 | -11.906652 | -5.302716 |\n",
       "| 6 | 2012 | 7 | -0.5990559 |  3.1613331 | -16.329193 | -3.352179 | -5.702836 | -20.307356 |  -8.591643 | -3.705762 | ... | -1.167659 | -14.633358 | -6.077117 | -1.931683 |  -1.719151 |  -0.7958247 | -5.3473206 | -3.2533321 | -10.747929 |  2.123340 |\n",
       "\n"
      ],
      "text/plain": [
       "  year month 000001     000002     000063     000157    000301    000338    \n",
       "1 2012 2      3.2075184  6.0110196  17.045077  5.877316  7.609275   5.297172\n",
       "2 2012 3     -7.8148122 -2.1636423  -3.165317 -9.204487 -9.065980 -11.462619\n",
       "3 2012 4      5.5950344  6.3506784   3.271805 15.109602 16.241236  11.862722\n",
       "4 2012 5     -5.1985218  0.9628145  -8.454121 10.248813 -5.031375   2.592623\n",
       "5 2012 6     -3.4521493 -5.6614423  -7.958186 -6.707170 -8.951040  -9.139911\n",
       "6 2012 7     -0.5990559  3.1613331 -16.329193 -3.352179 -5.702836 -20.307356\n",
       "  000425     000538    ... 601857    601872     601877    601888    601898    \n",
       "1   3.711529  2.487938 ...  4.265861   5.763643  8.989856  7.283536   7.451812\n",
       "2 -12.743277 -9.453418 ... -6.719224  -7.674583 -2.482267 -7.535515  -6.146122\n",
       "3  16.668559 -1.386447 ...  3.587794   8.751090 -0.299214 11.314528   5.678526\n",
       "4   2.970365 -2.697566 ... -3.782414  10.970896  1.163063 -8.075517  -2.401834\n",
       "5  -2.985890 12.933707 ... -1.570226  -5.562841 -8.202568  2.653582 -10.437286\n",
       "6  -8.591643 -3.705762 ... -1.167659 -14.633358 -6.077117 -1.931683  -1.719151\n",
       "  601899      601939     601988     601989     601998   \n",
       "1   9.5223321  2.6446295  2.4303511   9.657070  4.213759\n",
       "2 -11.0171053 -0.7274828 -2.8659252  -6.901088 -5.254250\n",
       "3   6.9950960 -0.5726787  2.3831298   8.669184  6.789548\n",
       "4  -2.1313602 -6.0493914 -0.6532538  -1.679006 -5.996874\n",
       "5  -3.3947558 -1.0422143 -2.0790111 -11.906652 -5.302716\n",
       "6  -0.7958247 -5.3473206 -3.2533321 -10.747929  2.123340"
      ]
     },
     "metadata": {},
     "output_type": "display_data"
    }
   ],
   "source": [
    "library(mFilter)\n",
    "\n",
    "# Create a new dataframe to store the cyclical components with year and month\n",
    "cycle <- data.frame(year = stock$year, month = stock$month)\n",
    "\n",
    "# Ensure the data is sorted chronologically\n",
    "cycle <- cycle[order(cycle$year, cycle$month), ]\n",
    "\n",
    "# Apply HP filter to each stock return series and extract the cyclical component\n",
    "for (id in stock_id) {\n",
    "    # Apply HP filter with lambda=14400 (commonly used for monthly financial data)\n",
    "    hp_filter <- hpfilter(stock[,id], freq=14400)\n",
    "    \n",
    "    # Extract the cyclical component and add to cycle dataframe\n",
    "    cycle[,id] <- hp_filter$cycle\n",
    "}\n",
    "\n",
    "# Display the first few rows of the cycle dataframe\n",
    "head(cycle)"
   ]
  },
  {
   "cell_type": "markdown",
   "id": "a770b844",
   "metadata": {},
   "source": [
    "### VIX\n",
    "\n",
    "> Daily, close value of the day"
   ]
  },
  {
   "cell_type": "code",
   "execution_count": 38,
   "id": "4ee71ab4",
   "metadata": {
    "vscode": {
     "languageId": "r"
    }
   },
   "outputs": [
    {
     "name": "stdout",
     "output_type": "stream",
     "text": [
      "Found 3981 missing dates in VIX time series\n",
      "VIX data now has 12890 daily observations with no gaps\n"
     ]
    },
    {
     "data": {
      "text/html": [
       "<table class=\"dataframe\">\n",
       "<caption>A data.frame: 6 x 2</caption>\n",
       "<thead>\n",
       "\t<tr><th></th><th scope=col>date</th><th scope=col>close</th></tr>\n",
       "\t<tr><th></th><th scope=col>&lt;date&gt;</th><th scope=col>&lt;dbl&gt;</th></tr>\n",
       "</thead>\n",
       "<tbody>\n",
       "\t<tr><th scope=row>1</th><td>1990-01-02</td><td>17.24</td></tr>\n",
       "\t<tr><th scope=row>2</th><td>1990-01-03</td><td>18.19</td></tr>\n",
       "\t<tr><th scope=row>3</th><td>1990-01-04</td><td>19.22</td></tr>\n",
       "\t<tr><th scope=row>4</th><td>1990-01-05</td><td>20.11</td></tr>\n",
       "\t<tr><th scope=row>5</th><td>1990-01-06</td><td>20.16</td></tr>\n",
       "\t<tr><th scope=row>6</th><td>1990-01-07</td><td>20.21</td></tr>\n",
       "</tbody>\n",
       "</table>\n"
      ],
      "text/latex": [
       "A data.frame: 6 x 2\n",
       "\\begin{tabular}{r|ll}\n",
       "  & date & close\\\\\n",
       "  & <date> & <dbl>\\\\\n",
       "\\hline\n",
       "\t1 & 1990-01-02 & 17.24\\\\\n",
       "\t2 & 1990-01-03 & 18.19\\\\\n",
       "\t3 & 1990-01-04 & 19.22\\\\\n",
       "\t4 & 1990-01-05 & 20.11\\\\\n",
       "\t5 & 1990-01-06 & 20.16\\\\\n",
       "\t6 & 1990-01-07 & 20.21\\\\\n",
       "\\end{tabular}\n"
      ],
      "text/markdown": [
       "\n",
       "A data.frame: 6 x 2\n",
       "\n",
       "| <!--/--> | date &lt;date&gt; | close &lt;dbl&gt; |\n",
       "|---|---|---|\n",
       "| 1 | 1990-01-02 | 17.24 |\n",
       "| 2 | 1990-01-03 | 18.19 |\n",
       "| 3 | 1990-01-04 | 19.22 |\n",
       "| 4 | 1990-01-05 | 20.11 |\n",
       "| 5 | 1990-01-06 | 20.16 |\n",
       "| 6 | 1990-01-07 | 20.21 |\n",
       "\n"
      ],
      "text/plain": [
       "  date       close\n",
       "1 1990-01-02 17.24\n",
       "2 1990-01-03 18.19\n",
       "3 1990-01-04 19.22\n",
       "4 1990-01-05 20.11\n",
       "5 1990-01-06 20.16\n",
       "6 1990-01-07 20.21"
      ]
     },
     "metadata": {},
     "output_type": "display_data"
    }
   ],
   "source": [
    "# Read the VIX data using read.csv\n",
    "vix <- read.csv(\"vix.csv\", header = TRUE, stringsAsFactors = FALSE, check.names = FALSE)\n",
    "\n",
    "# Convert date column to Date format using base R syntax\n",
    "vix$date <- as.Date(vix$date, format = \"%m/%d/%Y\")\n",
    "\n",
    "# Filter to keep only date and close columns\n",
    "vix <- vix[, c(\"date\", \"close\")]\n",
    "\n",
    "# Sort data by date to ensure chronological order\n",
    "vix <- vix[order(vix$date), ]\n",
    "\n",
    "# Identify gaps in the time series\n",
    "date_range <- range(vix$date)\n",
    "complete_dates <- seq(date_range[1], date_range[2], by = \"day\")\n",
    "missing_dates <- complete_dates[!complete_dates %in% vix$date]\n",
    "\n",
    "# Report missing dates\n",
    "cat(\"Found\", length(missing_dates), \"missing dates in VIX time series\\n\")\n",
    "\n",
    "# Create a complete dataframe with all dates\n",
    "complete_vix <- data.frame(date = complete_dates)\n",
    "\n",
    "# Merge with actual data, which will result in NA for missing dates\n",
    "vix_filled <- merge(complete_vix, vix, by = \"date\", all.x = TRUE)\n",
    "\n",
    "# Fill missing values using linear interpolation\n",
    "library(zoo)\n",
    "vix_filled$close <- na.approx(vix_filled$close, na.rm = FALSE)\n",
    "\n",
    "# Handle any remaining NAs at the beginning or end \n",
    "# that couldn't be interpolated\n",
    "if (any(is.na(vix_filled$close))) {\n",
    "    # Fill NAs at beginning with next observation\n",
    "    vix_filled$close <- na.locf(vix_filled$close, fromLast = TRUE, na.rm = FALSE)\n",
    "    \n",
    "    # Fill NAs at end with last observation\n",
    "    vix_filled$close <- na.locf(vix_filled$close, na.rm = FALSE)\n",
    "    \n",
    "    cat(\"Filled remaining edge values using last/next observation carrying\\n\")\n",
    "}\n",
    "\n",
    "# Update the vix dataframe\n",
    "vix <- vix_filled\n",
    "\n",
    "# Quick summary\n",
    "cat(\"VIX data now has\", nrow(vix), \"daily observations with no gaps\\n\")\n",
    "\n",
    "# Display the first few rows of the filtered VIX data\n",
    "head(vix)"
   ]
  },
  {
   "cell_type": "markdown",
   "id": "e0519082",
   "metadata": {},
   "source": [
    "### GFCF\n",
    "\n",
    "> Monthly, Global Financial Cycle Factor, Common factor across world risky asset prices as in Miranda-Agrippino and Rey (2020), *\"US Monetary Policy and the Global Financial Cycle\"*"
   ]
  },
  {
   "cell_type": "code",
   "execution_count": 39,
   "id": "af7554c5",
   "metadata": {
    "vscode": {
     "languageId": "r"
    }
   },
   "outputs": [
    {
     "name": "stdout",
     "output_type": "stream",
     "text": [
      "No gaps detected in the GFCF year-month sequence\n",
      "Missing values after filling: 0 \n",
      "\n",
      "GFCF data summary:\n"
     ]
    },
    {
     "data": {
      "text/plain": [
       "   Min. 1st Qu.  Median    Mean 3rd Qu.    Max. \n",
       "-2.9187 -0.6181 -0.1932  0.0000  0.6341  2.5922 "
      ]
     },
     "metadata": {},
     "output_type": "display_data"
    },
    {
     "data": {
      "text/html": [
       "<table class=\"dataframe\">\n",
       "<caption>A data.frame: 6 x 3</caption>\n",
       "<thead>\n",
       "\t<tr><th></th><th scope=col>year</th><th scope=col>month</th><th scope=col>gfcf</th></tr>\n",
       "\t<tr><th></th><th scope=col>&lt;int&gt;</th><th scope=col>&lt;int&gt;</th><th scope=col>&lt;dbl&gt;</th></tr>\n",
       "</thead>\n",
       "<tbody>\n",
       "\t<tr><th scope=row>4</th><td>1980</td><td>2</td><td>-1.1689039</td></tr>\n",
       "\t<tr><th scope=row>5</th><td>1980</td><td>3</td><td>-1.7800666</td></tr>\n",
       "\t<tr><th scope=row>6</th><td>1980</td><td>4</td><td>-1.7658765</td></tr>\n",
       "\t<tr><th scope=row>7</th><td>1980</td><td>5</td><td>-1.5713119</td></tr>\n",
       "\t<tr><th scope=row>8</th><td>1980</td><td>6</td><td>-1.3698628</td></tr>\n",
       "\t<tr><th scope=row>9</th><td>1980</td><td>7</td><td>-0.9472969</td></tr>\n",
       "</tbody>\n",
       "</table>\n"
      ],
      "text/latex": [
       "A data.frame: 6 x 3\n",
       "\\begin{tabular}{r|lll}\n",
       "  & year & month & gfcf\\\\\n",
       "  & <int> & <int> & <dbl>\\\\\n",
       "\\hline\n",
       "\t4 & 1980 & 2 & -1.1689039\\\\\n",
       "\t5 & 1980 & 3 & -1.7800666\\\\\n",
       "\t6 & 1980 & 4 & -1.7658765\\\\\n",
       "\t7 & 1980 & 5 & -1.5713119\\\\\n",
       "\t8 & 1980 & 6 & -1.3698628\\\\\n",
       "\t9 & 1980 & 7 & -0.9472969\\\\\n",
       "\\end{tabular}\n"
      ],
      "text/markdown": [
       "\n",
       "A data.frame: 6 x 3\n",
       "\n",
       "| <!--/--> | year &lt;int&gt; | month &lt;int&gt; | gfcf &lt;dbl&gt; |\n",
       "|---|---|---|---|\n",
       "| 4 | 1980 | 2 | -1.1689039 |\n",
       "| 5 | 1980 | 3 | -1.7800666 |\n",
       "| 6 | 1980 | 4 | -1.7658765 |\n",
       "| 7 | 1980 | 5 | -1.5713119 |\n",
       "| 8 | 1980 | 6 | -1.3698628 |\n",
       "| 9 | 1980 | 7 | -0.9472969 |\n",
       "\n"
      ],
      "text/plain": [
       "  year month gfcf      \n",
       "4 1980 2     -1.1689039\n",
       "5 1980 3     -1.7800666\n",
       "6 1980 4     -1.7658765\n",
       "7 1980 5     -1.5713119\n",
       "8 1980 6     -1.3698628\n",
       "9 1980 7     -0.9472969"
      ]
     },
     "metadata": {},
     "output_type": "display_data"
    }
   ],
   "source": [
    "# Read the GFCF data\n",
    "gfcf <- read.csv(\"gfcf.csv\", header = TRUE, stringsAsFactors = FALSE, colClasses = c(year = \"integer\", month = \"integer\"))\n",
    "\n",
    "# Sort by date to ensure chronological order\n",
    "gfcf <- gfcf[order(gfcf$year, gfcf$month), ]\n",
    "\n",
    "# Check for gaps in year-month sequence\n",
    "min_year <- min(gfcf$year)\n",
    "max_year <- max(gfcf$year)\n",
    "min_month <- min(gfcf$month[gfcf$year == min_year])\n",
    "max_month <- max(gfcf$month[gfcf$year == max_year])\n",
    "\n",
    "# Create complete sequence of year-month combinations\n",
    "all_dates <- expand.grid(\n",
    "    year = min_year:max_year,\n",
    "    month = 1:12\n",
    ")\n",
    "all_dates <- all_dates[\n",
    "    (all_dates$year > min_year | all_dates$month >= min_month) &\n",
    "    (all_dates$year < max_year | all_dates$month <= max_month),\n",
    "]\n",
    "all_dates <- all_dates[order(all_dates$year, all_dates$month), ]\n",
    "\n",
    "# Merge with actual data to identify gaps\n",
    "complete_gfcf <- merge(all_dates, gfcf, by = c(\"year\", \"month\"), all.x = TRUE)\n",
    "\n",
    "# Check for missing values after merge\n",
    "missing_count <- sum(is.na(complete_gfcf$gfcf))\n",
    "\n",
    "if (missing_count > 0) {\n",
    "    cat(\"Found\", missing_count, \"missing year-month combinations in the GFCF time series\\n\")\n",
    "    \n",
    "    # Fill missing values using interpolation\n",
    "    library(zoo)\n",
    "    \n",
    "    # Create a time index for interpolation (decimal year)\n",
    "    complete_gfcf$time_idx <- complete_gfcf$year + (complete_gfcf$month - 1) / 12\n",
    "    \n",
    "    # Interpolate missing values\n",
    "    complete_gfcf$gfcf <- na.approx(complete_gfcf$gfcf, x = complete_gfcf$time_idx, na.rm = FALSE)\n",
    "    \n",
    "    # Fill any remaining NAs at the beginning or end\n",
    "    complete_gfcf$gfcf <- na.locf(complete_gfcf$gfcf, fromLast = TRUE, na.rm = FALSE)\n",
    "    complete_gfcf$gfcf <- na.locf(complete_gfcf$gfcf, na.rm = FALSE)\n",
    "    \n",
    "    # Remove the time index column (was just for interpolation)\n",
    "    complete_gfcf$time_idx <- NULL\n",
    "} else {\n",
    "    cat(\"No gaps detected in the GFCF year-month sequence\\n\")\n",
    "}\n",
    "\n",
    "# Update the gfcf dataframe\n",
    "gfcf <- complete_gfcf[order(complete_gfcf$year, complete_gfcf$month), ]\n",
    "\n",
    "# Verify no more missing values\n",
    "final_missing <- sum(is.na(gfcf$gfcf))\n",
    "cat(\"Missing values after filling:\", final_missing, \"\\n\")\n",
    "\n",
    "# Display summary statistics\n",
    "cat(\"\\nGFCF data summary:\\n\")\n",
    "summary(gfcf$gfcf)\n",
    "\n",
    "# Display the first few rows\n",
    "head(gfcf)"
   ]
  },
  {
   "cell_type": "markdown",
   "id": "deff0b40",
   "metadata": {},
   "source": [
    "### Control\n",
    "\n",
    "> Quarterly, quarter-end month observation"
   ]
  },
  {
   "cell_type": "markdown",
   "id": "9bfd7de2",
   "metadata": {},
   "source": [
    "#### Micro"
   ]
  },
  {
   "cell_type": "markdown",
   "id": "7555de57",
   "metadata": {},
   "source": [
    "- Read the micro part of control variable and balance the panel\n",
    "\n",
    "- Dataset has already received the following cleansing before input:\n",
    "  1. Removed:\n",
    "     - stocks from the financial sector\n",
    "     - stocks incurred ST/ST*/PT during observation period\n",
    "  2. Winsorized: 5% on both ends"
   ]
  },
  {
   "cell_type": "code",
   "execution_count": 40,
   "id": "ae6c26bd",
   "metadata": {
    "vscode": {
     "languageId": "r"
    }
   },
   "outputs": [
    {
     "name": "stdout",
     "output_type": "stream",
     "text": [
      "Date range for all stocks: 2000 Q 2 to 2022 Q 4 \n",
      "Original data had 192512 observations\n",
      "Balanced panel has 452179 observations\n",
      "Added 259667 missing observations\n",
      "Number of stocks with time gaps: 4969 out of 4969 \n"
     ]
    },
    {
     "data": {
      "text/html": [
       "<table class=\"dataframe\">\n",
       "<caption>A data.frame: 6 x 10</caption>\n",
       "<thead>\n",
       "\t<tr><th></th><th scope=col>stkcd</th><th scope=col>year</th><th scope=col>quarter</th><th scope=col>month</th><th scope=col>Size</th><th scope=col>Lev</th><th scope=col>ROA</th><th scope=col>BM</th><th scope=col>Board</th><th scope=col>Top1</th></tr>\n",
       "\t<tr><th></th><th scope=col>&lt;chr&gt;</th><th scope=col>&lt;int&gt;</th><th scope=col>&lt;int&gt;</th><th scope=col>&lt;dbl&gt;</th><th scope=col>&lt;dbl&gt;</th><th scope=col>&lt;dbl&gt;</th><th scope=col>&lt;dbl&gt;</th><th scope=col>&lt;dbl&gt;</th><th scope=col>&lt;dbl&gt;</th><th scope=col>&lt;dbl&gt;</th></tr>\n",
       "</thead>\n",
       "<tbody>\n",
       "\t<tr><th scope=row>1</th><td>000002</td><td>2000</td><td>2</td><td> 6</td><td>22.34171</td><td>0.4275993</td><td>      NA</td><td>0.7333718</td><td>2.833213</td><td>NA</td></tr>\n",
       "\t<tr><th scope=row>2</th><td>000002</td><td>2000</td><td>3</td><td> 9</td><td>      NA</td><td>       NA</td><td>      NA</td><td>       NA</td><td>      NA</td><td>NA</td></tr>\n",
       "\t<tr><th scope=row>3</th><td>000002</td><td>2000</td><td>4</td><td>12</td><td>22.45000</td><td>0.4725161</td><td>0.061516</td><td>0.7892044</td><td>2.833213</td><td>NA</td></tr>\n",
       "\t<tr><th scope=row>4</th><td>000002</td><td>2001</td><td>1</td><td> 3</td><td>      NA</td><td>       NA</td><td>      NA</td><td>       NA</td><td>      NA</td><td>NA</td></tr>\n",
       "\t<tr><th scope=row>5</th><td>000002</td><td>2001</td><td>2</td><td> 6</td><td>22.52588</td><td>0.4879012</td><td>      NA</td><td>0.8042830</td><td>2.564949</td><td>NA</td></tr>\n",
       "\t<tr><th scope=row>6</th><td>000002</td><td>2001</td><td>3</td><td> 9</td><td>      NA</td><td>       NA</td><td>      NA</td><td>       NA</td><td>      NA</td><td>NA</td></tr>\n",
       "</tbody>\n",
       "</table>\n"
      ],
      "text/latex": [
       "A data.frame: 6 x 10\n",
       "\\begin{tabular}{r|llllllllll}\n",
       "  & stkcd & year & quarter & month & Size & Lev & ROA & BM & Board & Top1\\\\\n",
       "  & <chr> & <int> & <int> & <dbl> & <dbl> & <dbl> & <dbl> & <dbl> & <dbl> & <dbl>\\\\\n",
       "\\hline\n",
       "\t1 & 000002 & 2000 & 2 &  6 & 22.34171 & 0.4275993 &       NA & 0.7333718 & 2.833213 & NA\\\\\n",
       "\t2 & 000002 & 2000 & 3 &  9 &       NA &        NA &       NA &        NA &       NA & NA\\\\\n",
       "\t3 & 000002 & 2000 & 4 & 12 & 22.45000 & 0.4725161 & 0.061516 & 0.7892044 & 2.833213 & NA\\\\\n",
       "\t4 & 000002 & 2001 & 1 &  3 &       NA &        NA &       NA &        NA &       NA & NA\\\\\n",
       "\t5 & 000002 & 2001 & 2 &  6 & 22.52588 & 0.4879012 &       NA & 0.8042830 & 2.564949 & NA\\\\\n",
       "\t6 & 000002 & 2001 & 3 &  9 &       NA &        NA &       NA &        NA &       NA & NA\\\\\n",
       "\\end{tabular}\n"
      ],
      "text/markdown": [
       "\n",
       "A data.frame: 6 x 10\n",
       "\n",
       "| <!--/--> | stkcd &lt;chr&gt; | year &lt;int&gt; | quarter &lt;int&gt; | month &lt;dbl&gt; | Size &lt;dbl&gt; | Lev &lt;dbl&gt; | ROA &lt;dbl&gt; | BM &lt;dbl&gt; | Board &lt;dbl&gt; | Top1 &lt;dbl&gt; |\n",
       "|---|---|---|---|---|---|---|---|---|---|---|\n",
       "| 1 | 000002 | 2000 | 2 |  6 | 22.34171 | 0.4275993 |       NA | 0.7333718 | 2.833213 | NA |\n",
       "| 2 | 000002 | 2000 | 3 |  9 |       NA |        NA |       NA |        NA |       NA | NA |\n",
       "| 3 | 000002 | 2000 | 4 | 12 | 22.45000 | 0.4725161 | 0.061516 | 0.7892044 | 2.833213 | NA |\n",
       "| 4 | 000002 | 2001 | 1 |  3 |       NA |        NA |       NA |        NA |       NA | NA |\n",
       "| 5 | 000002 | 2001 | 2 |  6 | 22.52588 | 0.4879012 |       NA | 0.8042830 | 2.564949 | NA |\n",
       "| 6 | 000002 | 2001 | 3 |  9 |       NA |        NA |       NA |        NA |       NA | NA |\n",
       "\n"
      ],
      "text/plain": [
       "  stkcd  year quarter month Size     Lev       ROA      BM        Board    Top1\n",
       "1 000002 2000 2        6    22.34171 0.4275993       NA 0.7333718 2.833213 NA  \n",
       "2 000002 2000 3        9          NA        NA       NA        NA       NA NA  \n",
       "3 000002 2000 4       12    22.45000 0.4725161 0.061516 0.7892044 2.833213 NA  \n",
       "4 000002 2001 1        3          NA        NA       NA        NA       NA NA  \n",
       "5 000002 2001 2        6    22.52588 0.4879012       NA 0.8042830 2.564949 NA  \n",
       "6 000002 2001 3        9          NA        NA       NA        NA       NA NA  "
      ]
     },
     "metadata": {},
     "output_type": "display_data"
    }
   ],
   "source": [
    "# Read the control_micro data\n",
    "control_micro <- read.csv(\"control_micro.csv\", header = TRUE, stringsAsFactors = FALSE, \n",
    "        colClasses = c(stkcd = \"character\", year = \"integer\", quarter = \"integer\", month = \"integer\"))\n",
    "\n",
    "index_cols <- c(\"stkcd\", \"year\", \"quarter\", \"month\")\n",
    "var_cols <- c(\"Size\", \"Lev\", \"ROA\", \"BM\", \"Board\", \"Top1\")\n",
    "\n",
    "control_micro <- control_micro[, c(index_cols, var_cols)]\n",
    "\n",
    "# Find the earliest and latest year-quarter combinations\n",
    "min_year <- min(control_micro$year)\n",
    "min_quarter <- min(control_micro$quarter[control_micro$year == min_year])\n",
    "max_year <- max(control_micro$year)\n",
    "max_quarter <- max(control_micro$quarter[control_micro$year == max_year])\n",
    "\n",
    "cat(\"Date range for all stocks:\", min_year, \"Q\", min_quarter, \"to\", max_year, \"Q\", max_quarter, \"\\n\")\n",
    "\n",
    "# Create a complete sequence of year-quarter combinations\n",
    "all_dates <- expand.grid(\n",
    "  year = min_year:max_year,\n",
    "  quarter = 1:4\n",
    ")\n",
    "\n",
    "# Filter to keep only dates within the identified range\n",
    "all_dates <- all_dates[\n",
    "  (all_dates$year > min_year | all_dates$quarter >= min_quarter) &\n",
    "  (all_dates$year < max_year | all_dates$quarter <= max_quarter),\n",
    "]\n",
    "all_dates <- all_dates[order(all_dates$year, all_dates$quarter), ]\n",
    "\n",
    "# Add month column based on quarter (Q1=3, Q2=6, Q3=9, Q4=12)\n",
    "all_dates$month <- all_dates$quarter * 3\n",
    "\n",
    "# Get unique stock codes\n",
    "unique_stocks <- unique(control_micro$stkcd)\n",
    "\n",
    "# Create an empty dataframe to hold the balanced panel\n",
    "balanced_control_micro <- data.frame()\n",
    "\n",
    "# For each stock, add missing dates\n",
    "for (stock in unique_stocks) {\n",
    "  # Get data for this stock\n",
    "  stock_data <- control_micro[control_micro$stkcd == stock, ]\n",
    "  \n",
    "  # Create stock-specific complete date sequence\n",
    "  stock_dates <- data.frame(\n",
    "  stkcd = stock,\n",
    "  year = all_dates$year,\n",
    "  quarter = all_dates$quarter,\n",
    "  month = all_dates$month\n",
    "  )\n",
    "  \n",
    "  # Merge with actual data (will add NA for missing dates)\n",
    "  complete_stock_data <- merge(\n",
    "  stock_dates,\n",
    "  stock_data,\n",
    "  by = index_cols,\n",
    "  all.x = TRUE\n",
    "  )\n",
    "  \n",
    "  # Add to the balanced panel\n",
    "  balanced_control_micro <- rbind(balanced_control_micro, complete_stock_data)\n",
    "}\n",
    "\n",
    "# Sort the balanced panel\n",
    "balanced_control_micro <- balanced_control_micro[order(balanced_control_micro$stkcd, balanced_control_micro$year, balanced_control_micro$quarter), c(index_cols, var_cols)]\n",
    "\n",
    "# Display summary statistics\n",
    "cat(\"Original data had\", nrow(control_micro), \"observations\\n\")\n",
    "cat(\"Balanced panel has\", nrow(balanced_control_micro), \"observations\\n\")\n",
    "cat(\"Added\", nrow(balanced_control_micro) - nrow(control_micro), \"missing observations\\n\")\n",
    "\n",
    "# Calculate how many stocks have missing observations\n",
    "stocks_with_gaps <- sapply(unique_stocks, function(stock) {\n",
    "  stock_data <- control_micro[control_micro$stkcd == stock, ]\n",
    "  expected_obs <- nrow(all_dates)\n",
    "  actual_obs <- nrow(stock_data)\n",
    "  return(expected_obs != actual_obs)\n",
    "})\n",
    "\n",
    "cat(\"Number of stocks with time gaps:\", sum(stocks_with_gaps), \"out of\", length(unique_stocks), \"\\n\")\n",
    "\n",
    "# Update the control_micro dataframe\n",
    "control_micro <- balanced_control_micro\n",
    "\n",
    "# Display the first few rows\n",
    "head(control_micro)"
   ]
  },
  {
   "cell_type": "markdown",
   "id": "439ce926",
   "metadata": {},
   "source": [
    "- Treat the missing values"
   ]
  },
  {
   "cell_type": "code",
   "execution_count": 41,
   "id": "32310c79",
   "metadata": {
    "vscode": {
     "languageId": "r"
    }
   },
   "outputs": [
    {
     "name": "stdout",
     "output_type": "stream",
     "text": [
      "Missing values per column:\n",
      "  stkcd    year quarter   month    Size     Lev     ROA      BM   Board    Top1 \n",
      "      0       0       0       0  259697  259700  266311  260723  259891  296101 \n",
      "\n",
      "Percentage of missing values:\n",
      "  stkcd    year quarter   month    Size     Lev     ROA      BM   Board    Top1 \n",
      "   0.00    0.00    0.00    0.00   57.43   57.43   58.90   57.66   57.48   65.48 \n",
      "\n",
      "Missing values after imputation:\n",
      "  stkcd    year quarter   month    Size     Lev     ROA      BM   Board    Top1 \n",
      "      0       0       0       0       0       0       0       0       0       0 \n",
      "\n",
      "Summary before imputation:\n",
      "      Size             Lev              ROA               BM        \n",
      " Min.   :19.14    Min.   :0.000    Min.   :-0.265   Min.   : 0.052  \n",
      " 1st Qu.:21.03    1st Qu.:0.260    1st Qu.: 0.006   1st Qu.: 0.373  \n",
      " Median :21.78    Median :0.422    Median : 0.020   Median : 0.646  \n",
      " Mean   :21.97    Mean   :0.425    Mean   : 0.028   Mean   : 0.991  \n",
      " 3rd Qu.:22.69    3rd Qu.:0.579    3rd Qu.: 0.046   3rd Qu.: 1.159  \n",
      " Max.   :26.44    Max.   :0.921    Max.   : 0.200   Max.   :10.257  \n",
      " NA's   :259697   NA's   :259700   NA's   :266311   NA's   :260723  \n",
      "     Board             Top1       \n",
      " Min.   :1.099    Min.   :0.081   \n",
      " 1st Qu.:1.946    1st Qu.:0.230   \n",
      " Median :2.197    Median :0.324   \n",
      " Mean   :2.141    Mean   :0.347   \n",
      " 3rd Qu.:2.197    3rd Qu.:0.449   \n",
      " Max.   :2.833    Max.   :0.759   \n",
      " NA's   :259891   NA's   :296101  \n",
      "\n",
      "Summary after imputation:\n",
      "      Size            Lev              ROA                 BM          \n",
      " Min.   :19.14   Min.   :0.0000   Min.   :-0.26461   Min.   : 0.05203  \n",
      " 1st Qu.:20.67   1st Qu.:0.1803   1st Qu.: 0.01214   1st Qu.: 0.25704  \n",
      " Median :21.28   Median :0.3208   Median : 0.03228   Median : 0.41383  \n",
      " Mean   :21.50   Mean   :0.3472   Mean   : 0.03963   Mean   : 0.66580  \n",
      " 3rd Qu.:22.07   3rd Qu.:0.4901   3rd Qu.: 0.06381   3rd Qu.: 0.71341  \n",
      " Max.   :26.44   Max.   :0.9209   Max.   : 0.19960   Max.   :10.25725  \n",
      "     Board            Top1        \n",
      " Min.   :1.099   Min.   :0.08105  \n",
      " 1st Qu.:1.946   1st Qu.:0.24560  \n",
      " Median :2.197   Median :0.34449  \n",
      " Mean   :2.112   Mean   :0.36277  \n",
      " 3rd Qu.:2.197   3rd Qu.:0.46463  \n",
      " Max.   :2.833   Max.   :0.75902  \n"
     ]
    },
    {
     "data": {
      "text/html": [
       "<table class=\"dataframe\">\n",
       "<caption>A data.frame: 6 x 10</caption>\n",
       "<thead>\n",
       "\t<tr><th></th><th scope=col>stkcd</th><th scope=col>year</th><th scope=col>quarter</th><th scope=col>month</th><th scope=col>Size</th><th scope=col>Lev</th><th scope=col>ROA</th><th scope=col>BM</th><th scope=col>Board</th><th scope=col>Top1</th></tr>\n",
       "\t<tr><th></th><th scope=col>&lt;chr&gt;</th><th scope=col>&lt;int&gt;</th><th scope=col>&lt;int&gt;</th><th scope=col>&lt;dbl&gt;</th><th scope=col>&lt;dbl&gt;</th><th scope=col>&lt;dbl&gt;</th><th scope=col>&lt;dbl&gt;</th><th scope=col>&lt;dbl&gt;</th><th scope=col>&lt;dbl&gt;</th><th scope=col>&lt;dbl&gt;</th></tr>\n",
       "</thead>\n",
       "<tbody>\n",
       "\t<tr><th scope=row>1</th><td>000002</td><td>2000</td><td>2</td><td> 6</td><td>22.34171</td><td>0.4275993</td><td>0.061516</td><td>0.7333718</td><td>2.833213</td><td>0.116418</td></tr>\n",
       "\t<tr><th scope=row>2</th><td>000002</td><td>2000</td><td>3</td><td> 9</td><td>22.39585</td><td>0.4500577</td><td>0.061516</td><td>0.7612881</td><td>2.833213</td><td>0.116418</td></tr>\n",
       "\t<tr><th scope=row>3</th><td>000002</td><td>2000</td><td>4</td><td>12</td><td>22.45000</td><td>0.4725161</td><td>0.061516</td><td>0.7892044</td><td>2.833213</td><td>0.116418</td></tr>\n",
       "\t<tr><th scope=row>4</th><td>000002</td><td>2001</td><td>1</td><td> 3</td><td>22.48794</td><td>0.4802087</td><td>0.061965</td><td>0.7967437</td><td>2.833213</td><td>0.116418</td></tr>\n",
       "\t<tr><th scope=row>5</th><td>000002</td><td>2001</td><td>2</td><td> 6</td><td>22.52588</td><td>0.4879012</td><td>0.062414</td><td>0.8042830</td><td>2.564949</td><td>0.116418</td></tr>\n",
       "\t<tr><th scope=row>6</th><td>000002</td><td>2001</td><td>3</td><td> 9</td><td>22.55916</td><td>0.5028489</td><td>0.062863</td><td>0.8789633</td><td>2.564949</td><td>0.116418</td></tr>\n",
       "</tbody>\n",
       "</table>\n"
      ],
      "text/latex": [
       "A data.frame: 6 x 10\n",
       "\\begin{tabular}{r|llllllllll}\n",
       "  & stkcd & year & quarter & month & Size & Lev & ROA & BM & Board & Top1\\\\\n",
       "  & <chr> & <int> & <int> & <dbl> & <dbl> & <dbl> & <dbl> & <dbl> & <dbl> & <dbl>\\\\\n",
       "\\hline\n",
       "\t1 & 000002 & 2000 & 2 &  6 & 22.34171 & 0.4275993 & 0.061516 & 0.7333718 & 2.833213 & 0.116418\\\\\n",
       "\t2 & 000002 & 2000 & 3 &  9 & 22.39585 & 0.4500577 & 0.061516 & 0.7612881 & 2.833213 & 0.116418\\\\\n",
       "\t3 & 000002 & 2000 & 4 & 12 & 22.45000 & 0.4725161 & 0.061516 & 0.7892044 & 2.833213 & 0.116418\\\\\n",
       "\t4 & 000002 & 2001 & 1 &  3 & 22.48794 & 0.4802087 & 0.061965 & 0.7967437 & 2.833213 & 0.116418\\\\\n",
       "\t5 & 000002 & 2001 & 2 &  6 & 22.52588 & 0.4879012 & 0.062414 & 0.8042830 & 2.564949 & 0.116418\\\\\n",
       "\t6 & 000002 & 2001 & 3 &  9 & 22.55916 & 0.5028489 & 0.062863 & 0.8789633 & 2.564949 & 0.116418\\\\\n",
       "\\end{tabular}\n"
      ],
      "text/markdown": [
       "\n",
       "A data.frame: 6 x 10\n",
       "\n",
       "| <!--/--> | stkcd &lt;chr&gt; | year &lt;int&gt; | quarter &lt;int&gt; | month &lt;dbl&gt; | Size &lt;dbl&gt; | Lev &lt;dbl&gt; | ROA &lt;dbl&gt; | BM &lt;dbl&gt; | Board &lt;dbl&gt; | Top1 &lt;dbl&gt; |\n",
       "|---|---|---|---|---|---|---|---|---|---|---|\n",
       "| 1 | 000002 | 2000 | 2 |  6 | 22.34171 | 0.4275993 | 0.061516 | 0.7333718 | 2.833213 | 0.116418 |\n",
       "| 2 | 000002 | 2000 | 3 |  9 | 22.39585 | 0.4500577 | 0.061516 | 0.7612881 | 2.833213 | 0.116418 |\n",
       "| 3 | 000002 | 2000 | 4 | 12 | 22.45000 | 0.4725161 | 0.061516 | 0.7892044 | 2.833213 | 0.116418 |\n",
       "| 4 | 000002 | 2001 | 1 |  3 | 22.48794 | 0.4802087 | 0.061965 | 0.7967437 | 2.833213 | 0.116418 |\n",
       "| 5 | 000002 | 2001 | 2 |  6 | 22.52588 | 0.4879012 | 0.062414 | 0.8042830 | 2.564949 | 0.116418 |\n",
       "| 6 | 000002 | 2001 | 3 |  9 | 22.55916 | 0.5028489 | 0.062863 | 0.8789633 | 2.564949 | 0.116418 |\n",
       "\n"
      ],
      "text/plain": [
       "  stkcd  year quarter month Size     Lev       ROA      BM        Board   \n",
       "1 000002 2000 2        6    22.34171 0.4275993 0.061516 0.7333718 2.833213\n",
       "2 000002 2000 3        9    22.39585 0.4500577 0.061516 0.7612881 2.833213\n",
       "3 000002 2000 4       12    22.45000 0.4725161 0.061516 0.7892044 2.833213\n",
       "4 000002 2001 1        3    22.48794 0.4802087 0.061965 0.7967437 2.833213\n",
       "5 000002 2001 2        6    22.52588 0.4879012 0.062414 0.8042830 2.564949\n",
       "6 000002 2001 3        9    22.55916 0.5028489 0.062863 0.8789633 2.564949\n",
       "  Top1    \n",
       "1 0.116418\n",
       "2 0.116418\n",
       "3 0.116418\n",
       "4 0.116418\n",
       "5 0.116418\n",
       "6 0.116418"
      ]
     },
     "metadata": {},
     "output_type": "display_data"
    }
   ],
   "source": [
    "library(zoo)\n",
    "\n",
    "# Check how many missing values we have in each column\n",
    "missing_values <- colSums(is.na(control_micro))\n",
    "cat(\"Missing values per column:\\n\")\n",
    "print(missing_values)\n",
    "\n",
    "# Calculate percentage of missing values by column\n",
    "pct_missing <- round(missing_values / nrow(control_micro) * 100, 2)\n",
    "cat(\"\\nPercentage of missing values:\\n\")\n",
    "print(pct_missing)\n",
    "\n",
    "# For visualization, get missing pattern by stock and time\n",
    "missing_by_stock <- tapply(rowSums(is.na(control_micro[, var_cols])), \n",
    "                          control_micro$stkcd, mean)\n",
    "missing_by_time <- aggregate(rowSums(is.na(control_micro[, var_cols])), \n",
    "                            by = list(year = control_micro$year, \n",
    "                                     quarter = control_micro$quarter), \n",
    "                            mean)\n",
    "\n",
    "# Impute missing values based on variable characteristics\n",
    "control_micro_imputed <- control_micro\n",
    "\n",
    "# Approach for each variable:\n",
    "for (id in unique(control_micro$stkcd)) {\n",
    "  # Get data for this stock only\n",
    "  stock_data <- control_micro[control_micro$stkcd == id, ]\n",
    "  stock_data <- stock_data[order(stock_data$year, stock_data$quarter), ]\n",
    "  \n",
    "  for (var in var_cols) {\n",
    "    # Skip if no missing values for this variable and stock\n",
    "    if (!any(is.na(stock_data[, var]))) next\n",
    "    \n",
    "    # Choose imputation method based on variable type\n",
    "    if (var %in% c(\"Size\", \"Lev\", \"ROA\", \"BM\")) {\n",
    "      # For financial metrics that change gradually, use interpolation\n",
    "      stock_data[, var] <- na.approx(stock_data[, var], na.rm = FALSE)\n",
    "      \n",
    "      # Handle any remaining NAs at the beginning with next observation\n",
    "      if (any(is.na(stock_data[, var]))) {\n",
    "        stock_data[, var] <- na.locf(stock_data[, var], fromLast = TRUE, na.rm = FALSE)\n",
    "        \n",
    "        # Handle any remaining NAs at the end with last observation\n",
    "        stock_data[, var] <- na.locf(stock_data[, var], na.rm = FALSE)\n",
    "      }\n",
    "    } else if (var %in% c(\"Board\", \"Top1\")) {\n",
    "      # For governance metrics that change infrequently, use LOCF\n",
    "      stock_data[, var] <- na.locf(stock_data[, var], na.rm = FALSE)\n",
    "      \n",
    "      # If there are still NAs at the beginning, use NOCB\n",
    "      if (any(is.na(stock_data[, var]))) {\n",
    "        stock_data[, var] <- na.locf(stock_data[, var], fromLast = TRUE, na.rm = FALSE)\n",
    "      }\n",
    "      \n",
    "      # For any remaining NAs (if entire series is NA), use cross-sectional median\n",
    "      if (any(is.na(stock_data[, var]))) {\n",
    "        # Get the median value from the whole dataset for this variable\n",
    "        var_median <- median(control_micro[, var], na.rm = TRUE)\n",
    "        stock_data[is.na(stock_data[, var]), var] <- var_median\n",
    "      }\n",
    "    }\n",
    "  }\n",
    "  \n",
    "  # Update the imputed dataset with this stock's data\n",
    "  control_micro_imputed[control_micro_imputed$stkcd == id, ] <- stock_data\n",
    "}\n",
    "\n",
    "# Check if any missing values remain\n",
    "missing_after <- colSums(is.na(control_micro_imputed))\n",
    "cat(\"\\nMissing values after imputation:\\n\")\n",
    "print(missing_after)\n",
    "\n",
    "# Display summary statistics before and after imputation\n",
    "cat(\"\\nSummary before imputation:\\n\")\n",
    "print(summary(control_micro[, var_cols]))\n",
    "\n",
    "cat(\"\\nSummary after imputation:\\n\")\n",
    "print(summary(control_micro_imputed[, var_cols]))\n",
    "\n",
    "# Update the control_micro dataframe\n",
    "control_micro <- control_micro_imputed\n",
    "\n",
    "# Display the first few rows of the imputed data\n",
    "head(control_micro)"
   ]
  },
  {
   "cell_type": "markdown",
   "id": "97e48a63",
   "metadata": {},
   "source": [
    "#### Macro"
   ]
  },
  {
   "cell_type": "markdown",
   "id": "854a87f4",
   "metadata": {},
   "source": [
    "- Read the macro part of control variable"
   ]
  },
  {
   "cell_type": "code",
   "execution_count": 42,
   "id": "fc81f8af",
   "metadata": {
    "vscode": {
     "languageId": "r"
    }
   },
   "outputs": [
    {
     "name": "stdout",
     "output_type": "stream",
     "text": [
      "Date range: 2003 Q 1 to 2024 Q 4 \n",
      "Found 1 missing year-quarter combinations\n",
      "Added missing periods with NA values for observations\n"
     ]
    },
    {
     "data": {
      "text/html": [
       "<table class=\"dataframe\">\n",
       "<caption>A data.frame: 6 x 5</caption>\n",
       "<thead>\n",
       "\t<tr><th></th><th scope=col>year</th><th scope=col>quarter</th><th scope=col>month</th><th scope=col>gdp_growth_rate</th><th scope=col>m2_growth_rate</th></tr>\n",
       "\t<tr><th></th><th scope=col>&lt;int&gt;</th><th scope=col>&lt;int&gt;</th><th scope=col>&lt;dbl&gt;</th><th scope=col>&lt;dbl&gt;</th><th scope=col>&lt;dbl&gt;</th></tr>\n",
       "</thead>\n",
       "<tbody>\n",
       "\t<tr><th scope=row>1</th><td>2003</td><td>1</td><td> 3</td><td>         NA</td><td>        NA</td></tr>\n",
       "\t<tr><th scope=row>2</th><td>2003</td><td>2</td><td> 6</td><td> 0.08903639</td><td>0.04413487</td></tr>\n",
       "\t<tr><th scope=row>3</th><td>2003</td><td>3</td><td> 9</td><td> 0.08490761</td><td>0.04925471</td></tr>\n",
       "\t<tr><th scope=row>4</th><td>2003</td><td>4</td><td>12</td><td> 0.12746553</td><td>0.03426695</td></tr>\n",
       "\t<tr><th scope=row>5</th><td>2004</td><td>1</td><td> 3</td><td>-0.12967664</td><td>0.04955063</td></tr>\n",
       "\t<tr><th scope=row>6</th><td>2004</td><td>2</td><td> 6</td><td> 0.11803645</td><td>0.03350321</td></tr>\n",
       "</tbody>\n",
       "</table>\n"
      ],
      "text/latex": [
       "A data.frame: 6 x 5\n",
       "\\begin{tabular}{r|lllll}\n",
       "  & year & quarter & month & gdp\\_growth\\_rate & m2\\_growth\\_rate\\\\\n",
       "  & <int> & <int> & <dbl> & <dbl> & <dbl>\\\\\n",
       "\\hline\n",
       "\t1 & 2003 & 1 &  3 &          NA &         NA\\\\\n",
       "\t2 & 2003 & 2 &  6 &  0.08903639 & 0.04413487\\\\\n",
       "\t3 & 2003 & 3 &  9 &  0.08490761 & 0.04925471\\\\\n",
       "\t4 & 2003 & 4 & 12 &  0.12746553 & 0.03426695\\\\\n",
       "\t5 & 2004 & 1 &  3 & -0.12967664 & 0.04955063\\\\\n",
       "\t6 & 2004 & 2 &  6 &  0.11803645 & 0.03350321\\\\\n",
       "\\end{tabular}\n"
      ],
      "text/markdown": [
       "\n",
       "A data.frame: 6 x 5\n",
       "\n",
       "| <!--/--> | year &lt;int&gt; | quarter &lt;int&gt; | month &lt;dbl&gt; | gdp_growth_rate &lt;dbl&gt; | m2_growth_rate &lt;dbl&gt; |\n",
       "|---|---|---|---|---|---|\n",
       "| 1 | 2003 | 1 |  3 |          NA |         NA |\n",
       "| 2 | 2003 | 2 |  6 |  0.08903639 | 0.04413487 |\n",
       "| 3 | 2003 | 3 |  9 |  0.08490761 | 0.04925471 |\n",
       "| 4 | 2003 | 4 | 12 |  0.12746553 | 0.03426695 |\n",
       "| 5 | 2004 | 1 |  3 | -0.12967664 | 0.04955063 |\n",
       "| 6 | 2004 | 2 |  6 |  0.11803645 | 0.03350321 |\n",
       "\n"
      ],
      "text/plain": [
       "  year quarter month gdp_growth_rate m2_growth_rate\n",
       "1 2003 1        3             NA             NA    \n",
       "2 2003 2        6     0.08903639     0.04413487    \n",
       "3 2003 3        9     0.08490761     0.04925471    \n",
       "4 2003 4       12     0.12746553     0.03426695    \n",
       "5 2004 1        3    -0.12967664     0.04955063    \n",
       "6 2004 2        6     0.11803645     0.03350321    "
      ]
     },
     "metadata": {},
     "output_type": "display_data"
    }
   ],
   "source": [
    "# Read the control_macro data\n",
    "control_macro <- read.csv(\"control_macro.csv\", header = TRUE, stringsAsFactors = FALSE, \n",
    "              colClasses = c(year = \"integer\", quarter = \"integer\", month = \"integer\"))\n",
    "\n",
    "index_cols <- c(\"year\", \"quarter\", \"month\")\n",
    "var_cols <- c(\"gdp_growth_rate\", \"m2_growth_rate\")\n",
    "\n",
    "# Sort by date to ensure chronological order\n",
    "control_macro <- control_macro[order(control_macro$year, control_macro$quarter), ][, c(index_cols, var_cols)]\n",
    "\n",
    "# Find the earliest and latest year-quarter combinations\n",
    "min_year <- min(control_macro$year)\n",
    "min_quarter <- min(control_macro$quarter[control_macro$year == min_year])\n",
    "max_year <- max(control_macro$year)\n",
    "max_quarter <- max(control_macro$quarter[control_macro$year == max_year])\n",
    "\n",
    "cat(\"Date range:\", min_year, \"Q\", min_quarter, \"to\", max_year, \"Q\", max_quarter, \"\\n\")\n",
    "\n",
    "# Create a complete sequence of year-quarter combinations\n",
    "all_dates <- expand.grid(\n",
    "  year = min_year:max_year,\n",
    "  quarter = 1:4\n",
    ")\n",
    "\n",
    "# Filter to keep only dates within the identified range\n",
    "all_dates <- all_dates[\n",
    "  (all_dates$year > min_year | all_dates$quarter >= min_quarter) &\n",
    "  (all_dates$year < max_year | all_dates$quarter <= max_quarter),\n",
    "]\n",
    "all_dates <- all_dates[order(all_dates$year, all_dates$quarter), ]\n",
    "\n",
    "# Add month column (last month of each quarter)\n",
    "all_dates$month <- all_dates$quarter * 3\n",
    "\n",
    "# Merge with actual data (will add NA for missing dates)\n",
    "complete_control_macro <- merge(\n",
    "  all_dates,\n",
    "  control_macro,\n",
    "  by = index_cols,\n",
    "  all.x = TRUE\n",
    ")\n",
    "\n",
    "# Handle merged month columns if they exist\n",
    "if (\"month.y\" %in% colnames(complete_control_macro)) {\n",
    "  # Use month.y values where available, otherwise use month.x\n",
    "  complete_control_macro$month <- ifelse(\n",
    "    is.na(complete_control_macro$month.y),\n",
    "    complete_control_macro$month.x,\n",
    "    complete_control_macro$month.y\n",
    "  )\n",
    "  \n",
    "  # Remove the extra month columns\n",
    "  complete_control_macro$month.x <- NULL\n",
    "  complete_control_macro$month.y <- NULL\n",
    "}\n",
    "\n",
    "# Count missing periods\n",
    "non_date_cols <- setdiff(names(complete_control_macro), index_cols)\n",
    "missing_periods <- sum(apply(complete_control_macro[, non_date_cols, drop=FALSE], 1, function(x) all(is.na(x))))\n",
    "\n",
    "# Report results\n",
    "cat(\"Found\", missing_periods, \"missing year-quarter combinations\\n\")\n",
    "if (missing_periods > 0) {\n",
    "  cat(\"Added missing periods with NA values for observations\\n\")\n",
    "}\n",
    "\n",
    "# Update the control_macro dataframe\n",
    "control_macro <- complete_control_macro[order(complete_control_macro$year, complete_control_macro$quarter), ]\n",
    "\n",
    "# Display the first few rows\n",
    "head(control_macro)"
   ]
  },
  {
   "cell_type": "markdown",
   "id": "85060f5a",
   "metadata": {},
   "source": [
    "- Treat the missing values"
   ]
  },
  {
   "cell_type": "code",
   "execution_count": 43,
   "id": "7884d79f",
   "metadata": {
    "vscode": {
     "languageId": "r"
    }
   },
   "outputs": [
    {
     "name": "stdout",
     "output_type": "stream",
     "text": [
      "Missing values in control_macro:\n",
      "           year         quarter           month gdp_growth_rate  m2_growth_rate \n",
      "              0               0               0               1               1 \n",
      "\n",
      "Missing values after imputation:\n",
      "           year         quarter           month gdp_growth_rate  m2_growth_rate \n",
      "              0               0               0               0               0 \n",
      "\n",
      "Summary of imputed economic variables:\n",
      "GDP growth rate summary:\n",
      "    Min.  1st Qu.   Median     Mean  3rd Qu.     Max. \n",
      "-0.25702  0.03761  0.08028  0.04166  0.11251  0.58151 \n",
      "\n",
      "M2 growth rate summary:\n",
      "    Min.  1st Qu.   Median     Mean  3rd Qu.     Max. \n",
      "-0.03933  0.01921  0.03236  0.03199  0.04113  0.10565 \n"
     ]
    },
    {
     "data": {
      "text/html": [
       "<table class=\"dataframe\">\n",
       "<caption>A data.frame: 6 x 5</caption>\n",
       "<thead>\n",
       "\t<tr><th></th><th scope=col>year</th><th scope=col>quarter</th><th scope=col>month</th><th scope=col>gdp_growth_rate</th><th scope=col>m2_growth_rate</th></tr>\n",
       "\t<tr><th></th><th scope=col>&lt;int&gt;</th><th scope=col>&lt;int&gt;</th><th scope=col>&lt;dbl&gt;</th><th scope=col>&lt;dbl&gt;</th><th scope=col>&lt;dbl&gt;</th></tr>\n",
       "</thead>\n",
       "<tbody>\n",
       "\t<tr><th scope=row>1</th><td>2003</td><td>1</td><td> 3</td><td> 0.58151038</td><td>-0.03933086</td></tr>\n",
       "\t<tr><th scope=row>2</th><td>2003</td><td>2</td><td> 6</td><td> 0.08903639</td><td> 0.04413487</td></tr>\n",
       "\t<tr><th scope=row>3</th><td>2003</td><td>3</td><td> 9</td><td> 0.08490761</td><td> 0.04925471</td></tr>\n",
       "\t<tr><th scope=row>4</th><td>2003</td><td>4</td><td>12</td><td> 0.12746553</td><td> 0.03426695</td></tr>\n",
       "\t<tr><th scope=row>5</th><td>2004</td><td>1</td><td> 3</td><td>-0.12967664</td><td> 0.04955063</td></tr>\n",
       "\t<tr><th scope=row>6</th><td>2004</td><td>2</td><td> 6</td><td> 0.11803645</td><td> 0.03350321</td></tr>\n",
       "</tbody>\n",
       "</table>\n"
      ],
      "text/latex": [
       "A data.frame: 6 x 5\n",
       "\\begin{tabular}{r|lllll}\n",
       "  & year & quarter & month & gdp\\_growth\\_rate & m2\\_growth\\_rate\\\\\n",
       "  & <int> & <int> & <dbl> & <dbl> & <dbl>\\\\\n",
       "\\hline\n",
       "\t1 & 2003 & 1 &  3 &  0.58151038 & -0.03933086\\\\\n",
       "\t2 & 2003 & 2 &  6 &  0.08903639 &  0.04413487\\\\\n",
       "\t3 & 2003 & 3 &  9 &  0.08490761 &  0.04925471\\\\\n",
       "\t4 & 2003 & 4 & 12 &  0.12746553 &  0.03426695\\\\\n",
       "\t5 & 2004 & 1 &  3 & -0.12967664 &  0.04955063\\\\\n",
       "\t6 & 2004 & 2 &  6 &  0.11803645 &  0.03350321\\\\\n",
       "\\end{tabular}\n"
      ],
      "text/markdown": [
       "\n",
       "A data.frame: 6 x 5\n",
       "\n",
       "| <!--/--> | year &lt;int&gt; | quarter &lt;int&gt; | month &lt;dbl&gt; | gdp_growth_rate &lt;dbl&gt; | m2_growth_rate &lt;dbl&gt; |\n",
       "|---|---|---|---|---|---|\n",
       "| 1 | 2003 | 1 |  3 |  0.58151038 | -0.03933086 |\n",
       "| 2 | 2003 | 2 |  6 |  0.08903639 |  0.04413487 |\n",
       "| 3 | 2003 | 3 |  9 |  0.08490761 |  0.04925471 |\n",
       "| 4 | 2003 | 4 | 12 |  0.12746553 |  0.03426695 |\n",
       "| 5 | 2004 | 1 |  3 | -0.12967664 |  0.04955063 |\n",
       "| 6 | 2004 | 2 |  6 |  0.11803645 |  0.03350321 |\n",
       "\n"
      ],
      "text/plain": [
       "  year quarter month gdp_growth_rate m2_growth_rate\n",
       "1 2003 1        3     0.58151038     -0.03933086   \n",
       "2 2003 2        6     0.08903639      0.04413487   \n",
       "3 2003 3        9     0.08490761      0.04925471   \n",
       "4 2003 4       12     0.12746553      0.03426695   \n",
       "5 2004 1        3    -0.12967664      0.04955063   \n",
       "6 2004 2        6     0.11803645      0.03350321   "
      ]
     },
     "metadata": {},
     "output_type": "display_data"
    }
   ],
   "source": [
    "# Check current missing values in control_macro data\n",
    "missing_values <- colSums(is.na(control_macro))\n",
    "cat(\"Missing values in control_macro:\\n\")\n",
    "print(missing_values)\n",
    "\n",
    "# Impute missing values for each economic variable\n",
    "library(zoo)\n",
    "library(forecast)\n",
    "\n",
    "# Create a time index for better time series handling\n",
    "control_macro$time_idx <- control_macro$year + (control_macro$quarter - 1) / 4\n",
    "\n",
    "# Sort data by time\n",
    "control_macro <- control_macro[order(control_macro$time_idx), ]\n",
    "\n",
    "# Function to impute missing economic time series data\n",
    "impute_economic_ts <- function(x, time_idx) {\n",
    "    # If no missing values, return as is\n",
    "    if(!any(is.na(x))) return(x)\n",
    "    \n",
    "    # For short gaps (1-2 periods), use spline interpolation\n",
    "    x_spline <- na.spline(x, na.rm = FALSE)\n",
    "    \n",
    "    # For remaining gaps, try time series methods\n",
    "    if(any(is.na(x_spline))) {\n",
    "        # Create a time series object\n",
    "        ts_data <- ts(x, frequency = 4)  # Quarterly data has frequency 4\n",
    "        \n",
    "        # Simple imputation with seasonal components\n",
    "        x_seadec <- na.seadec(ts_data, algorithm = \"interpolation\")\n",
    "        \n",
    "        # Replace values still missing after spline with these estimates\n",
    "        na_idx <- which(is.na(x_spline))\n",
    "        x_spline[na_idx] <- x_seadec[na_idx]\n",
    "        \n",
    "        # If still have missing values (e.g., at edges), use ARIMA forecasting\n",
    "        if(any(is.na(x_spline))) {\n",
    "            # First fill leading NAs with the first non-NA value\n",
    "            if(is.na(x_spline[1])) {\n",
    "                first_valid <- min(which(!is.na(x_spline)))\n",
    "                x_spline[1:first_valid-1] <- x_spline[first_valid]\n",
    "            }\n",
    "            \n",
    "            # Then fill trailing NAs with the last non-NA value\n",
    "            if(is.na(x_spline[length(x_spline)])) {\n",
    "                last_valid <- max(which(!is.na(x_spline)))\n",
    "                x_spline[last_valid+1:length(x_spline)] <- x_spline[last_valid]\n",
    "            }\n",
    "        }\n",
    "    }\n",
    "    \n",
    "    return(x_spline)\n",
    "}\n",
    "\n",
    "# Apply imputation to each economic variable\n",
    "control_macro$gdp_growth_rate <- impute_economic_ts(control_macro$gdp_growth_rate, control_macro$time_idx)\n",
    "control_macro$m2_growth_rate <- impute_economic_ts(control_macro$m2_growth_rate, control_macro$time_idx)\n",
    "\n",
    "# Remove the time index after imputation\n",
    "control_macro$time_idx <- NULL\n",
    "\n",
    "# Check if imputation was successful\n",
    "missing_after <- colSums(is.na(control_macro))\n",
    "cat(\"\\nMissing values after imputation:\\n\")\n",
    "print(missing_after)\n",
    "\n",
    "# Verify the imputed data makes economic sense\n",
    "cat(\"\\nSummary of imputed economic variables:\\n\")\n",
    "cat(\"GDP growth rate summary:\\n\")\n",
    "print(summary(control_macro$gdp_growth_rate))\n",
    "cat(\"\\nM2 growth rate summary:\\n\")\n",
    "print(summary(control_macro$m2_growth_rate))\n",
    "\n",
    "# Display the first few rows to check for patterns\n",
    "head(control_macro)"
   ]
  },
  {
   "cell_type": "markdown",
   "id": "a19f67d3",
   "metadata": {},
   "source": [
    "#### Merge Panel"
   ]
  },
  {
   "cell_type": "code",
   "execution_count": 44,
   "id": "3a0b00b7",
   "metadata": {
    "vscode": {
     "languageId": "r"
    }
   },
   "outputs": [
    {
     "name": "stdout",
     "output_type": "stream",
     "text": [
      "Control_micro dimensions: 452179 observations, 10 variables\n",
      "Control_macro dimensions: 88 observations, 5 variables\n",
      "\n",
      "Merged control dataset dimensions: 397520 observations, 12 variables\n",
      "Number of stocks in merged dataset: 4969 \n",
      "Time period covered: 2003 Q 1 to 2022 Q 4 \n",
      "\n",
      "No missing values in the merged dataset\n"
     ]
    },
    {
     "data": {
      "text/html": [
       "<table class=\"dataframe\">\n",
       "<caption>A data.frame: 6 x 12</caption>\n",
       "<thead>\n",
       "\t<tr><th></th><th scope=col>year</th><th scope=col>quarter</th><th scope=col>month</th><th scope=col>stkcd</th><th scope=col>Size</th><th scope=col>Lev</th><th scope=col>ROA</th><th scope=col>BM</th><th scope=col>Board</th><th scope=col>Top1</th><th scope=col>gdp_growth_rate</th><th scope=col>m2_growth_rate</th></tr>\n",
       "\t<tr><th></th><th scope=col>&lt;int&gt;</th><th scope=col>&lt;int&gt;</th><th scope=col>&lt;dbl&gt;</th><th scope=col>&lt;chr&gt;</th><th scope=col>&lt;dbl&gt;</th><th scope=col>&lt;dbl&gt;</th><th scope=col>&lt;dbl&gt;</th><th scope=col>&lt;dbl&gt;</th><th scope=col>&lt;dbl&gt;</th><th scope=col>&lt;dbl&gt;</th><th scope=col>&lt;dbl&gt;</th><th scope=col>&lt;dbl&gt;</th></tr>\n",
       "</thead>\n",
       "<tbody>\n",
       "\t<tr><th scope=row>1</th><td>2003</td><td>1</td><td>3</td><td>002947</td><td>20.88399</td><td>0.06068584</td><td>0.03061200</td><td>0.2260714</td><td>2.197225</td><td>0.381855</td><td>0.5815104</td><td>-0.03933086</td></tr>\n",
       "\t<tr><th scope=row>2</th><td>2003</td><td>1</td><td>3</td><td>600193</td><td>20.39576</td><td>0.58510780</td><td>0.02060000</td><td>0.4678771</td><td>2.397895</td><td>0.193588</td><td>0.5815104</td><td>-0.03933086</td></tr>\n",
       "\t<tr><th scope=row>3</th><td>2003</td><td>1</td><td>3</td><td>002943</td><td>20.74958</td><td>0.24115777</td><td>0.12671700</td><td>0.2941725</td><td>2.079442</td><td>0.355670</td><td>0.5815104</td><td>-0.03933086</td></tr>\n",
       "\t<tr><th scope=row>4</th><td>2003</td><td>1</td><td>3</td><td>002927</td><td>20.46948</td><td>0.11298677</td><td>0.01455300</td><td>0.1340589</td><td>2.079442</td><td>0.546695</td><td>0.5815104</td><td>-0.03933086</td></tr>\n",
       "\t<tr><th scope=row>5</th><td>2003</td><td>1</td><td>3</td><td>600183</td><td>21.26687</td><td>0.35516939</td><td>0.05662533</td><td>0.3570506</td><td>2.079442</td><td>0.260513</td><td>0.5815104</td><td>-0.03933086</td></tr>\n",
       "\t<tr><th scope=row>6</th><td>2003</td><td>1</td><td>3</td><td>300490</td><td>20.71158</td><td>0.44147062</td><td>0.05377800</td><td>0.7550653</td><td>2.197225</td><td>0.467391</td><td>0.5815104</td><td>-0.03933086</td></tr>\n",
       "</tbody>\n",
       "</table>\n"
      ],
      "text/latex": [
       "A data.frame: 6 x 12\n",
       "\\begin{tabular}{r|llllllllllll}\n",
       "  & year & quarter & month & stkcd & Size & Lev & ROA & BM & Board & Top1 & gdp\\_growth\\_rate & m2\\_growth\\_rate\\\\\n",
       "  & <int> & <int> & <dbl> & <chr> & <dbl> & <dbl> & <dbl> & <dbl> & <dbl> & <dbl> & <dbl> & <dbl>\\\\\n",
       "\\hline\n",
       "\t1 & 2003 & 1 & 3 & 002947 & 20.88399 & 0.06068584 & 0.03061200 & 0.2260714 & 2.197225 & 0.381855 & 0.5815104 & -0.03933086\\\\\n",
       "\t2 & 2003 & 1 & 3 & 600193 & 20.39576 & 0.58510780 & 0.02060000 & 0.4678771 & 2.397895 & 0.193588 & 0.5815104 & -0.03933086\\\\\n",
       "\t3 & 2003 & 1 & 3 & 002943 & 20.74958 & 0.24115777 & 0.12671700 & 0.2941725 & 2.079442 & 0.355670 & 0.5815104 & -0.03933086\\\\\n",
       "\t4 & 2003 & 1 & 3 & 002927 & 20.46948 & 0.11298677 & 0.01455300 & 0.1340589 & 2.079442 & 0.546695 & 0.5815104 & -0.03933086\\\\\n",
       "\t5 & 2003 & 1 & 3 & 600183 & 21.26687 & 0.35516939 & 0.05662533 & 0.3570506 & 2.079442 & 0.260513 & 0.5815104 & -0.03933086\\\\\n",
       "\t6 & 2003 & 1 & 3 & 300490 & 20.71158 & 0.44147062 & 0.05377800 & 0.7550653 & 2.197225 & 0.467391 & 0.5815104 & -0.03933086\\\\\n",
       "\\end{tabular}\n"
      ],
      "text/markdown": [
       "\n",
       "A data.frame: 6 x 12\n",
       "\n",
       "| <!--/--> | year &lt;int&gt; | quarter &lt;int&gt; | month &lt;dbl&gt; | stkcd &lt;chr&gt; | Size &lt;dbl&gt; | Lev &lt;dbl&gt; | ROA &lt;dbl&gt; | BM &lt;dbl&gt; | Board &lt;dbl&gt; | Top1 &lt;dbl&gt; | gdp_growth_rate &lt;dbl&gt; | m2_growth_rate &lt;dbl&gt; |\n",
       "|---|---|---|---|---|---|---|---|---|---|---|---|---|\n",
       "| 1 | 2003 | 1 | 3 | 002947 | 20.88399 | 0.06068584 | 0.03061200 | 0.2260714 | 2.197225 | 0.381855 | 0.5815104 | -0.03933086 |\n",
       "| 2 | 2003 | 1 | 3 | 600193 | 20.39576 | 0.58510780 | 0.02060000 | 0.4678771 | 2.397895 | 0.193588 | 0.5815104 | -0.03933086 |\n",
       "| 3 | 2003 | 1 | 3 | 002943 | 20.74958 | 0.24115777 | 0.12671700 | 0.2941725 | 2.079442 | 0.355670 | 0.5815104 | -0.03933086 |\n",
       "| 4 | 2003 | 1 | 3 | 002927 | 20.46948 | 0.11298677 | 0.01455300 | 0.1340589 | 2.079442 | 0.546695 | 0.5815104 | -0.03933086 |\n",
       "| 5 | 2003 | 1 | 3 | 600183 | 21.26687 | 0.35516939 | 0.05662533 | 0.3570506 | 2.079442 | 0.260513 | 0.5815104 | -0.03933086 |\n",
       "| 6 | 2003 | 1 | 3 | 300490 | 20.71158 | 0.44147062 | 0.05377800 | 0.7550653 | 2.197225 | 0.467391 | 0.5815104 | -0.03933086 |\n",
       "\n"
      ],
      "text/plain": [
       "  year quarter month stkcd  Size     Lev        ROA        BM        Board   \n",
       "1 2003 1       3     002947 20.88399 0.06068584 0.03061200 0.2260714 2.197225\n",
       "2 2003 1       3     600193 20.39576 0.58510780 0.02060000 0.4678771 2.397895\n",
       "3 2003 1       3     002943 20.74958 0.24115777 0.12671700 0.2941725 2.079442\n",
       "4 2003 1       3     002927 20.46948 0.11298677 0.01455300 0.1340589 2.079442\n",
       "5 2003 1       3     600183 21.26687 0.35516939 0.05662533 0.3570506 2.079442\n",
       "6 2003 1       3     300490 20.71158 0.44147062 0.05377800 0.7550653 2.197225\n",
       "  Top1     gdp_growth_rate m2_growth_rate\n",
       "1 0.381855 0.5815104       -0.03933086   \n",
       "2 0.193588 0.5815104       -0.03933086   \n",
       "3 0.355670 0.5815104       -0.03933086   \n",
       "4 0.546695 0.5815104       -0.03933086   \n",
       "5 0.260513 0.5815104       -0.03933086   \n",
       "6 0.467391 0.5815104       -0.03933086   "
      ]
     },
     "metadata": {},
     "output_type": "display_data"
    }
   ],
   "source": [
    "# Merge the control_micro and control_macro datasets\n",
    "# This will add macro variables to each stock in each time period\n",
    "\n",
    "# First, check dimensions of input datasets\n",
    "cat(\"Control_micro dimensions:\", dim(control_micro)[1], \"observations,\", dim(control_micro)[2], \"variables\\n\")\n",
    "cat(\"Control_macro dimensions:\", dim(control_macro)[1], \"observations,\", dim(control_macro)[2], \"variables\\n\")\n",
    "\n",
    "# Perform the merge using merge() function with an inner join approach\n",
    "control <- merge(\n",
    "    control_micro,  # Stock-level micro controls\n",
    "    control_macro,  # Time-level macro controls\n",
    "    by = c(\"year\", \"quarter\", \"month\"),  # Join keys\n",
    "    all.x = FALSE,  # Inner join to keep only matched records\n",
    "    all.y = FALSE\n",
    ")\n",
    "\n",
    "# Verify the structure of the merged dataset\n",
    "cat(\"\\nMerged control dataset dimensions:\", dim(control)[1], \"observations,\", dim(control)[2], \"variables\\n\")\n",
    "cat(\"Number of stocks in merged dataset:\", length(unique(control$stkcd)), \"\\n\")\n",
    "cat(\"Time period covered:\", min(paste(control$year, \"Q\", control$quarter)), \"to\", \n",
    "        max(paste(control$year, \"Q\", control$quarter)), \"\\n\")\n",
    "\n",
    "# Check for missing values in key columns\n",
    "missing_counts <- colSums(is.na(control))\n",
    "if (any(missing_counts > 0)) {\n",
    "    cat(\"\\nMissing values found in the following columns:\\n\")\n",
    "    print(missing_counts[missing_counts > 0])\n",
    "} else {\n",
    "    cat(\"\\nNo missing values in the merged dataset\\n\")\n",
    "}\n",
    "\n",
    "# Display the first few rows of the merged dataset\n",
    "head(control)"
   ]
  },
  {
   "cell_type": "markdown",
   "id": "b85021e6",
   "metadata": {},
   "source": [
    "## Panel preparation"
   ]
  },
  {
   "cell_type": "markdown",
   "id": "d4df9218",
   "metadata": {},
   "source": [
    "### Variable Calculation"
   ]
  },
  {
   "cell_type": "markdown",
   "id": "b3335276",
   "metadata": {},
   "source": [
    "#### GFC"
   ]
  },
  {
   "cell_type": "code",
   "execution_count": 45,
   "id": "4a64fd7d",
   "metadata": {
    "vscode": {
     "languageId": "r"
    }
   },
   "outputs": [
    {
     "name": "stdout",
     "output_type": "stream",
     "text": [
      "GFC indicators calculated for 138 quarters\n"
     ]
    },
    {
     "data": {
      "text/html": [
       "<table class=\"dataframe\">\n",
       "<caption>A data.frame: 6 x 6</caption>\n",
       "<thead>\n",
       "\t<tr><th></th><th scope=col>year</th><th scope=col>month</th><th scope=col>quarter</th><th scope=col>log_diff_lag1</th><th scope=col>log_diff_avg_lag1</th><th scope=col>diff_gfcf_lag1</th></tr>\n",
       "\t<tr><th></th><th scope=col>&lt;int&gt;</th><th scope=col>&lt;dbl&gt;</th><th scope=col>&lt;dbl&gt;</th><th scope=col>&lt;dbl&gt;</th><th scope=col>&lt;dbl&gt;</th><th scope=col>&lt;dbl&gt;</th></tr>\n",
       "</thead>\n",
       "<tbody>\n",
       "\t<tr><th scope=row>3</th><td>1990</td><td> 9</td><td>3</td><td>-0.12035515</td><td>-0.16693099</td><td> 0.11544264</td></tr>\n",
       "\t<tr><th scope=row>4</th><td>1990</td><td>12</td><td>4</td><td> 0.41179163</td><td> 0.29528976</td><td>-1.08445686</td></tr>\n",
       "\t<tr><th scope=row>5</th><td>1991</td><td> 3</td><td>1</td><td>-0.07071789</td><td> 0.02621695</td><td> 0.07670249</td></tr>\n",
       "\t<tr><th scope=row>6</th><td>1991</td><td> 6</td><td>2</td><td> 0.06328700</td><td>-0.15112439</td><td> 0.67129779</td></tr>\n",
       "\t<tr><th scope=row>7</th><td>1991</td><td> 9</td><td>3</td><td>-0.58734477</td><td>-0.26578044</td><td>-0.01359283</td></tr>\n",
       "\t<tr><th scope=row>8</th><td>1991</td><td>12</td><td>4</td><td> 0.05181503</td><td>-0.02721769</td><td> 0.02934118</td></tr>\n",
       "</tbody>\n",
       "</table>\n"
      ],
      "text/latex": [
       "A data.frame: 6 x 6\n",
       "\\begin{tabular}{r|llllll}\n",
       "  & year & month & quarter & log\\_diff\\_lag1 & log\\_diff\\_avg\\_lag1 & diff\\_gfcf\\_lag1\\\\\n",
       "  & <int> & <dbl> & <dbl> & <dbl> & <dbl> & <dbl>\\\\\n",
       "\\hline\n",
       "\t3 & 1990 &  9 & 3 & -0.12035515 & -0.16693099 &  0.11544264\\\\\n",
       "\t4 & 1990 & 12 & 4 &  0.41179163 &  0.29528976 & -1.08445686\\\\\n",
       "\t5 & 1991 &  3 & 1 & -0.07071789 &  0.02621695 &  0.07670249\\\\\n",
       "\t6 & 1991 &  6 & 2 &  0.06328700 & -0.15112439 &  0.67129779\\\\\n",
       "\t7 & 1991 &  9 & 3 & -0.58734477 & -0.26578044 & -0.01359283\\\\\n",
       "\t8 & 1991 & 12 & 4 &  0.05181503 & -0.02721769 &  0.02934118\\\\\n",
       "\\end{tabular}\n"
      ],
      "text/markdown": [
       "\n",
       "A data.frame: 6 x 6\n",
       "\n",
       "| <!--/--> | year &lt;int&gt; | month &lt;dbl&gt; | quarter &lt;dbl&gt; | log_diff_lag1 &lt;dbl&gt; | log_diff_avg_lag1 &lt;dbl&gt; | diff_gfcf_lag1 &lt;dbl&gt; |\n",
       "|---|---|---|---|---|---|---|\n",
       "| 3 | 1990 |  9 | 3 | -0.12035515 | -0.16693099 |  0.11544264 |\n",
       "| 4 | 1990 | 12 | 4 |  0.41179163 |  0.29528976 | -1.08445686 |\n",
       "| 5 | 1991 |  3 | 1 | -0.07071789 |  0.02621695 |  0.07670249 |\n",
       "| 6 | 1991 |  6 | 2 |  0.06328700 | -0.15112439 |  0.67129779 |\n",
       "| 7 | 1991 |  9 | 3 | -0.58734477 | -0.26578044 | -0.01359283 |\n",
       "| 8 | 1991 | 12 | 4 |  0.05181503 | -0.02721769 |  0.02934118 |\n",
       "\n"
      ],
      "text/plain": [
       "  year month quarter log_diff_lag1 log_diff_avg_lag1 diff_gfcf_lag1\n",
       "3 1990  9    3       -0.12035515   -0.16693099        0.11544264   \n",
       "4 1990 12    4        0.41179163    0.29528976       -1.08445686   \n",
       "5 1991  3    1       -0.07071789    0.02621695        0.07670249   \n",
       "6 1991  6    2        0.06328700   -0.15112439        0.67129779   \n",
       "7 1991  9    3       -0.58734477   -0.26578044       -0.01359283   \n",
       "8 1991 12    4        0.05181503   -0.02721769        0.02934118   "
      ]
     },
     "metadata": {},
     "output_type": "display_data"
    }
   ],
   "source": [
    "# 1. Process VIX for quarter-end values\n",
    "vix$year <- as.integer(format(vix$date, \"%Y\"))\n",
    "vix$month <- as.integer(format(vix$date, \"%m\"))\n",
    "vix$quarter <- ceiling(vix$month / 3)\n",
    "\n",
    "# Find last trading day of each quarter\n",
    "vix_quarter_end <- aggregate(\n",
    "    cbind(date, close) ~ year + quarter, \n",
    "    data = vix, \n",
    "    FUN = function(x) x[which.max(as.Date(x))]\n",
    ")\n",
    "vix_quarter_end$month <- vix_quarter_end$quarter * 3  # Last month of quarter\n",
    "\n",
    "# 2. Process VIX for quarterly averages\n",
    "vix_quarterly_avg <- aggregate(close ~ year + quarter, data = vix, FUN = mean)\n",
    "vix_quarterly_avg$month <- vix_quarterly_avg$quarter * 3\n",
    "\n",
    "# 3. Process GFCF for quarter-end values\n",
    "gfcf_quarter_end <- gfcf[gfcf$month %in% c(3, 6, 9, 12), ]\n",
    "gfcf_quarter_end$quarter <- ceiling(gfcf_quarter_end$month / 3)\n",
    "\n",
    "# Calculate logs and first differences\n",
    "# 1. VIX quarter-end\n",
    "vix_quarter_end$log_vix <- log(vix_quarter_end$close)\n",
    "vix_quarter_end <- vix_quarter_end[order(vix_quarter_end$year, vix_quarter_end$quarter), ]\n",
    "vix_quarter_end$log_diff <- c(NA, diff(vix_quarter_end$log_vix))\n",
    "\n",
    "# 2. VIX quarterly average\n",
    "vix_quarterly_avg$log_vix_avg <- log(vix_quarterly_avg$close)\n",
    "vix_quarterly_avg <- vix_quarterly_avg[order(vix_quarterly_avg$year, vix_quarterly_avg$quarter), ]\n",
    "vix_quarterly_avg$log_diff_avg <- c(NA, diff(vix_quarterly_avg$log_vix_avg))\n",
    "\n",
    "# 3. GFCF quarter-end - CHANGED: using direct difference instead of log difference\n",
    "gfcf_quarter_end <- gfcf_quarter_end[order(gfcf_quarter_end$year, gfcf_quarter_end$quarter), ]\n",
    "gfcf_quarter_end$diff_gfcf <- c(NA, diff(gfcf_quarter_end$gfcf))\n",
    "\n",
    "# Merge indicators using inner joins to keep only periods with all data available\n",
    "# First merge VIX quarter-end with VIX quarterly average\n",
    "gfc_indicators <- merge(\n",
    "    vix_quarter_end[, c(\"year\", \"quarter\", \"month\", \"log_diff\")],\n",
    "    vix_quarterly_avg[, c(\"year\", \"quarter\", \"log_diff_avg\")],\n",
    "    by = c(\"year\", \"quarter\"),\n",
    "    all = FALSE  # Inner join\n",
    ")\n",
    "\n",
    "# Then merge with GFCF quarter-end - CHANGED: using diff_gfcf instead of log_diff_gfcf\n",
    "gfc_indicators <- merge(\n",
    "    gfc_indicators,\n",
    "    gfcf_quarter_end[, c(\"year\", \"quarter\", \"diff_gfcf\")],\n",
    "    by = c(\"year\", \"quarter\"),\n",
    "    all = FALSE  # Inner join\n",
    ")\n",
    "\n",
    "# Sort chronologically\n",
    "gfc_indicators <- gfc_indicators[order(gfc_indicators$year, gfc_indicators$quarter), ]\n",
    "\n",
    "# Add lagged values (for t-1 period)\n",
    "gfc_indicators$log_diff_lag1 <- c(NA, gfc_indicators$log_diff[-nrow(gfc_indicators)])\n",
    "gfc_indicators$log_diff_avg_lag1 <- c(NA, gfc_indicators$log_diff_avg[-nrow(gfc_indicators)])\n",
    "gfc_indicators$diff_gfcf_lag1 <- c(NA, gfc_indicators$diff_gfcf[-nrow(gfc_indicators)])\n",
    "\n",
    "# Add date column for easier merging\n",
    "gfc_indicators$date <- as.Date(paste(gfc_indicators$year, gfc_indicators$month, \"01\", sep = \"-\"))\n",
    "\n",
    "gfc_indicators <- gfc_indicators[, c(\"year\", \"month\", \"quarter\", \"log_diff_lag1\", \"log_diff_avg_lag1\", \"diff_gfcf_lag1\")]\n",
    "\n",
    "# Remove rows with NA for lagged values (first period)\n",
    "gfc_indicators <- gfc_indicators[!is.na(gfc_indicators$log_diff_lag1), ]\n",
    "\n",
    "# Display summary\n",
    "cat(\"GFC indicators calculated for\", nrow(gfc_indicators), \"quarters\\n\")\n",
    "head(gfc_indicators)"
   ]
  },
  {
   "cell_type": "markdown",
   "id": "e10b6259",
   "metadata": {},
   "source": [
    "#### Volatility"
   ]
  },
  {
   "cell_type": "markdown",
   "id": "9a998fb8",
   "metadata": {},
   "source": [
    "- Calculate the volatility as the standard deviation of return rate cycle component within a 48-month (4-year) rolling window"
   ]
  },
  {
   "cell_type": "code",
   "execution_count": 46,
   "id": "5b325607",
   "metadata": {
    "vscode": {
     "languageId": "r"
    }
   },
   "outputs": [
    {
     "data": {
      "text/html": [
       "<table class=\"dataframe\">\n",
       "<caption>A data.frame: 6 x 152</caption>\n",
       "<thead>\n",
       "\t<tr><th></th><th scope=col>year</th><th scope=col>quarter</th><th scope=col>month</th><th scope=col>000001</th><th scope=col>000002</th><th scope=col>000063</th><th scope=col>000157</th><th scope=col>000301</th><th scope=col>000338</th><th scope=col>000425</th><th scope=col>...</th><th scope=col>601857</th><th scope=col>601872</th><th scope=col>601877</th><th scope=col>601888</th><th scope=col>601898</th><th scope=col>601899</th><th scope=col>601939</th><th scope=col>601988</th><th scope=col>601989</th><th scope=col>601998</th></tr>\n",
       "\t<tr><th></th><th scope=col>&lt;int&gt;</th><th scope=col>&lt;dbl&gt;</th><th scope=col>&lt;int&gt;</th><th scope=col>&lt;dbl&gt;</th><th scope=col>&lt;dbl&gt;</th><th scope=col>&lt;dbl&gt;</th><th scope=col>&lt;dbl&gt;</th><th scope=col>&lt;dbl&gt;</th><th scope=col>&lt;dbl&gt;</th><th scope=col>&lt;dbl&gt;</th><th scope=col>...</th><th scope=col>&lt;dbl&gt;</th><th scope=col>&lt;dbl&gt;</th><th scope=col>&lt;dbl&gt;</th><th scope=col>&lt;dbl&gt;</th><th scope=col>&lt;dbl&gt;</th><th scope=col>&lt;dbl&gt;</th><th scope=col>&lt;dbl&gt;</th><th scope=col>&lt;dbl&gt;</th><th scope=col>&lt;dbl&gt;</th><th scope=col>&lt;dbl&gt;</th></tr>\n",
       "</thead>\n",
       "<tbody>\n",
       "\t<tr><th scope=row>48</th><td>2016</td><td>1</td><td>1</td><td>11.12355</td><td>9.253694</td><td>10.36819</td><td>8.614711</td><td>10.66467</td><td>8.384462</td><td>10.86323</td><td>...</td><td>5.498045</td><td>13.19412</td><td>7.315076</td><td>6.999269</td><td>11.08972</td><td>11.02880</td><td>6.496128</td><td>5.750086</td><td>12.35487</td><td>10.51822</td></tr>\n",
       "\t<tr><th scope=row>49</th><td>2016</td><td>1</td><td>2</td><td>11.13727</td><td>9.219553</td><td>10.09476</td><td>8.599081</td><td>10.61434</td><td>8.360619</td><td>10.84743</td><td>...</td><td>5.460883</td><td>13.17024</td><td>7.197324</td><td>7.070943</td><td>11.03373</td><td>11.05998</td><td>6.541287</td><td>5.741362</td><td>12.27668</td><td>10.51063</td></tr>\n",
       "\t<tr><th scope=row>50</th><td>2016</td><td>1</td><td>3</td><td>11.18649</td><td>9.219607</td><td>10.16105</td><td>8.700393</td><td>10.68461</td><td>8.358254</td><td>11.06297</td><td>...</td><td>5.436743</td><td>13.21019</td><td>7.212554</td><td>7.118779</td><td>11.02220</td><td>10.95722</td><td>6.615632</td><td>5.819976</td><td>12.76728</td><td>10.63625</td></tr>\n",
       "\t<tr><th scope=row>51</th><td>2016</td><td>2</td><td>4</td><td>11.15866</td><td>9.176814</td><td>10.20220</td><td>8.458706</td><td>10.42040</td><td>8.185450</td><td>10.81323</td><td>...</td><td>5.413795</td><td>13.14946</td><td>7.282186</td><td>6.939559</td><td>10.98761</td><td>10.91621</td><td>6.636956</td><td>5.813161</td><td>12.79760</td><td>10.60346</td></tr>\n",
       "\t<tr><th scope=row>52</th><td>2016</td><td>2</td><td>5</td><td>11.13431</td><td>9.179539</td><td>10.16375</td><td>8.316153</td><td>10.44452</td><td>8.190901</td><td>10.82345</td><td>...</td><td>5.389511</td><td>13.05255</td><td>7.278994</td><td>6.852661</td><td>11.02849</td><td>10.94166</td><td>6.605485</td><td>5.812899</td><td>12.79711</td><td>10.57233</td></tr>\n",
       "\t<tr><th scope=row>53</th><td>2016</td><td>2</td><td>6</td><td>11.12291</td><td>9.148981</td><td>10.10884</td><td>8.268319</td><td>10.36937</td><td>8.110892</td><td>10.83932</td><td>...</td><td>5.387518</td><td>13.03673</td><td>7.188860</td><td>6.837364</td><td>10.98823</td><td>11.01500</td><td>6.612699</td><td>5.806923</td><td>12.70478</td><td>10.55278</td></tr>\n",
       "</tbody>\n",
       "</table>\n"
      ],
      "text/latex": [
       "A data.frame: 6 x 152\n",
       "\\begin{tabular}{r|lllllllllllllllllllll}\n",
       "  & year & quarter & month & 000001 & 000002 & 000063 & 000157 & 000301 & 000338 & 000425 & ... & 601857 & 601872 & 601877 & 601888 & 601898 & 601899 & 601939 & 601988 & 601989 & 601998\\\\\n",
       "  & <int> & <dbl> & <int> & <dbl> & <dbl> & <dbl> & <dbl> & <dbl> & <dbl> & <dbl> & ... & <dbl> & <dbl> & <dbl> & <dbl> & <dbl> & <dbl> & <dbl> & <dbl> & <dbl> & <dbl>\\\\\n",
       "\\hline\n",
       "\t48 & 2016 & 1 & 1 & 11.12355 & 9.253694 & 10.36819 & 8.614711 & 10.66467 & 8.384462 & 10.86323 & ... & 5.498045 & 13.19412 & 7.315076 & 6.999269 & 11.08972 & 11.02880 & 6.496128 & 5.750086 & 12.35487 & 10.51822\\\\\n",
       "\t49 & 2016 & 1 & 2 & 11.13727 & 9.219553 & 10.09476 & 8.599081 & 10.61434 & 8.360619 & 10.84743 & ... & 5.460883 & 13.17024 & 7.197324 & 7.070943 & 11.03373 & 11.05998 & 6.541287 & 5.741362 & 12.27668 & 10.51063\\\\\n",
       "\t50 & 2016 & 1 & 3 & 11.18649 & 9.219607 & 10.16105 & 8.700393 & 10.68461 & 8.358254 & 11.06297 & ... & 5.436743 & 13.21019 & 7.212554 & 7.118779 & 11.02220 & 10.95722 & 6.615632 & 5.819976 & 12.76728 & 10.63625\\\\\n",
       "\t51 & 2016 & 2 & 4 & 11.15866 & 9.176814 & 10.20220 & 8.458706 & 10.42040 & 8.185450 & 10.81323 & ... & 5.413795 & 13.14946 & 7.282186 & 6.939559 & 10.98761 & 10.91621 & 6.636956 & 5.813161 & 12.79760 & 10.60346\\\\\n",
       "\t52 & 2016 & 2 & 5 & 11.13431 & 9.179539 & 10.16375 & 8.316153 & 10.44452 & 8.190901 & 10.82345 & ... & 5.389511 & 13.05255 & 7.278994 & 6.852661 & 11.02849 & 10.94166 & 6.605485 & 5.812899 & 12.79711 & 10.57233\\\\\n",
       "\t53 & 2016 & 2 & 6 & 11.12291 & 9.148981 & 10.10884 & 8.268319 & 10.36937 & 8.110892 & 10.83932 & ... & 5.387518 & 13.03673 & 7.188860 & 6.837364 & 10.98823 & 11.01500 & 6.612699 & 5.806923 & 12.70478 & 10.55278\\\\\n",
       "\\end{tabular}\n"
      ],
      "text/markdown": [
       "\n",
       "A data.frame: 6 x 152\n",
       "\n",
       "| <!--/--> | year &lt;int&gt; | quarter &lt;dbl&gt; | month &lt;int&gt; | 000001 &lt;dbl&gt; | 000002 &lt;dbl&gt; | 000063 &lt;dbl&gt; | 000157 &lt;dbl&gt; | 000301 &lt;dbl&gt; | 000338 &lt;dbl&gt; | 000425 &lt;dbl&gt; | ... ... | 601857 &lt;dbl&gt; | 601872 &lt;dbl&gt; | 601877 &lt;dbl&gt; | 601888 &lt;dbl&gt; | 601898 &lt;dbl&gt; | 601899 &lt;dbl&gt; | 601939 &lt;dbl&gt; | 601988 &lt;dbl&gt; | 601989 &lt;dbl&gt; | 601998 &lt;dbl&gt; |\n",
       "|---|---|---|---|---|---|---|---|---|---|---|---|---|---|---|---|---|---|---|---|---|---|\n",
       "| 48 | 2016 | 1 | 1 | 11.12355 | 9.253694 | 10.36819 | 8.614711 | 10.66467 | 8.384462 | 10.86323 | ... | 5.498045 | 13.19412 | 7.315076 | 6.999269 | 11.08972 | 11.02880 | 6.496128 | 5.750086 | 12.35487 | 10.51822 |\n",
       "| 49 | 2016 | 1 | 2 | 11.13727 | 9.219553 | 10.09476 | 8.599081 | 10.61434 | 8.360619 | 10.84743 | ... | 5.460883 | 13.17024 | 7.197324 | 7.070943 | 11.03373 | 11.05998 | 6.541287 | 5.741362 | 12.27668 | 10.51063 |\n",
       "| 50 | 2016 | 1 | 3 | 11.18649 | 9.219607 | 10.16105 | 8.700393 | 10.68461 | 8.358254 | 11.06297 | ... | 5.436743 | 13.21019 | 7.212554 | 7.118779 | 11.02220 | 10.95722 | 6.615632 | 5.819976 | 12.76728 | 10.63625 |\n",
       "| 51 | 2016 | 2 | 4 | 11.15866 | 9.176814 | 10.20220 | 8.458706 | 10.42040 | 8.185450 | 10.81323 | ... | 5.413795 | 13.14946 | 7.282186 | 6.939559 | 10.98761 | 10.91621 | 6.636956 | 5.813161 | 12.79760 | 10.60346 |\n",
       "| 52 | 2016 | 2 | 5 | 11.13431 | 9.179539 | 10.16375 | 8.316153 | 10.44452 | 8.190901 | 10.82345 | ... | 5.389511 | 13.05255 | 7.278994 | 6.852661 | 11.02849 | 10.94166 | 6.605485 | 5.812899 | 12.79711 | 10.57233 |\n",
       "| 53 | 2016 | 2 | 6 | 11.12291 | 9.148981 | 10.10884 | 8.268319 | 10.36937 | 8.110892 | 10.83932 | ... | 5.387518 | 13.03673 | 7.188860 | 6.837364 | 10.98823 | 11.01500 | 6.612699 | 5.806923 | 12.70478 | 10.55278 |\n",
       "\n"
      ],
      "text/plain": [
       "   year quarter month 000001   000002   000063   000157   000301   000338  \n",
       "48 2016 1       1     11.12355 9.253694 10.36819 8.614711 10.66467 8.384462\n",
       "49 2016 1       2     11.13727 9.219553 10.09476 8.599081 10.61434 8.360619\n",
       "50 2016 1       3     11.18649 9.219607 10.16105 8.700393 10.68461 8.358254\n",
       "51 2016 2       4     11.15866 9.176814 10.20220 8.458706 10.42040 8.185450\n",
       "52 2016 2       5     11.13431 9.179539 10.16375 8.316153 10.44452 8.190901\n",
       "53 2016 2       6     11.12291 9.148981 10.10884 8.268319 10.36937 8.110892\n",
       "   000425   ... 601857   601872   601877   601888   601898   601899   601939  \n",
       "48 10.86323 ... 5.498045 13.19412 7.315076 6.999269 11.08972 11.02880 6.496128\n",
       "49 10.84743 ... 5.460883 13.17024 7.197324 7.070943 11.03373 11.05998 6.541287\n",
       "50 11.06297 ... 5.436743 13.21019 7.212554 7.118779 11.02220 10.95722 6.615632\n",
       "51 10.81323 ... 5.413795 13.14946 7.282186 6.939559 10.98761 10.91621 6.636956\n",
       "52 10.82345 ... 5.389511 13.05255 7.278994 6.852661 11.02849 10.94166 6.605485\n",
       "53 10.83932 ... 5.387518 13.03673 7.188860 6.837364 10.98823 11.01500 6.612699\n",
       "   601988   601989   601998  \n",
       "48 5.750086 12.35487 10.51822\n",
       "49 5.741362 12.27668 10.51063\n",
       "50 5.819976 12.76728 10.63625\n",
       "51 5.813161 12.79760 10.60346\n",
       "52 5.812899 12.79711 10.57233\n",
       "53 5.806923 12.70478 10.55278"
      ]
     },
     "metadata": {},
     "output_type": "display_data"
    }
   ],
   "source": [
    "library(zoo)\n",
    "\n",
    "# Create a new dataframe to store the volatilities with year and month from cycle\n",
    "volatility <- data.frame(year = cycle$year, month = cycle$month)\n",
    "\n",
    "# Set the window size for rolling volatility calculation\n",
    "window_size <- 48 # 48 months\n",
    "\n",
    "# Ensure data is sorted chronologically\n",
    "cycle <- cycle[order(cycle$year, cycle$month), ]\n",
    "volatility <- volatility[order(volatility$year, volatility$month), ]\n",
    "\n",
    "# Calculate simple rolling standard deviation for each stock\n",
    "for (id in stock_id) {\n",
    "    # Use rollapply with standard deviation function\n",
    "    vol <- rollapply(cycle[,id], width=window_size, \n",
    "                    FUN=function(x) sd(x, na.rm=TRUE), \n",
    "                    fill=NA, align=\"right\")\n",
    "    volatility[,id] <- vol\n",
    "}\n",
    "\n",
    "# Remove rows with NA values (first 47 observations due to the rolling window)\n",
    "volatility <- na.omit(volatility)\n",
    "\n",
    "# Add quarter column\n",
    "volatility$quarter <- ceiling(volatility$month / 3)  # Calculate quarter from month\n",
    "\n",
    "# Reorder columns to put year, quarter, month first, followed by stock columns\n",
    "volatility <- volatility[, c(\"year\", \"quarter\", \"month\", stock_id)]\n",
    "\n",
    "# Display the first few rows of the volatility dataframe\n",
    "head(volatility)\n"
   ]
  },
  {
   "cell_type": "markdown",
   "id": "0302ea7b",
   "metadata": {},
   "source": [
    "- Convert the original volatility table from wide to long form"
   ]
  },
  {
   "cell_type": "code",
   "execution_count": 47,
   "id": "0b8b3b1f",
   "metadata": {
    "vscode": {
     "languageId": "r"
    }
   },
   "outputs": [
    {
     "name": "stdout",
     "output_type": "stream",
     "text": [
      "Observations per stock - summary:\n",
      "   Min. 1st Qu.  Median    Mean 3rd Qu.    Max. \n",
      "    111     111     111     111     111     111 \n",
      "\n",
      "Expected number of periods per stock: 111 \n",
      "Number of stocks with complete data: 149 out of 149 \n"
     ]
    },
    {
     "data": {
      "text/html": [
       "<table class=\"dataframe\">\n",
       "<caption>A data.frame: 6 x 5</caption>\n",
       "<thead>\n",
       "\t<tr><th></th><th scope=col>stkcd</th><th scope=col>year</th><th scope=col>quarter</th><th scope=col>month</th><th scope=col>volatility</th></tr>\n",
       "\t<tr><th></th><th scope=col>&lt;chr&gt;</th><th scope=col>&lt;int&gt;</th><th scope=col>&lt;dbl&gt;</th><th scope=col>&lt;int&gt;</th><th scope=col>&lt;dbl&gt;</th></tr>\n",
       "</thead>\n",
       "<tbody>\n",
       "\t<tr><th scope=row>1</th><td>000001</td><td>2016</td><td>1</td><td>1</td><td>11.12355</td></tr>\n",
       "\t<tr><th scope=row>2</th><td>000001</td><td>2016</td><td>1</td><td>2</td><td>11.13727</td></tr>\n",
       "\t<tr><th scope=row>3</th><td>000001</td><td>2016</td><td>1</td><td>3</td><td>11.18649</td></tr>\n",
       "\t<tr><th scope=row>4</th><td>000001</td><td>2016</td><td>2</td><td>4</td><td>11.15866</td></tr>\n",
       "\t<tr><th scope=row>5</th><td>000001</td><td>2016</td><td>2</td><td>5</td><td>11.13431</td></tr>\n",
       "\t<tr><th scope=row>6</th><td>000001</td><td>2016</td><td>2</td><td>6</td><td>11.12291</td></tr>\n",
       "</tbody>\n",
       "</table>\n"
      ],
      "text/latex": [
       "A data.frame: 6 x 5\n",
       "\\begin{tabular}{r|lllll}\n",
       "  & stkcd & year & quarter & month & volatility\\\\\n",
       "  & <chr> & <int> & <dbl> & <int> & <dbl>\\\\\n",
       "\\hline\n",
       "\t1 & 000001 & 2016 & 1 & 1 & 11.12355\\\\\n",
       "\t2 & 000001 & 2016 & 1 & 2 & 11.13727\\\\\n",
       "\t3 & 000001 & 2016 & 1 & 3 & 11.18649\\\\\n",
       "\t4 & 000001 & 2016 & 2 & 4 & 11.15866\\\\\n",
       "\t5 & 000001 & 2016 & 2 & 5 & 11.13431\\\\\n",
       "\t6 & 000001 & 2016 & 2 & 6 & 11.12291\\\\\n",
       "\\end{tabular}\n"
      ],
      "text/markdown": [
       "\n",
       "A data.frame: 6 x 5\n",
       "\n",
       "| <!--/--> | stkcd &lt;chr&gt; | year &lt;int&gt; | quarter &lt;dbl&gt; | month &lt;int&gt; | volatility &lt;dbl&gt; |\n",
       "|---|---|---|---|---|---|\n",
       "| 1 | 000001 | 2016 | 1 | 1 | 11.12355 |\n",
       "| 2 | 000001 | 2016 | 1 | 2 | 11.13727 |\n",
       "| 3 | 000001 | 2016 | 1 | 3 | 11.18649 |\n",
       "| 4 | 000001 | 2016 | 2 | 4 | 11.15866 |\n",
       "| 5 | 000001 | 2016 | 2 | 5 | 11.13431 |\n",
       "| 6 | 000001 | 2016 | 2 | 6 | 11.12291 |\n",
       "\n"
      ],
      "text/plain": [
       "  stkcd  year quarter month volatility\n",
       "1 000001 2016 1       1     11.12355  \n",
       "2 000001 2016 1       2     11.13727  \n",
       "3 000001 2016 1       3     11.18649  \n",
       "4 000001 2016 2       4     11.15866  \n",
       "5 000001 2016 2       5     11.13431  \n",
       "6 000001 2016 2       6     11.12291  "
      ]
     },
     "metadata": {},
     "output_type": "display_data"
    }
   ],
   "source": [
    "library(reshape2)\n",
    "\n",
    "# Filter the volatility data to keep only quarterly data (March, June, September, December)\n",
    "volatility_long <- volatility\n",
    "\n",
    "# Reshape from wide to long format\n",
    "volatility_molten <- melt(\n",
    "    volatility_long,\n",
    "    id.vars = c(\"year\", \"month\", \"quarter\"),\n",
    "    measure.vars = stock_id,\n",
    "    variable.name = \"stkcd\",\n",
    "    value.name = \"volatility\"\n",
    ")\n",
    "\n",
    "# Ensure stkcd is character type for consistent merging\n",
    "volatility_molten$stkcd <- as.character(volatility_molten$stkcd)\n",
    "\n",
    "# Create a new dataframe with selected columns\n",
    "volatility <- volatility_molten[, c(\"stkcd\", \"year\", \"quarter\", \"month\", \"volatility\")]\n",
    "\n",
    "# Check for time series continuity\n",
    "# Count observations per stock\n",
    "obs_per_stock <- table(volatility$stkcd)\n",
    "cat(\"Observations per stock - summary:\\n\")\n",
    "print(summary(as.numeric(obs_per_stock)))\n",
    "\n",
    "# Check if all stocks have the same number of time periods\n",
    "expected_periods <- length(unique(paste(volatility$year, volatility$month, sep=\"-\")))\n",
    "cat(\"\\nExpected number of periods per stock:\", expected_periods, \"\\n\")\n",
    "cat(\"Number of stocks with complete data:\", sum(obs_per_stock == expected_periods), \n",
    "    \"out of\", length(obs_per_stock), \"\\n\")\n",
    "\n",
    "# Check for any stocks with incomplete time series\n",
    "if(any(obs_per_stock != expected_periods)) {\n",
    "  cat(\"\\nStocks with incomplete time series:\\n\")\n",
    "  incomplete_stocks <- names(obs_per_stock)[obs_per_stock != expected_periods]\n",
    "  print(data.frame(\n",
    "    Stock = incomplete_stocks,\n",
    "    Observations = as.numeric(obs_per_stock[incomplete_stocks]),\n",
    "    Missing = expected_periods - as.numeric(obs_per_stock[incomplete_stocks])\n",
    "  ))\n",
    "}\n",
    "\n",
    "# Display the first few rows of the melted data\n",
    "head(volatility)"
   ]
  },
  {
   "cell_type": "markdown",
   "id": "5f259d8e",
   "metadata": {},
   "source": [
    "- Remove stocks incurred extreme volatility within observation period"
   ]
  },
  {
   "cell_type": "code",
   "execution_count": 48,
   "id": "996ac70b",
   "metadata": {
    "vscode": {
     "languageId": "r"
    }
   },
   "outputs": [
    {
     "name": "stdout",
     "output_type": "stream",
     "text": [
      "Period 2016-01: Removed 6 stocks to improve normality\n",
      "Period 2016-02: Removed 5 stocks to improve normality\n",
      "Period 2016-03: Removed 6 stocks to improve normality\n",
      "Period 2016-04: Removed 6 stocks to improve normality\n",
      "Period 2016-05: Removed 5 stocks to improve normality\n",
      "Period 2016-06: Removed 5 stocks to improve normality\n",
      "Period 2016-07: Removed 5 stocks to improve normality\n",
      "Period 2016-08: Removed 5 stocks to improve normality\n",
      "Period 2016-09: Removed 5 stocks to improve normality\n",
      "Period 2016-10: Removed 5 stocks to improve normality\n",
      "Period 2016-11: Removed 5 stocks to improve normality\n",
      "Period 2016-12: Removed 6 stocks to improve normality\n",
      "Period 2017-01: Removed 5 stocks to improve normality\n",
      "Period 2017-02: Removed 5 stocks to improve normality\n",
      "Period 2017-03: Removed 6 stocks to improve normality\n",
      "Period 2017-04: Removed 6 stocks to improve normality\n",
      "Period 2017-05: Removed 5 stocks to improve normality\n",
      "Period 2017-06: Removed 5 stocks to improve normality\n",
      "Period 2017-07: Removed 5 stocks to improve normality\n",
      "Period 2017-08: Removed 4 stocks to improve normality\n",
      "Period 2017-09: Removed 4 stocks to improve normality\n",
      "Period 2017-10: Removed 4 stocks to improve normality\n",
      "Period 2017-11: Removed 4 stocks to improve normality\n",
      "Period 2017-12: Removed 4 stocks to improve normality\n",
      "Period 2018-01: Removed 4 stocks to improve normality\n",
      "Period 2018-02: Removed 4 stocks to improve normality\n",
      "Period 2018-03: Removed 4 stocks to improve normality\n",
      "Period 2018-04: Removed 4 stocks to improve normality\n",
      "Period 2018-05: Removed 4 stocks to improve normality\n",
      "Period 2018-06: Removed 4 stocks to improve normality\n",
      "Period 2018-07: Removed 4 stocks to improve normality\n",
      "Period 2018-08: Removed 4 stocks to improve normality\n",
      "Period 2018-09: Removed 4 stocks to improve normality\n",
      "Period 2018-10: Removed 4 stocks to improve normality\n",
      "Period 2018-11: Removed 4 stocks to improve normality\n",
      "Period 2018-12: Removed 4 stocks to improve normality\n",
      "Period 2019-01: Removed 3 stocks to improve normality\n",
      "Period 2019-02: Removed 3 stocks to improve normality\n",
      "Period 2019-03: Removed 3 stocks to improve normality\n",
      "Period 2019-04: Removed 3 stocks to improve normality\n",
      "Period 2019-05: Removed 3 stocks to improve normality\n",
      "Period 2019-06: Removed 3 stocks to improve normality\n",
      "Period 2019-07: Removed 3 stocks to improve normality\n",
      "Period 2019-08: Removed 4 stocks to improve normality\n",
      "Period 2019-09: Removed 4 stocks to improve normality\n",
      "Period 2019-10: Removed 4 stocks to improve normality\n",
      "Period 2019-11: Removed 1 stocks to improve normality\n",
      "Period 2019-12: Removed 1 stocks to improve normality\n",
      "Period 2020-01: Removed 1 stocks to improve normality\n",
      "Period 2020-02: Removed 1 stocks to improve normality\n",
      "Period 2020-03: Removed 1 stocks to improve normality\n",
      "Period 2020-04: Removed 1 stocks to improve normality\n",
      "Period 2020-11: Removed 1 stocks to improve normality\n",
      "Period 2020-12: Removed 1 stocks to improve normality\n",
      "Period 2021-01: Removed 1 stocks to improve normality\n",
      "Period 2021-02: Removed 1 stocks to improve normality\n",
      "Removing 11 stocks to make distributions more normal\n",
      "\n",
      "Before filtering: 16539 observations, 149 stocks\n",
      "After filtering: 15318 observations, 138 stocks\n"
     ]
    },
    {
     "data": {
      "text/html": [
       "<table class=\"dataframe\">\n",
       "<caption>A data.frame: 6 x 5</caption>\n",
       "<thead>\n",
       "\t<tr><th></th><th scope=col>stkcd</th><th scope=col>year</th><th scope=col>quarter</th><th scope=col>month</th><th scope=col>volatility</th></tr>\n",
       "\t<tr><th></th><th scope=col>&lt;chr&gt;</th><th scope=col>&lt;int&gt;</th><th scope=col>&lt;dbl&gt;</th><th scope=col>&lt;int&gt;</th><th scope=col>&lt;dbl&gt;</th></tr>\n",
       "</thead>\n",
       "<tbody>\n",
       "\t<tr><th scope=row>1</th><td>000001</td><td>2016</td><td>1</td><td>1</td><td>11.12355</td></tr>\n",
       "\t<tr><th scope=row>2</th><td>000001</td><td>2016</td><td>1</td><td>2</td><td>11.13727</td></tr>\n",
       "\t<tr><th scope=row>3</th><td>000001</td><td>2016</td><td>1</td><td>3</td><td>11.18649</td></tr>\n",
       "\t<tr><th scope=row>4</th><td>000001</td><td>2016</td><td>2</td><td>4</td><td>11.15866</td></tr>\n",
       "\t<tr><th scope=row>5</th><td>000001</td><td>2016</td><td>2</td><td>5</td><td>11.13431</td></tr>\n",
       "\t<tr><th scope=row>6</th><td>000001</td><td>2016</td><td>2</td><td>6</td><td>11.12291</td></tr>\n",
       "</tbody>\n",
       "</table>\n"
      ],
      "text/latex": [
       "A data.frame: 6 x 5\n",
       "\\begin{tabular}{r|lllll}\n",
       "  & stkcd & year & quarter & month & volatility\\\\\n",
       "  & <chr> & <int> & <dbl> & <int> & <dbl>\\\\\n",
       "\\hline\n",
       "\t1 & 000001 & 2016 & 1 & 1 & 11.12355\\\\\n",
       "\t2 & 000001 & 2016 & 1 & 2 & 11.13727\\\\\n",
       "\t3 & 000001 & 2016 & 1 & 3 & 11.18649\\\\\n",
       "\t4 & 000001 & 2016 & 2 & 4 & 11.15866\\\\\n",
       "\t5 & 000001 & 2016 & 2 & 5 & 11.13431\\\\\n",
       "\t6 & 000001 & 2016 & 2 & 6 & 11.12291\\\\\n",
       "\\end{tabular}\n"
      ],
      "text/markdown": [
       "\n",
       "A data.frame: 6 x 5\n",
       "\n",
       "| <!--/--> | stkcd &lt;chr&gt; | year &lt;int&gt; | quarter &lt;dbl&gt; | month &lt;int&gt; | volatility &lt;dbl&gt; |\n",
       "|---|---|---|---|---|---|\n",
       "| 1 | 000001 | 2016 | 1 | 1 | 11.12355 |\n",
       "| 2 | 000001 | 2016 | 1 | 2 | 11.13727 |\n",
       "| 3 | 000001 | 2016 | 1 | 3 | 11.18649 |\n",
       "| 4 | 000001 | 2016 | 2 | 4 | 11.15866 |\n",
       "| 5 | 000001 | 2016 | 2 | 5 | 11.13431 |\n",
       "| 6 | 000001 | 2016 | 2 | 6 | 11.12291 |\n",
       "\n"
      ],
      "text/plain": [
       "  stkcd  year quarter month volatility\n",
       "1 000001 2016 1       1     11.12355  \n",
       "2 000001 2016 1       2     11.13727  \n",
       "3 000001 2016 1       3     11.18649  \n",
       "4 000001 2016 2       4     11.15866  \n",
       "5 000001 2016 2       5     11.13431  \n",
       "6 000001 2016 2       6     11.12291  "
      ]
     },
     "metadata": {},
     "output_type": "display_data"
    }
   ],
   "source": [
    "# Load required libraries for normality tests and statistics\n",
    "library(moments)  # For skewness and kurtosis functions\n",
    "\n",
    "# Initialize an empty vector to store outlier stock IDs\n",
    "outlier_stocks <- character(0)\n",
    "\n",
    "# Function to measure distance from normal distribution\n",
    "# Lower value = closer to normal distribution\n",
    "normality_distance <- function(x) {\n",
    "  # Calculate absolute skewness (0 for normal) and excess kurtosis (0 for normal)\n",
    "  sk <- abs(skewness(x, na.rm = TRUE))\n",
    "  kt <- abs(kurtosis(x, na.rm = TRUE) - 3)  # Normal kurtosis is 3\n",
    "  \n",
    "  # Combined distance metric\n",
    "  return(sk + kt/2)  # Weighting kurtosis less as it's more sensitive\n",
    "}\n",
    "\n",
    "# Get unique year-month combinations\n",
    "periods <- unique(volatility[, c(\"year\", \"month\")])\n",
    "\n",
    "# For each year-month period, transform distribution toward normal\n",
    "for (i in 1:nrow(periods)) {\n",
    "  curr_year <- periods$year[i]\n",
    "  curr_month <- periods$month[i]\n",
    "  \n",
    "  # Get data for this period\n",
    "  period_data <- volatility[volatility$year == curr_year & volatility$month == curr_month, ]\n",
    "  \n",
    "  # Skip if too few stocks for meaningful distribution shaping\n",
    "  if (nrow(period_data) < 10) next\n",
    "  \n",
    "  # Calculate initial normality distance\n",
    "  initial_distance <- normality_distance(period_data$volatility)\n",
    "  \n",
    "  # Prepare working copy of data\n",
    "  working_data <- period_data\n",
    "  period_stocks <- working_data$stkcd\n",
    "  period_values <- working_data$volatility\n",
    "  \n",
    "  # Set maximum percentage of stocks to remove (to avoid over-pruning)\n",
    "  max_remove_pct <- 0.1  # 10% maximum removal\n",
    "  max_removals <- floor(length(period_stocks) * max_remove_pct)\n",
    "  \n",
    "  # Iteratively remove extreme values\n",
    "  removals <- 0\n",
    "  period_outliers <- character(0)\n",
    "  \n",
    "  while (removals < max_removals) {\n",
    "    # Find current mean and standard deviation\n",
    "    curr_mean <- mean(period_values, na.rm = TRUE)\n",
    "    curr_sd <- sd(period_values, na.rm = TRUE)\n",
    "    \n",
    "    # Calculate z-scores to identify extremes\n",
    "    z_scores <- abs((period_values - curr_mean) / curr_sd)\n",
    "    \n",
    "    # Find the most extreme value (highest z-score)\n",
    "    max_idx <- which.max(z_scores)\n",
    "    \n",
    "    # Temporarily remove it\n",
    "    test_values <- period_values[-max_idx]\n",
    "    \n",
    "    # Check if removal improves normality\n",
    "    new_distance <- normality_distance(test_values)\n",
    "    \n",
    "    # Stop if no improvement or minimal improvement\n",
    "    if (new_distance >= initial_distance || (initial_distance - new_distance) < 0.05) {\n",
    "      break\n",
    "    }\n",
    "    \n",
    "    # Otherwise, keep this removal\n",
    "    period_outliers <- c(period_outliers, period_stocks[max_idx])\n",
    "    period_stocks <- period_stocks[-max_idx]\n",
    "    period_values <- test_values\n",
    "    removals <- removals + 1\n",
    "    initial_distance <- new_distance\n",
    "  }\n",
    "  \n",
    "  # Add to our master list of outlier stocks\n",
    "  outlier_stocks <- unique(c(outlier_stocks, period_outliers))\n",
    "  \n",
    "  # Report progress if significant removals made\n",
    "  if (length(period_outliers) > 0) {\n",
    "    cat(sprintf(\"Period %d-%02d: Removed %d stocks to improve normality\\n\", \n",
    "                curr_year, curr_month, length(period_outliers)))\n",
    "  }\n",
    "}\n",
    "\n",
    "# Print the stocks to be removed\n",
    "cat(\"Removing\", length(outlier_stocks), \"stocks to make distributions more normal\\n\")\n",
    "\n",
    "# Create a filtered version of the volatility dataframe\n",
    "volatility_filtered <- volatility[!volatility$stkcd %in% outlier_stocks, ]\n",
    "\n",
    "# Update stock_id list to exclude outlier stocks\n",
    "stock_id <- stock_id[!stock_id %in% outlier_stocks]\n",
    "\n",
    "# Print summary statistics before and after filtering\n",
    "cat(\"\\nBefore filtering:\", nrow(volatility), \"observations,\", length(unique(volatility$stkcd)), \"stocks\\n\")\n",
    "cat(\"After filtering:\", nrow(volatility_filtered), \"observations,\", length(unique(volatility_filtered$stkcd)), \"stocks\\n\")\n",
    "\n",
    "# Update the main volatility dataframe\n",
    "volatility <- volatility_filtered\n",
    "\n",
    "# Display the first few rows of the filtered dataframe\n",
    "head(volatility)"
   ]
  },
  {
   "cell_type": "code",
   "execution_count": 49,
   "id": "03e142ec",
   "metadata": {
    "vscode": {
     "languageId": "r"
    }
   },
   "outputs": [
    {
     "name": "stdout",
     "output_type": "stream",
     "text": [
      "New quarterly volatility dataset has 5106 observations for 138 stocks\n"
     ]
    },
    {
     "data": {
      "text/html": [
       "<table class=\"dataframe\">\n",
       "<caption>A data.frame: 6 x 6</caption>\n",
       "<thead>\n",
       "\t<tr><th></th><th scope=col>stkcd</th><th scope=col>year</th><th scope=col>quarter</th><th scope=col>month</th><th scope=col>volatility_end</th><th scope=col>volatility_avg</th></tr>\n",
       "\t<tr><th></th><th scope=col>&lt;chr&gt;</th><th scope=col>&lt;int&gt;</th><th scope=col>&lt;dbl&gt;</th><th scope=col>&lt;int&gt;</th><th scope=col>&lt;dbl&gt;</th><th scope=col>&lt;dbl&gt;</th></tr>\n",
       "</thead>\n",
       "<tbody>\n",
       "\t<tr><th scope=row>1</th><td>000001</td><td>2016</td><td>1</td><td> 3</td><td>11.186493</td><td>11.14910</td></tr>\n",
       "\t<tr><th scope=row>2</th><td>000001</td><td>2016</td><td>2</td><td> 6</td><td>11.122915</td><td>11.13863</td></tr>\n",
       "\t<tr><th scope=row>3</th><td>000001</td><td>2016</td><td>3</td><td> 9</td><td>11.070726</td><td>11.10746</td></tr>\n",
       "\t<tr><th scope=row>4</th><td>000001</td><td>2016</td><td>4</td><td>12</td><td>10.525422</td><td>10.88722</td></tr>\n",
       "\t<tr><th scope=row>5</th><td>000001</td><td>2017</td><td>1</td><td> 3</td><td>10.012477</td><td>10.14989</td></tr>\n",
       "\t<tr><th scope=row>6</th><td>000001</td><td>2017</td><td>2</td><td> 6</td><td> 9.142655</td><td> 9.63726</td></tr>\n",
       "</tbody>\n",
       "</table>\n"
      ],
      "text/latex": [
       "A data.frame: 6 x 6\n",
       "\\begin{tabular}{r|llllll}\n",
       "  & stkcd & year & quarter & month & volatility\\_end & volatility\\_avg\\\\\n",
       "  & <chr> & <int> & <dbl> & <int> & <dbl> & <dbl>\\\\\n",
       "\\hline\n",
       "\t1 & 000001 & 2016 & 1 &  3 & 11.186493 & 11.14910\\\\\n",
       "\t2 & 000001 & 2016 & 2 &  6 & 11.122915 & 11.13863\\\\\n",
       "\t3 & 000001 & 2016 & 3 &  9 & 11.070726 & 11.10746\\\\\n",
       "\t4 & 000001 & 2016 & 4 & 12 & 10.525422 & 10.88722\\\\\n",
       "\t5 & 000001 & 2017 & 1 &  3 & 10.012477 & 10.14989\\\\\n",
       "\t6 & 000001 & 2017 & 2 &  6 &  9.142655 &  9.63726\\\\\n",
       "\\end{tabular}\n"
      ],
      "text/markdown": [
       "\n",
       "A data.frame: 6 x 6\n",
       "\n",
       "| <!--/--> | stkcd &lt;chr&gt; | year &lt;int&gt; | quarter &lt;dbl&gt; | month &lt;int&gt; | volatility_end &lt;dbl&gt; | volatility_avg &lt;dbl&gt; |\n",
       "|---|---|---|---|---|---|---|\n",
       "| 1 | 000001 | 2016 | 1 |  3 | 11.186493 | 11.14910 |\n",
       "| 2 | 000001 | 2016 | 2 |  6 | 11.122915 | 11.13863 |\n",
       "| 3 | 000001 | 2016 | 3 |  9 | 11.070726 | 11.10746 |\n",
       "| 4 | 000001 | 2016 | 4 | 12 | 10.525422 | 10.88722 |\n",
       "| 5 | 000001 | 2017 | 1 |  3 | 10.012477 | 10.14989 |\n",
       "| 6 | 000001 | 2017 | 2 |  6 |  9.142655 |  9.63726 |\n",
       "\n"
      ],
      "text/plain": [
       "  stkcd  year quarter month volatility_end volatility_avg\n",
       "1 000001 2016 1        3    11.186493      11.14910      \n",
       "2 000001 2016 2        6    11.122915      11.13863      \n",
       "3 000001 2016 3        9    11.070726      11.10746      \n",
       "4 000001 2016 4       12    10.525422      10.88722      \n",
       "5 000001 2017 1        3    10.012477      10.14989      \n",
       "6 000001 2017 2        6     9.142655       9.63726      "
      ]
     },
     "metadata": {},
     "output_type": "display_data"
    }
   ],
   "source": [
    "# 1. Filter for quarter-end volatility (month is 3, 6, 9, or 12)\n",
    "volatility_quarter_end <- volatility[volatility$month %in% c(3, 6, 9, 12), ]\n",
    "\n",
    "# 2. Calculate quarterly average volatility for each stock\n",
    "volatility_avg <- aggregate(\n",
    "    volatility ~ stkcd + year + quarter,\n",
    "    data = volatility,\n",
    "    FUN = mean\n",
    ")\n",
    "\n",
    "# 3. Merge quarter-end data with quarterly average\n",
    "volatility_quarterly <- merge(\n",
    "    volatility_quarter_end,\n",
    "    volatility_avg[, c(\"stkcd\", \"year\", \"quarter\", \"volatility\")],\n",
    "    by = c(\"stkcd\", \"year\", \"quarter\"),\n",
    "    all.x = TRUE,\n",
    "    suffixes = c(\"_end\", \"_avg\")\n",
    ")\n",
    "\n",
    "# 4. Create a clean dataframe with the required columns\n",
    "volatility <- volatility_quarterly[, c(\"stkcd\", \"year\", \"quarter\", \"month\", \"volatility_end\", \"volatility_avg\")]\n",
    "\n",
    "\n",
    "# Report the dimensions of the new dataset\n",
    "cat(\"New quarterly volatility dataset has\", nrow(volatility), \"observations for\", \n",
    "        length(unique(volatility$stkcd)), \"stocks\\n\")\n",
    "\n",
    "# Display the first few rows of the updated volatility dataframe\n",
    "head(volatility)"
   ]
  },
  {
   "cell_type": "markdown",
   "id": "7153fc86",
   "metadata": {},
   "source": [
    "- Visualization"
   ]
  },
  {
   "cell_type": "code",
   "execution_count": 50,
   "id": "86e5c0df",
   "metadata": {
    "vscode": {
     "languageId": "r"
    }
   },
   "outputs": [
    {
     "name": "stderr",
     "output_type": "stream",
     "text": [
      "\n",
      "Attaching package: 'dplyr'\n",
      "\n",
      "\n",
      "The following objects are masked from 'package:stats':\n",
      "\n",
      "    filter, lag\n",
      "\n",
      "\n",
      "The following objects are masked from 'package:base':\n",
      "\n",
      "    intersect, setdiff, setequal, union\n",
      "\n",
      "\n",
      "Warning message:\n",
      "\"\u001b[1m\u001b[22mThe dot-dot notation (`..x..`) was deprecated in ggplot2 3.4.0.\n",
      "\u001b[36mℹ\u001b[39m Please use `after_stat(x)` instead.\"\n",
      "Picking joint bandwidth of 0.897\n",
      "\n",
      "Warning message:\n",
      "\"\u001b[1m\u001b[22mUsing `size` aesthetic for lines was deprecated in ggplot2 3.4.0.\n",
      "\u001b[36mℹ\u001b[39m Please use `linewidth` instead.\"\n"
     ]
    },
    {
     "data": {
      "image/png": "[encoded data removed]",
      "text/plain": [
       "plot without title"
      ]
     },
     "metadata": {
      "image/png": {
       "height": 420,
       "width": 420
      }
     },
     "output_type": "display_data"
    },
    {
     "data": {
      "image/png": "[encoded data removed]",
      "text/plain": [
       "plot without title"
      ]
     },
     "metadata": {
      "image/png": {
       "height": 420,
       "width": 420
      }
     },
     "output_type": "display_data"
    }
   ],
   "source": [
    "# Load required libraries\n",
    "library(ggplot2)\n",
    "library(ggridges)\n",
    "library(dplyr)\n",
    "\n",
    "# Create a copy of the volatility dataframe for visualization\n",
    "vol_viz <- volatility\n",
    "\n",
    "# Create a proper year-quarter factor for chronological ordering\n",
    "vol_viz$yearquarter <- paste0(vol_viz$year, \"-Q\", vol_viz$quarter)\n",
    "\n",
    "# Create a chronologically ordered factor for the y-axis\n",
    "unique_yearquarters <- unique(vol_viz$yearquarter[order(vol_viz$year, vol_viz$quarter)])\n",
    "vol_viz$yearquarter <- factor(vol_viz$yearquarter, levels = unique_yearquarters)\n",
    "\n",
    "# Ridge plot of volatility distributions over time\n",
    "ggplot(vol_viz, aes(x = volatility_end, y = yearquarter, fill = ..x..)) +\n",
    "  geom_density_ridges_gradient(scale = 3, rel_min_height = 0.01, alpha = 0.8) +\n",
    "  scale_fill_viridis_c(name = \"Volatility\", option = \"C\") +\n",
    "  labs(title = \"Distribution of End-of-Quarter Stock Volatility Over Time\",\n",
    "       x = \"Volatility (End of Quarter)\",\n",
    "       y = \"Year-Quarter\") +\n",
    "  theme_ridges(font_size = 10, grid = TRUE) +\n",
    "  theme(\n",
    "    legend.position = \"right\",\n",
    "    axis.text.y = element_text(size = 8, hjust = 1),\n",
    "    plot.title = element_text(hjust = 0.5),\n",
    "    panel.spacing.y = unit(0.5, \"lines\")\n",
    "  )\n",
    "\n",
    "# Create a summary of volatility measures for time series visualization\n",
    "vol_summary <- vol_viz %>%\n",
    "  group_by(year, quarter, yearquarter) %>%\n",
    "  summarize(\n",
    "    median_vol = median(volatility_end, na.rm = TRUE),\n",
    "    q25 = quantile(volatility_end, 0.25, na.rm = TRUE),\n",
    "    q75 = quantile(volatility_end, 0.75, na.rm = TRUE),\n",
    "    .groups = \"drop\"\n",
    "  )\n",
    "\n",
    "# Convert yearquarter to a factor with same ordering\n",
    "vol_summary$yearquarter <- factor(vol_summary$yearquarter, levels = unique_yearquarters)\n",
    "\n",
    "# Time series plot showing median volatility and IQR\n",
    "ggplot(vol_summary, aes(x = as.numeric(yearquarter), y = median_vol)) +\n",
    "  geom_line(size = 1, color = \"darkblue\") +\n",
    "  geom_ribbon(aes(ymin = q25, ymax = q75), alpha = 0.3, fill = \"lightblue\") +\n",
    "  labs(title = \"Median Stock Volatility Over Time (with IQR)\",\n",
    "       x = \"Time\", \n",
    "       y = \"Volatility (End of Quarter)\") +\n",
    "  theme_minimal() +\n",
    "  theme(\n",
    "    plot.title = element_text(hjust = 0.5),\n",
    "    axis.text.x = element_text(angle = 90, hjust = 1, vjust = 0.5)\n",
    "  ) +\n",
    "  # Add custom x-axis labels with appropriate gaps\n",
    "  scale_x_continuous(\n",
    "    breaks = seq(1, length(unique_yearquarters), by = 4),\n",
    "    labels = unique_yearquarters[seq(1, length(unique_yearquarters), by = 4)]\n",
    "  )"
   ]
  },
  {
   "cell_type": "markdown",
   "id": "0ee4d2d2",
   "metadata": {},
   "source": [
    "### Data Merging"
   ]
  },
  {
   "cell_type": "markdown",
   "id": "1f90a3ea",
   "metadata": {},
   "source": [
    "- 1. Merge volatility with GFC indicators"
   ]
  },
  {
   "cell_type": "code",
   "execution_count": 112,
   "id": "a9d6ab70",
   "metadata": {
    "vscode": {
     "languageId": "r"
    }
   },
   "outputs": [
    {
     "data": {
      "text/html": [
       "<table class=\"dataframe\">\n",
       "<caption>A data.frame: 6 x 9</caption>\n",
       "<thead>\n",
       "\t<tr><th></th><th scope=col>year</th><th scope=col>month</th><th scope=col>quarter</th><th scope=col>stkcd</th><th scope=col>volatility_end</th><th scope=col>volatility_avg</th><th scope=col>log_diff_lag1</th><th scope=col>log_diff_avg_lag1</th><th scope=col>diff_gfcf_lag1</th></tr>\n",
       "\t<tr><th></th><th scope=col>&lt;int&gt;</th><th scope=col>&lt;int&gt;</th><th scope=col>&lt;dbl&gt;</th><th scope=col>&lt;chr&gt;</th><th scope=col>&lt;dbl&gt;</th><th scope=col>&lt;dbl&gt;</th><th scope=col>&lt;dbl&gt;</th><th scope=col>&lt;dbl&gt;</th><th scope=col>&lt;dbl&gt;</th></tr>\n",
       "</thead>\n",
       "<tbody>\n",
       "\t<tr><th scope=row>1</th><td>2016</td><td>3</td><td>1</td><td>600570</td><td>16.488640</td><td>16.491646</td><td>-0.5130372</td><td>-0.1340702</td><td>0.06858532</td></tr>\n",
       "\t<tr><th scope=row>2</th><td>2016</td><td>3</td><td>1</td><td>600050</td><td> 8.042785</td><td> 8.030098</td><td>-0.5130372</td><td>-0.1340702</td><td>0.06858532</td></tr>\n",
       "\t<tr><th scope=row>3</th><td>2016</td><td>3</td><td>1</td><td>601699</td><td>12.126975</td><td>12.098317</td><td>-0.5130372</td><td>-0.1340702</td><td>0.06858532</td></tr>\n",
       "\t<tr><th scope=row>4</th><td>2016</td><td>3</td><td>1</td><td>600584</td><td>11.368671</td><td>11.564159</td><td>-0.5130372</td><td>-0.1340702</td><td>0.06858532</td></tr>\n",
       "\t<tr><th scope=row>5</th><td>2016</td><td>3</td><td>1</td><td>600039</td><td>11.389929</td><td>11.428679</td><td>-0.5130372</td><td>-0.1340702</td><td>0.06858532</td></tr>\n",
       "\t<tr><th scope=row>6</th><td>2016</td><td>3</td><td>1</td><td>600519</td><td> 9.240011</td><td> 9.171477</td><td>-0.5130372</td><td>-0.1340702</td><td>0.06858532</td></tr>\n",
       "</tbody>\n",
       "</table>\n"
      ],
      "text/latex": [
       "A data.frame: 6 x 9\n",
       "\\begin{tabular}{r|lllllllll}\n",
       "  & year & month & quarter & stkcd & volatility\\_end & volatility\\_avg & log\\_diff\\_lag1 & log\\_diff\\_avg\\_lag1 & diff\\_gfcf\\_lag1\\\\\n",
       "  & <int> & <int> & <dbl> & <chr> & <dbl> & <dbl> & <dbl> & <dbl> & <dbl>\\\\\n",
       "\\hline\n",
       "\t1 & 2016 & 3 & 1 & 600570 & 16.488640 & 16.491646 & -0.5130372 & -0.1340702 & 0.06858532\\\\\n",
       "\t2 & 2016 & 3 & 1 & 600050 &  8.042785 &  8.030098 & -0.5130372 & -0.1340702 & 0.06858532\\\\\n",
       "\t3 & 2016 & 3 & 1 & 601699 & 12.126975 & 12.098317 & -0.5130372 & -0.1340702 & 0.06858532\\\\\n",
       "\t4 & 2016 & 3 & 1 & 600584 & 11.368671 & 11.564159 & -0.5130372 & -0.1340702 & 0.06858532\\\\\n",
       "\t5 & 2016 & 3 & 1 & 600039 & 11.389929 & 11.428679 & -0.5130372 & -0.1340702 & 0.06858532\\\\\n",
       "\t6 & 2016 & 3 & 1 & 600519 &  9.240011 &  9.171477 & -0.5130372 & -0.1340702 & 0.06858532\\\\\n",
       "\\end{tabular}\n"
      ],
      "text/markdown": [
       "\n",
       "A data.frame: 6 x 9\n",
       "\n",
       "| <!--/--> | year &lt;int&gt; | month &lt;int&gt; | quarter &lt;dbl&gt; | stkcd &lt;chr&gt; | volatility_end &lt;dbl&gt; | volatility_avg &lt;dbl&gt; | log_diff_lag1 &lt;dbl&gt; | log_diff_avg_lag1 &lt;dbl&gt; | diff_gfcf_lag1 &lt;dbl&gt; |\n",
       "|---|---|---|---|---|---|---|---|---|---|\n",
       "| 1 | 2016 | 3 | 1 | 600570 | 16.488640 | 16.491646 | -0.5130372 | -0.1340702 | 0.06858532 |\n",
       "| 2 | 2016 | 3 | 1 | 600050 |  8.042785 |  8.030098 | -0.5130372 | -0.1340702 | 0.06858532 |\n",
       "| 3 | 2016 | 3 | 1 | 601699 | 12.126975 | 12.098317 | -0.5130372 | -0.1340702 | 0.06858532 |\n",
       "| 4 | 2016 | 3 | 1 | 600584 | 11.368671 | 11.564159 | -0.5130372 | -0.1340702 | 0.06858532 |\n",
       "| 5 | 2016 | 3 | 1 | 600039 | 11.389929 | 11.428679 | -0.5130372 | -0.1340702 | 0.06858532 |\n",
       "| 6 | 2016 | 3 | 1 | 600519 |  9.240011 |  9.171477 | -0.5130372 | -0.1340702 | 0.06858532 |\n",
       "\n"
      ],
      "text/plain": [
       "  year month quarter stkcd  volatility_end volatility_avg log_diff_lag1\n",
       "1 2016 3     1       600570 16.488640      16.491646      -0.5130372   \n",
       "2 2016 3     1       600050  8.042785       8.030098      -0.5130372   \n",
       "3 2016 3     1       601699 12.126975      12.098317      -0.5130372   \n",
       "4 2016 3     1       600584 11.368671      11.564159      -0.5130372   \n",
       "5 2016 3     1       600039 11.389929      11.428679      -0.5130372   \n",
       "6 2016 3     1       600519  9.240011       9.171477      -0.5130372   \n",
       "  log_diff_avg_lag1 diff_gfcf_lag1\n",
       "1 -0.1340702        0.06858532    \n",
       "2 -0.1340702        0.06858532    \n",
       "3 -0.1340702        0.06858532    \n",
       "4 -0.1340702        0.06858532    \n",
       "5 -0.1340702        0.06858532    \n",
       "6 -0.1340702        0.06858532    "
      ]
     },
     "metadata": {},
     "output_type": "display_data"
    }
   ],
   "source": [
    "panel_data <- merge(\n",
    "    volatility,\n",
    "    gfc_indicators,\n",
    "    by = c(\"year\", \"month\", \"quarter\"),\n",
    "    all.x = TRUE\n",
    ")\n",
    "\n",
    "# Show a sample of the final merged dataset\n",
    "head(panel_data)"
   ]
  },
  {
   "cell_type": "markdown",
   "id": "e5672975",
   "metadata": {},
   "source": [
    "- 2. Merge with control variables"
   ]
  },
  {
   "cell_type": "code",
   "execution_count": 113,
   "id": "a60f1b9e",
   "metadata": {
    "vscode": {
     "languageId": "r"
    }
   },
   "outputs": [
    {
     "name": "stdout",
     "output_type": "stream",
     "text": [
      "Columns in merged panel_data:\n",
      " [1] \"stkcd\"             \"year\"              \"quarter\"          \n",
      " [4] \"month\"             \"volatility_end\"    \"volatility_avg\"   \n",
      " [7] \"log_diff_lag1\"     \"log_diff_avg_lag1\" \"diff_gfcf_lag1\"   \n",
      "[10] \"Size\"              \"Lev\"               \"ROA\"              \n",
      "[13] \"BM\"                \"Board\"             \"Top1\"             \n",
      "[16] \"gdp_growth_rate\"   \"m2_growth_rate\"   \n",
      "Missing value counts in final panel dataset:\n",
      "named numeric(0)\n"
     ]
    },
    {
     "data": {
      "text/html": [
       "<table class=\"dataframe\">\n",
       "<caption>A data.frame: 6 x 17</caption>\n",
       "<thead>\n",
       "\t<tr><th></th><th scope=col>stkcd</th><th scope=col>year</th><th scope=col>quarter</th><th scope=col>month</th><th scope=col>volatility_end</th><th scope=col>volatility_avg</th><th scope=col>log_diff_lag1</th><th scope=col>log_diff_avg_lag1</th><th scope=col>diff_gfcf_lag1</th><th scope=col>Size</th><th scope=col>Lev</th><th scope=col>ROA</th><th scope=col>BM</th><th scope=col>Board</th><th scope=col>Top1</th><th scope=col>gdp_growth_rate</th><th scope=col>m2_growth_rate</th></tr>\n",
       "\t<tr><th></th><th scope=col>&lt;chr&gt;</th><th scope=col>&lt;int&gt;</th><th scope=col>&lt;fct&gt;</th><th scope=col>&lt;int&gt;</th><th scope=col>&lt;dbl&gt;</th><th scope=col>&lt;dbl&gt;</th><th scope=col>&lt;dbl&gt;</th><th scope=col>&lt;dbl&gt;</th><th scope=col>&lt;dbl&gt;</th><th scope=col>&lt;dbl&gt;</th><th scope=col>&lt;dbl&gt;</th><th scope=col>&lt;dbl&gt;</th><th scope=col>&lt;dbl&gt;</th><th scope=col>&lt;dbl&gt;</th><th scope=col>&lt;dbl&gt;</th><th scope=col>&lt;dbl&gt;</th><th scope=col>&lt;dbl&gt;</th></tr>\n",
       "</thead>\n",
       "<tbody>\n",
       "\t<tr><th scope=row>1</th><td>000002</td><td>2016</td><td>1</td><td> 3</td><td> 9.219607</td><td> 9.230951</td><td>-0.51303720</td><td>-0.13407018</td><td> 0.06858532</td><td>26.03564</td><td>0.7894035</td><td>0.001968</td><td>2.772296</td><td>2.397895</td><td>0.152436</td><td>-0.15585196</td><td>0.03873796</td></tr>\n",
       "\t<tr><th scope=row>2</th><td>000002</td><td>2016</td><td>2</td><td> 6</td><td> 9.148981</td><td> 9.168445</td><td> 0.14301884</td><td> 0.18856999</td><td>-0.02142195</td><td>26.03564</td><td>0.8060189</td><td>0.010720</td><td>2.997288</td><td>2.397895</td><td>0.152436</td><td> 0.11625103</td><td>0.02571886</td></tr>\n",
       "\t<tr><th scope=row>3</th><td>000002</td><td>2016</td><td>3</td><td> 9</td><td>11.682934</td><td>11.133751</td><td>-0.08836915</td><td>-0.26805092</td><td>-0.12204480</td><td>26.03564</td><td>0.8101231</td><td>0.016516</td><td>2.970462</td><td>2.397895</td><td>0.152436</td><td> 0.05316315</td><td>0.02763126</td></tr>\n",
       "\t<tr><th scope=row>4</th><td>000002</td><td>2016</td><td>4</td><td>12</td><td>12.155940</td><td>11.871967</td><td>-0.35070346</td><td>-0.17293136</td><td> 0.29816244</td><td>26.03564</td><td>0.8053671</td><td>0.039322</td><td>4.156858</td><td>2.397895</td><td>0.152436</td><td> 0.10665503</td><td>0.01794285</td></tr>\n",
       "\t<tr><th scope=row>5</th><td>000002</td><td>2017</td><td>1</td><td> 3</td><td>11.770532</td><td>11.844069</td><td> 0.21584021</td><td> 0.05901848</td><td> 0.11982483</td><td>26.10168</td><td>0.8173269</td><td>0.001292</td><td>4.431021</td><td>2.397895</td><td>0.153055</td><td>-0.14072811</td><td>0.03956675</td></tr>\n",
       "\t<tr><th scope=row>6</th><td>000002</td><td>2017</td><td>2</td><td> 6</td><td>11.693690</td><td>11.758872</td><td>-0.51535237</td><td>-0.18363093</td><td> 0.19498112</td><td>26.10168</td><td>0.8265752</td><td>0.011424</td><td>3.827082</td><td>2.397895</td><td>0.256343</td><td> 0.11005946</td><td>0.01488211</td></tr>\n",
       "</tbody>\n",
       "</table>\n"
      ],
      "text/latex": [
       "A data.frame: 6 x 17\n",
       "\\begin{tabular}{r|lllllllllllllllll}\n",
       "  & stkcd & year & quarter & month & volatility\\_end & volatility\\_avg & log\\_diff\\_lag1 & log\\_diff\\_avg\\_lag1 & diff\\_gfcf\\_lag1 & Size & Lev & ROA & BM & Board & Top1 & gdp\\_growth\\_rate & m2\\_growth\\_rate\\\\\n",
       "  & <chr> & <int> & <fct> & <int> & <dbl> & <dbl> & <dbl> & <dbl> & <dbl> & <dbl> & <dbl> & <dbl> & <dbl> & <dbl> & <dbl> & <dbl> & <dbl>\\\\\n",
       "\\hline\n",
       "\t1 & 000002 & 2016 & 1 &  3 &  9.219607 &  9.230951 & -0.51303720 & -0.13407018 &  0.06858532 & 26.03564 & 0.7894035 & 0.001968 & 2.772296 & 2.397895 & 0.152436 & -0.15585196 & 0.03873796\\\\\n",
       "\t2 & 000002 & 2016 & 2 &  6 &  9.148981 &  9.168445 &  0.14301884 &  0.18856999 & -0.02142195 & 26.03564 & 0.8060189 & 0.010720 & 2.997288 & 2.397895 & 0.152436 &  0.11625103 & 0.02571886\\\\\n",
       "\t3 & 000002 & 2016 & 3 &  9 & 11.682934 & 11.133751 & -0.08836915 & -0.26805092 & -0.12204480 & 26.03564 & 0.8101231 & 0.016516 & 2.970462 & 2.397895 & 0.152436 &  0.05316315 & 0.02763126\\\\\n",
       "\t4 & 000002 & 2016 & 4 & 12 & 12.155940 & 11.871967 & -0.35070346 & -0.17293136 &  0.29816244 & 26.03564 & 0.8053671 & 0.039322 & 4.156858 & 2.397895 & 0.152436 &  0.10665503 & 0.01794285\\\\\n",
       "\t5 & 000002 & 2017 & 1 &  3 & 11.770532 & 11.844069 &  0.21584021 &  0.05901848 &  0.11982483 & 26.10168 & 0.8173269 & 0.001292 & 4.431021 & 2.397895 & 0.153055 & -0.14072811 & 0.03956675\\\\\n",
       "\t6 & 000002 & 2017 & 2 &  6 & 11.693690 & 11.758872 & -0.51535237 & -0.18363093 &  0.19498112 & 26.10168 & 0.8265752 & 0.011424 & 3.827082 & 2.397895 & 0.256343 &  0.11005946 & 0.01488211\\\\\n",
       "\\end{tabular}\n"
      ],
      "text/markdown": [
       "\n",
       "A data.frame: 6 x 17\n",
       "\n",
       "| <!--/--> | stkcd &lt;chr&gt; | year &lt;int&gt; | quarter &lt;fct&gt; | month &lt;int&gt; | volatility_end &lt;dbl&gt; | volatility_avg &lt;dbl&gt; | log_diff_lag1 &lt;dbl&gt; | log_diff_avg_lag1 &lt;dbl&gt; | diff_gfcf_lag1 &lt;dbl&gt; | Size &lt;dbl&gt; | Lev &lt;dbl&gt; | ROA &lt;dbl&gt; | BM &lt;dbl&gt; | Board &lt;dbl&gt; | Top1 &lt;dbl&gt; | gdp_growth_rate &lt;dbl&gt; | m2_growth_rate &lt;dbl&gt; |\n",
       "|---|---|---|---|---|---|---|---|---|---|---|---|---|---|---|---|---|---|\n",
       "| 1 | 000002 | 2016 | 1 |  3 |  9.219607 |  9.230951 | -0.51303720 | -0.13407018 |  0.06858532 | 26.03564 | 0.7894035 | 0.001968 | 2.772296 | 2.397895 | 0.152436 | -0.15585196 | 0.03873796 |\n",
       "| 2 | 000002 | 2016 | 2 |  6 |  9.148981 |  9.168445 |  0.14301884 |  0.18856999 | -0.02142195 | 26.03564 | 0.8060189 | 0.010720 | 2.997288 | 2.397895 | 0.152436 |  0.11625103 | 0.02571886 |\n",
       "| 3 | 000002 | 2016 | 3 |  9 | 11.682934 | 11.133751 | -0.08836915 | -0.26805092 | -0.12204480 | 26.03564 | 0.8101231 | 0.016516 | 2.970462 | 2.397895 | 0.152436 |  0.05316315 | 0.02763126 |\n",
       "| 4 | 000002 | 2016 | 4 | 12 | 12.155940 | 11.871967 | -0.35070346 | -0.17293136 |  0.29816244 | 26.03564 | 0.8053671 | 0.039322 | 4.156858 | 2.397895 | 0.152436 |  0.10665503 | 0.01794285 |\n",
       "| 5 | 000002 | 2017 | 1 |  3 | 11.770532 | 11.844069 |  0.21584021 |  0.05901848 |  0.11982483 | 26.10168 | 0.8173269 | 0.001292 | 4.431021 | 2.397895 | 0.153055 | -0.14072811 | 0.03956675 |\n",
       "| 6 | 000002 | 2017 | 2 |  6 | 11.693690 | 11.758872 | -0.51535237 | -0.18363093 |  0.19498112 | 26.10168 | 0.8265752 | 0.011424 | 3.827082 | 2.397895 | 0.256343 |  0.11005946 | 0.01488211 |\n",
       "\n"
      ],
      "text/plain": [
       "  stkcd  year quarter month volatility_end volatility_avg log_diff_lag1\n",
       "1 000002 2016 1        3     9.219607       9.230951      -0.51303720  \n",
       "2 000002 2016 2        6     9.148981       9.168445       0.14301884  \n",
       "3 000002 2016 3        9    11.682934      11.133751      -0.08836915  \n",
       "4 000002 2016 4       12    12.155940      11.871967      -0.35070346  \n",
       "5 000002 2017 1        3    11.770532      11.844069       0.21584021  \n",
       "6 000002 2017 2        6    11.693690      11.758872      -0.51535237  \n",
       "  log_diff_avg_lag1 diff_gfcf_lag1 Size     Lev       ROA      BM      \n",
       "1 -0.13407018        0.06858532    26.03564 0.7894035 0.001968 2.772296\n",
       "2  0.18856999       -0.02142195    26.03564 0.8060189 0.010720 2.997288\n",
       "3 -0.26805092       -0.12204480    26.03564 0.8101231 0.016516 2.970462\n",
       "4 -0.17293136        0.29816244    26.03564 0.8053671 0.039322 4.156858\n",
       "5  0.05901848        0.11982483    26.10168 0.8173269 0.001292 4.431021\n",
       "6 -0.18363093        0.19498112    26.10168 0.8265752 0.011424 3.827082\n",
       "  Board    Top1     gdp_growth_rate m2_growth_rate\n",
       "1 2.397895 0.152436 -0.15585196     0.03873796    \n",
       "2 2.397895 0.152436  0.11625103     0.02571886    \n",
       "3 2.397895 0.152436  0.05316315     0.02763126    \n",
       "4 2.397895 0.152436  0.10665503     0.01794285    \n",
       "5 2.397895 0.153055 -0.14072811     0.03956675    \n",
       "6 2.397895 0.256343  0.11005946     0.01488211    "
      ]
     },
     "metadata": {},
     "output_type": "display_data"
    }
   ],
   "source": [
    "panel_data <- merge(\n",
    "    panel_data,\n",
    "    control,\n",
    "    by = c(\"stkcd\", \"year\", \"quarter\", \"month\"),\n",
    "    all.x = FALSE\n",
    ")\n",
    "\n",
    "# Display column names to verify what's available\n",
    "cat(\"Columns in merged panel_data:\\n\")\n",
    "print(names(panel_data))\n",
    "\n",
    "# Create factor variables for fixed effects\n",
    "panel_data$quarter <- factor(panel_data$quarter)  # Quarter fixed effects\n",
    "\n",
    "# Check for missing data in key columns\n",
    "missing_counts <- colSums(is.na(panel_data))\n",
    "cat(\"Missing value counts in final panel dataset:\\n\")\n",
    "print(missing_counts[missing_counts > 0])\n",
    "\n",
    "# Show a sample of the final merged dataset\n",
    "head(panel_data)"
   ]
  },
  {
   "cell_type": "code",
   "execution_count": 120,
   "id": "5bc7c65a",
   "metadata": {
    "vscode": {
     "languageId": "r"
    }
   },
   "outputs": [
    {
     "name": "stderr",
     "output_type": "stream",
     "text": [
      "Warning message in pdata.frame(panel_data, index = c(\"stkcd\", \"year\", \"quarter\")):\n",
      "\"duplicate couples (id-time) in resulting pdata.frame\n",
      " to find out which, use, e.g., table(index(your_pdataframe), useNA = \"ifany\")\"\n"
     ]
    },
    {
     "data": {
      "text/html": [
       "<table class=\"dataframe\">\n",
       "<caption>A pdata.frame: 6 x 17</caption>\n",
       "<thead>\n",
       "\t<tr><th></th><th scope=col>stkcd</th><th scope=col>year</th><th scope=col>quarter</th><th scope=col>month</th><th scope=col>volatility_end</th><th scope=col>volatility_avg</th><th scope=col>log_diff_lag1</th><th scope=col>log_diff_avg_lag1</th><th scope=col>diff_gfcf_lag1</th><th scope=col>Size</th><th scope=col>Lev</th><th scope=col>ROA</th><th scope=col>BM</th><th scope=col>Board</th><th scope=col>Top1</th><th scope=col>gdp_growth_rate</th><th scope=col>m2_growth_rate</th></tr>\n",
       "\t<tr><th></th><th scope=col>&lt;fct&gt;</th><th scope=col>&lt;fct&gt;</th><th scope=col>&lt;fct&gt;</th><th scope=col>&lt;fct&gt;</th><th scope=col>&lt;dbl&gt;</th><th scope=col>&lt;dbl&gt;</th><th scope=col>&lt;dbl&gt;</th><th scope=col>&lt;dbl&gt;</th><th scope=col>&lt;dbl&gt;</th><th scope=col>&lt;dbl&gt;</th><th scope=col>&lt;dbl&gt;</th><th scope=col>&lt;dbl&gt;</th><th scope=col>&lt;dbl&gt;</th><th scope=col>&lt;dbl&gt;</th><th scope=col>&lt;dbl&gt;</th><th scope=col>&lt;dbl&gt;</th><th scope=col>&lt;dbl&gt;</th></tr>\n",
       "</thead>\n",
       "<tbody>\n",
       "\t<tr><th scope=row>1-000002-2016</th><td>000002</td><td>2016</td><td>1</td><td>3</td><td> 9.219607</td><td> 9.230951</td><td>-0.5130372</td><td>-0.13407018</td><td> 0.06858532</td><td>26.03564</td><td>0.7894035</td><td>0.001968</td><td>2.772296</td><td>2.397895</td><td>0.152436</td><td>-0.1558520</td><td>0.03873796</td></tr>\n",
       "\t<tr><th scope=row>1-000002-2017</th><td>000002</td><td>2017</td><td>1</td><td>3</td><td>11.770532</td><td>11.844069</td><td> 0.2158402</td><td> 0.05901848</td><td> 0.11982483</td><td>26.10168</td><td>0.8173269</td><td>0.001292</td><td>4.431021</td><td>2.397895</td><td>0.153055</td><td>-0.1407281</td><td>0.03956675</td></tr>\n",
       "\t<tr><th scope=row>1-000002-2018</th><td>000002</td><td>2018</td><td>1</td><td>3</td><td>11.783704</td><td>11.932177</td><td>-0.2001859</td><td>-0.06464072</td><td> 0.16306429</td><td>26.22657</td><td>0.8404452</td><td>0.001489</td><td>3.781881</td><td>2.397895</td><td>0.293755</td><td>-0.1416523</td><td>0.03138059</td></tr>\n",
       "\t<tr><th scope=row>1-000002-2019</th><td>000002</td><td>2019</td><td>1</td><td>3</td><td>11.202076</td><td>11.181862</td><td> 0.8041608</td><td> 0.50432708</td><td>-1.00651606</td><td>26.36560</td><td>0.8477343</td><td>0.002082</td><td>5.192584</td><td>2.302585</td><td>0.293755</td><td>-0.1593623</td><td>0.03445767</td></tr>\n",
       "\t<tr><th scope=row>1-000002-2020</th><td>000002</td><td>2020</td><td>1</td><td>3</td><td>11.645378</td><td>11.537800</td><td>-0.1789924</td><td>-0.14800621</td><td> 0.36742426</td><td>26.41523</td><td>0.8424463</td><td>0.001401</td><td>6.975204</td><td>2.397895</td><td>0.286920</td><td>-0.2570161</td><td>0.04094352</td></tr>\n",
       "\t<tr><th scope=row>1-000002-2021</th><td>000002</td><td>2021</td><td>1</td><td>3</td><td> 8.724961</td><td> 8.506983</td><td> 0.1813290</td><td>-0.01461407</td><td> 0.93783868</td><td>26.43151</td><td>0.8137013</td><td>0.001328</td><td>6.539908</td><td>2.397895</td><td>0.279126</td><td>-0.1549880</td><td>0.03334817</td></tr>\n",
       "</tbody>\n",
       "</table>\n"
      ],
      "text/latex": [
       "A pdata.frame: 6 x 17\n",
       "\\begin{tabular}{r|lllllllllllllllll}\n",
       "  & stkcd & year & quarter & month & volatility\\_end & volatility\\_avg & log\\_diff\\_lag1 & log\\_diff\\_avg\\_lag1 & diff\\_gfcf\\_lag1 & Size & Lev & ROA & BM & Board & Top1 & gdp\\_growth\\_rate & m2\\_growth\\_rate\\\\\n",
       "  & <fct> & <fct> & <fct> & <fct> & <dbl> & <dbl> & <dbl> & <dbl> & <dbl> & <dbl> & <dbl> & <dbl> & <dbl> & <dbl> & <dbl> & <dbl> & <dbl>\\\\\n",
       "\\hline\n",
       "\t1-000002-2016 & 000002 & 2016 & 1 & 3 &  9.219607 &  9.230951 & -0.5130372 & -0.13407018 &  0.06858532 & 26.03564 & 0.7894035 & 0.001968 & 2.772296 & 2.397895 & 0.152436 & -0.1558520 & 0.03873796\\\\\n",
       "\t1-000002-2017 & 000002 & 2017 & 1 & 3 & 11.770532 & 11.844069 &  0.2158402 &  0.05901848 &  0.11982483 & 26.10168 & 0.8173269 & 0.001292 & 4.431021 & 2.397895 & 0.153055 & -0.1407281 & 0.03956675\\\\\n",
       "\t1-000002-2018 & 000002 & 2018 & 1 & 3 & 11.783704 & 11.932177 & -0.2001859 & -0.06464072 &  0.16306429 & 26.22657 & 0.8404452 & 0.001489 & 3.781881 & 2.397895 & 0.293755 & -0.1416523 & 0.03138059\\\\\n",
       "\t1-000002-2019 & 000002 & 2019 & 1 & 3 & 11.202076 & 11.181862 &  0.8041608 &  0.50432708 & -1.00651606 & 26.36560 & 0.8477343 & 0.002082 & 5.192584 & 2.302585 & 0.293755 & -0.1593623 & 0.03445767\\\\\n",
       "\t1-000002-2020 & 000002 & 2020 & 1 & 3 & 11.645378 & 11.537800 & -0.1789924 & -0.14800621 &  0.36742426 & 26.41523 & 0.8424463 & 0.001401 & 6.975204 & 2.397895 & 0.286920 & -0.2570161 & 0.04094352\\\\\n",
       "\t1-000002-2021 & 000002 & 2021 & 1 & 3 &  8.724961 &  8.506983 &  0.1813290 & -0.01461407 &  0.93783868 & 26.43151 & 0.8137013 & 0.001328 & 6.539908 & 2.397895 & 0.279126 & -0.1549880 & 0.03334817\\\\\n",
       "\\end{tabular}\n"
      ],
      "text/markdown": [
       "\n",
       "A pdata.frame: 6 x 17\n",
       "\n",
       "| <!--/--> | stkcd &lt;fct&gt; | year &lt;fct&gt; | quarter &lt;fct&gt; | month &lt;fct&gt; | volatility_end &lt;dbl&gt; | volatility_avg &lt;dbl&gt; | log_diff_lag1 &lt;dbl&gt; | log_diff_avg_lag1 &lt;dbl&gt; | diff_gfcf_lag1 &lt;dbl&gt; | Size &lt;dbl&gt; | Lev &lt;dbl&gt; | ROA &lt;dbl&gt; | BM &lt;dbl&gt; | Board &lt;dbl&gt; | Top1 &lt;dbl&gt; | gdp_growth_rate &lt;dbl&gt; | m2_growth_rate &lt;dbl&gt; |\n",
       "|---|---|---|---|---|---|---|---|---|---|---|---|---|---|---|---|---|---|\n",
       "| 1-000002-2016 | 000002 | 2016 | 1 | 3 |  9.219607 |  9.230951 | -0.5130372 | -0.13407018 |  0.06858532 | 26.03564 | 0.7894035 | 0.001968 | 2.772296 | 2.397895 | 0.152436 | -0.1558520 | 0.03873796 |\n",
       "| 1-000002-2017 | 000002 | 2017 | 1 | 3 | 11.770532 | 11.844069 |  0.2158402 |  0.05901848 |  0.11982483 | 26.10168 | 0.8173269 | 0.001292 | 4.431021 | 2.397895 | 0.153055 | -0.1407281 | 0.03956675 |\n",
       "| 1-000002-2018 | 000002 | 2018 | 1 | 3 | 11.783704 | 11.932177 | -0.2001859 | -0.06464072 |  0.16306429 | 26.22657 | 0.8404452 | 0.001489 | 3.781881 | 2.397895 | 0.293755 | -0.1416523 | 0.03138059 |\n",
       "| 1-000002-2019 | 000002 | 2019 | 1 | 3 | 11.202076 | 11.181862 |  0.8041608 |  0.50432708 | -1.00651606 | 26.36560 | 0.8477343 | 0.002082 | 5.192584 | 2.302585 | 0.293755 | -0.1593623 | 0.03445767 |\n",
       "| 1-000002-2020 | 000002 | 2020 | 1 | 3 | 11.645378 | 11.537800 | -0.1789924 | -0.14800621 |  0.36742426 | 26.41523 | 0.8424463 | 0.001401 | 6.975204 | 2.397895 | 0.286920 | -0.2570161 | 0.04094352 |\n",
       "| 1-000002-2021 | 000002 | 2021 | 1 | 3 |  8.724961 |  8.506983 |  0.1813290 | -0.01461407 |  0.93783868 | 26.43151 | 0.8137013 | 0.001328 | 6.539908 | 2.397895 | 0.279126 | -0.1549880 | 0.03334817 |\n",
       "\n"
      ],
      "text/plain": [
       "              stkcd  year quarter month volatility_end volatility_avg\n",
       "1-000002-2016 000002 2016 1       3      9.219607       9.230951     \n",
       "1-000002-2017 000002 2017 1       3     11.770532      11.844069     \n",
       "1-000002-2018 000002 2018 1       3     11.783704      11.932177     \n",
       "1-000002-2019 000002 2019 1       3     11.202076      11.181862     \n",
       "1-000002-2020 000002 2020 1       3     11.645378      11.537800     \n",
       "1-000002-2021 000002 2021 1       3      8.724961       8.506983     \n",
       "              log_diff_lag1 log_diff_avg_lag1 diff_gfcf_lag1 Size     Lev      \n",
       "1-000002-2016 -0.5130372    -0.13407018        0.06858532    26.03564 0.7894035\n",
       "1-000002-2017  0.2158402     0.05901848        0.11982483    26.10168 0.8173269\n",
       "1-000002-2018 -0.2001859    -0.06464072        0.16306429    26.22657 0.8404452\n",
       "1-000002-2019  0.8041608     0.50432708       -1.00651606    26.36560 0.8477343\n",
       "1-000002-2020 -0.1789924    -0.14800621        0.36742426    26.41523 0.8424463\n",
       "1-000002-2021  0.1813290    -0.01461407        0.93783868    26.43151 0.8137013\n",
       "              ROA      BM       Board    Top1     gdp_growth_rate\n",
       "1-000002-2016 0.001968 2.772296 2.397895 0.152436 -0.1558520     \n",
       "1-000002-2017 0.001292 4.431021 2.397895 0.153055 -0.1407281     \n",
       "1-000002-2018 0.001489 3.781881 2.397895 0.293755 -0.1416523     \n",
       "1-000002-2019 0.002082 5.192584 2.302585 0.293755 -0.1593623     \n",
       "1-000002-2020 0.001401 6.975204 2.397895 0.286920 -0.2570161     \n",
       "1-000002-2021 0.001328 6.539908 2.397895 0.279126 -0.1549880     \n",
       "              m2_growth_rate\n",
       "1-000002-2016 0.03873796    \n",
       "1-000002-2017 0.03956675    \n",
       "1-000002-2018 0.03138059    \n",
       "1-000002-2019 0.03445767    \n",
       "1-000002-2020 0.04094352    \n",
       "1-000002-2021 0.03334817    "
      ]
     },
     "metadata": {},
     "output_type": "display_data"
    }
   ],
   "source": [
    "panel_data <- pdata.frame(panel_data, index = c(\"stkcd\", \"year\", \"quarter\"))\n",
    "\n",
    "head(panel_data)"
   ]
  },
  {
   "cell_type": "markdown",
   "id": "e5390ef6",
   "metadata": {},
   "source": [
    "# Regression"
   ]
  },
  {
   "cell_type": "markdown",
   "id": "0d52bc1c",
   "metadata": {},
   "source": [
    "$$\\text{Volatility}_{i,t} = \\alpha + \\beta \\text{GFC}_{t-1} + \\sum \\text{Control} + \\sum \\text{FE} + \\epsilon_{i,t}$$"
   ]
  },
  {
   "cell_type": "markdown",
   "id": "ee9cb550",
   "metadata": {},
   "source": [
    "|Model|Volatility|GFC (lagged 1 period)|Firm|Macro|FE(S)|FE(Q)|FE(P)|FE(I)| \n",
    "|:-|:-|:-|:-:|:-:|:-:|:-:|:-:|:-:|\n",
    "|a|$\\text{Volatility}_{\\text{end of quarter }t}$|$\\Delta\\ln(\\text{VIX}_{\\text{end of quarter }t})$|||⚪|⚪|||\n",
    "|a1|$\\text{Volatility}_{\\text{end of quarter }t}$|$\\Delta\\ln(\\text{VIX}_{\\text{end of quarter }t})$|⚪|⚪|⚪|⚪|||\n",
    "|a2|$\\overline{\\text{Volatility}_{\\text{quarter }t}}$|$\\Delta\\ln(\\overline{\\text{VIX}_{\\text{quarter }t}})$|⚪|⚪|⚪|⚪|||\n",
    "|a3|$\\text{Volatility}_{\\text{end of quarter }t}$|$\\Delta\\text{GFCF}_{\\text{end of quarter }t}$|⚪|⚪|⚪|⚪|||\n",
    "\n",
    "where:\n",
    "\n",
    "||Control Variables|\n",
    "|:-|:-:|\n",
    "|Firm|`Size`, `Lev`, `ROA`, `BM`, `Board`, `Top1`|\n",
    "|Macro|`GDP Growth Rate`, `Money Supply Growth Rate`|\n",
    "\n",
    "and\n",
    "\n",
    "||Fixed Effects|\n",
    "|:-|:-:|\n",
    "|FE(S)|`Individual (stock)`|\n",
    "|FE(Q)|`Quarter`|\n",
    "|FE(P)|`Province`|\n",
    "|FE(I)|`Industry`|"
   ]
  },
  {
   "cell_type": "markdown",
   "id": "f4fcf62b",
   "metadata": {},
   "source": [
    "## Model a"
   ]
  },
  {
   "cell_type": "code",
   "execution_count": 73,
   "id": "2faa86ef",
   "metadata": {
    "vscode": {
     "languageId": "r"
    }
   },
   "outputs": [
    {
     "data": {
      "text/plain": [
       "Oneway (individual) effect Within Model\n",
       "\n",
       "Call:\n",
       "plm(formula = volatility_end ~ log_diff_lag1 + quarter, data = panel_data, \n",
       "    effect = \"individual\", model = \"within\")\n",
       "\n",
       "Balanced Panel: n = 122, T = 7, N = 3416\n",
       "\n",
       "Residuals:\n",
       "     Min.   1st Qu.    Median   3rd Qu.      Max. \n",
       "-5.884075 -1.027276  0.023497  1.032503  4.965268 \n",
       "\n",
       "Coefficients:\n",
       "                Estimate Std. Error t-value  Pr(>|t|)    \n",
       "log_diff_lag1 -0.2336453  0.0699442 -3.3405 0.0008457 ***\n",
       "quarter2      -0.0073845  0.0823127 -0.0897 0.9285211    \n",
       "quarter3      -0.1087998  0.0832700 -1.3066 0.1914429    \n",
       "quarter4      -0.1250534  0.0830693 -1.5054 0.1323149    \n",
       "---\n",
       "Signif. codes:  0 '***' 0.001 '**' 0.01 '*' 0.05 '.' 0.1 ' ' 1\n",
       "\n",
       "Total Sum of Squares:    9317\n",
       "Residual Sum of Squares: 9283.4\n",
       "R-Squared:      0.0036134\n",
       "Adj. R-Squared: -0.034243\n",
       "F-statistic: 2.9828 on 4 and 3290 DF, p-value: 0.018008"
      ]
     },
     "metadata": {},
     "output_type": "display_data"
    },
    {
     "name": "stdout",
     "output_type": "stream",
     "text": [
      "\n",
      "Robust standard errors for two-way fixed effects model:\n"
     ]
    },
    {
     "data": {
      "text/plain": [
       "\n",
       "t test of coefficients:\n",
       "\n",
       "                Estimate Std. Error t value  Pr(>|t|)    \n",
       "log_diff_lag1 -0.2336453  0.0321327 -7.2713 4.429e-13 ***\n",
       "quarter2      -0.0073845  0.0134970 -0.5471 0.5843333    \n",
       "quarter3      -0.1087998  0.0259425 -4.1939 2.815e-05 ***\n",
       "quarter4      -0.1250534  0.0341125 -3.6659 0.0002504 ***\n",
       "---\n",
       "Signif. codes:  0 '***' 0.001 '**' 0.01 '*' 0.05 '.' 0.1 ' ' 1\n"
      ]
     },
     "metadata": {},
     "output_type": "display_data"
    }
   ],
   "source": [
    "library(plm)\n",
    "\n",
    "# Run model with individual fixed effects and quarter dummies\n",
    "model_a <- plm(volatility_end ~ log_diff_lag1 + quarter, \n",
    "             data = panel_data, \n",
    "             model = \"within\", \n",
    "             effect = \"individual\")\n",
    "\n",
    "# Display regression results\n",
    "summary(model_a)\n",
    "\n",
    "# Get robust standard errors for both models\n",
    "library(lmtest)\n",
    "library(sandwich)\n",
    "cat(\"\\nRobust standard errors for two-way fixed effects model:\\n\")\n",
    "coeftest(model_a, vcov = vcovHC(model_a, type = \"HC1\"))"
   ]
  },
  {
   "cell_type": "markdown",
   "id": "7acc3c4e",
   "metadata": {},
   "source": [
    "## Model a1"
   ]
  },
  {
   "cell_type": "markdown",
   "id": "0e1e0162",
   "metadata": {},
   "source": [
    "### Panel Regression"
   ]
  },
  {
   "cell_type": "code",
   "execution_count": 116,
   "id": "e5dd2fe4",
   "metadata": {
    "vscode": {
     "languageId": "r"
    }
   },
   "outputs": [
    {
     "data": {
      "text/plain": [
       "Oneway (individual) effect Within Model\n",
       "\n",
       "Call:\n",
       "plm(formula = volatility_end ~ log_diff_lag1 + Size + Lev + ROA + \n",
       "    BM + Board + Top1 + quarter + gdp_growth_rate + m2_growth_rate, \n",
       "    data = panel_data, effect = \"individual\", model = \"within\")\n",
       "\n",
       "Balanced Panel: n = 122, T = 7, N = 3416\n",
       "\n",
       "Residuals:\n",
       "     Min.   1st Qu.    Median   3rd Qu.      Max. \n",
       "-5.840995 -0.986929  0.019624  0.930384  4.694292 \n",
       "\n",
       "Coefficients:\n",
       "                 Estimate Std. Error  t-value  Pr(>|t|)    \n",
       "log_diff_lag1   -0.178112   0.075118  -2.3711 0.0177935 *  \n",
       "Size            -0.449359   0.074797  -6.0077 2.088e-09 ***\n",
       "Lev              1.954707   0.517196   3.7794 0.0001600 ***\n",
       "ROA              3.764042   1.113551   3.3802 0.0007328 ***\n",
       "BM              -0.679738   0.039490 -17.2130 < 2.2e-16 ***\n",
       "Board            0.604364   0.305745   1.9767 0.0481597 *  \n",
       "Top1            -0.147655   0.560300  -0.2635 0.7921595    \n",
       "quarter2         0.568195   0.332148   1.7107 0.0872365 .  \n",
       "quarter3         0.379761   0.271895   1.3967 0.1625924    \n",
       "quarter4         0.512610   0.337168   1.5203 0.1285216    \n",
       "gdp_growth_rate -0.882177   1.090005  -0.8093 0.4183822    \n",
       "m2_growth_rate  23.430176   5.634231   4.1585 3.285e-05 ***\n",
       "---\n",
       "Signif. codes:  0 '***' 0.001 '**' 0.01 '*' 0.05 '.' 0.1 ' ' 1\n",
       "\n",
       "Total Sum of Squares:    9317\n",
       "Residual Sum of Squares: 8267.2\n",
       "R-Squared:      0.11268\n",
       "Adj. R-Squared: 0.076722\n",
       "F-statistic: 34.7314 on 12 and 3282 DF, p-value: < 2.22e-16"
      ]
     },
     "metadata": {},
     "output_type": "display_data"
    },
    {
     "name": "stdout",
     "output_type": "stream",
     "text": [
      "\n",
      "Robust standard errors for two-way fixed effects model:\n"
     ]
    },
    {
     "data": {
      "text/plain": [
       "\n",
       "t test of coefficients:\n",
       "\n",
       "                 Estimate Std. Error t value  Pr(>|t|)    \n",
       "log_diff_lag1   -0.178112   0.051146 -3.4824 0.0005033 ***\n",
       "Size            -0.449359   0.234256 -1.9182 0.0551674 .  \n",
       "Lev              1.954707   1.529406  1.2781 0.2013107    \n",
       "ROA              3.764042   2.572654  1.4631 0.1435365    \n",
       "BM              -0.679738   0.085442 -7.9556 2.433e-15 ***\n",
       "Board            0.604364   0.706630  0.8553 0.3924601    \n",
       "Top1            -0.147655   1.599469 -0.0923 0.9264533    \n",
       "quarter2         0.568195   0.183318  3.0995 0.0019549 ** \n",
       "quarter3         0.379761   0.179029  2.1212 0.0339770 *  \n",
       "quarter4         0.512610   0.232883  2.2012 0.0277946 *  \n",
       "gdp_growth_rate -0.882177   0.510267 -1.7289 0.0839296 .  \n",
       "m2_growth_rate  23.430176   5.846635  4.0075 6.274e-05 ***\n",
       "---\n",
       "Signif. codes:  0 '***' 0.001 '**' 0.01 '*' 0.05 '.' 0.1 ' ' 1\n"
      ]
     },
     "metadata": {},
     "output_type": "display_data"
    }
   ],
   "source": [
    "library(plm)\n",
    "\n",
    "# Run model with individual fixed effects and quarter dummies\n",
    "model_a1 <- plm(volatility_end ~ log_diff_lag1 + Size + Lev + ROA + BM + Board + Top1 + quarter + gdp_growth_rate + m2_growth_rate, \n",
    "             data = panel_data, \n",
    "             model = \"within\", \n",
    "             effect = \"individual\")\n",
    "\n",
    "# Display regression results\n",
    "summary(model_a1)\n",
    "\n",
    "# Get robust standard errors for both models\n",
    "library(lmtest)\n",
    "library(sandwich)\n",
    "cat(\"\\nRobust standard errors for two-way fixed effects model:\\n\")\n",
    "coeftest(model_a1, vcov = vcovHC(model_a1, type = \"HC1\"))"
   ]
  },
  {
   "cell_type": "markdown",
   "id": "2bdb2807",
   "metadata": {},
   "source": [
    "### Testing"
   ]
  },
  {
   "cell_type": "markdown",
   "id": "9bd2e5fa",
   "metadata": {},
   "source": [
    "#### Residual Plots"
   ]
  },
  {
   "cell_type": "code",
   "execution_count": 117,
   "id": "b83b4f63",
   "metadata": {
    "vscode": {
     "languageId": "r"
    }
   },
   "outputs": [],
   "source": [
    "# Extract fitted values and residuals\n",
    "fitted_values_model_a1 <- as.numeric(fitted(model_a1))\n",
    "residuals_model_a1 <- as.numeric(residuals(model_a1))"
   ]
  },
  {
   "cell_type": "markdown",
   "id": "d61213ef",
   "metadata": {},
   "source": [
    "- Fitted vs Residual Plot"
   ]
  },
  {
   "cell_type": "code",
   "execution_count": 102,
   "id": "d3d881ee",
   "metadata": {
    "vscode": {
     "languageId": "r"
    }
   },
   "outputs": [
    {
     "data": {
      "image/png": "[encoded data removed]",
      "text/plain": [
       "Plot with title \"Residual Diagnostic Plot for Model a1\""
      ]
     },
     "metadata": {
      "image/png": {
       "height": 420,
       "width": 420
      }
     },
     "output_type": "display_data"
    }
   ],
   "source": [
    "par(bg=\"white\")\n",
    "\n",
    "# Create a scatter plot of fitted values vs residuals\n",
    "plot(fitted_values_model_a1, residuals_model_a1, \n",
    "    pch = 20, col = \"darkblue\",\n",
    "    xlab = \"Fitted Values\", ylab = \"Residuals\",\n",
    "    main = \"Residual Diagnostic Plot for Model a1\")\n",
    "\n",
    "# Add a horizontal line at y = 0\n",
    "abline(h = 0, col = \"red\", lwd = 2)\n",
    "\n",
    "# Add a smoothed line to detect patterns\n",
    "# Create a data frame for loess model\n",
    "loess_data <- data.frame(x = fitted_values_model_a1, y = residuals_model_a1)\n",
    "smooth_line <- loess(y ~ x, data = loess_data, span = 0.75)\n",
    "\n",
    "# Sort the data for smooth line plotting\n",
    "sorted_data <- loess_data[order(loess_data$x),]\n",
    "# Predict using the sorted data\n",
    "smooth_pred <- predict(smooth_line, newdata = sorted_data)\n",
    "\n",
    "# Plot the smooth line\n",
    "lines(sorted_data$x, smooth_pred, col = \"cyan\", lwd = 2)\n",
    "\n",
    "# Add a legend\n",
    "legend(\"topright\", \n",
    "      legend = c(\"Residuals\", \"Reference Line\", \"Smooth Line\"),\n",
    "      col = c(\"darkblue\", \"red\", \"cyan\"),\n",
    "      pch = c(20, NA, NA), \n",
    "      lty = c(NA, 1, 1),\n",
    "      lwd = c(NA, 2, 2))\n",
    "\n",
    "# Add grid for better readability\n",
    "grid()"
   ]
  },
  {
   "cell_type": "markdown",
   "id": "a438e74c",
   "metadata": {},
   "source": [
    "- Q-Q Plot"
   ]
  },
  {
   "cell_type": "code",
   "execution_count": 103,
   "id": "8b26a07c",
   "metadata": {
    "vscode": {
     "languageId": "r"
    }
   },
   "outputs": [
    {
     "data": {
      "image/png": "[encoded data removed]",
      "text/plain": [
       "Plot with title \"Normal Q-Q Plot\""
      ]
     },
     "metadata": {
      "image/png": {
       "height": 420,
       "width": 420
      }
     },
     "output_type": "display_data"
    }
   ],
   "source": [
    "par(bg=\"white\")\n",
    "qqnorm(fitted_values_model_a1)\n",
    "qqline(residuals_model_a1, col=\"red\")"
   ]
  },
  {
   "cell_type": "markdown",
   "id": "8ac8b760",
   "metadata": {},
   "source": [
    "#### Heteroskedasticity"
   ]
  },
  {
   "cell_type": "code",
   "execution_count": 104,
   "id": "d8122334",
   "metadata": {
    "vscode": {
     "languageId": "r"
    }
   },
   "outputs": [
    {
     "data": {
      "text/plain": [
       "\n",
       "\tstudentized Breusch-Pagan test\n",
       "\n",
       "data:  model_a1\n",
       "BP = 104.51, df = 12, p-value < 2.2e-16\n"
      ]
     },
     "metadata": {},
     "output_type": "display_data"
    }
   ],
   "source": [
    "library(lmtest)\n",
    "bptest(model_a1) # Null: homoscedasticity"
   ]
  },
  {
   "cell_type": "markdown",
   "id": "c1706320",
   "metadata": {},
   "source": [
    "#### Normality"
   ]
  },
  {
   "cell_type": "code",
   "execution_count": 105,
   "id": "0244e74b",
   "metadata": {
    "vscode": {
     "languageId": "r"
    }
   },
   "outputs": [
    {
     "data": {
      "text/plain": [
       "\n",
       "\tShapiro-Wilk normality test\n",
       "\n",
       "data:  residuals_sample\n",
       "W = 0.99488, p-value = 1.477e-09\n"
      ]
     },
     "metadata": {},
     "output_type": "display_data"
    },
    {
     "name": "stderr",
     "output_type": "stream",
     "text": [
      "Loading required package: nortest\n",
      "\n"
     ]
    },
    {
     "name": "stderr",
     "output_type": "stream",
     "text": [
      "Warning message in library(package, lib.loc = lib.loc, character.only = TRUE, logical.return = TRUE, :\n",
      "\"there is no package called 'nortest'\"\n"
     ]
    },
    {
     "name": "stdout",
     "output_type": "stream",
     "text": [
      "Install 'nortest' package for additional normality tests\n"
     ]
    },
    {
     "data": {
      "image/png": "[encoded data removed]",
      "text/plain": [
       "Plot with title \"Histogram of Residuals\""
      ]
     },
     "metadata": {
      "image/png": {
       "height": 420,
       "width": 420
      }
     },
     "output_type": "display_data"
    }
   ],
   "source": [
    "# Take a random sample for Shapiro-Wilk test\n",
    "set.seed(123)  # For reproducibility\n",
    "residuals_sample <- sample(residuals_model_a1, min(5000, length(residuals_model_a1)))\n",
    "shapiro.test(residuals_sample)  # Null: normality\n",
    "\n",
    "# Visual inspection with histogram\n",
    "par(bg=\"white\")\n",
    "hist(residuals_model_a1, breaks=50, main=\"Histogram of Residuals\", \n",
    "    xlab=\"Residuals\", col=\"lightblue\", border=\"white\", probability=TRUE)\n",
    "curve(dnorm(x, mean=mean(residuals_model_a1), sd=sd(residuals_model_a1)), \n",
    "     add=TRUE, col=\"red\", lwd=2)\n",
    "\n",
    "# Alternative: Kolmogorov-Smirnov test if available\n",
    "if(require(nortest)) {\n",
    "  lillie.test(residuals_model_a1)  # Lilliefors test (modified K-S)\n",
    "} else {\n",
    "  cat(\"Install 'nortest' package for additional normality tests\\n\")\n",
    "}"
   ]
  },
  {
   "cell_type": "markdown",
   "id": "ad05009a",
   "metadata": {},
   "source": [
    "#### Serial Correlation"
   ]
  },
  {
   "cell_type": "code",
   "execution_count": 106,
   "id": "08ce783b",
   "metadata": {
    "vscode": {
     "languageId": "r"
    }
   },
   "outputs": [
    {
     "data": {
      "text/plain": [
       "\n",
       "\tBreusch-Godfrey/Wooldridge test for serial correlation in panel models\n",
       "\n",
       "data:  volatility_end ~ log_diff_lag1 + Size + Lev + ROA + BM + Board +  ...\n",
       "chisq = 1533, df = 28, p-value < 2.2e-16\n",
       "alternative hypothesis: serial correlation in idiosyncratic errors\n"
      ]
     },
     "metadata": {},
     "output_type": "display_data"
    }
   ],
   "source": [
    "pbgtest(model_a1) # Null: No serial corrleation"
   ]
  },
  {
   "cell_type": "markdown",
   "id": "ce43f805",
   "metadata": {},
   "source": [
    "#### Cross-sectional Dependence"
   ]
  },
  {
   "cell_type": "code",
   "execution_count": 118,
   "id": "3111547d",
   "metadata": {
    "vscode": {
     "languageId": "r"
    }
   },
   "outputs": [
    {
     "name": "stderr",
     "output_type": "stream",
     "text": [
      "Warning message in reshapeWide(data, idvar = idvar, timevar = timevar, varying = varying, :\n",
      "\"multiple rows match for year=2016: first taken\"\n"
     ]
    },
    {
     "name": "stderr",
     "output_type": "stream",
     "text": [
      "Warning message in reshapeWide(data, idvar = idvar, timevar = timevar, varying = varying, :\n",
      "\"multiple rows match for year=2017: first taken\"\n",
      "Warning message in reshapeWide(data, idvar = idvar, timevar = timevar, varying = varying, :\n",
      "\"multiple rows match for year=2018: first taken\"\n",
      "Warning message in reshapeWide(data, idvar = idvar, timevar = timevar, varying = varying, :\n",
      "\"multiple rows match for year=2019: first taken\"\n",
      "Warning message in reshapeWide(data, idvar = idvar, timevar = timevar, varying = varying, :\n",
      "\"multiple rows match for year=2020: first taken\"\n",
      "Warning message in reshapeWide(data, idvar = idvar, timevar = timevar, varying = varying, :\n",
      "\"multiple rows match for year=2021: first taken\"\n",
      "Warning message in reshapeWide(data, idvar = idvar, timevar = timevar, varying = varying, :\n",
      "\"multiple rows match for year=2022: first taken\"\n"
     ]
    },
    {
     "ename": "ERROR",
     "evalue": "Error in cor(wideres, use = \"pairwise.complete.obs\"): 'x' must be numeric\n",
     "output_type": "error",
     "traceback": [
      "Error in cor(wideres, use = \"pairwise.complete.obs\"): 'x' must be numeric\nTraceback:\n",
      "1. pcdtest.panelmodel(model_a1)",
      "2. pcdres(tres = tres, n = n, w = w, form = paste(deparse(x$formula)), \n .     test = test)",
      "3. cor(wideres, use = \"pairwise.complete.obs\")",
      "4. stop(\"'x' must be numeric\")",
      "5. .handleSimpleError(function (cnd) \n . {\n .     watcher$capture_plot_and_output()\n .     cnd <- sanitize_call(cnd)\n .     watcher$push(cnd)\n .     switch(on_error, continue = invokeRestart(\"eval_continue\"), \n .         stop = invokeRestart(\"eval_stop\"), error = NULL)\n . }, \"'x' must be numeric\", base::quote(cor(wideres, use = \"pairwise.complete.obs\")))"
     ]
    }
   ],
   "source": [
    "pcdtest(model_a1)  #Null: No cross-sectional dependence"
   ]
  },
  {
   "cell_type": "markdown",
   "id": "bba4cd87",
   "metadata": {},
   "source": [
    "## Model a2\n",
    "\n",
    "> Robustness verification of Model a1 by changing $\\text{Volatility}$ and $\\text{GFC}$ from quarter-end data to quarterly-averaged data."
   ]
  },
  {
   "cell_type": "markdown",
   "id": "7f518c4d",
   "metadata": {},
   "source": [
    "### Panel Regression"
   ]
  },
  {
   "cell_type": "code",
   "execution_count": 82,
   "id": "df296c4c",
   "metadata": {
    "vscode": {
     "languageId": "r"
    }
   },
   "outputs": [
    {
     "data": {
      "text/plain": [
       "Oneway (individual) effect Within Model\n",
       "\n",
       "Call:\n",
       "plm(formula = volatility_avg ~ log_diff_avg_lag1 + Size + Lev + \n",
       "    ROA + BM + Board + Top1 + quarter + gdp_growth_rate + m2_growth_rate, \n",
       "    data = panel_data, effect = \"individual\", model = \"within\")\n",
       "\n",
       "Balanced Panel: n = 122, T = 7, N = 3416\n",
       "\n",
       "Residuals:\n",
       "     Min.   1st Qu.    Median   3rd Qu.      Max. \n",
       "-5.649009 -0.977301  0.025651  0.941946  4.777641 \n",
       "\n",
       "Coefficients:\n",
       "                   Estimate Std. Error  t-value  Pr(>|t|)    \n",
       "log_diff_avg_lag1 -0.378258   0.141108  -2.6806  0.007385 ** \n",
       "Size              -0.520440   0.074865  -6.9517 4.336e-12 ***\n",
       "Lev                2.059860   0.516104   3.9912 6.719e-05 ***\n",
       "ROA                3.979225   1.110921   3.5819  0.000346 ***\n",
       "BM                -0.648974   0.039445 -16.4525 < 2.2e-16 ***\n",
       "Board              0.708255   0.305027   2.3219  0.020297 *  \n",
       "Top1              -0.032763   0.559112  -0.0586  0.953276    \n",
       "quarter2           0.675347   0.333130   2.0273  0.042715 *  \n",
       "quarter3           0.428185   0.273198   1.5673  0.117140    \n",
       "quarter4           0.581362   0.340083   1.7095  0.087459 .  \n",
       "gdp_growth_rate   -0.992401   1.109266  -0.8946  0.371042    \n",
       "m2_growth_rate    24.005181   5.676813   4.2286 2.415e-05 ***\n",
       "---\n",
       "Signif. codes:  0 '***' 0.001 '**' 0.01 '*' 0.05 '.' 0.1 ' ' 1\n",
       "\n",
       "Total Sum of Squares:    9269.4\n",
       "Residual Sum of Squares: 8228.2\n",
       "R-Squared:      0.11232\n",
       "Adj. R-Squared: 0.076348\n",
       "F-statistic: 34.6066 on 12 and 3282 DF, p-value: < 2.22e-16"
      ]
     },
     "metadata": {},
     "output_type": "display_data"
    },
    {
     "name": "stdout",
     "output_type": "stream",
     "text": [
      "\n",
      "Robust standard errors for two-way fixed effects model:\n"
     ]
    },
    {
     "data": {
      "text/plain": [
       "\n",
       "t test of coefficients:\n",
       "\n",
       "                   Estimate Std. Error t value  Pr(>|t|)    \n",
       "log_diff_avg_lag1 -0.378258   0.106613 -3.5480 0.0003937 ***\n",
       "Size              -0.520440   0.233053 -2.2331 0.0256068 *  \n",
       "Lev                2.059860   1.520348  1.3549 0.1755553    \n",
       "ROA                3.979225   2.594406  1.5338 0.1251824    \n",
       "BM                -0.648974   0.083924 -7.7329 1.389e-14 ***\n",
       "Board              0.708255   0.710824  0.9964 0.3191367    \n",
       "Top1              -0.032763   1.584679 -0.0207 0.9835062    \n",
       "quarter2           0.675347   0.184943  3.6517 0.0002646 ***\n",
       "quarter3           0.428185   0.180736  2.3691 0.0178879 *  \n",
       "quarter4           0.581362   0.236026  2.4631 0.0138241 *  \n",
       "gdp_growth_rate   -0.992401   0.558164 -1.7780 0.0755006 .  \n",
       "m2_growth_rate    24.005181   6.107493  3.9304 8.654e-05 ***\n",
       "---\n",
       "Signif. codes:  0 '***' 0.001 '**' 0.01 '*' 0.05 '.' 0.1 ' ' 1\n"
      ]
     },
     "metadata": {},
     "output_type": "display_data"
    }
   ],
   "source": [
    "library(plm)\n",
    "\n",
    "# Run model with individual fixed effects and quarter dummies\n",
    "model_a2 <- plm(volatility_avg ~ log_diff_avg_lag1 + Size + Lev + ROA + BM + Board + Top1 + quarter + gdp_growth_rate + m2_growth_rate, \n",
    "             data = panel_data, \n",
    "             model = \"within\", \n",
    "             effect = \"individual\")\n",
    "\n",
    "# Display regression results\n",
    "summary(model_a2)\n",
    "\n",
    "# Get robust standard errors for both models\n",
    "library(lmtest)\n",
    "library(sandwich)\n",
    "cat(\"\\nRobust standard errors for two-way fixed effects model:\\n\")\n",
    "coeftest(model_a2, vcov = vcovHC(model_a2, type = \"HC1\"))"
   ]
  },
  {
   "cell_type": "markdown",
   "id": "e949885a",
   "metadata": {},
   "source": [
    "### Testing"
   ]
  },
  {
   "cell_type": "markdown",
   "id": "6926691e",
   "metadata": {},
   "source": [
    "#### Residual Plots"
   ]
  },
  {
   "cell_type": "code",
   "execution_count": 83,
   "id": "127a5157",
   "metadata": {
    "vscode": {
     "languageId": "r"
    }
   },
   "outputs": [],
   "source": [
    "# Extract fitted values and residuals\n",
    "fitted_values_model_a2 <- as.numeric(fitted(model_a2))\n",
    "residuals_model_a2 <- as.numeric(residuals(model_a2))"
   ]
  },
  {
   "cell_type": "markdown",
   "id": "f97e35ad",
   "metadata": {},
   "source": [
    "- Fitted vs Residual Plot"
   ]
  },
  {
   "cell_type": "code",
   "execution_count": 84,
   "id": "ec9ecdcd",
   "metadata": {
    "vscode": {
     "languageId": "r"
    }
   },
   "outputs": [
    {
     "data": {
      "image/png": "[encoded data removed]",
      "text/plain": [
       "Plot with title \"Residual Diagnostic Plot for Model a1\""
      ]
     },
     "metadata": {
      "image/png": {
       "height": 420,
       "width": 420
      }
     },
     "output_type": "display_data"
    }
   ],
   "source": [
    "par(bg=\"white\")\n",
    "\n",
    "# Create a scatter plot of fitted values vs residuals\n",
    "plot(fitted_values_model_a2, residuals_model_a2, \n",
    "    pch = 20, col = \"darkblue\",\n",
    "    xlab = \"Fitted Values\", ylab = \"Residuals\",\n",
    "    main = \"Residual Diagnostic Plot for Model a1\")\n",
    "\n",
    "# Add a horizontal line at y = 0\n",
    "abline(h = 0, col = \"red\", lwd = 2)\n",
    "\n",
    "# Add a smoothed line to detect patterns\n",
    "# Create a data frame for loess model\n",
    "loess_data <- data.frame(x = fitted_values_model_a2, y = residuals_model_a2)\n",
    "smooth_line <- loess(y ~ x, data = loess_data, span = 0.75)\n",
    "\n",
    "# Sort the data for smooth line plotting\n",
    "sorted_data <- loess_data[order(loess_data$x),]\n",
    "# Predict using the sorted data\n",
    "smooth_pred <- predict(smooth_line, newdata = sorted_data)\n",
    "\n",
    "# Plot the smooth line\n",
    "lines(sorted_data$x, smooth_pred, col = \"cyan\", lwd = 2)\n",
    "\n",
    "# Add a legend\n",
    "legend(\"topright\", \n",
    "      legend = c(\"Residuals\", \"Reference Line\", \"Smooth Line\"),\n",
    "      col = c(\"darkblue\", \"red\", \"cyan\"),\n",
    "      pch = c(20, NA, NA), \n",
    "      lty = c(NA, 1, 1),\n",
    "      lwd = c(NA, 2, 2))\n",
    "\n",
    "# Add grid for better readability\n",
    "grid()"
   ]
  },
  {
   "cell_type": "markdown",
   "id": "1d1819e4",
   "metadata": {},
   "source": [
    "- Q-Q Plot"
   ]
  },
  {
   "cell_type": "code",
   "execution_count": 85,
   "id": "85951643",
   "metadata": {
    "vscode": {
     "languageId": "r"
    }
   },
   "outputs": [
    {
     "data": {
      "image/png": "[encoded data removed]",
      "text/plain": [
       "Plot with title \"Normal Q-Q Plot\""
      ]
     },
     "metadata": {
      "image/png": {
       "height": 420,
       "width": 420
      }
     },
     "output_type": "display_data"
    }
   ],
   "source": [
    "par(bg=\"white\")\n",
    "qqnorm(fitted_values_model_a2)\n",
    "qqline(residuals_model_a2, col=\"red\")"
   ]
  },
  {
   "cell_type": "markdown",
   "id": "4390c620",
   "metadata": {},
   "source": [
    "#### Heteroskedasticity"
   ]
  },
  {
   "cell_type": "code",
   "execution_count": 86,
   "id": "6b7e529f",
   "metadata": {
    "vscode": {
     "languageId": "r"
    }
   },
   "outputs": [
    {
     "data": {
      "text/plain": [
       "\n",
       "\tstudentized Breusch-Pagan test\n",
       "\n",
       "data:  model_a2\n",
       "BP = 101.65, df = 12, p-value = 2.649e-16\n"
      ]
     },
     "metadata": {},
     "output_type": "display_data"
    }
   ],
   "source": [
    "library(lmtest)\n",
    "bptest(model_a2) # Null: homoscedasticity"
   ]
  },
  {
   "cell_type": "markdown",
   "id": "d7cc411e",
   "metadata": {},
   "source": [
    "#### Normality"
   ]
  },
  {
   "cell_type": "code",
   "execution_count": 87,
   "id": "602ca83c",
   "metadata": {
    "vscode": {
     "languageId": "r"
    }
   },
   "outputs": [
    {
     "data": {
      "text/plain": [
       "\n",
       "\tShapiro-Wilk normality test\n",
       "\n",
       "data:  residuals_sample\n",
       "W = 0.99497, p-value = 1.98e-09\n"
      ]
     },
     "metadata": {},
     "output_type": "display_data"
    },
    {
     "name": "stderr",
     "output_type": "stream",
     "text": [
      "Loading required package: nortest\n",
      "\n",
      "Warning message in library(package, lib.loc = lib.loc, character.only = TRUE, logical.return = TRUE, :\n",
      "\"there is no package called 'nortest'\"\n"
     ]
    },
    {
     "name": "stdout",
     "output_type": "stream",
     "text": [
      "Install 'nortest' package for additional normality tests\n"
     ]
    },
    {
     "data": {
      "image/png": "[encoded data removed]",
      "text/plain": [
       "Plot with title \"Histogram of Residuals\""
      ]
     },
     "metadata": {
      "image/png": {
       "height": 420,
       "width": 420
      }
     },
     "output_type": "display_data"
    }
   ],
   "source": [
    "# Take a random sample for Shapiro-Wilk test\n",
    "set.seed(123)  # For reproducibility\n",
    "residuals_sample <- sample(residuals_model_a2, min(5000, length(residuals_model_a2)))\n",
    "shapiro.test(residuals_sample)  # Null: normality\n",
    "\n",
    "# Visual inspection with histogram\n",
    "par(bg=\"white\")\n",
    "hist(residuals_model_a2, breaks=50, main=\"Histogram of Residuals\", \n",
    "    xlab=\"Residuals\", col=\"lightblue\", border=\"white\", probability=TRUE)\n",
    "curve(dnorm(x, mean=mean(residuals_model_a2), sd=sd(residuals_model_a2)), \n",
    "     add=TRUE, col=\"red\", lwd=2)\n",
    "\n",
    "# Alternative: Kolmogorov-Smirnov test if available\n",
    "if(require(nortest)) {\n",
    "  lillie.test(residuals_model_a2)  # Lilliefors test (modified K-S)\n",
    "} else {\n",
    "  cat(\"Install 'nortest' package for additional normality tests\\n\")\n",
    "}"
   ]
  },
  {
   "cell_type": "markdown",
   "id": "92190b2e",
   "metadata": {},
   "source": [
    "#### Serial Correlation"
   ]
  },
  {
   "cell_type": "code",
   "execution_count": 88,
   "id": "d560eb11",
   "metadata": {
    "vscode": {
     "languageId": "r"
    }
   },
   "outputs": [
    {
     "data": {
      "text/plain": [
       "\n",
       "\tBreusch-Godfrey/Wooldridge test for serial correlation in panel models\n",
       "\n",
       "data:  volatility_avg ~ log_diff_avg_lag1 + Size + Lev + ROA + BM +  ...\n",
       "chisq = 1567.5, df = 28, p-value < 2.2e-16\n",
       "alternative hypothesis: serial correlation in idiosyncratic errors\n"
      ]
     },
     "metadata": {},
     "output_type": "display_data"
    }
   ],
   "source": [
    "pbgtest(model_a2) # Null: No serial corrleation"
   ]
  },
  {
   "cell_type": "markdown",
   "id": "88b1ba84",
   "metadata": {},
   "source": [
    "#### Cross-sectional Dependence"
   ]
  },
  {
   "cell_type": "code",
   "execution_count": 89,
   "id": "c3299c02",
   "metadata": {
    "vscode": {
     "languageId": "r"
    }
   },
   "outputs": [
    {
     "name": "stderr",
     "output_type": "stream",
     "text": [
      "Warning message in reshapeWide(data, idvar = idvar, timevar = timevar, varying = varying, :\n",
      "\"multiple rows match for year=2016: first taken\"\n",
      "Warning message in reshapeWide(data, idvar = idvar, timevar = timevar, varying = varying, :\n",
      "\"multiple rows match for year=2017: first taken\"\n",
      "Warning message in reshapeWide(data, idvar = idvar, timevar = timevar, varying = varying, :\n",
      "\"multiple rows match for year=2018: first taken\"\n",
      "Warning message in reshapeWide(data, idvar = idvar, timevar = timevar, varying = varying, :\n",
      "\"multiple rows match for year=2019: first taken\"\n",
      "Warning message in reshapeWide(data, idvar = idvar, timevar = timevar, varying = varying, :\n",
      "\"multiple rows match for year=2020: first taken\"\n",
      "Warning message in reshapeWide(data, idvar = idvar, timevar = timevar, varying = varying, :\n",
      "\"multiple rows match for year=2021: first taken\"\n",
      "Warning message in reshapeWide(data, idvar = idvar, timevar = timevar, varying = varying, :\n",
      "\"multiple rows match for year=2022: first taken\"\n"
     ]
    },
    {
     "ename": "ERROR",
     "evalue": "Error in cor(wideres, use = \"pairwise.complete.obs\"): 'x' must be numeric\n",
     "output_type": "error",
     "traceback": [
      "Error in cor(wideres, use = \"pairwise.complete.obs\"): 'x' must be numeric\nTraceback:\n",
      "1. pcdtest.panelmodel(model_a2)",
      "2. pcdres(tres = tres, n = n, w = w, form = paste(deparse(x$formula)), \n .     test = test)",
      "3. cor(wideres, use = \"pairwise.complete.obs\")",
      "4. stop(\"'x' must be numeric\")",
      "5. .handleSimpleError(function (cnd) \n . {\n .     watcher$capture_plot_and_output()\n .     cnd <- sanitize_call(cnd)\n .     watcher$push(cnd)\n .     switch(on_error, continue = invokeRestart(\"eval_continue\"), \n .         stop = invokeRestart(\"eval_stop\"), error = NULL)\n . }, \"'x' must be numeric\", base::quote(cor(wideres, use = \"pairwise.complete.obs\")))"
     ]
    }
   ],
   "source": [
    "pcdtest(model_a2)  #Null: No cross-sectional dependence"
   ]
  },
  {
   "cell_type": "markdown",
   "id": "215175dc",
   "metadata": {},
   "source": [
    "## Model a3\n",
    "\n",
    "> Robustness verification of Model a1 by changing the proxy for $\\text{GFC}$ from VIX-based data to GFCF."
   ]
  },
  {
   "cell_type": "markdown",
   "id": "c0a46045",
   "metadata": {},
   "source": [
    "### Panel Regression"
   ]
  },
  {
   "cell_type": "code",
   "execution_count": 90,
   "id": "7aa65c30",
   "metadata": {
    "vscode": {
     "languageId": "r"
    }
   },
   "outputs": [
    {
     "data": {
      "text/plain": [
       "Oneway (individual) effect Within Model\n",
       "\n",
       "Call:\n",
       "plm(formula = volatility_end ~ diff_gfcf_lag1 + Size + Lev + \n",
       "    ROA + BM + Board + Top1 + quarter + gdp_growth_rate + m2_growth_rate, \n",
       "    data = panel_data, effect = \"individual\", model = \"within\")\n",
       "\n",
       "Balanced Panel: n = 122, T = 7, N = 3416\n",
       "\n",
       "Residuals:\n",
       "     Min.   1st Qu.    Median   3rd Qu.      Max. \n",
       "-5.856847 -0.991847  0.013356  0.938960  4.715236 \n",
       "\n",
       "Coefficients:\n",
       "                 Estimate Std. Error  t-value  Pr(>|t|)    \n",
       "diff_gfcf_lag1  -0.165659   0.061996  -2.6721 0.0075749 ** \n",
       "Size            -0.497096   0.074547  -6.6682 3.026e-11 ***\n",
       "Lev              2.046037   0.517161   3.9563 7.773e-05 ***\n",
       "ROA              3.758824   1.113299   3.3763 0.0007432 ***\n",
       "BM              -0.688788   0.039506 -17.4352 < 2.2e-16 ***\n",
       "Board            0.589428   0.305714   1.9280 0.0539371 .  \n",
       "Top1            -0.035284   0.560155  -0.0630 0.9497785    \n",
       "quarter2         0.951940   0.325613   2.9235 0.0034845 ** \n",
       "quarter3         0.698749   0.258724   2.7007 0.0069539 ** \n",
       "quarter4         0.893726   0.322822   2.7685 0.0056634 ** \n",
       "gdp_growth_rate -3.144975   1.100579  -2.8576 0.0042959 ** \n",
       "m2_growth_rate  11.454510   6.344984   1.8053 0.0711215 .  \n",
       "---\n",
       "Signif. codes:  0 '***' 0.001 '**' 0.01 '*' 0.05 '.' 0.1 ' ' 1\n",
       "\n",
       "Total Sum of Squares:    9317\n",
       "Residual Sum of Squares: 8263.4\n",
       "R-Squared:      0.11309\n",
       "Adj. R-Squared: 0.077148\n",
       "F-statistic: 34.8738 on 12 and 3282 DF, p-value: < 2.22e-16"
      ]
     },
     "metadata": {},
     "output_type": "display_data"
    },
    {
     "name": "stdout",
     "output_type": "stream",
     "text": [
      "\n",
      "Robust standard errors for two-way fixed effects model:\n"
     ]
    },
    {
     "data": {
      "text/plain": [
       "\n",
       "t test of coefficients:\n",
       "\n",
       "                 Estimate Std. Error t value  Pr(>|t|)    \n",
       "diff_gfcf_lag1  -0.165659   0.048576 -3.4103 0.0006568 ***\n",
       "Size            -0.497096   0.234896 -2.1162 0.0343997 *  \n",
       "Lev              2.046037   1.536546  1.3316 0.1830899    \n",
       "ROA              3.758824   2.576942  1.4586 0.1447607    \n",
       "BM              -0.688788   0.085983 -8.0107 1.569e-15 ***\n",
       "Board            0.589428   0.702808  0.8387 0.4017127    \n",
       "Top1            -0.035284   1.597161 -0.0221 0.9823761    \n",
       "quarter2         0.951940   0.192039  4.9570 7.521e-07 ***\n",
       "quarter3         0.698749   0.185037  3.7763 0.0001620 ***\n",
       "quarter4         0.893726   0.239810  3.7268 0.0001972 ***\n",
       "gdp_growth_rate -3.144975   0.598901 -5.2512 1.607e-07 ***\n",
       "m2_growth_rate  11.454510   6.785472  1.6881 0.0914883 .  \n",
       "---\n",
       "Signif. codes:  0 '***' 0.001 '**' 0.01 '*' 0.05 '.' 0.1 ' ' 1\n"
      ]
     },
     "metadata": {},
     "output_type": "display_data"
    }
   ],
   "source": [
    "library(plm)\n",
    "\n",
    "# Run model with individual fixed effects and quarter dummies\n",
    "model_a3 <- plm(volatility_end ~ diff_gfcf_lag1 + Size + Lev + ROA + BM + Board + Top1 + quarter + gdp_growth_rate + m2_growth_rate, \n",
    "             data = panel_data, \n",
    "             model = \"within\", \n",
    "             effect = \"individual\")\n",
    "\n",
    "# Display regression results\n",
    "summary(model_a3)\n",
    "\n",
    "# Get robust standard errors for both models\n",
    "library(lmtest)\n",
    "library(sandwich)\n",
    "cat(\"\\nRobust standard errors for two-way fixed effects model:\\n\")\n",
    "coeftest(model_a3, vcov = vcovHC(model_a3, type = \"HC1\"))"
   ]
  },
  {
   "cell_type": "markdown",
   "id": "d17e039f",
   "metadata": {},
   "source": [
    "### Testing"
   ]
  },
  {
   "cell_type": "markdown",
   "id": "1df2dd84",
   "metadata": {},
   "source": [
    "#### Residual Plots"
   ]
  },
  {
   "cell_type": "code",
   "execution_count": 93,
   "id": "a1423635",
   "metadata": {
    "vscode": {
     "languageId": "r"
    }
   },
   "outputs": [],
   "source": [
    "# Extract fitted values and residuals\n",
    "fitted_values_model_a3 <- as.numeric(fitted(model_a3))\n",
    "residuals_model_a3 <- as.numeric(residuals(model_a3))"
   ]
  },
  {
   "cell_type": "markdown",
   "id": "6b72c99d",
   "metadata": {},
   "source": [
    "- Fitted vs Residual Plot"
   ]
  },
  {
   "cell_type": "code",
   "execution_count": 94,
   "id": "5e3927bf",
   "metadata": {
    "vscode": {
     "languageId": "r"
    }
   },
   "outputs": [
    {
     "data": {
      "image/png": "[encoded data removed]",
      "text/plain": [
       "Plot with title \"Residual Diagnostic Plot for Model a1\""
      ]
     },
     "metadata": {
      "image/png": {
       "height": 420,
       "width": 420
      }
     },
     "output_type": "display_data"
    }
   ],
   "source": [
    "par(bg=\"white\")\n",
    "\n",
    "# Create a scatter plot of fitted values vs residuals\n",
    "plot(fitted_values_model_a3, residuals_model_a3, \n",
    "    pch = 20, col = \"darkblue\",\n",
    "    xlab = \"Fitted Values\", ylab = \"Residuals\",\n",
    "    main = \"Residual Diagnostic Plot for Model a1\")\n",
    "\n",
    "# Add a horizontal line at y = 0\n",
    "abline(h = 0, col = \"red\", lwd = 2)\n",
    "\n",
    "# Add a smoothed line to detect patterns\n",
    "# Create a data frame for loess model\n",
    "loess_data <- data.frame(x = fitted_values_model_a2, y = residuals_model_a3)\n",
    "smooth_line <- loess(y ~ x, data = loess_data, span = 0.75)\n",
    "\n",
    "# Sort the data for smooth line plotting\n",
    "sorted_data <- loess_data[order(loess_data$x),]\n",
    "# Predict using the sorted data\n",
    "smooth_pred <- predict(smooth_line, newdata = sorted_data)\n",
    "\n",
    "# Plot the smooth line\n",
    "lines(sorted_data$x, smooth_pred, col = \"cyan\", lwd = 2)\n",
    "\n",
    "# Add a legend\n",
    "legend(\"topright\", \n",
    "      legend = c(\"Residuals\", \"Reference Line\", \"Smooth Line\"),\n",
    "      col = c(\"darkblue\", \"red\", \"cyan\"),\n",
    "      pch = c(20, NA, NA), \n",
    "      lty = c(NA, 1, 1),\n",
    "      lwd = c(NA, 2, 2))\n",
    "\n",
    "# Add grid for better readability\n",
    "grid()"
   ]
  },
  {
   "cell_type": "markdown",
   "id": "0c22cb68",
   "metadata": {},
   "source": [
    "- Q-Q Plot"
   ]
  },
  {
   "cell_type": "code",
   "execution_count": 95,
   "id": "415b4265",
   "metadata": {
    "vscode": {
     "languageId": "r"
    }
   },
   "outputs": [
    {
     "data": {
      "image/png": "[encoded data removed]",
      "text/plain": [
       "Plot with title \"Normal Q-Q Plot\""
      ]
     },
     "metadata": {
      "image/png": {
       "height": 420,
       "width": 420
      }
     },
     "output_type": "display_data"
    }
   ],
   "source": [
    "par(bg=\"white\")\n",
    "qqnorm(fitted_values_model_a3)\n",
    "qqline(residuals_model_a3, col=\"red\")"
   ]
  },
  {
   "cell_type": "markdown",
   "id": "94fecc16",
   "metadata": {},
   "source": [
    "#### Heteroskedasticity"
   ]
  },
  {
   "cell_type": "code",
   "execution_count": 96,
   "id": "669bdb8d",
   "metadata": {
    "vscode": {
     "languageId": "r"
    }
   },
   "outputs": [
    {
     "data": {
      "text/plain": [
       "\n",
       "\tstudentized Breusch-Pagan test\n",
       "\n",
       "data:  model_a3\n",
       "BP = 111.22, df = 12, p-value < 2.2e-16\n"
      ]
     },
     "metadata": {},
     "output_type": "display_data"
    }
   ],
   "source": [
    "library(lmtest)\n",
    "bptest(model_a3) # Null: homoscedasticity"
   ]
  },
  {
   "cell_type": "markdown",
   "id": "6ad68a40",
   "metadata": {},
   "source": [
    "#### Normality"
   ]
  },
  {
   "cell_type": "code",
   "execution_count": 97,
   "id": "4242dfd7",
   "metadata": {
    "vscode": {
     "languageId": "r"
    }
   },
   "outputs": [
    {
     "data": {
      "text/plain": [
       "\n",
       "\tShapiro-Wilk normality test\n",
       "\n",
       "data:  residuals_sample\n",
       "W = 0.99474, p-value = 9.811e-10\n"
      ]
     },
     "metadata": {},
     "output_type": "display_data"
    },
    {
     "name": "stderr",
     "output_type": "stream",
     "text": [
      "Loading required package: nortest\n",
      "\n",
      "Warning message in library(package, lib.loc = lib.loc, character.only = TRUE, logical.return = TRUE, :\n",
      "\"there is no package called 'nortest'\"\n"
     ]
    },
    {
     "name": "stdout",
     "output_type": "stream",
     "text": [
      "Install 'nortest' package for additional normality tests\n"
     ]
    },
    {
     "data": {
      "image/png": "[encoded data removed]",
      "text/plain": [
       "Plot with title \"Histogram of Residuals\""
      ]
     },
     "metadata": {
      "image/png": {
       "height": 420,
       "width": 420
      }
     },
     "output_type": "display_data"
    }
   ],
   "source": [
    "# Take a random sample for Shapiro-Wilk test\n",
    "set.seed(123)  # For reproducibility\n",
    "residuals_sample <- sample(residuals_model_a3, min(5000, length(residuals_model_a3)))\n",
    "shapiro.test(residuals_sample)  # Null: normality\n",
    "\n",
    "# Visual inspection with histogram\n",
    "par(bg=\"white\")\n",
    "hist(residuals_model_a3, breaks=50, main=\"Histogram of Residuals\", \n",
    "    xlab=\"Residuals\", col=\"lightblue\", border=\"white\", probability=TRUE)\n",
    "curve(dnorm(x, mean=mean(residuals_model_a3), sd=sd(residuals_model_a3)), \n",
    "     add=TRUE, col=\"red\", lwd=2)\n",
    "\n",
    "# Alternative: Kolmogorov-Smirnov test if available\n",
    "if(require(nortest)) {\n",
    "  lillie.test(residuals_model_a3)  # Lilliefors test (modified K-S)\n",
    "} else {\n",
    "  cat(\"Install 'nortest' package for additional normality tests\\n\")\n",
    "}"
   ]
  },
  {
   "cell_type": "markdown",
   "id": "02bdcb51",
   "metadata": {},
   "source": [
    "#### Serial Correlation"
   ]
  },
  {
   "cell_type": "code",
   "execution_count": 98,
   "id": "7cc3c9b2",
   "metadata": {
    "vscode": {
     "languageId": "r"
    }
   },
   "outputs": [
    {
     "data": {
      "text/plain": [
       "\n",
       "\tBreusch-Godfrey/Wooldridge test for serial correlation in panel models\n",
       "\n",
       "data:  volatility_end ~ diff_gfcf_lag1 + Size + Lev + ROA + BM + Board +  ...\n",
       "chisq = 1532.9, df = 28, p-value < 2.2e-16\n",
       "alternative hypothesis: serial correlation in idiosyncratic errors\n"
      ]
     },
     "metadata": {},
     "output_type": "display_data"
    }
   ],
   "source": [
    "pbgtest(model_a3) # Null: No serial corrleation"
   ]
  },
  {
   "cell_type": "markdown",
   "id": "c176c7ce",
   "metadata": {},
   "source": [
    "#### Cross-sectional Dependence"
   ]
  },
  {
   "cell_type": "code",
   "execution_count": 99,
   "id": "4c4984d9",
   "metadata": {
    "vscode": {
     "languageId": "r"
    }
   },
   "outputs": [
    {
     "name": "stderr",
     "output_type": "stream",
     "text": [
      "Warning message in reshapeWide(data, idvar = idvar, timevar = timevar, varying = varying, :\n",
      "\"multiple rows match for year=2016: first taken\"\n",
      "Warning message in reshapeWide(data, idvar = idvar, timevar = timevar, varying = varying, :\n",
      "\"multiple rows match for year=2017: first taken\"\n",
      "Warning message in reshapeWide(data, idvar = idvar, timevar = timevar, varying = varying, :\n",
      "\"multiple rows match for year=2018: first taken\"\n",
      "Warning message in reshapeWide(data, idvar = idvar, timevar = timevar, varying = varying, :\n",
      "\"multiple rows match for year=2019: first taken\"\n"
     ]
    },
    {
     "name": "stderr",
     "output_type": "stream",
     "text": [
      "Warning message in reshapeWide(data, idvar = idvar, timevar = timevar, varying = varying, :\n",
      "\"multiple rows match for year=2020: first taken\"\n",
      "Warning message in reshapeWide(data, idvar = idvar, timevar = timevar, varying = varying, :\n",
      "\"multiple rows match for year=2021: first taken\"\n",
      "Warning message in reshapeWide(data, idvar = idvar, timevar = timevar, varying = varying, :\n",
      "\"multiple rows match for year=2022: first taken\"\n"
     ]
    },
    {
     "ename": "ERROR",
     "evalue": "Error in cor(wideres, use = \"pairwise.complete.obs\"): 'x' must be numeric\n",
     "output_type": "error",
     "traceback": [
      "Error in cor(wideres, use = \"pairwise.complete.obs\"): 'x' must be numeric\nTraceback:\n",
      "1. pcdtest.panelmodel(model_a3)",
      "2. pcdres(tres = tres, n = n, w = w, form = paste(deparse(x$formula)), \n .     test = test)",
      "3. cor(wideres, use = \"pairwise.complete.obs\")",
      "4. stop(\"'x' must be numeric\")",
      "5. .handleSimpleError(function (cnd) \n . {\n .     watcher$capture_plot_and_output()\n .     cnd <- sanitize_call(cnd)\n .     watcher$push(cnd)\n .     switch(on_error, continue = invokeRestart(\"eval_continue\"), \n .         stop = invokeRestart(\"eval_stop\"), error = NULL)\n . }, \"'x' must be numeric\", base::quote(cor(wideres, use = \"pairwise.complete.obs\")))"
     ]
    }
   ],
   "source": [
    "pcdtest(model_a3)  #Null: No cross-sectional dependence"
   ]
  }
 ],
 "metadata": {
  "kernelspec": {
   "display_name": "R",
   "language": "R",
   "name": "ir"
  },
  "language_info": {
   "codemirror_mode": "r",
   "file_extension": ".r",
   "mimetype": "text/x-r-source",
   "name": "R",
   "pygments_lexer": "r",
   "version": "4.5.0"
  }
 },
 "nbformat": 4,
 "nbformat_minor": 5
}
